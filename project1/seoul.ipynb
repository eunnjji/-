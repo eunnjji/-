{
  "nbformat": 4,
  "nbformat_minor": 0,
  "metadata": {
    "colab": {
      "name": "seoul.ipynb",
      "provenance": [],
      "collapsed_sections": [],
      "include_colab_link": true
    },
    "kernelspec": {
      "name": "python3",
      "display_name": "Python 3"
    }
  },
  "cells": [
    {
      "cell_type": "markdown",
      "metadata": {
        "id": "view-in-github",
        "colab_type": "text"
      },
      "source": [
        "<a href=\"https://colab.research.google.com/github/eunnjji/MultiCampus-EmpAcademy/blob/main/project1/seoul.ipynb\" target=\"_parent\"><img src=\"https://colab.research.google.com/assets/colab-badge.svg\" alt=\"Open In Colab\"/></a>"
      ]
    },
    {
      "cell_type": "code",
      "metadata": {
        "id": "XIVMdo1G5QMa",
        "colab": {
          "base_uri": "https://localhost:8080/"
        },
        "outputId": "0b2fb3a1-d138-46fc-cef9-14f4030ff624"
      },
      "source": [
        "from google.colab import drive\r\n",
        "# drive.mount('/gdrive', force_remount=True)\r\n",
        "drive.mount('/content/drive/',force_remount=True)"
      ],
      "execution_count": null,
      "outputs": [
        {
          "output_type": "stream",
          "text": [
            "Mounted at /content/drive/\n"
          ],
          "name": "stdout"
        }
      ]
    },
    {
      "cell_type": "code",
      "metadata": {
        "colab": {
          "base_uri": "https://localhost:8080/"
        },
        "id": "Zp7bZ8Ko5uzD",
        "outputId": "8fb13a0f-a438-4350-b6fb-239cbc87c1a3"
      },
      "source": [
        "# OS \r\n",
        "!cat /etc/issue.net"
      ],
      "execution_count": null,
      "outputs": [
        {
          "output_type": "stream",
          "text": [
            "Ubuntu 18.04.5 LTS\n"
          ],
          "name": "stdout"
        }
      ]
    },
    {
      "cell_type": "code",
      "metadata": {
        "colab": {
          "base_uri": "https://localhost:8080/"
        },
        "id": "qgiXyo5_6Jow",
        "outputId": "0d9c4929-7a62-4e69-a6d0-45a06a099708"
      },
      "source": [
        "!ls 'drive/MyDrive/corona'"
      ],
      "execution_count": null,
      "outputs": [
        {
          "output_type": "stream",
          "text": [
            "'서울시 코로나19 확진자 현황.csv'    seoul.ipynb\n",
            "'서울시 코로나19 확진자 현황.json'\n"
          ],
          "name": "stdout"
        }
      ]
    },
    {
      "cell_type": "code",
      "metadata": {
        "id": "pXn8savh6P5C"
      },
      "source": [
        "%matplotlib inline"
      ],
      "execution_count": null,
      "outputs": []
    },
    {
      "cell_type": "code",
      "metadata": {
        "id": "D7_zVMRq7YLz"
      },
      "source": [
        "import pandas as pd \r\n",
        "import numpy as np \r\n",
        "import matplotlib.pyplot as plt"
      ],
      "execution_count": null,
      "outputs": []
    },
    {
      "cell_type": "code",
      "metadata": {
        "colab": {
          "base_uri": "https://localhost:8080/",
          "height": 419
        },
        "id": "gG8t6D9T8AB_",
        "outputId": "3e4ecdd2-6660-4eed-cd70-2d3e8ce0cfd8"
      },
      "source": [
        "seoul = pd.read_csv('drive/MyDrive/seoul/서울시 코로나19 확진자 현황.csv',encoding='utf-8')\r\n",
        "seoul"
      ],
      "execution_count": null,
      "outputs": [
        {
          "output_type": "execute_result",
          "data": {
            "text/html": [
              "<div>\n",
              "<style scoped>\n",
              "    .dataframe tbody tr th:only-of-type {\n",
              "        vertical-align: middle;\n",
              "    }\n",
              "\n",
              "    .dataframe tbody tr th {\n",
              "        vertical-align: top;\n",
              "    }\n",
              "\n",
              "    .dataframe thead th {\n",
              "        text-align: right;\n",
              "    }\n",
              "</style>\n",
              "<table border=\"1\" class=\"dataframe\">\n",
              "  <thead>\n",
              "    <tr style=\"text-align: right;\">\n",
              "      <th></th>\n",
              "      <th>연번</th>\n",
              "      <th>확진일</th>\n",
              "      <th>환자번호</th>\n",
              "      <th>국적</th>\n",
              "      <th>환자정보</th>\n",
              "      <th>지역</th>\n",
              "      <th>여행력</th>\n",
              "      <th>접촉력</th>\n",
              "      <th>조치사항</th>\n",
              "      <th>상태</th>\n",
              "      <th>이동경로</th>\n",
              "      <th>등록일</th>\n",
              "      <th>수정일</th>\n",
              "      <th>노출여부</th>\n",
              "    </tr>\n",
              "  </thead>\n",
              "  <tbody>\n",
              "    <tr>\n",
              "      <th>0</th>\n",
              "      <td>20338</td>\n",
              "      <td>21.01.04.</td>\n",
              "      <td>NaN</td>\n",
              "      <td>NaN</td>\n",
              "      <td>NaN</td>\n",
              "      <td>영등포구</td>\n",
              "      <td>NaN</td>\n",
              "      <td>감염경로 조사중</td>\n",
              "      <td>NaN</td>\n",
              "      <td>NaN</td>\n",
              "      <td>NaN</td>\n",
              "      <td>2021-01-05 10:49</td>\n",
              "      <td>2021-01-05 10:49</td>\n",
              "      <td>Y</td>\n",
              "    </tr>\n",
              "    <tr>\n",
              "      <th>1</th>\n",
              "      <td>20337</td>\n",
              "      <td>21.01.04.</td>\n",
              "      <td>NaN</td>\n",
              "      <td>NaN</td>\n",
              "      <td>NaN</td>\n",
              "      <td>타시도</td>\n",
              "      <td>NaN</td>\n",
              "      <td>감염경로 조사중</td>\n",
              "      <td>NaN</td>\n",
              "      <td>NaN</td>\n",
              "      <td>NaN</td>\n",
              "      <td>2021-01-05 10:49</td>\n",
              "      <td>2021-01-05 10:49</td>\n",
              "      <td>Y</td>\n",
              "    </tr>\n",
              "    <tr>\n",
              "      <th>2</th>\n",
              "      <td>20336</td>\n",
              "      <td>21.01.04.</td>\n",
              "      <td>NaN</td>\n",
              "      <td>NaN</td>\n",
              "      <td>NaN</td>\n",
              "      <td>서대문구</td>\n",
              "      <td>우크라이나</td>\n",
              "      <td>해외유입</td>\n",
              "      <td>NaN</td>\n",
              "      <td>NaN</td>\n",
              "      <td>NaN</td>\n",
              "      <td>2021-01-05 10:49</td>\n",
              "      <td>2021-01-05 10:49</td>\n",
              "      <td>Y</td>\n",
              "    </tr>\n",
              "    <tr>\n",
              "      <th>3</th>\n",
              "      <td>20335</td>\n",
              "      <td>21.01.04.</td>\n",
              "      <td>NaN</td>\n",
              "      <td>NaN</td>\n",
              "      <td>NaN</td>\n",
              "      <td>노원구</td>\n",
              "      <td>NaN</td>\n",
              "      <td>타시도 확진자 접촉(경기이천시물류센터관련)</td>\n",
              "      <td>NaN</td>\n",
              "      <td>NaN</td>\n",
              "      <td>NaN</td>\n",
              "      <td>2021-01-05 10:49</td>\n",
              "      <td>2021-01-05 10:49</td>\n",
              "      <td>Y</td>\n",
              "    </tr>\n",
              "    <tr>\n",
              "      <th>4</th>\n",
              "      <td>20334</td>\n",
              "      <td>21.01.04.</td>\n",
              "      <td>NaN</td>\n",
              "      <td>NaN</td>\n",
              "      <td>NaN</td>\n",
              "      <td>영등포구</td>\n",
              "      <td>NaN</td>\n",
              "      <td>감염경로 조사중</td>\n",
              "      <td>NaN</td>\n",
              "      <td>NaN</td>\n",
              "      <td>NaN</td>\n",
              "      <td>2021-01-05 10:49</td>\n",
              "      <td>2021-01-05 10:49</td>\n",
              "      <td>Y</td>\n",
              "    </tr>\n",
              "    <tr>\n",
              "      <th>...</th>\n",
              "      <td>...</td>\n",
              "      <td>...</td>\n",
              "      <td>...</td>\n",
              "      <td>...</td>\n",
              "      <td>...</td>\n",
              "      <td>...</td>\n",
              "      <td>...</td>\n",
              "      <td>...</td>\n",
              "      <td>...</td>\n",
              "      <td>...</td>\n",
              "      <td>...</td>\n",
              "      <td>...</td>\n",
              "      <td>...</td>\n",
              "      <td>...</td>\n",
              "    </tr>\n",
              "    <tr>\n",
              "      <th>20333</th>\n",
              "      <td>5</td>\n",
              "      <td>20.1.31.</td>\n",
              "      <td>NaN</td>\n",
              "      <td>NaN</td>\n",
              "      <td>NaN</td>\n",
              "      <td>성북구</td>\n",
              "      <td>NaN</td>\n",
              "      <td>#5 접촉</td>\n",
              "      <td>NaN</td>\n",
              "      <td>퇴원</td>\n",
              "      <td>이동경로 공개기간 경과</td>\n",
              "      <td>2021-01-04 10:08</td>\n",
              "      <td>2021-01-04 11:31</td>\n",
              "      <td>Y</td>\n",
              "    </tr>\n",
              "    <tr>\n",
              "      <th>20334</th>\n",
              "      <td>4</td>\n",
              "      <td>20.1.30.</td>\n",
              "      <td>NaN</td>\n",
              "      <td>NaN</td>\n",
              "      <td>NaN</td>\n",
              "      <td>마포구</td>\n",
              "      <td>중국 우한시</td>\n",
              "      <td>해외 접촉</td>\n",
              "      <td>NaN</td>\n",
              "      <td>퇴원</td>\n",
              "      <td>이동경로 공개기간 경과</td>\n",
              "      <td>2021-01-04 10:08</td>\n",
              "      <td>2021-01-04 11:31</td>\n",
              "      <td>Y</td>\n",
              "    </tr>\n",
              "    <tr>\n",
              "      <th>20335</th>\n",
              "      <td>3</td>\n",
              "      <td>20.1.30.</td>\n",
              "      <td>NaN</td>\n",
              "      <td>NaN</td>\n",
              "      <td>NaN</td>\n",
              "      <td>종로구</td>\n",
              "      <td>NaN</td>\n",
              "      <td>#3 접촉</td>\n",
              "      <td>NaN</td>\n",
              "      <td>퇴원</td>\n",
              "      <td>이동경로 공개기간 경과</td>\n",
              "      <td>2021-01-04 10:08</td>\n",
              "      <td>2021-01-04 11:31</td>\n",
              "      <td>Y</td>\n",
              "    </tr>\n",
              "    <tr>\n",
              "      <th>20336</th>\n",
              "      <td>2</td>\n",
              "      <td>20.1.30.</td>\n",
              "      <td>NaN</td>\n",
              "      <td>NaN</td>\n",
              "      <td>NaN</td>\n",
              "      <td>중랑구</td>\n",
              "      <td>중국 우한시</td>\n",
              "      <td>해외 접촉</td>\n",
              "      <td>NaN</td>\n",
              "      <td>퇴원</td>\n",
              "      <td>이동경로 공개기간 경과</td>\n",
              "      <td>2021-01-04 10:08</td>\n",
              "      <td>2021-01-04 11:31</td>\n",
              "      <td>Y</td>\n",
              "    </tr>\n",
              "    <tr>\n",
              "      <th>20337</th>\n",
              "      <td>1</td>\n",
              "      <td>20.1.24.</td>\n",
              "      <td>NaN</td>\n",
              "      <td>NaN</td>\n",
              "      <td>NaN</td>\n",
              "      <td>강서구</td>\n",
              "      <td>중국 우한시</td>\n",
              "      <td>해외 접촉</td>\n",
              "      <td>NaN</td>\n",
              "      <td>퇴원</td>\n",
              "      <td>이동경로 공개기간 경과</td>\n",
              "      <td>2021-01-04 10:08</td>\n",
              "      <td>2021-01-04 11:31</td>\n",
              "      <td>Y</td>\n",
              "    </tr>\n",
              "  </tbody>\n",
              "</table>\n",
              "<p>20338 rows × 14 columns</p>\n",
              "</div>"
            ],
            "text/plain": [
              "          연번        확진일  환자번호  ...               등록일               수정일 노출여부\n",
              "0      20338  21.01.04.   NaN  ...  2021-01-05 10:49  2021-01-05 10:49    Y\n",
              "1      20337  21.01.04.   NaN  ...  2021-01-05 10:49  2021-01-05 10:49    Y\n",
              "2      20336  21.01.04.   NaN  ...  2021-01-05 10:49  2021-01-05 10:49    Y\n",
              "3      20335  21.01.04.   NaN  ...  2021-01-05 10:49  2021-01-05 10:49    Y\n",
              "4      20334  21.01.04.   NaN  ...  2021-01-05 10:49  2021-01-05 10:49    Y\n",
              "...      ...        ...   ...  ...               ...               ...  ...\n",
              "20333      5   20.1.31.   NaN  ...  2021-01-04 10:08  2021-01-04 11:31    Y\n",
              "20334      4   20.1.30.   NaN  ...  2021-01-04 10:08  2021-01-04 11:31    Y\n",
              "20335      3   20.1.30.   NaN  ...  2021-01-04 10:08  2021-01-04 11:31    Y\n",
              "20336      2   20.1.30.   NaN  ...  2021-01-04 10:08  2021-01-04 11:31    Y\n",
              "20337      1   20.1.24.   NaN  ...  2021-01-04 10:08  2021-01-04 11:31    Y\n",
              "\n",
              "[20338 rows x 14 columns]"
            ]
          },
          "metadata": {
            "tags": []
          },
          "execution_count": 41
        }
      ]
    },
    {
      "cell_type": "code",
      "metadata": {
        "id": "XThsFdZmJeuQ"
      },
      "source": [
        "def rename_date(d):\r\n",
        "    if len(d) == 9:\r\n",
        "        return d[:2]+'-'+d[3:5]+'-'+d[6:8]\r\n",
        "    else:\r\n",
        "        return d[:2]+'-'+'0'+d[3:4]+'-'+d[5:7]\r\n",
        "\r\n",
        "seoul['확진일'] = seoul['확진일'].astype(str)\r\n",
        "seoul['확진일'] = seoul['확진일'].apply(rename_date)"
      ],
      "execution_count": null,
      "outputs": []
    },
    {
      "cell_type": "code",
      "metadata": {
        "colab": {
          "base_uri": "https://localhost:8080/",
          "height": 419
        },
        "id": "BR3Tu7NNh8rE",
        "outputId": "27323034-6477-4be5-d27f-043667f153a5"
      },
      "source": [
        "seoul"
      ],
      "execution_count": null,
      "outputs": [
        {
          "output_type": "execute_result",
          "data": {
            "text/html": [
              "<div>\n",
              "<style scoped>\n",
              "    .dataframe tbody tr th:only-of-type {\n",
              "        vertical-align: middle;\n",
              "    }\n",
              "\n",
              "    .dataframe tbody tr th {\n",
              "        vertical-align: top;\n",
              "    }\n",
              "\n",
              "    .dataframe thead th {\n",
              "        text-align: right;\n",
              "    }\n",
              "</style>\n",
              "<table border=\"1\" class=\"dataframe\">\n",
              "  <thead>\n",
              "    <tr style=\"text-align: right;\">\n",
              "      <th></th>\n",
              "      <th>연번</th>\n",
              "      <th>확진일</th>\n",
              "      <th>환자번호</th>\n",
              "      <th>국적</th>\n",
              "      <th>환자정보</th>\n",
              "      <th>지역</th>\n",
              "      <th>여행력</th>\n",
              "      <th>접촉력</th>\n",
              "      <th>조치사항</th>\n",
              "      <th>상태</th>\n",
              "      <th>이동경로</th>\n",
              "      <th>등록일</th>\n",
              "      <th>수정일</th>\n",
              "      <th>노출여부</th>\n",
              "    </tr>\n",
              "  </thead>\n",
              "  <tbody>\n",
              "    <tr>\n",
              "      <th>0</th>\n",
              "      <td>20338</td>\n",
              "      <td>21-01-04</td>\n",
              "      <td>NaN</td>\n",
              "      <td>NaN</td>\n",
              "      <td>NaN</td>\n",
              "      <td>영등포구</td>\n",
              "      <td>NaN</td>\n",
              "      <td>감염경로 조사중</td>\n",
              "      <td>NaN</td>\n",
              "      <td>NaN</td>\n",
              "      <td>NaN</td>\n",
              "      <td>2021-01-05 10:49</td>\n",
              "      <td>2021-01-05 10:49</td>\n",
              "      <td>Y</td>\n",
              "    </tr>\n",
              "    <tr>\n",
              "      <th>1</th>\n",
              "      <td>20337</td>\n",
              "      <td>21-01-04</td>\n",
              "      <td>NaN</td>\n",
              "      <td>NaN</td>\n",
              "      <td>NaN</td>\n",
              "      <td>타시도</td>\n",
              "      <td>NaN</td>\n",
              "      <td>감염경로 조사중</td>\n",
              "      <td>NaN</td>\n",
              "      <td>NaN</td>\n",
              "      <td>NaN</td>\n",
              "      <td>2021-01-05 10:49</td>\n",
              "      <td>2021-01-05 10:49</td>\n",
              "      <td>Y</td>\n",
              "    </tr>\n",
              "    <tr>\n",
              "      <th>2</th>\n",
              "      <td>20336</td>\n",
              "      <td>21-01-04</td>\n",
              "      <td>NaN</td>\n",
              "      <td>NaN</td>\n",
              "      <td>NaN</td>\n",
              "      <td>서대문구</td>\n",
              "      <td>우크라이나</td>\n",
              "      <td>해외유입</td>\n",
              "      <td>NaN</td>\n",
              "      <td>NaN</td>\n",
              "      <td>NaN</td>\n",
              "      <td>2021-01-05 10:49</td>\n",
              "      <td>2021-01-05 10:49</td>\n",
              "      <td>Y</td>\n",
              "    </tr>\n",
              "    <tr>\n",
              "      <th>3</th>\n",
              "      <td>20335</td>\n",
              "      <td>21-01-04</td>\n",
              "      <td>NaN</td>\n",
              "      <td>NaN</td>\n",
              "      <td>NaN</td>\n",
              "      <td>노원구</td>\n",
              "      <td>NaN</td>\n",
              "      <td>타시도 확진자 접촉(경기이천시물류센터관련)</td>\n",
              "      <td>NaN</td>\n",
              "      <td>NaN</td>\n",
              "      <td>NaN</td>\n",
              "      <td>2021-01-05 10:49</td>\n",
              "      <td>2021-01-05 10:49</td>\n",
              "      <td>Y</td>\n",
              "    </tr>\n",
              "    <tr>\n",
              "      <th>4</th>\n",
              "      <td>20334</td>\n",
              "      <td>21-01-04</td>\n",
              "      <td>NaN</td>\n",
              "      <td>NaN</td>\n",
              "      <td>NaN</td>\n",
              "      <td>영등포구</td>\n",
              "      <td>NaN</td>\n",
              "      <td>감염경로 조사중</td>\n",
              "      <td>NaN</td>\n",
              "      <td>NaN</td>\n",
              "      <td>NaN</td>\n",
              "      <td>2021-01-05 10:49</td>\n",
              "      <td>2021-01-05 10:49</td>\n",
              "      <td>Y</td>\n",
              "    </tr>\n",
              "    <tr>\n",
              "      <th>...</th>\n",
              "      <td>...</td>\n",
              "      <td>...</td>\n",
              "      <td>...</td>\n",
              "      <td>...</td>\n",
              "      <td>...</td>\n",
              "      <td>...</td>\n",
              "      <td>...</td>\n",
              "      <td>...</td>\n",
              "      <td>...</td>\n",
              "      <td>...</td>\n",
              "      <td>...</td>\n",
              "      <td>...</td>\n",
              "      <td>...</td>\n",
              "      <td>...</td>\n",
              "    </tr>\n",
              "    <tr>\n",
              "      <th>20333</th>\n",
              "      <td>5</td>\n",
              "      <td>20-01-31</td>\n",
              "      <td>NaN</td>\n",
              "      <td>NaN</td>\n",
              "      <td>NaN</td>\n",
              "      <td>성북구</td>\n",
              "      <td>NaN</td>\n",
              "      <td>#5 접촉</td>\n",
              "      <td>NaN</td>\n",
              "      <td>퇴원</td>\n",
              "      <td>이동경로 공개기간 경과</td>\n",
              "      <td>2021-01-04 10:08</td>\n",
              "      <td>2021-01-04 11:31</td>\n",
              "      <td>Y</td>\n",
              "    </tr>\n",
              "    <tr>\n",
              "      <th>20334</th>\n",
              "      <td>4</td>\n",
              "      <td>20-01-30</td>\n",
              "      <td>NaN</td>\n",
              "      <td>NaN</td>\n",
              "      <td>NaN</td>\n",
              "      <td>마포구</td>\n",
              "      <td>중국 우한시</td>\n",
              "      <td>해외 접촉</td>\n",
              "      <td>NaN</td>\n",
              "      <td>퇴원</td>\n",
              "      <td>이동경로 공개기간 경과</td>\n",
              "      <td>2021-01-04 10:08</td>\n",
              "      <td>2021-01-04 11:31</td>\n",
              "      <td>Y</td>\n",
              "    </tr>\n",
              "    <tr>\n",
              "      <th>20335</th>\n",
              "      <td>3</td>\n",
              "      <td>20-01-30</td>\n",
              "      <td>NaN</td>\n",
              "      <td>NaN</td>\n",
              "      <td>NaN</td>\n",
              "      <td>종로구</td>\n",
              "      <td>NaN</td>\n",
              "      <td>#3 접촉</td>\n",
              "      <td>NaN</td>\n",
              "      <td>퇴원</td>\n",
              "      <td>이동경로 공개기간 경과</td>\n",
              "      <td>2021-01-04 10:08</td>\n",
              "      <td>2021-01-04 11:31</td>\n",
              "      <td>Y</td>\n",
              "    </tr>\n",
              "    <tr>\n",
              "      <th>20336</th>\n",
              "      <td>2</td>\n",
              "      <td>20-01-30</td>\n",
              "      <td>NaN</td>\n",
              "      <td>NaN</td>\n",
              "      <td>NaN</td>\n",
              "      <td>중랑구</td>\n",
              "      <td>중국 우한시</td>\n",
              "      <td>해외 접촉</td>\n",
              "      <td>NaN</td>\n",
              "      <td>퇴원</td>\n",
              "      <td>이동경로 공개기간 경과</td>\n",
              "      <td>2021-01-04 10:08</td>\n",
              "      <td>2021-01-04 11:31</td>\n",
              "      <td>Y</td>\n",
              "    </tr>\n",
              "    <tr>\n",
              "      <th>20337</th>\n",
              "      <td>1</td>\n",
              "      <td>20-01-24</td>\n",
              "      <td>NaN</td>\n",
              "      <td>NaN</td>\n",
              "      <td>NaN</td>\n",
              "      <td>강서구</td>\n",
              "      <td>중국 우한시</td>\n",
              "      <td>해외 접촉</td>\n",
              "      <td>NaN</td>\n",
              "      <td>퇴원</td>\n",
              "      <td>이동경로 공개기간 경과</td>\n",
              "      <td>2021-01-04 10:08</td>\n",
              "      <td>2021-01-04 11:31</td>\n",
              "      <td>Y</td>\n",
              "    </tr>\n",
              "  </tbody>\n",
              "</table>\n",
              "<p>20338 rows × 14 columns</p>\n",
              "</div>"
            ],
            "text/plain": [
              "          연번       확진일  환자번호  ...               등록일               수정일 노출여부\n",
              "0      20338  21-01-04   NaN  ...  2021-01-05 10:49  2021-01-05 10:49    Y\n",
              "1      20337  21-01-04   NaN  ...  2021-01-05 10:49  2021-01-05 10:49    Y\n",
              "2      20336  21-01-04   NaN  ...  2021-01-05 10:49  2021-01-05 10:49    Y\n",
              "3      20335  21-01-04   NaN  ...  2021-01-05 10:49  2021-01-05 10:49    Y\n",
              "4      20334  21-01-04   NaN  ...  2021-01-05 10:49  2021-01-05 10:49    Y\n",
              "...      ...       ...   ...  ...               ...               ...  ...\n",
              "20333      5  20-01-31   NaN  ...  2021-01-04 10:08  2021-01-04 11:31    Y\n",
              "20334      4  20-01-30   NaN  ...  2021-01-04 10:08  2021-01-04 11:31    Y\n",
              "20335      3  20-01-30   NaN  ...  2021-01-04 10:08  2021-01-04 11:31    Y\n",
              "20336      2  20-01-30   NaN  ...  2021-01-04 10:08  2021-01-04 11:31    Y\n",
              "20337      1  20-01-24   NaN  ...  2021-01-04 10:08  2021-01-04 11:31    Y\n",
              "\n",
              "[20338 rows x 14 columns]"
            ]
          },
          "metadata": {
            "tags": []
          },
          "execution_count": 43
        }
      ]
    },
    {
      "cell_type": "markdown",
      "metadata": {
        "id": "jwRqw-BQQySE"
      },
      "source": [
        "## 기념일 이후 확진자 추이\r\n",
        "\r\n",
        "\r\n"
      ]
    },
    {
      "cell_type": "code",
      "metadata": {
        "id": "9iyvbXbmR0U6"
      },
      "source": [
        ""
      ],
      "execution_count": null,
      "outputs": []
    },
    {
      "cell_type": "code",
      "metadata": {
        "id": "uQapYt6HRrMP"
      },
      "source": [
        "## 어떤 요일에 코로나가 제일 많이 발생했고, 제일 적게 발생했나 분석"
      ],
      "execution_count": null,
      "outputs": []
    },
    {
      "cell_type": "code",
      "metadata": {
        "id": "o3HneZnmQkjG"
      },
      "source": [
        ""
      ],
      "execution_count": null,
      "outputs": []
    },
    {
      "cell_type": "markdown",
      "metadata": {
        "id": "vEtr3OkWQ66N"
      },
      "source": [
        "## 사회적거리두기 단계상향 공식적인 발표후 코로나 확진자의 수 변화추이\r\n"
      ]
    },
    {
      "cell_type": "code",
      "metadata": {
        "id": "qfdgEIi5Qk9I",
        "colab": {
          "base_uri": "https://localhost:8080/",
          "height": 402
        },
        "outputId": "e68eb69f-2ff4-4ee9-f388-5c4506d14886"
      },
      "source": [
        "seoul2=seoul[['확진일','지역','연번']]\r\n",
        "seoul2"
      ],
      "execution_count": null,
      "outputs": [
        {
          "output_type": "execute_result",
          "data": {
            "text/html": [
              "<div>\n",
              "<style scoped>\n",
              "    .dataframe tbody tr th:only-of-type {\n",
              "        vertical-align: middle;\n",
              "    }\n",
              "\n",
              "    .dataframe tbody tr th {\n",
              "        vertical-align: top;\n",
              "    }\n",
              "\n",
              "    .dataframe thead th {\n",
              "        text-align: right;\n",
              "    }\n",
              "</style>\n",
              "<table border=\"1\" class=\"dataframe\">\n",
              "  <thead>\n",
              "    <tr style=\"text-align: right;\">\n",
              "      <th></th>\n",
              "      <th>확진일</th>\n",
              "      <th>지역</th>\n",
              "      <th>연번</th>\n",
              "    </tr>\n",
              "  </thead>\n",
              "  <tbody>\n",
              "    <tr>\n",
              "      <th>0</th>\n",
              "      <td>21-01-04</td>\n",
              "      <td>영등포구</td>\n",
              "      <td>20338</td>\n",
              "    </tr>\n",
              "    <tr>\n",
              "      <th>1</th>\n",
              "      <td>21-01-04</td>\n",
              "      <td>타시도</td>\n",
              "      <td>20337</td>\n",
              "    </tr>\n",
              "    <tr>\n",
              "      <th>2</th>\n",
              "      <td>21-01-04</td>\n",
              "      <td>서대문구</td>\n",
              "      <td>20336</td>\n",
              "    </tr>\n",
              "    <tr>\n",
              "      <th>3</th>\n",
              "      <td>21-01-04</td>\n",
              "      <td>노원구</td>\n",
              "      <td>20335</td>\n",
              "    </tr>\n",
              "    <tr>\n",
              "      <th>4</th>\n",
              "      <td>21-01-04</td>\n",
              "      <td>영등포구</td>\n",
              "      <td>20334</td>\n",
              "    </tr>\n",
              "    <tr>\n",
              "      <th>...</th>\n",
              "      <td>...</td>\n",
              "      <td>...</td>\n",
              "      <td>...</td>\n",
              "    </tr>\n",
              "    <tr>\n",
              "      <th>20333</th>\n",
              "      <td>20-01-31</td>\n",
              "      <td>성북구</td>\n",
              "      <td>5</td>\n",
              "    </tr>\n",
              "    <tr>\n",
              "      <th>20334</th>\n",
              "      <td>20-01-30</td>\n",
              "      <td>마포구</td>\n",
              "      <td>4</td>\n",
              "    </tr>\n",
              "    <tr>\n",
              "      <th>20335</th>\n",
              "      <td>20-01-30</td>\n",
              "      <td>종로구</td>\n",
              "      <td>3</td>\n",
              "    </tr>\n",
              "    <tr>\n",
              "      <th>20336</th>\n",
              "      <td>20-01-30</td>\n",
              "      <td>중랑구</td>\n",
              "      <td>2</td>\n",
              "    </tr>\n",
              "    <tr>\n",
              "      <th>20337</th>\n",
              "      <td>20-01-24</td>\n",
              "      <td>강서구</td>\n",
              "      <td>1</td>\n",
              "    </tr>\n",
              "  </tbody>\n",
              "</table>\n",
              "<p>20338 rows × 3 columns</p>\n",
              "</div>"
            ],
            "text/plain": [
              "            확진일    지역     연번\n",
              "0      21-01-04  영등포구  20338\n",
              "1      21-01-04   타시도  20337\n",
              "2      21-01-04  서대문구  20336\n",
              "3      21-01-04   노원구  20335\n",
              "4      21-01-04  영등포구  20334\n",
              "...         ...   ...    ...\n",
              "20333  20-01-31   성북구      5\n",
              "20334  20-01-30   마포구      4\n",
              "20335  20-01-30   종로구      3\n",
              "20336  20-01-30   중랑구      2\n",
              "20337  20-01-24   강서구      1\n",
              "\n",
              "[20338 rows x 3 columns]"
            ]
          },
          "metadata": {
            "tags": []
          },
          "execution_count": 94
        }
      ]
    },
    {
      "cell_type": "code",
      "metadata": {
        "colab": {
          "base_uri": "https://localhost:8080/"
        },
        "id": "bjMN20I0quKJ",
        "outputId": "e7857d25-0849-41cc-c94c-8095d6b6ccde"
      },
      "source": [
        "seoul2.groupby('지역')['연번'].count()"
      ],
      "execution_count": null,
      "outputs": [
        {
          "output_type": "execute_result",
          "data": {
            "text/plain": [
              "지역\n",
              "강남구       966\n",
              "강동구       609\n",
              "강북구       503\n",
              "강서구      1390\n",
              "관악구      1054\n",
              "광진구       487\n",
              "구로구       656\n",
              "금천구       339\n",
              "기타       1450\n",
              "노원구       852\n",
              "노원구         1\n",
              "도봉구       595\n",
              "동대문구      694\n",
              "동대문구        1\n",
              "동작구       869\n",
              "마포구       723\n",
              "서대문구      538\n",
              "서초구       850\n",
              "성동구       482\n",
              "성북구       851\n",
              "송파구      1175\n",
              "양천구       769\n",
              "영등포구      745\n",
              "용산구       431\n",
              "은평구       812\n",
              "종로구       440\n",
              "중구        293\n",
              "중랑구       836\n",
              "타시도       870\n",
              "Name: 연번, dtype: int64"
            ]
          },
          "metadata": {
            "tags": []
          },
          "execution_count": 98
        }
      ]
    },
    {
      "cell_type": "code",
      "metadata": {
        "colab": {
          "base_uri": "https://localhost:8080/",
          "height": 296
        },
        "id": "k7fvhevMapr7",
        "outputId": "459f8b72-2c48-48e7-c3f0-d7f68fae52cd"
      },
      "source": [
        "def rename_date_all(d):\r\n",
        "    if len(d) == 9:\r\n",
        "        return d[:2]+d[3:5]+d[6:8]\r\n",
        "    else:\r\n",
        "        return d[:2]+'0'+d[3:4]+d[5:7]\r\n",
        "    \r\n",
        "test['확진일'] = test['확진일'].astype(str)\r\n",
        "test['확진일자'] = test['확진일'].apply(rename_date_all)\r\n",
        "# ex) 21.01.04. = 210104 ,,, 20.12.23. = 201223\r\n",
        "test.head()"
      ],
      "execution_count": null,
      "outputs": [
        {
          "output_type": "execute_result",
          "data": {
            "text/html": [
              "<div>\n",
              "<style scoped>\n",
              "    .dataframe tbody tr th:only-of-type {\n",
              "        vertical-align: middle;\n",
              "    }\n",
              "\n",
              "    .dataframe tbody tr th {\n",
              "        vertical-align: top;\n",
              "    }\n",
              "\n",
              "    .dataframe thead th {\n",
              "        text-align: right;\n",
              "    }\n",
              "</style>\n",
              "<table border=\"1\" class=\"dataframe\">\n",
              "  <thead>\n",
              "    <tr style=\"text-align: right;\">\n",
              "      <th></th>\n",
              "      <th>연번</th>\n",
              "      <th>확진일</th>\n",
              "      <th>지역</th>\n",
              "      <th>여행력</th>\n",
              "      <th>접촉력</th>\n",
              "      <th>상태</th>\n",
              "      <th>이동경로</th>\n",
              "      <th>등록일</th>\n",
              "      <th>수정일</th>\n",
              "      <th>노출여부</th>\n",
              "      <th>확진일자</th>\n",
              "    </tr>\n",
              "  </thead>\n",
              "  <tbody>\n",
              "    <tr>\n",
              "      <th>0</th>\n",
              "      <td>20338</td>\n",
              "      <td>21.01.04.</td>\n",
              "      <td>영등포구</td>\n",
              "      <td>NaN</td>\n",
              "      <td>감염경로 조사중</td>\n",
              "      <td>NaN</td>\n",
              "      <td>NaN</td>\n",
              "      <td>2021-01-05 10:49</td>\n",
              "      <td>2021-01-05 10:49</td>\n",
              "      <td>Y</td>\n",
              "      <td>210104</td>\n",
              "    </tr>\n",
              "    <tr>\n",
              "      <th>1</th>\n",
              "      <td>20337</td>\n",
              "      <td>21.01.04.</td>\n",
              "      <td>타시도</td>\n",
              "      <td>NaN</td>\n",
              "      <td>감염경로 조사중</td>\n",
              "      <td>NaN</td>\n",
              "      <td>NaN</td>\n",
              "      <td>2021-01-05 10:49</td>\n",
              "      <td>2021-01-05 10:49</td>\n",
              "      <td>Y</td>\n",
              "      <td>210104</td>\n",
              "    </tr>\n",
              "    <tr>\n",
              "      <th>2</th>\n",
              "      <td>20336</td>\n",
              "      <td>21.01.04.</td>\n",
              "      <td>서대문구</td>\n",
              "      <td>우크라이나</td>\n",
              "      <td>해외유입</td>\n",
              "      <td>NaN</td>\n",
              "      <td>NaN</td>\n",
              "      <td>2021-01-05 10:49</td>\n",
              "      <td>2021-01-05 10:49</td>\n",
              "      <td>Y</td>\n",
              "      <td>210104</td>\n",
              "    </tr>\n",
              "    <tr>\n",
              "      <th>3</th>\n",
              "      <td>20335</td>\n",
              "      <td>21.01.04.</td>\n",
              "      <td>노원구</td>\n",
              "      <td>NaN</td>\n",
              "      <td>타시도 확진자 접촉(경기이천시물류센터관련)</td>\n",
              "      <td>NaN</td>\n",
              "      <td>NaN</td>\n",
              "      <td>2021-01-05 10:49</td>\n",
              "      <td>2021-01-05 10:49</td>\n",
              "      <td>Y</td>\n",
              "      <td>210104</td>\n",
              "    </tr>\n",
              "    <tr>\n",
              "      <th>4</th>\n",
              "      <td>20334</td>\n",
              "      <td>21.01.04.</td>\n",
              "      <td>영등포구</td>\n",
              "      <td>NaN</td>\n",
              "      <td>감염경로 조사중</td>\n",
              "      <td>NaN</td>\n",
              "      <td>NaN</td>\n",
              "      <td>2021-01-05 10:49</td>\n",
              "      <td>2021-01-05 10:49</td>\n",
              "      <td>Y</td>\n",
              "      <td>210104</td>\n",
              "    </tr>\n",
              "  </tbody>\n",
              "</table>\n",
              "</div>"
            ],
            "text/plain": [
              "      연번        확진일    지역  ...               수정일 노출여부    확진일자\n",
              "0  20338  21.01.04.  영등포구  ...  2021-01-05 10:49    Y  210104\n",
              "1  20337  21.01.04.   타시도  ...  2021-01-05 10:49    Y  210104\n",
              "2  20336  21.01.04.  서대문구  ...  2021-01-05 10:49    Y  210104\n",
              "3  20335  21.01.04.   노원구  ...  2021-01-05 10:49    Y  210104\n",
              "4  20334  21.01.04.  영등포구  ...  2021-01-05 10:49    Y  210104\n",
              "\n",
              "[5 rows x 11 columns]"
            ]
          },
          "metadata": {
            "tags": []
          },
          "execution_count": 91
        }
      ]
    },
    {
      "cell_type": "code",
      "metadata": {
        "colab": {
          "base_uri": "https://localhost:8080/",
          "height": 431
        },
        "id": "ha3Gy6zyapnF",
        "outputId": "757ba17b-d8bf-426a-a74d-69c811027f4e"
      },
      "source": [
        "bydate=test.groupby('확진일자').count()\r\n",
        "bydate"
      ],
      "execution_count": null,
      "outputs": [
        {
          "output_type": "execute_result",
          "data": {
            "text/html": [
              "<div>\n",
              "<style scoped>\n",
              "    .dataframe tbody tr th:only-of-type {\n",
              "        vertical-align: middle;\n",
              "    }\n",
              "\n",
              "    .dataframe tbody tr th {\n",
              "        vertical-align: top;\n",
              "    }\n",
              "\n",
              "    .dataframe thead th {\n",
              "        text-align: right;\n",
              "    }\n",
              "</style>\n",
              "<table border=\"1\" class=\"dataframe\">\n",
              "  <thead>\n",
              "    <tr style=\"text-align: right;\">\n",
              "      <th></th>\n",
              "      <th>연번</th>\n",
              "      <th>확진일</th>\n",
              "      <th>지역</th>\n",
              "      <th>여행력</th>\n",
              "      <th>접촉력</th>\n",
              "      <th>상태</th>\n",
              "      <th>이동경로</th>\n",
              "      <th>등록일</th>\n",
              "      <th>수정일</th>\n",
              "      <th>노출여부</th>\n",
              "    </tr>\n",
              "    <tr>\n",
              "      <th>확진일자</th>\n",
              "      <th></th>\n",
              "      <th></th>\n",
              "      <th></th>\n",
              "      <th></th>\n",
              "      <th></th>\n",
              "      <th></th>\n",
              "      <th></th>\n",
              "      <th></th>\n",
              "      <th></th>\n",
              "      <th></th>\n",
              "    </tr>\n",
              "  </thead>\n",
              "  <tbody>\n",
              "    <tr>\n",
              "      <th>200124</th>\n",
              "      <td>1</td>\n",
              "      <td>1</td>\n",
              "      <td>1</td>\n",
              "      <td>1</td>\n",
              "      <td>1</td>\n",
              "      <td>1</td>\n",
              "      <td>1</td>\n",
              "      <td>1</td>\n",
              "      <td>1</td>\n",
              "      <td>1</td>\n",
              "    </tr>\n",
              "    <tr>\n",
              "      <th>200130</th>\n",
              "      <td>3</td>\n",
              "      <td>3</td>\n",
              "      <td>3</td>\n",
              "      <td>2</td>\n",
              "      <td>3</td>\n",
              "      <td>3</td>\n",
              "      <td>3</td>\n",
              "      <td>3</td>\n",
              "      <td>3</td>\n",
              "      <td>3</td>\n",
              "    </tr>\n",
              "    <tr>\n",
              "      <th>200131</th>\n",
              "      <td>3</td>\n",
              "      <td>3</td>\n",
              "      <td>3</td>\n",
              "      <td>0</td>\n",
              "      <td>3</td>\n",
              "      <td>3</td>\n",
              "      <td>3</td>\n",
              "      <td>3</td>\n",
              "      <td>3</td>\n",
              "      <td>3</td>\n",
              "    </tr>\n",
              "    <tr>\n",
              "      <th>200216</th>\n",
              "      <td>2</td>\n",
              "      <td>2</td>\n",
              "      <td>2</td>\n",
              "      <td>0</td>\n",
              "      <td>2</td>\n",
              "      <td>2</td>\n",
              "      <td>2</td>\n",
              "      <td>2</td>\n",
              "      <td>2</td>\n",
              "      <td>2</td>\n",
              "    </tr>\n",
              "    <tr>\n",
              "      <th>200219</th>\n",
              "      <td>2</td>\n",
              "      <td>2</td>\n",
              "      <td>2</td>\n",
              "      <td>0</td>\n",
              "      <td>2</td>\n",
              "      <td>2</td>\n",
              "      <td>2</td>\n",
              "      <td>2</td>\n",
              "      <td>2</td>\n",
              "      <td>2</td>\n",
              "    </tr>\n",
              "    <tr>\n",
              "      <th>...</th>\n",
              "      <td>...</td>\n",
              "      <td>...</td>\n",
              "      <td>...</td>\n",
              "      <td>...</td>\n",
              "      <td>...</td>\n",
              "      <td>...</td>\n",
              "      <td>...</td>\n",
              "      <td>...</td>\n",
              "      <td>...</td>\n",
              "      <td>...</td>\n",
              "    </tr>\n",
              "    <tr>\n",
              "      <th>201231</th>\n",
              "      <td>359</td>\n",
              "      <td>359</td>\n",
              "      <td>359</td>\n",
              "      <td>1</td>\n",
              "      <td>359</td>\n",
              "      <td>0</td>\n",
              "      <td>0</td>\n",
              "      <td>359</td>\n",
              "      <td>359</td>\n",
              "      <td>359</td>\n",
              "    </tr>\n",
              "    <tr>\n",
              "      <th>210101</th>\n",
              "      <td>249</td>\n",
              "      <td>249</td>\n",
              "      <td>248</td>\n",
              "      <td>5</td>\n",
              "      <td>249</td>\n",
              "      <td>0</td>\n",
              "      <td>0</td>\n",
              "      <td>249</td>\n",
              "      <td>249</td>\n",
              "      <td>249</td>\n",
              "    </tr>\n",
              "    <tr>\n",
              "      <th>210102</th>\n",
              "      <td>201</td>\n",
              "      <td>201</td>\n",
              "      <td>201</td>\n",
              "      <td>2</td>\n",
              "      <td>201</td>\n",
              "      <td>0</td>\n",
              "      <td>0</td>\n",
              "      <td>201</td>\n",
              "      <td>201</td>\n",
              "      <td>201</td>\n",
              "    </tr>\n",
              "    <tr>\n",
              "      <th>210103</th>\n",
              "      <td>326</td>\n",
              "      <td>326</td>\n",
              "      <td>326</td>\n",
              "      <td>5</td>\n",
              "      <td>326</td>\n",
              "      <td>1</td>\n",
              "      <td>0</td>\n",
              "      <td>326</td>\n",
              "      <td>326</td>\n",
              "      <td>326</td>\n",
              "    </tr>\n",
              "    <tr>\n",
              "      <th>210104</th>\n",
              "      <td>199</td>\n",
              "      <td>199</td>\n",
              "      <td>199</td>\n",
              "      <td>5</td>\n",
              "      <td>199</td>\n",
              "      <td>0</td>\n",
              "      <td>0</td>\n",
              "      <td>199</td>\n",
              "      <td>199</td>\n",
              "      <td>199</td>\n",
              "    </tr>\n",
              "  </tbody>\n",
              "</table>\n",
              "<p>319 rows × 10 columns</p>\n",
              "</div>"
            ],
            "text/plain": [
              "         연번  확진일   지역  여행력  접촉력  상태  이동경로  등록일  수정일  노출여부\n",
              "확진일자                                                     \n",
              "200124    1    1    1    1    1   1     1    1    1     1\n",
              "200130    3    3    3    2    3   3     3    3    3     3\n",
              "200131    3    3    3    0    3   3     3    3    3     3\n",
              "200216    2    2    2    0    2   2     2    2    2     2\n",
              "200219    2    2    2    0    2   2     2    2    2     2\n",
              "...     ...  ...  ...  ...  ...  ..   ...  ...  ...   ...\n",
              "201231  359  359  359    1  359   0     0  359  359   359\n",
              "210101  249  249  248    5  249   0     0  249  249   249\n",
              "210102  201  201  201    2  201   0     0  201  201   201\n",
              "210103  326  326  326    5  326   1     0  326  326   326\n",
              "210104  199  199  199    5  199   0     0  199  199   199\n",
              "\n",
              "[319 rows x 10 columns]"
            ]
          },
          "metadata": {
            "tags": []
          },
          "execution_count": 92
        }
      ]
    },
    {
      "cell_type": "code",
      "metadata": {
        "id": "JNP2Pxe3apgw"
      },
      "source": [
        ""
      ],
      "execution_count": null,
      "outputs": []
    },
    {
      "cell_type": "code",
      "metadata": {
        "id": "QY7gE8oKapdR"
      },
      "source": [
        ""
      ],
      "execution_count": null,
      "outputs": []
    },
    {
      "cell_type": "markdown",
      "metadata": {
        "id": "CvrtYr4fQlP6"
      },
      "source": [
        "## 나이별 확진자 현황 분류\r\n"
      ]
    },
    {
      "cell_type": "code",
      "metadata": {
        "colab": {
          "base_uri": "https://localhost:8080/"
        },
        "id": "wvakxCSCQvAD",
        "outputId": "7ae1736e-e6f4-4586-cba7-2b3e35c22e86"
      },
      "source": [
        "seoul = pd.read_csv('drive/MyDrive/corona/서울시 코로나19 확진자 현황.csv',encoding='utf-8')\r\n",
        "seoul.columns"
      ],
      "execution_count": null,
      "outputs": [
        {
          "output_type": "execute_result",
          "data": {
            "text/plain": [
              "Index(['연번', '확진일', '환자번호', '국적', '환자정보', '지역', '여행력', '접촉력', '조치사항', '상태',\n",
              "       '이동경로', '등록일', '수정일', '노출여부'],\n",
              "      dtype='object')"
            ]
          },
          "metadata": {
            "tags": []
          },
          "execution_count": 48
        }
      ]
    },
    {
      "cell_type": "code",
      "metadata": {
        "colab": {
          "base_uri": "https://localhost:8080/"
        },
        "id": "uvHELiNHRTG0",
        "outputId": "97034bd8-2929-4e6d-b48b-b8482c6103e5"
      },
      "source": [
        "seoul.isna().sum()"
      ],
      "execution_count": null,
      "outputs": [
        {
          "output_type": "execute_result",
          "data": {
            "text/plain": [
              "연번          0\n",
              "확진일         0\n",
              "환자번호    20338\n",
              "국적      20338\n",
              "환자정보    20338\n",
              "지역         57\n",
              "여행력     19662\n",
              "접촉력         0\n",
              "조치사항    20338\n",
              "상태       8270\n",
              "이동경로     4449\n",
              "등록일         0\n",
              "수정일         0\n",
              "노출여부        0\n",
              "dtype: int64"
            ]
          },
          "metadata": {
            "tags": []
          },
          "execution_count": 50
        }
      ]
    },
    {
      "cell_type": "code",
      "metadata": {
        "id": "lkv4Uz_ARcYl",
        "colab": {
          "base_uri": "https://localhost:8080/",
          "height": 252
        },
        "outputId": "572b17d7-1f3c-4ded-ee77-bce827849499"
      },
      "source": [
        "!pip install wordcloud\r\n",
        "import matplotlib.font_manager as fm  # 폰트 관련 용도\r\n",
        "from wordcloud import WordCloud as wc\r\n",
        "import matplotlib.pyplot as plt\r\n",
        "\r\n",
        "!apt-get update -qq\r\n",
        "!apt-get install fonts-nanum* -qq\r\n",
        "plt.rcParams['font.family'] = 'NanumSquareL'# '맑은 고딕'으로 설정 \r\n",
        "plt.rcParams['axes.unicode_minus'] = False\r\n",
        "\r\n",
        "region = seoul.drop(['환자번호','국적','조치사항','환자정보'],axis=1)\r\n",
        "region\r\n",
        "\r\n",
        "## 코로나 발생 이후 ~ 1월 4일까지 전체 지역별 확진자\r\n",
        "region_len = region.groupby('지역')['연번'].count().sum()\r\n",
        "region_count = region.groupby('지역')['연번'].count()\r\n",
        "region_count = pd.DataFrame(region_count)\r\n",
        "\r\n",
        "wc = WordCloud(background_color='white',font_path='/usr/share/fonts/truetype/nanum/NanumGothicEco.ttf')\r\n",
        "frequencies = region_count['연번']\r\n",
        "wordcloud_image = wc.generate_from_frequencies(frequencies)\r\n",
        "# 생성한 워드 클라우드 이미지를 화면에 표시\r\n",
        "plt.imshow(wordcloud_image, interpolation=\"bilinear\")\r\n",
        "plt.axis(\"off\")\r\n",
        "plt.show()\r\n"
      ],
      "execution_count": null,
      "outputs": [
        {
          "output_type": "stream",
          "text": [
            "Requirement already satisfied: wordcloud in /usr/local/lib/python3.6/dist-packages (1.5.0)\n",
            "Requirement already satisfied: pillow in /usr/local/lib/python3.6/dist-packages (from wordcloud) (7.0.0)\n",
            "Requirement already satisfied: numpy>=1.6.1 in /usr/local/lib/python3.6/dist-packages (from wordcloud) (1.19.4)\n"
          ],
          "name": "stdout"
        },
        {
          "output_type": "display_data",
          "data": {
            "image/png": "[encoded data removed]",
            "text/plain": [
              "<Figure size 432x288 with 1 Axes>"
            ]
          },
          "metadata": {
            "tags": [],
            "needs_background": "light"
          }
        }
      ]
    },
    {
      "cell_type": "code",
      "metadata": {
        "id": "sETfPY3WibXs"
      },
      "source": [
        ""
      ],
      "execution_count": null,
      "outputs": []
    }
  ]
}