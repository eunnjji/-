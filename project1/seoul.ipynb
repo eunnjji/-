{
  "nbformat": 4,
  "nbformat_minor": 0,
  "metadata": {
    "colab": {
      "name": "seoul.ipynb",
      "provenance": [],
      "authorship_tag": "ABX9TyMADKPR3htt2a/qdJssR1O4",
      "include_colab_link": true
    },
    "kernelspec": {
      "name": "python3",
      "display_name": "Python 3"
    }
  },
  "cells": [
    {
      "cell_type": "markdown",
      "metadata": {
        "id": "view-in-github",
        "colab_type": "text"
      },
      "source": [
        "<a href=\"https://colab.research.google.com/github/eunnjji/MultiCampus-EmpAcademy/blob/main/project1/seoul.ipynb\" target=\"_parent\"><img src=\"https://colab.research.google.com/assets/colab-badge.svg\" alt=\"Open In Colab\"/></a>"
      ]
    },
    {
      "cell_type": "code",
      "metadata": {
        "colab": {
          "base_uri": "https://localhost:8080/"
        },
        "id": "XIVMdo1G5QMa",
        "outputId": "416599aa-f3f1-499d-a327-455972776570"
      },
      "source": [
        "from google.colab import drive\r\n",
        "# drive.mount('/gdrive', force_remount=True)\r\n",
        "drive.mount('/content/drive/',force_remount=True)"
      ],
      "execution_count": 15,
      "outputs": [
        {
          "output_type": "stream",
          "text": [
            "Mounted at /content/drive/\n"
          ],
          "name": "stdout"
        }
      ]
    },
    {
      "cell_type": "code",
      "metadata": {
        "colab": {
          "base_uri": "https://localhost:8080/"
        },
        "id": "Zp7bZ8Ko5uzD",
        "outputId": "2ad7c2c2-d97b-483d-cffe-3488f6fedda1"
      },
      "source": [
        "# OS \r\n",
        "!cat /etc/issue.net"
      ],
      "execution_count": 2,
      "outputs": [
        {
          "output_type": "stream",
          "text": [
            "Ubuntu 18.04.5 LTS\n"
          ],
          "name": "stdout"
        }
      ]
    },
    {
      "cell_type": "code",
      "metadata": {
        "colab": {
          "base_uri": "https://localhost:8080/"
        },
        "id": "qgiXyo5_6Jow",
        "outputId": "f93b1bfd-ed15-46ec-f4c7-af21e939fdfa"
      },
      "source": [
        "!ls 'drive/MyDrive/seoul'"
      ],
      "execution_count": 16,
      "outputs": [
        {
          "output_type": "stream",
          "text": [
            "'서울시 코로나19 확진자 현황.csv'    seoul.ipynb\n",
            "'서울시 코로나19 확진자 현황.json'\n"
          ],
          "name": "stdout"
        }
      ]
    },
    {
      "cell_type": "code",
      "metadata": {
        "id": "pXn8savh6P5C"
      },
      "source": [
        "%matplotlib inline"
      ],
      "execution_count": 13,
      "outputs": []
    },
    {
      "cell_type": "code",
      "metadata": {
        "id": "D7_zVMRq7YLz"
      },
      "source": [
        "import pandas as pd \r\n",
        "import numpy as np \r\n",
        "import matplotlib.pyplot as plt"
      ],
      "execution_count": 17,
      "outputs": []
    },
    {
      "cell_type": "code",
      "metadata": {
        "colab": {
          "base_uri": "https://localhost:8080/",
          "height": 419
        },
        "id": "gG8t6D9T8AB_",
        "outputId": "ce2b1c10-b83c-430c-fbc6-ce13a7702dcc"
      },
      "source": [
        "a = pd.read_csv('drive/MyDrive/seoul/서울시 코로나19 확진자 현황.csv',encoding='utf-8')\r\n",
        "a"
      ],
      "execution_count": 20,
      "outputs": [
        {
          "output_type": "execute_result",
          "data": {
            "text/html": [
              "<div>\n",
              "<style scoped>\n",
              "    .dataframe tbody tr th:only-of-type {\n",
              "        vertical-align: middle;\n",
              "    }\n",
              "\n",
              "    .dataframe tbody tr th {\n",
              "        vertical-align: top;\n",
              "    }\n",
              "\n",
              "    .dataframe thead th {\n",
              "        text-align: right;\n",
              "    }\n",
              "</style>\n",
              "<table border=\"1\" class=\"dataframe\">\n",
              "  <thead>\n",
              "    <tr style=\"text-align: right;\">\n",
              "      <th></th>\n",
              "      <th>연번</th>\n",
              "      <th>확진일</th>\n",
              "      <th>환자번호</th>\n",
              "      <th>국적</th>\n",
              "      <th>환자정보</th>\n",
              "      <th>지역</th>\n",
              "      <th>여행력</th>\n",
              "      <th>접촉력</th>\n",
              "      <th>조치사항</th>\n",
              "      <th>상태</th>\n",
              "      <th>이동경로</th>\n",
              "      <th>등록일</th>\n",
              "      <th>수정일</th>\n",
              "      <th>노출여부</th>\n",
              "    </tr>\n",
              "  </thead>\n",
              "  <tbody>\n",
              "    <tr>\n",
              "      <th>0</th>\n",
              "      <td>20338</td>\n",
              "      <td>21.01.04.</td>\n",
              "      <td>NaN</td>\n",
              "      <td>NaN</td>\n",
              "      <td>NaN</td>\n",
              "      <td>영등포구</td>\n",
              "      <td>NaN</td>\n",
              "      <td>감염경로 조사중</td>\n",
              "      <td>NaN</td>\n",
              "      <td>NaN</td>\n",
              "      <td>NaN</td>\n",
              "      <td>2021-01-05 10:49</td>\n",
              "      <td>2021-01-05 10:49</td>\n",
              "      <td>Y</td>\n",
              "    </tr>\n",
              "    <tr>\n",
              "      <th>1</th>\n",
              "      <td>20337</td>\n",
              "      <td>21.01.04.</td>\n",
              "      <td>NaN</td>\n",
              "      <td>NaN</td>\n",
              "      <td>NaN</td>\n",
              "      <td>타시도</td>\n",
              "      <td>NaN</td>\n",
              "      <td>감염경로 조사중</td>\n",
              "      <td>NaN</td>\n",
              "      <td>NaN</td>\n",
              "      <td>NaN</td>\n",
              "      <td>2021-01-05 10:49</td>\n",
              "      <td>2021-01-05 10:49</td>\n",
              "      <td>Y</td>\n",
              "    </tr>\n",
              "    <tr>\n",
              "      <th>2</th>\n",
              "      <td>20336</td>\n",
              "      <td>21.01.04.</td>\n",
              "      <td>NaN</td>\n",
              "      <td>NaN</td>\n",
              "      <td>NaN</td>\n",
              "      <td>서대문구</td>\n",
              "      <td>우크라이나</td>\n",
              "      <td>해외유입</td>\n",
              "      <td>NaN</td>\n",
              "      <td>NaN</td>\n",
              "      <td>NaN</td>\n",
              "      <td>2021-01-05 10:49</td>\n",
              "      <td>2021-01-05 10:49</td>\n",
              "      <td>Y</td>\n",
              "    </tr>\n",
              "    <tr>\n",
              "      <th>3</th>\n",
              "      <td>20335</td>\n",
              "      <td>21.01.04.</td>\n",
              "      <td>NaN</td>\n",
              "      <td>NaN</td>\n",
              "      <td>NaN</td>\n",
              "      <td>노원구</td>\n",
              "      <td>NaN</td>\n",
              "      <td>타시도 확진자 접촉(경기이천시물류센터관련)</td>\n",
              "      <td>NaN</td>\n",
              "      <td>NaN</td>\n",
              "      <td>NaN</td>\n",
              "      <td>2021-01-05 10:49</td>\n",
              "      <td>2021-01-05 10:49</td>\n",
              "      <td>Y</td>\n",
              "    </tr>\n",
              "    <tr>\n",
              "      <th>4</th>\n",
              "      <td>20334</td>\n",
              "      <td>21.01.04.</td>\n",
              "      <td>NaN</td>\n",
              "      <td>NaN</td>\n",
              "      <td>NaN</td>\n",
              "      <td>영등포구</td>\n",
              "      <td>NaN</td>\n",
              "      <td>감염경로 조사중</td>\n",
              "      <td>NaN</td>\n",
              "      <td>NaN</td>\n",
              "      <td>NaN</td>\n",
              "      <td>2021-01-05 10:49</td>\n",
              "      <td>2021-01-05 10:49</td>\n",
              "      <td>Y</td>\n",
              "    </tr>\n",
              "    <tr>\n",
              "      <th>...</th>\n",
              "      <td>...</td>\n",
              "      <td>...</td>\n",
              "      <td>...</td>\n",
              "      <td>...</td>\n",
              "      <td>...</td>\n",
              "      <td>...</td>\n",
              "      <td>...</td>\n",
              "      <td>...</td>\n",
              "      <td>...</td>\n",
              "      <td>...</td>\n",
              "      <td>...</td>\n",
              "      <td>...</td>\n",
              "      <td>...</td>\n",
              "      <td>...</td>\n",
              "    </tr>\n",
              "    <tr>\n",
              "      <th>20333</th>\n",
              "      <td>5</td>\n",
              "      <td>20.1.31.</td>\n",
              "      <td>NaN</td>\n",
              "      <td>NaN</td>\n",
              "      <td>NaN</td>\n",
              "      <td>성북구</td>\n",
              "      <td>NaN</td>\n",
              "      <td>#5 접촉</td>\n",
              "      <td>NaN</td>\n",
              "      <td>퇴원</td>\n",
              "      <td>이동경로 공개기간 경과</td>\n",
              "      <td>2021-01-04 10:08</td>\n",
              "      <td>2021-01-04 11:31</td>\n",
              "      <td>Y</td>\n",
              "    </tr>\n",
              "    <tr>\n",
              "      <th>20334</th>\n",
              "      <td>4</td>\n",
              "      <td>20.1.30.</td>\n",
              "      <td>NaN</td>\n",
              "      <td>NaN</td>\n",
              "      <td>NaN</td>\n",
              "      <td>마포구</td>\n",
              "      <td>중국 우한시</td>\n",
              "      <td>해외 접촉</td>\n",
              "      <td>NaN</td>\n",
              "      <td>퇴원</td>\n",
              "      <td>이동경로 공개기간 경과</td>\n",
              "      <td>2021-01-04 10:08</td>\n",
              "      <td>2021-01-04 11:31</td>\n",
              "      <td>Y</td>\n",
              "    </tr>\n",
              "    <tr>\n",
              "      <th>20335</th>\n",
              "      <td>3</td>\n",
              "      <td>20.1.30.</td>\n",
              "      <td>NaN</td>\n",
              "      <td>NaN</td>\n",
              "      <td>NaN</td>\n",
              "      <td>종로구</td>\n",
              "      <td>NaN</td>\n",
              "      <td>#3 접촉</td>\n",
              "      <td>NaN</td>\n",
              "      <td>퇴원</td>\n",
              "      <td>이동경로 공개기간 경과</td>\n",
              "      <td>2021-01-04 10:08</td>\n",
              "      <td>2021-01-04 11:31</td>\n",
              "      <td>Y</td>\n",
              "    </tr>\n",
              "    <tr>\n",
              "      <th>20336</th>\n",
              "      <td>2</td>\n",
              "      <td>20.1.30.</td>\n",
              "      <td>NaN</td>\n",
              "      <td>NaN</td>\n",
              "      <td>NaN</td>\n",
              "      <td>중랑구</td>\n",
              "      <td>중국 우한시</td>\n",
              "      <td>해외 접촉</td>\n",
              "      <td>NaN</td>\n",
              "      <td>퇴원</td>\n",
              "      <td>이동경로 공개기간 경과</td>\n",
              "      <td>2021-01-04 10:08</td>\n",
              "      <td>2021-01-04 11:31</td>\n",
              "      <td>Y</td>\n",
              "    </tr>\n",
              "    <tr>\n",
              "      <th>20337</th>\n",
              "      <td>1</td>\n",
              "      <td>20.1.24.</td>\n",
              "      <td>NaN</td>\n",
              "      <td>NaN</td>\n",
              "      <td>NaN</td>\n",
              "      <td>강서구</td>\n",
              "      <td>중국 우한시</td>\n",
              "      <td>해외 접촉</td>\n",
              "      <td>NaN</td>\n",
              "      <td>퇴원</td>\n",
              "      <td>이동경로 공개기간 경과</td>\n",
              "      <td>2021-01-04 10:08</td>\n",
              "      <td>2021-01-04 11:31</td>\n",
              "      <td>Y</td>\n",
              "    </tr>\n",
              "  </tbody>\n",
              "</table>\n",
              "<p>20338 rows × 14 columns</p>\n",
              "</div>"
            ],
            "text/plain": [
              "          연번        확진일  환자번호  ...               등록일               수정일 노출여부\n",
              "0      20338  21.01.04.   NaN  ...  2021-01-05 10:49  2021-01-05 10:49    Y\n",
              "1      20337  21.01.04.   NaN  ...  2021-01-05 10:49  2021-01-05 10:49    Y\n",
              "2      20336  21.01.04.   NaN  ...  2021-01-05 10:49  2021-01-05 10:49    Y\n",
              "3      20335  21.01.04.   NaN  ...  2021-01-05 10:49  2021-01-05 10:49    Y\n",
              "4      20334  21.01.04.   NaN  ...  2021-01-05 10:49  2021-01-05 10:49    Y\n",
              "...      ...        ...   ...  ...               ...               ...  ...\n",
              "20333      5   20.1.31.   NaN  ...  2021-01-04 10:08  2021-01-04 11:31    Y\n",
              "20334      4   20.1.30.   NaN  ...  2021-01-04 10:08  2021-01-04 11:31    Y\n",
              "20335      3   20.1.30.   NaN  ...  2021-01-04 10:08  2021-01-04 11:31    Y\n",
              "20336      2   20.1.30.   NaN  ...  2021-01-04 10:08  2021-01-04 11:31    Y\n",
              "20337      1   20.1.24.   NaN  ...  2021-01-04 10:08  2021-01-04 11:31    Y\n",
              "\n",
              "[20338 rows x 14 columns]"
            ]
          },
          "metadata": {
            "tags": []
          },
          "execution_count": 20
        }
      ]
    },
    {
      "cell_type": "code",
      "metadata": {
        "id": "l9p2wef88LQY"
      },
      "source": [
        ""
      ],
      "execution_count": null,
      "outputs": []
    }
  ]
}