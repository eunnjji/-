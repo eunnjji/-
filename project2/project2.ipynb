{
  "nbformat": 4,
  "nbformat_minor": 0,
  "metadata": {
    "colab": {
      "name": "project2.ipynb",
      "provenance": [],
      "collapsed_sections": [
        "PeO54eR714UT"
      ],
      "include_colab_link": true
    },
    "kernelspec": {
      "name": "python3",
      "display_name": "Python 3"
    }
  },
  "cells": [
    {
      "cell_type": "markdown",
      "metadata": {
        "id": "view-in-github",
        "colab_type": "text"
      },
      "source": [
        "<a href=\"https://colab.research.google.com/github/eunnjji/MultiCampus-EmpAcademy/blob/main/project2/project2.ipynb\" target=\"_parent\"><img src=\"https://colab.research.google.com/assets/colab-badge.svg\" alt=\"Open In Colab\"/></a>"
      ]
    },
    {
      "cell_type": "markdown",
      "metadata": {
        "id": "i60GioVp5UEe"
      },
      "source": [
        "# 6조\r\n",
        "\r\n",
        "- 팀명: SYH : super youth hero\r\n",
        "- 주제: 기계 시설물 분야 AI 학습용 데이터를 활용하여 기계 시설물의 고장 여부 예측 모델 개발\r\n",
        "- 여수진,성은지,홍승표  \r\n",
        "- [참고](https://www.aidatahackathon.com/)\r\n",
        "\r\n",
        "## 절차\r\n",
        "1. 문제 분석  \r\n",
        " 1.1 iris 데이터셋으로 회귀 연습\r\n",
        "2. 데이터분석\r\n",
        "3. 데이터전처리\r\n",
        "4. 트레인, 검증 set 분리\r\n",
        "5. 모델 생성\r\n",
        "6. 모델 평가 - k겹 교차 검증이나 등등..\r\n",
        "7. 모델 튜닝 - 그리드 탐색이나 랜덤 탐색, 앙상블 등\r\n",
        "8. 최상의 모델과 오차 분석\r\n",
        "9. 테스트 세트로 평가하기\r\n",
        " "
      ]
    },
    {
      "cell_type": "code",
      "metadata": {
        "id": "hpCfEe1VGESH"
      },
      "source": [
        "# libarary import\r\n",
        "import os\r\n",
        "import numpy as np\r\n",
        "import pandas as pd\r\n",
        "import tensorflow as tf\r\n",
        "from tensorflow import keras\r\n",
        "import sklearn as skl\r\n",
        "\r\n",
        "# seed setting\r\n",
        "np.random.seed(42)\r\n",
        "tf.random.set_seed(42)\r\n",
        "\r\n",
        "BASE_DIR = \"/content/drive/MyDrive/\"\r\n",
        "DATA_DIR = '/content/drive/MyDrive/Colab Notebooks/daejeon_data'"
      ],
      "execution_count": 4,
      "outputs": []
    },
    {
      "cell_type": "code",
      "metadata": {
        "colab": {
          "base_uri": "https://localhost:8080/"
        },
        "id": "fCgHkGZvzOTw",
        "outputId": "ee0d8f24-75a8-4e7f-c75d-9d0ec3228a75"
      },
      "source": [
        "from google.colab import drive\n",
        "drive.mount('/content/drive')"
      ],
      "execution_count": 3,
      "outputs": [
        {
          "output_type": "stream",
          "text": [
            "Drive already mounted at /content/drive; to attempt to forcibly remount, call drive.mount(\"/content/drive\", force_remount=True).\n"
          ],
          "name": "stdout"
        }
      ]
    },
    {
      "cell_type": "markdown",
      "metadata": {
        "id": "DdNluuWm9YGy"
      },
      "source": [
        "## 데이터 형태\r\n",
        "csv 파일  \r\n",
        ",(콤마)로 분류된 시계열 데이터  \r\n",
        "+ current Header  \r\n",
        "  - 파일명, 에러 아이디, RPM, 정격전류,\r\n",
        "  - 사용전류, Sample Rate 값, R전류의 RMS (RRMS),\r\n",
        "  - R 전류의 MEAN (RMEAN), R 전류의 MAX (RMAX),\r\n",
        "  - S 전류의 RMS (SRMS), S 전류의 MEAN (SMEAN),\r\n",
        "  - S 전류의 MAX (SMAX), T 전류의 RMS (TRMS),\r\n",
        "  - T 전류의 MEAN (TMEAN), T 전류의 MAX (TMAX)\r\n",
        "+ kimm Header\r\n",
        "  - 파일명, Sample Rate 값, Label, Label_No\r\n",
        "+ vibration Header\r\n",
        "  - 파일명, Sample Rate, Sample Rate, Sample Rate\r\n",
        "\r\n",
        "## 데이터 구조\r\n",
        "\r\n",
        "op-csv : 모터 정상 가동 중 측정한 데이터  \r\n",
        "no-csv : 모터가 해당 고장 레이블인 상태에 측정한 데이터\r\n",
        "\r\n",
        "current(전류 데이터) - __11, 15, 18.5, 2.2, 3.7, 5.5, 7.5__ (단위: kw)  \r\n",
        "kimm(유선진동 데이터) - __11, 15, 18.5, 2.2, 3.7, 5.5, 7.5__ (단위: kw)  \r\n",
        "vibration(무선진동 데이터) - __11, 15, 18.5, 2.2, 3.7, 5.5, 7.5__ (단위: kw)  \r\n",
        "\r\n",
        "|레이블|\r\n",
        "|---|\r\n",
        "|정상|\r\n",
        "|회전체 불평형(unbalance)|\r\n",
        "|베어링 불량(bearing)|\r\n",
        "|벨트 느슨함(belt)|\r\n",
        "|축정렬 불량(misalignment)|\r\n",
        "<br>\r\n",
        "\r\n",
        "전류의 경우 \\[r,s,t전류 값] target(y)는 \\[레이블종류] 특성 \\[kw]  \r\n",
        "유선진동의 경우 \\[] target(y)는 \\[레이블종류] 특성 \\[kw]  \r\n",
        "무선진동의 경우 \\[] target(y)는 \\[레이블종류] 특성 \\[kw]  \r\n",
        "\r\n",
        "target을 원-핫-벡터로\r\n"
      ]
    },
    {
      "cell_type": "markdown",
      "metadata": {
        "id": "r-loxU42oKW7"
      },
      "source": [
        "# 1. 문제 분석\r\n",
        "\r\n",
        "지도 학습 문제, 회귀 문제,   \r\n",
        "다중 분류 ( 소프트맥스 회귀? ) (예측 결과는 레이블 하나에 해당하도록 나와야 함)  \r\n",
        "다층 퍼셉트론 이용(예정)\r\n",
        "시계열 데이터 -> RNN ?\r\n"
      ]
    },
    {
      "cell_type": "markdown",
      "metadata": {
        "id": "PeO54eR714UT"
      },
      "source": [
        "# 1.1. Iris Dataset으로 회귀 연습"
      ]
    },
    {
      "cell_type": "code",
      "metadata": {
        "id": "avFxnuOY2Fzh"
      },
      "source": [
        "from sklearn import datasets\r\n",
        "iris = datasets.load_iris()"
      ],
      "execution_count": null,
      "outputs": []
    },
    {
      "cell_type": "code",
      "metadata": {
        "id": "2Me_i9rnBhj6"
      },
      "source": [
        "# p197,4장 \r\n",
        "type(iris['data']) # numpy.ndarray\r\n",
        "iris['data'].shape # (150, 4) \r\n",
        "X = iris['data'][:,3:] \r\n",
        "y = (iris['target']==2).astype(np.int)"
      ],
      "execution_count": null,
      "outputs": []
    },
    {
      "cell_type": "code",
      "metadata": {
        "colab": {
          "base_uri": "https://localhost:8080/"
        },
        "id": "oABREOWp_Yfp",
        "outputId": "e3b23c8e-ffa8-4397-8966-27381681ac01"
      },
      "source": [
        "from sklearn.linear_model import LogisticRegression\r\n",
        "# 로지스틱회귀, 이진분류\r\n",
        "log_reg = LogisticRegression(solver=\"lbfgs\")\r\n",
        "log_reg.fit(X,y)"
      ],
      "execution_count": null,
      "outputs": [
        {
          "output_type": "execute_result",
          "data": {
            "text/plain": [
              "LogisticRegression(C=1.0, class_weight=None, dual=False, fit_intercept=True,\n",
              "                   intercept_scaling=1, l1_ratio=None, max_iter=100,\n",
              "                   multi_class='auto', n_jobs=None, penalty='l2',\n",
              "                   random_state=None, solver='lbfgs', tol=0.0001, verbose=0,\n",
              "                   warm_start=False)"
            ]
          },
          "metadata": {
            "tags": []
          },
          "execution_count": 5
        }
      ]
    },
    {
      "cell_type": "code",
      "metadata": {
        "colab": {
          "base_uri": "https://localhost:8080/"
        },
        "id": "Vt-o3JDMAXtK",
        "outputId": "087e2ece-a299-4eea-edd5-ba58d8bf0cb2"
      },
      "source": [
        "log_reg.predict([[1.7],[1.5]])"
      ],
      "execution_count": null,
      "outputs": [
        {
          "output_type": "execute_result",
          "data": {
            "text/plain": [
              "array([1, 0])"
            ]
          },
          "metadata": {
            "tags": []
          },
          "execution_count": 6
        }
      ]
    },
    {
      "cell_type": "code",
      "metadata": {
        "colab": {
          "base_uri": "https://localhost:8080/"
        },
        "id": "K2uAIG9VdWaI",
        "outputId": "7d6cbb9c-68d9-4c6b-9cd3-706d441092b5"
      },
      "source": [
        "#소프트맥스회귀, 다중분류\r\n",
        "X = iris[\"data\"][:, (2, 3)]  # petal length, petal width 꽃잎 길이, 너비\r\n",
        "y = iris[\"target\"]\r\n",
        "softmax_reg = LogisticRegression(multi_class=\"multinomial\",solver=\"lbfgs\", C=10, random_state=42)\r\n",
        "softmax_reg.fit(X, y)"
      ],
      "execution_count": null,
      "outputs": [
        {
          "output_type": "execute_result",
          "data": {
            "text/plain": [
              "LogisticRegression(C=10, class_weight=None, dual=False, fit_intercept=True,\n",
              "                   intercept_scaling=1, l1_ratio=None, max_iter=100,\n",
              "                   multi_class='multinomial', n_jobs=None, penalty='l2',\n",
              "                   random_state=42, solver='lbfgs', tol=0.0001, verbose=0,\n",
              "                   warm_start=False)"
            ]
          },
          "metadata": {
            "tags": []
          },
          "execution_count": 7
        }
      ]
    },
    {
      "cell_type": "code",
      "metadata": {
        "colab": {
          "base_uri": "https://localhost:8080/"
        },
        "id": "FGh2BHz5dcZL",
        "outputId": "b9fcdc73-54b3-4ab3-ed9a-b56230348615"
      },
      "source": [
        "softmax_reg.predict([[5, 2]]) # 꽃잎의 길이가 5, 꽃잎 너비가 2cm인 꽃 -> 클래스 2라고 예측"
      ],
      "execution_count": null,
      "outputs": [
        {
          "output_type": "execute_result",
          "data": {
            "text/plain": [
              "array([2])"
            ]
          },
          "metadata": {
            "tags": []
          },
          "execution_count": 8
        }
      ]
    },
    {
      "cell_type": "code",
      "metadata": {
        "colab": {
          "base_uri": "https://localhost:8080/"
        },
        "id": "i5hsGdih5AZv",
        "outputId": "01216085-08ed-4cf8-a0df-57fa533768d2"
      },
      "source": [
        "#서포트벡터머신 \r\n",
        "from sklearn.pipeline import Pipeline\r\n",
        "from sklearn.preprocessing import StandardScaler\r\n",
        "from sklearn.svm import LinearSVC\r\n",
        "X = iris[\"data\"][:, (2, 3)]\r\n",
        "y = (iris[\"target\"] == 2).astype(np.float64) # feature scailing 필요\r\n",
        "svm_clf = Pipeline([\r\n",
        "                    (\"scaler\", StandardScaler()),\r\n",
        "                    (\"linear_svc\", LinearSVC(C=1,loss='hinge'))\r\n",
        "])\r\n",
        "svm_clf.fit(X,y)\r\n",
        "svm_clf.predict([[5, 2]])"
      ],
      "execution_count": null,
      "outputs": [
        {
          "output_type": "execute_result",
          "data": {
            "text/plain": [
              "array([1.])"
            ]
          },
          "metadata": {
            "tags": []
          },
          "execution_count": 9
        }
      ]
    },
    {
      "cell_type": "code",
      "metadata": {
        "id": "eqXxuRwGC90I"
      },
      "source": [
        "from sklearn.svm import SVC\r\n",
        "\r\n",
        "from sklearn.linear_model import SGDClassifier\r\n",
        "svm_clf2 = Pipeline([\r\n",
        "                    (\"scaler\", StandardScaler()),\r\n",
        "                    (\"SVC\", SVC(kernel='hinge',C=1))\r\n",
        "])"
      ],
      "execution_count": null,
      "outputs": []
    },
    {
      "cell_type": "code",
      "metadata": {
        "id": "_-O8AfpQtvD2"
      },
      "source": [
        "svm_clf3 = Pipeline([\r\n",
        "                    (\"scaler\", StandardScaler()),\r\n",
        "                    # (\"sgd_clf\", SGDClassifier(loss='hinge',alpha= )\r\n",
        "])"
      ],
      "execution_count": null,
      "outputs": []
    },
    {
      "cell_type": "code",
      "metadata": {
        "id": "pqL0BZREESSP"
      },
      "source": [
        "#결정트리\r\n"
      ],
      "execution_count": null,
      "outputs": []
    },
    {
      "cell_type": "code",
      "metadata": {
        "id": "8DnY0fNAGWgX"
      },
      "source": [
        "#랜덤포레스트"
      ],
      "execution_count": null,
      "outputs": []
    },
    {
      "cell_type": "code",
      "metadata": {
        "id": "VNvBbSj0EV55"
      },
      "source": [
        "#투표기반 분류"
      ],
      "execution_count": null,
      "outputs": []
    },
    {
      "cell_type": "code",
      "metadata": {
        "id": "BeL_DVG3GKL0"
      },
      "source": [
        "#앙상블"
      ],
      "execution_count": null,
      "outputs": []
    },
    {
      "cell_type": "code",
      "metadata": {
        "id": "retEW2aFGOBn"
      },
      "source": [
        ""
      ],
      "execution_count": null,
      "outputs": []
    },
    {
      "cell_type": "markdown",
      "metadata": {
        "id": "Y4H9tfmE7veZ"
      },
      "source": [
        "# 2. 데이터 분석\r\n"
      ]
    },
    {
      "cell_type": "code",
      "metadata": {
        "id": "0aoWq04eDjYj"
      },
      "source": [
        "# !unzip -uq \"/content/drive/MyDrive/경진대회_data.zip\" -d \"압축 푼 파일 저장할 경로\""
      ],
      "execution_count": null,
      "outputs": []
    },
    {
      "cell_type": "markdown",
      "metadata": {
        "id": "tSzMZFb99LZO"
      },
      "source": [
        ",로 구분된 csv 파일 형태로 데이터 가져오기"
      ]
    },
    {
      "cell_type": "code",
      "metadata": {
        "colab": {
          "base_uri": "https://localhost:8080/",
          "height": 35
        },
        "id": "lSJOgXPasvZg",
        "outputId": "8c41cf0a-360c-4928-8bf8-4c7f33f07d90"
      },
      "source": [
        "%cd '/content/drive/MyDrive'\r\n",
        "os.getcwd()"
      ],
      "execution_count": null,
      "outputs": [
        {
          "output_type": "execute_result",
          "data": {
            "application/vnd.google.colaboratory.intrinsic+json": {
              "type": "string"
            },
            "text/plain": [
              "'/content/drive/My Drive'"
            ]
          },
          "metadata": {
            "tags": []
          },
          "execution_count": 6
        }
      ]
    },
    {
      "cell_type": "code",
      "metadata": {
        "id": "AD_lzjH94kSc"
      },
      "source": [
        "classSet = (\"bearing\", \"belt\", \"misalignment\", \"unbalance\")\r\n",
        "\r\n",
        "def DatadirLoad(dirname):\r\n",
        "    csv_op_dict = {classSet[0]:[], classSet[1]:[], classSet[2]:[],classSet[3]:[]}\r\n",
        "    csv_no_dict = {classSet[0]:[], classSet[1]:[], classSet[2]:[],classSet[3]:[]}\r\n",
        "\r\n",
        "    dirpath = os.path.join(DATA_DIR,dirname)\r\n",
        "    if os.path.isdir(dirpath):\r\n",
        "        for d in os.listdir(dirpath):\r\n",
        "            d_path = dirpath+'/'+d\r\n",
        "            if os.path.isdir(d_path):\r\n",
        "                Error_Class_Lable,kw_Name,*_ = d.split('_')\r\n",
        "                \r\n",
        "                data_dir_list = [ x for x in os.listdir(d_path) if len(x)<2]\r\n",
        "                data_dir_list.sort()\r\n",
        "                \r\n",
        "                if len(data_dir_list) > 0:\r\n",
        "                    for d2 in data_dir_list:\r\n",
        "                        d2_path = os.path.join(d_path,d2)\r\n",
        "\r\n",
        "                        # op-csv file # 정상 작동\r\n",
        "                        d2_op_path = os.path.join(d2_path,'4.op-csv')\r\n",
        "                        d2_op_data = [x for x in os.listdir(d2_op_path) if x.endswith('.csv')]\r\n",
        "                        op_csv_path = os.path.join(d2_op_path,d2_op_data[0])\r\n",
        "                        csv_op_dict[Error_Class_Lable].append(op_csv_path)\r\n",
        "                        \r\n",
        "                        # no-csv file # 고장 발생\r\n",
        "                        d2_no_path = os.path.join(d2_path,'5.no-csv')\r\n",
        "                        d2_no_data = [x for x in os.listdir(d2_no_path) if x.endswith('.csv')]\r\n",
        "                        no_csv_path = os.path.join(d2_no_path,d2_no_data[0])\r\n",
        "                        csv_no_dict[Error_Class_Lable].append(no_csv_path)\r\n",
        "                \r\n",
        "\r\n",
        "    return csv_op_dict, csv_no_dict"
      ],
      "execution_count": 5,
      "outputs": []
    },
    {
      "cell_type": "code",
      "metadata": {
        "id": "z7ttHo0ItD4v"
      },
      "source": [
        "def read_csv_dir(path, max_row_size):\r\n",
        "    t_pd = None\r\n",
        "    update_row_size = max_row_size\r\n",
        "    if os.path.isfile(path):\r\n",
        "        \r\n",
        "        data_Name = os.path.basename(path)\r\n",
        "        dir_name,Ekw,dir_num,opno  = os.path.dirname(path).split('/')[6:]\r\n",
        "        Error_Class_Lable,kw_Name,*_ = Ekw.split('_')      \r\n",
        "        opno = 0 if opno[0] == '4' else 1\r\n",
        "        # 정상 : False(0), 고장 : True(1)\r\n",
        "\r\n",
        "        if dir_name[0] == 'c': #current(전류)\r\n",
        "            # print('read')\r\n",
        "            t_pd = pd.read_csv(path, header=None,encoding='utf-8-sig',skiprows=range(15))\r\n",
        "            t_pd.drop(3, axis=1, inplace=True)\r\n",
        "            \r\n",
        "            t_pd['Motor'] = float(kw_Name[:-2])\r\n",
        "            t_pd['target'] = Error_Class_Lable if opno == 1 else 'normal'\r\n",
        "\r\n",
        "        elif dir_name[0] == 'k': # kimm(유선진동)\r\n",
        "            t_pd = pd.read_csv(path, header=None,encoding='utf-8-sig',skiprows=range(4))\r\n",
        "            t_pd.drop(1, axis=1, inplace=True)\r\n",
        "                        \r\n",
        "            t_pd['Motor'] = float(kw_Name[:-2])\r\n",
        "            t_pd['target'] = Error_Class_Lable if opno else 'normal'\r\n",
        "\r\n",
        "        elif dir_name[0] == 'v': #vibration(무선진동)\r\n",
        "            t_pd = pd.read_csv(path, header=None,encoding='utf-8-sig',skiprows=range(4))\r\n",
        "            t_pd.drop(1, axis=1, inplace=True)\r\n",
        "            \r\n",
        "            t_pd['Motor'] = float(kw_Name[:-2])\r\n",
        "            t_pd['target'] = Error_Class_Lable if opno else 'normal'\r\n",
        "            \r\n",
        "            if (t_pd.values.shape[0]) > max_row_size:\r\n",
        "                update_row_size = t_pd.values.shape[0]\r\n",
        "            elif (t_pd.values.shape[0]) < max_row_size:\r\n",
        "                update_row_size = max_row_size\r\n",
        "                tmp = np.zeros((int(update_row_size - t_pd.values.shape[0]),int(t_pd.values.shape[1])))\r\n",
        "                new_t = np.vstack([t_pd.values,tmp])\r\n",
        "                return new_t.tolist(), update_row_size\r\n",
        "        else: \r\n",
        "            print('error')\r\n",
        "            print('dir_category : {}, lable : {}, op: {}'.format(dir_name, Error_Class_Lable,opno))\r\n",
        "            return 0\r\n",
        "    return t_pd.values.tolist(), update_row_size\r\n",
        "    "
      ],
      "execution_count": 6,
      "outputs": []
    },
    {
      "cell_type": "code",
      "metadata": {
        "id": "nBk-UwMmo1v8"
      },
      "source": [
        "# dataset 생성\r\n",
        "def makeDataset(op_dict, no_dict, shape_op = 0):\r\n",
        "    \"\"\"\r\n",
        "    input: 정상data의 path list, 오류 data의 path list\r\n",
        "    output: numpy의 ndarray 타입 형태로 dataset 반환\r\n",
        "    shape_op : 0이면 (38200, 60, 5) 형태, 1이면 (38200(data개수 * row/60한 값), 5(특성 수), 60)\r\n",
        "    \"\"\"\r\n",
        "    tmp = []\r\n",
        "    max_row_size = 0\r\n",
        "    for k,v in op_dict.items():\r\n",
        "        print(k)\r\n",
        "        for p in v:\r\n",
        "            data, max = read_csv_dir(p, max_row_size)\r\n",
        "            tmp.append(data)\r\n",
        "            max_row_size = max\r\n",
        "    for k,v in no_dict.items():\r\n",
        "        print(k)\r\n",
        "        for p in v:\r\n",
        "            data, max = read_csv_dir(p, max_row_size)\r\n",
        "            tmp.append(data)\r\n",
        "            max_row_size = max\r\n",
        "    if shape_op == 0:\r\n",
        "        dataset = np.stack(tmp)\r\n",
        "        dataset.reshape((-1,60,5))\r\n",
        "    else:\r\n",
        "        dataset = np.stack(tmp,axis=2)\r\n",
        "        dataset.reshape((-1,5,60))\r\n",
        "    \r\n",
        "    return dataset  "
      ],
      "execution_count": 9,
      "outputs": []
    },
    {
      "cell_type": "code",
      "metadata": {
        "id": "HJMmiTCkFdh8"
      },
      "source": [
        "current_op_csv,current_no_csv = DatadirLoad(\"current(전류)\")\r\n",
        "kimm_op_csv, kimm_no_csv = DatadirLoad(\"kimm(유선진동)\")\r\n",
        "vibration_op_csv, vibration_no_csv = DatadirLoad(\"vibration(무선진동)\")"
      ],
      "execution_count": null,
      "outputs": []
    },
    {
      "cell_type": "code",
      "metadata": {
        "id": "olu5nqOstOXS",
        "colab": {
          "base_uri": "https://localhost:8080/",
          "height": 402
        },
        "outputId": "1fd5ac60-8066-4312-d756-6ef15fe66e35"
      },
      "source": [
        "# reac_csv Test 코드 (정상가동데이터)\r\n",
        "# 경로에 맞춰서 csv 파일 하나만 읽어옴\r\n",
        "tp = '/content/drive/MyDrive/Colab Notebooks/daejeon_data/current(전류)/bearing_11kw_1/1/4.op-csv/STFCB-20201012-0105-0123_20210106_090604_002.csv'\r\n",
        "t_pd = pd.read_csv(tp, header=None,encoding='utf-8-sig',skiprows=range(15))\r\n",
        "t_pd"
      ],
      "execution_count": null,
      "outputs": [
        {
          "output_type": "execute_result",
          "data": {
            "text/html": [
              "<div>\n",
              "<style scoped>\n",
              "    .dataframe tbody tr th:only-of-type {\n",
              "        vertical-align: middle;\n",
              "    }\n",
              "\n",
              "    .dataframe tbody tr th {\n",
              "        vertical-align: top;\n",
              "    }\n",
              "\n",
              "    .dataframe thead th {\n",
              "        text-align: right;\n",
              "    }\n",
              "</style>\n",
              "<table border=\"1\" class=\"dataframe\">\n",
              "  <thead>\n",
              "    <tr style=\"text-align: right;\">\n",
              "      <th></th>\n",
              "      <th>0</th>\n",
              "      <th>1</th>\n",
              "      <th>2</th>\n",
              "      <th>3</th>\n",
              "    </tr>\n",
              "  </thead>\n",
              "  <tbody>\n",
              "    <tr>\n",
              "      <th>0</th>\n",
              "      <td>11.531250</td>\n",
              "      <td>14.293945</td>\n",
              "      <td>25.304688</td>\n",
              "      <td>NaN</td>\n",
              "    </tr>\n",
              "    <tr>\n",
              "      <th>1</th>\n",
              "      <td>7.367188</td>\n",
              "      <td>18.097656</td>\n",
              "      <td>25.224609</td>\n",
              "      <td>NaN</td>\n",
              "    </tr>\n",
              "    <tr>\n",
              "      <th>2</th>\n",
              "      <td>3.443359</td>\n",
              "      <td>21.260742</td>\n",
              "      <td>24.624023</td>\n",
              "      <td>NaN</td>\n",
              "    </tr>\n",
              "    <tr>\n",
              "      <th>3</th>\n",
              "      <td>-1.721680</td>\n",
              "      <td>22.742188</td>\n",
              "      <td>21.340820</td>\n",
              "      <td>NaN</td>\n",
              "    </tr>\n",
              "    <tr>\n",
              "      <th>4</th>\n",
              "      <td>-5.765625</td>\n",
              "      <td>24.704102</td>\n",
              "      <td>19.539062</td>\n",
              "      <td>NaN</td>\n",
              "    </tr>\n",
              "    <tr>\n",
              "      <th>...</th>\n",
              "      <td>...</td>\n",
              "      <td>...</td>\n",
              "      <td>...</td>\n",
              "      <td>...</td>\n",
              "    </tr>\n",
              "    <tr>\n",
              "      <th>5995</th>\n",
              "      <td>21.500977</td>\n",
              "      <td>1.521484</td>\n",
              "      <td>22.021484</td>\n",
              "      <td>NaN</td>\n",
              "    </tr>\n",
              "    <tr>\n",
              "      <th>5996</th>\n",
              "      <td>18.658203</td>\n",
              "      <td>5.605469</td>\n",
              "      <td>23.422852</td>\n",
              "      <td>NaN</td>\n",
              "    </tr>\n",
              "    <tr>\n",
              "      <th>5997</th>\n",
              "      <td>15.094727</td>\n",
              "      <td>10.770508</td>\n",
              "      <td>25.144531</td>\n",
              "      <td>NaN</td>\n",
              "    </tr>\n",
              "    <tr>\n",
              "      <th>5998</th>\n",
              "      <td>9.929688</td>\n",
              "      <td>16.135742</td>\n",
              "      <td>25.625000</td>\n",
              "      <td>NaN</td>\n",
              "    </tr>\n",
              "    <tr>\n",
              "      <th>5999</th>\n",
              "      <td>6.246094</td>\n",
              "      <td>20.019531</td>\n",
              "      <td>26.105469</td>\n",
              "      <td>NaN</td>\n",
              "    </tr>\n",
              "  </tbody>\n",
              "</table>\n",
              "<p>6000 rows × 4 columns</p>\n",
              "</div>"
            ],
            "text/plain": [
              "              0          1          2   3\n",
              "0     11.531250  14.293945  25.304688 NaN\n",
              "1      7.367188  18.097656  25.224609 NaN\n",
              "2      3.443359  21.260742  24.624023 NaN\n",
              "3     -1.721680  22.742188  21.340820 NaN\n",
              "4     -5.765625  24.704102  19.539062 NaN\n",
              "...         ...        ...        ...  ..\n",
              "5995  21.500977   1.521484  22.021484 NaN\n",
              "5996  18.658203   5.605469  23.422852 NaN\n",
              "5997  15.094727  10.770508  25.144531 NaN\n",
              "5998   9.929688  16.135742  25.625000 NaN\n",
              "5999   6.246094  20.019531  26.105469 NaN\n",
              "\n",
              "[6000 rows x 4 columns]"
            ]
          },
          "metadata": {
            "tags": []
          },
          "execution_count": 7
        }
      ]
    },
    {
      "cell_type": "code",
      "metadata": {
        "id": "fnyJh5SMpAWr"
      },
      "source": [
        "# reac_csv Test 코드 (오류데이터)\r\n",
        "tp = '/content/drive/MyDrive/project/daejeon_data/current(전류)/bearing_11kw_1/1/5.no-csv/STFCB-20201012-0105-0123_20210106_093704_002.csv'\r\n",
        "read_csv_dir(tp)"
      ],
      "execution_count": null,
      "outputs": []
    },
    {
      "cell_type": "code",
      "metadata": {
        "id": "3PiQoO2ipGG2"
      },
      "source": [
        "current_dataset = makeDataset(current_op_csv,current_no_csv)\r\n",
        "current_dataset.shape"
      ],
      "execution_count": null,
      "outputs": []
    },
    {
      "cell_type": "code",
      "metadata": {
        "id": "O3DLGrGj3tf_"
      },
      "source": [
        "#확인용, 192 이후 데이터(고장데이터) 레이블(5번째 특성) 값 확인 코드\r\n",
        "pd.DataFrame(current_dataset[:,5,192:]) "
      ],
      "execution_count": null,
      "outputs": []
    },
    {
      "cell_type": "code",
      "metadata": {
        "id": "rKkErTO430vM"
      },
      "source": [
        "kimm_dataset = makeDataset(kimm_op_csv,kimm_no_csv)\r\n",
        "kimm_dataset.shape"
      ],
      "execution_count": null,
      "outputs": []
    },
    {
      "cell_type": "code",
      "metadata": {
        "id": "GInZFIn033Rs"
      },
      "source": [
        "#확인용, 192 이후 데이터(고장데이터) 레이블(3번째 특성) 값 확인 코드\r\n",
        "pd.DataFrame(kimm_dataset[:,3,192:]) "
      ],
      "execution_count": null,
      "outputs": []
    },
    {
      "cell_type": "code",
      "metadata": {
        "id": "gGm8PUh15oZc"
      },
      "source": [
        "vibration_dataset = makeDataset(vibration_op_csv, vibration_no_csv)\r\n",
        "vibration_dataset.shape"
      ],
      "execution_count": null,
      "outputs": []
    },
    {
      "cell_type": "code",
      "metadata": {
        "id": "S2oK702K5qfo"
      },
      "source": [
        "#확인용, 192 이후 데이터(고장데이터) 레이블(3번째 특성) 값 확인 코드\r\n",
        "pd.DataFrame(vibration_dataset[:,3,192:]) "
      ],
      "execution_count": null,
      "outputs": []
    }
  ]
}