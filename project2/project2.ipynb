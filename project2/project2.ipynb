{
  "nbformat": 4,
  "nbformat_minor": 0,
  "metadata": {
    "colab": {
      "name": "project2.ipynb",
      "provenance": [],
      "collapsed_sections": [],
      "mount_file_id": "1niactcmGmfiBV_CD_xff5aWnUB5m_Q7B",
      "authorship_tag": "ABX9TyOOTYGl6ZUL0ZJnOHHeFAyK",
      "include_colab_link": true
    },
    "kernelspec": {
      "name": "python3",
      "display_name": "Python 3"
    }
  },
  "cells": [
    {
      "cell_type": "markdown",
      "metadata": {
        "id": "view-in-github",
        "colab_type": "text"
      },
      "source": [
        "<a href=\"https://colab.research.google.com/github/eunnjji/MultiCampus-EmpAcademy/blob/main/project2/project2.ipynb\" target=\"_parent\"><img src=\"https://colab.research.google.com/assets/colab-badge.svg\" alt=\"Open In Colab\"/></a>"
      ]
    },
    {
      "cell_type": "markdown",
      "metadata": {
        "id": "i60GioVp5UEe"
      },
      "source": [
        "# 6조\r\n",
        "\r\n",
        "- 팀명: SYH : super youth hero\r\n",
        "- 주제: 기계 시설물 분야 AI 학습용 데이터를 활용하여 기계 시설물의 고장 여부 예측 모델 개발\r\n",
        "- 여수진,성은지,홍승표  \r\n",
        "- [참고](https://www.aidatahackathon.com/)\r\n",
        "\r\n",
        "## 절차\r\n",
        "1. 문제 분석  \r\n",
        " 1.1 iris 데이터셋으로 회귀 연습\r\n",
        "2. 데이터분석\r\n",
        "3. 데이터전처리\r\n",
        "4. 트레인, 검증 set 분리\r\n",
        "5. 모델 생성\r\n",
        " "
      ]
    },
    {
      "cell_type": "code",
      "metadata": {
        "id": "hpCfEe1VGESH"
      },
      "source": [
        "# libarary import\r\n",
        "import os\r\n",
        "import numpy as np\r\n",
        "import pandas as pd\r\n",
        "import tensorflow as tf\r\n",
        "from tensorflow import keras\r\n",
        "import sklearn as skl\r\n",
        "\r\n",
        "# seed setting\r\n",
        "np.random.seed(42)\r\n",
        "tf.random.set_seed(42)\r\n",
        "\r\n",
        "BASE_DIR = \"/content/drive/MyDrive/\"\r\n",
        "DATA_DIR = '/content/drive/MyDrive/project/daejeon_data'"
      ],
      "execution_count": 2,
      "outputs": []
    },
    {
      "cell_type": "markdown",
      "metadata": {
        "id": "DdNluuWm9YGy"
      },
      "source": [
        "## 데이터 형태\r\n",
        "csv 파일  \r\n",
        ",(콤마)로 분류된 시계열 데이터  \r\n",
        "+ current Header  \r\n",
        "  - 파일명, 에러 아이디, RPM, 정격전류,\r\n",
        "  - 사용전류, Sample Rate 값, R전류의 RMS (RRMS),\r\n",
        "  - R 전류의 MEAN (RMEAN), R 전류의 MAX (RMAX),\r\n",
        "  - S 전류의 RMS (SRMS), S 전류의 MEAN (SMEAN),\r\n",
        "  - S 전류의 MAX (SMAX), T 전류의 RMS (TRMS),\r\n",
        "  - T 전류의 MEAN (TMEAN), T 전류의 MAX (TMAX)\r\n",
        "+ kimm Header\r\n",
        "  - 파일명, Sample Rate 값, Label, Label_No\r\n",
        "+ vibration Header\r\n",
        "  - 파일명, Sample Rate, Sample Rate, Sample Rate\r\n",
        "\r\n",
        "## 데이터 구조\r\n",
        "\r\n",
        "op-csv : 모터 정상 가동 중 측정한 데이터  \r\n",
        "no-csv : 모터가 해당 고장 레이블인 상태에 측정한 데이터\r\n",
        "\r\n",
        "current(전류 데이터) - __11, 15, 18.5, 2.2, 3.7, 5.5, 7.5__ (단위: kw)  \r\n",
        "kimm(유선진동 데이터) - __11, 15, 18.5, 2.2, 3.7, 5.5, 7.5__ (단위: kw)  \r\n",
        "vibration(무선진동 데이터) - __11, 15, 18.5, 2.2, 3.7, 5.5, 7.5__ (단위: kw)  \r\n",
        "\r\n",
        "|레이블|\r\n",
        "|---|\r\n",
        "|정상|\r\n",
        "|회전체 불평형(unbalance)|\r\n",
        "|베어링 불량(bearing)|\r\n",
        "|벨트 느슨함(belt)|\r\n",
        "|축정렬 불량(misalignment)|\r\n",
        "<br>\r\n",
        "\r\n",
        "전류의 경우 \\[r,s,t전류 값] target(y)는 \\[레이블종류] 특성 \\[kw]  \r\n",
        "유선진동의 경우 \\[] target(y)는 \\[레이블종류] 특성 \\[kw]  \r\n",
        "무선진동의 경우 \\[] target(y)는 \\[레이블종류] 특성 \\[kw]  \r\n",
        "\r\n",
        "target을 원-핫-벡터로\r\n"
      ]
    },
    {
      "cell_type": "markdown",
      "metadata": {
        "id": "r-loxU42oKW7"
      },
      "source": [
        "# 1. 문제 분석\r\n",
        "\r\n",
        "지도 학습 문제, 회귀 문제,   \r\n",
        "다중 레이블 분류 ( 소프트맥스 회귀 )  \r\n",
        "다층 퍼셉트론 이용(예정)\r\n",
        "시계열 데이터 -> RNN ?\r\n"
      ]
    },
    {
      "cell_type": "markdown",
      "metadata": {
        "id": "PeO54eR714UT"
      },
      "source": [
        "# 1.1. Iris Dataset으로 회귀 연습"
      ]
    },
    {
      "cell_type": "code",
      "metadata": {
        "id": "avFxnuOY2Fzh"
      },
      "source": [
        "from sklearn import datasets\r\n",
        "iris = datasets.load_iris()"
      ],
      "execution_count": 3,
      "outputs": []
    },
    {
      "cell_type": "code",
      "metadata": {
        "id": "2Me_i9rnBhj6"
      },
      "source": [
        "# p197,4장 \r\n",
        "type(iris['data']) # numpy.ndarray\r\n",
        "iris['data'].shape # (150, 4) \r\n",
        "X = iris['data'][:,3:] \r\n",
        "y = (iris['target']==2).astype(np.int)"
      ],
      "execution_count": 4,
      "outputs": []
    },
    {
      "cell_type": "code",
      "metadata": {
        "colab": {
          "base_uri": "https://localhost:8080/"
        },
        "id": "oABREOWp_Yfp",
        "outputId": "e3b23c8e-ffa8-4397-8966-27381681ac01"
      },
      "source": [
        "from sklearn.linear_model import LogisticRegression\r\n",
        "# 로지스틱회귀, 이진분류\r\n",
        "log_reg = LogisticRegression(solver=\"lbfgs\")\r\n",
        "log_reg.fit(X,y)"
      ],
      "execution_count": 5,
      "outputs": [
        {
          "output_type": "execute_result",
          "data": {
            "text/plain": [
              "LogisticRegression(C=1.0, class_weight=None, dual=False, fit_intercept=True,\n",
              "                   intercept_scaling=1, l1_ratio=None, max_iter=100,\n",
              "                   multi_class='auto', n_jobs=None, penalty='l2',\n",
              "                   random_state=None, solver='lbfgs', tol=0.0001, verbose=0,\n",
              "                   warm_start=False)"
            ]
          },
          "metadata": {
            "tags": []
          },
          "execution_count": 5
        }
      ]
    },
    {
      "cell_type": "code",
      "metadata": {
        "colab": {
          "base_uri": "https://localhost:8080/"
        },
        "id": "Vt-o3JDMAXtK",
        "outputId": "087e2ece-a299-4eea-edd5-ba58d8bf0cb2"
      },
      "source": [
        "log_reg.predict([[1.7],[1.5]])"
      ],
      "execution_count": 6,
      "outputs": [
        {
          "output_type": "execute_result",
          "data": {
            "text/plain": [
              "array([1, 0])"
            ]
          },
          "metadata": {
            "tags": []
          },
          "execution_count": 6
        }
      ]
    },
    {
      "cell_type": "code",
      "metadata": {
        "colab": {
          "base_uri": "https://localhost:8080/"
        },
        "id": "K2uAIG9VdWaI",
        "outputId": "7d6cbb9c-68d9-4c6b-9cd3-706d441092b5"
      },
      "source": [
        "#소프트맥스회귀, 다중분류\r\n",
        "X = iris[\"data\"][:, (2, 3)]  # petal length, petal width 꽃잎 길이, 너비\r\n",
        "y = iris[\"target\"]\r\n",
        "softmax_reg = LogisticRegression(multi_class=\"multinomial\",solver=\"lbfgs\", C=10, random_state=42)\r\n",
        "softmax_reg.fit(X, y)"
      ],
      "execution_count": 7,
      "outputs": [
        {
          "output_type": "execute_result",
          "data": {
            "text/plain": [
              "LogisticRegression(C=10, class_weight=None, dual=False, fit_intercept=True,\n",
              "                   intercept_scaling=1, l1_ratio=None, max_iter=100,\n",
              "                   multi_class='multinomial', n_jobs=None, penalty='l2',\n",
              "                   random_state=42, solver='lbfgs', tol=0.0001, verbose=0,\n",
              "                   warm_start=False)"
            ]
          },
          "metadata": {
            "tags": []
          },
          "execution_count": 7
        }
      ]
    },
    {
      "cell_type": "code",
      "metadata": {
        "colab": {
          "base_uri": "https://localhost:8080/"
        },
        "id": "FGh2BHz5dcZL",
        "outputId": "b9fcdc73-54b3-4ab3-ed9a-b56230348615"
      },
      "source": [
        "softmax_reg.predict([[5, 2]]) # 꽃잎의 길이가 5, 꽃잎 너비가 2cm인 꽃 -> 클래스 2라고 예측"
      ],
      "execution_count": 8,
      "outputs": [
        {
          "output_type": "execute_result",
          "data": {
            "text/plain": [
              "array([2])"
            ]
          },
          "metadata": {
            "tags": []
          },
          "execution_count": 8
        }
      ]
    },
    {
      "cell_type": "code",
      "metadata": {
        "colab": {
          "base_uri": "https://localhost:8080/"
        },
        "id": "i5hsGdih5AZv",
        "outputId": "01216085-08ed-4cf8-a0df-57fa533768d2"
      },
      "source": [
        "#서포트벡터머신 \r\n",
        "from sklearn.pipeline import Pipeline\r\n",
        "from sklearn.preprocessing import StandardScaler\r\n",
        "from sklearn.svm import LinearSVC\r\n",
        "X = iris[\"data\"][:, (2, 3)]\r\n",
        "y = (iris[\"target\"] == 2).astype(np.float64) # feature scailing 필요\r\n",
        "svm_clf = Pipeline([\r\n",
        "                    (\"scaler\", StandardScaler()),\r\n",
        "                    (\"linear_svc\", LinearSVC(C=1,loss='hinge'))\r\n",
        "])\r\n",
        "svm_clf.fit(X,y)\r\n",
        "svm_clf.predict([[5, 2]])"
      ],
      "execution_count": 9,
      "outputs": [
        {
          "output_type": "execute_result",
          "data": {
            "text/plain": [
              "array([1.])"
            ]
          },
          "metadata": {
            "tags": []
          },
          "execution_count": 9
        }
      ]
    },
    {
      "cell_type": "code",
      "metadata": {
        "id": "eqXxuRwGC90I"
      },
      "source": [
        "from sklearn.svm import SVC\r\n",
        "\r\n",
        "from sklearn.linear_model import SGDClassifier\r\n",
        "svm_clf2 = Pipeline([\r\n",
        "                    (\"scaler\", StandardScaler()),\r\n",
        "                    (\"SVC\", SVC(kernel='hinge',C=1))\r\n",
        "])"
      ],
      "execution_count": 10,
      "outputs": []
    },
    {
      "cell_type": "code",
      "metadata": {
        "id": "_-O8AfpQtvD2"
      },
      "source": [
        "svm_clf3 = Pipeline([\r\n",
        "                    (\"scaler\", StandardScaler()),\r\n",
        "                    # (\"sgd_clf\", SGDClassifier(loss='hinge',alpha= )\r\n",
        "])"
      ],
      "execution_count": null,
      "outputs": []
    },
    {
      "cell_type": "code",
      "metadata": {
        "id": "pqL0BZREESSP"
      },
      "source": [
        "#결정트리\r\n"
      ],
      "execution_count": null,
      "outputs": []
    },
    {
      "cell_type": "code",
      "metadata": {
        "id": "8DnY0fNAGWgX"
      },
      "source": [
        "#랜덤포레스트"
      ],
      "execution_count": null,
      "outputs": []
    },
    {
      "cell_type": "code",
      "metadata": {
        "id": "VNvBbSj0EV55"
      },
      "source": [
        "#투표기반 분류"
      ],
      "execution_count": 43,
      "outputs": []
    },
    {
      "cell_type": "code",
      "metadata": {
        "id": "BeL_DVG3GKL0"
      },
      "source": [
        "#앙상블"
      ],
      "execution_count": 44,
      "outputs": []
    },
    {
      "cell_type": "code",
      "metadata": {
        "id": "retEW2aFGOBn"
      },
      "source": [
        ""
      ],
      "execution_count": null,
      "outputs": []
    },
    {
      "cell_type": "markdown",
      "metadata": {
        "id": "Y4H9tfmE7veZ"
      },
      "source": [
        "# 2. 데이터 분석\r\n"
      ]
    },
    {
      "cell_type": "code",
      "metadata": {
        "id": "0aoWq04eDjYj"
      },
      "source": [
        "# !unzip -uq \"/content/drive/MyDrive/경진대회_data.zip\" -d \"압축 푼 파일 저장할 경로\""
      ],
      "execution_count": null,
      "outputs": []
    },
    {
      "cell_type": "markdown",
      "metadata": {
        "id": "tSzMZFb99LZO"
      },
      "source": [
        ",로 구분된 csv 파일 형태로 데이터 가져오기"
      ]
    },
    {
      "cell_type": "code",
      "metadata": {
        "colab": {
          "base_uri": "https://localhost:8080/",
          "height": 35
        },
        "id": "lSJOgXPasvZg",
        "outputId": "8c41cf0a-360c-4928-8bf8-4c7f33f07d90"
      },
      "source": [
        "%cd '/content/drive/MyDrive'\r\n",
        "os.getcwd()"
      ],
      "execution_count": null,
      "outputs": [
        {
          "output_type": "execute_result",
          "data": {
            "application/vnd.google.colaboratory.intrinsic+json": {
              "type": "string"
            },
            "text/plain": [
              "'/content/drive/My Drive'"
            ]
          },
          "metadata": {
            "tags": []
          },
          "execution_count": 6
        }
      ]
    },
    {
      "cell_type": "code",
      "metadata": {
        "id": "AD_lzjH94kSc"
      },
      "source": [
        "classSet = (\"bearing\", \"belt\", \"misalignment\", \"unbalance\")\r\n",
        "\r\n",
        "def DatadirLoad(dirname):\r\n",
        "    csv_op_dict = {}\r\n",
        "    csv_no_dict = {}\r\n",
        "    # 'label': str? list[float]?\r\n",
        "    # 'data' : [ { }  ]\r\n",
        "\r\n",
        "    dirpath = os.path.join(DATA_DIR,dirname)\r\n",
        "    if os.path.isdir(dirpath):\r\n",
        "        for d in os.listdir(dirpath):\r\n",
        "            d_path = dirpath+'/'+d\r\n",
        "            if os.path.isdir(d_path):\r\n",
        "                Error_Class_Lable,kw_Name,*_ = d.split('_')\r\n",
        "                print(Error_Class_Lable,kw_Name)\r\n",
        "                data_dir_list = [ x for x in os.listdir(d_path) if len(x)<2]\r\n",
        "                data_dir_list.sort()\r\n",
        "                print(data_dir_list)\r\n",
        "                if len(data_dir_list) > 0:\r\n",
        "                    for d2 in data_dir_list:\r\n",
        "                        d2_path = os.path.join(d_path,d2)\r\n",
        "                        # op-csv file\r\n",
        "                        d2_op_path = os.path.join(d2_path,'4.op-csv')\r\n",
        "                        d2_op_data = [x for x in os.listdir(d2_op_path) if x.endswith('.csv')]\r\n",
        "                        csv_op_dict[Error_Class_Lable].append(list((d2_op_data[0],kw_Name)))\r\n",
        "                        op_csv_path = os.path.join(d2_op_path,d2_op_data[0])\r\n",
        "                        if os.path.isfile(op_csv_path):\r\n",
        "                            # csv_op_list.append(pd.read_csv(op_csv_path,sep=',').) # error\r\n",
        "                            print('open save')\r\n",
        "\r\n",
        "                        # no-csv file\r\n",
        "                        d2_no_path = os.path.join(d2_path,'5.no-csv')\r\n",
        "                        d2_no_data = [x for x in os.listdir(d2_no_path) if x.endswith('.csv')]\r\n",
        "                        csv_no_dict[Error_Class_Lable].append(list((d2_no_data,kw_Name)))\r\n",
        "                \r\n",
        "\r\n",
        "    return csv_op_dict, csv_no_dict"
      ],
      "execution_count": null,
      "outputs": []
    },
    {
      "cell_type": "code",
      "metadata": {
        "id": "HJMmiTCkFdh8"
      },
      "source": [
        "current_op_csv,current_no_csv = DataLoad(\"current(전류)\")\r\n",
        "for k,v in current_op_csv.items():\r\n",
        "    print(k)\r\n",
        "    print(len(v))\r\n",
        "    # for vi in v:\r\n",
        "    #     print(vi)\r\n",
        "for k,v in current_no_csv.items():\r\n",
        "    print(k)\r\n",
        "    print(len(v))  "
      ],
      "execution_count": null,
      "outputs": []
    },
    {
      "cell_type": "code",
      "metadata": {
        "id": "7xmviTU7xRkE"
      },
      "source": [
        "kimm_op_csv, kimm_no_csv = DataLoad(\"kimm(유선진동)\")\r\n",
        "for k,v in kimm_op_csv.items():\r\n",
        "    print(k)\r\n",
        "    print(len(v))\r\n",
        "    # for vi in v:\r\n",
        "        # print(vi)\r\n",
        "for k,v in kimm_no_csv.items():\r\n",
        "    print(k)\r\n",
        "    print(len(v))  "
      ],
      "execution_count": null,
      "outputs": []
    },
    {
      "cell_type": "code",
      "metadata": {
        "id": "FzdXVIcMEcxz"
      },
      "source": [
        "vibration_op_csv, vibration_no_csv = DataLoad(\"vibration(무선진동)\")\r\n",
        "for k,v in vibration_op_csv.items():\r\n",
        "    print(k)\r\n",
        "    print(len(v))\r\n",
        "    # for vi in v:\r\n",
        "        # print(vi)\r\n",
        "for k,v in vibration_no_csv.items():\r\n",
        "    print(k)\r\n",
        "    print(len(v))  "
      ],
      "execution_count": null,
      "outputs": []
    }
  ]
}