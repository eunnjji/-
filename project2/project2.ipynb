{
  "nbformat": 4,
  "nbformat_minor": 0,
  "metadata": {
    "colab": {
      "name": "project2.ipynb",
      "provenance": [],
      "collapsed_sections": [
        "GWTozOVOHa2Z",
        "IBGggk9B3l0T",
        "qCIocme8ySOO",
        "vuAjM1YZ5iay",
        "CzVq0u2u6P2X",
        "VVKf7Jmn9lfF",
        "_ntjxIkIGmPJ",
        "A9dehslk7B8A",
        "iG79WtQh7HjX",
        "T8MkdXmPbzO4"
      ],
      "include_colab_link": true
    },
    "kernelspec": {
      "name": "python3",
      "display_name": "Python 3"
    }
  },
  "cells": [
    {
      "cell_type": "markdown",
      "metadata": {
        "id": "view-in-github",
        "colab_type": "text"
      },
      "source": [
        "<a href=\"https://colab.research.google.com/github/eunnjji/MultiCampus-EmpAcademy/blob/main/project2/project2.ipynb\" target=\"_parent\"><img src=\"https://colab.research.google.com/assets/colab-badge.svg\" alt=\"Open In Colab\"/></a>"
      ]
    },
    {
      "cell_type": "markdown",
      "metadata": {
        "id": "i60GioVp5UEe"
      },
      "source": [
        "# 6조\r\n",
        "\r\n",
        "- 팀명: SYH : super youth hero\r\n",
        "- 주제: 기계 시설물 분야 AI 학습용 데이터를 활용하여 기계 시설물의 고장 여부 예측 모델 개발\r\n",
        "- 여수진,성은지,홍승표,문지수\r\n",
        "- [참고](https://www.aidatahackathon.com/)\r\n",
        "\r\n",
        "## 절차\r\n",
        "1. 문제 분석  \r\n",
        "2. 데이터 정제\r\n",
        "3. 모델 생성\r\n",
        "4. 모델 평가 - k겹 교차 검증이나 등등..\r\n",
        "5. 모델 튜닝 - 그리드 탐색이나 랜덤 탐색, 앙상블 등\r\n",
        "6. 최상의 모델과 오차 분석\r\n",
        "7. 테스트 세트로 평가하기\r\n",
        " "
      ]
    },
    {
      "cell_type": "code",
      "metadata": {
        "id": "hpCfEe1VGESH"
      },
      "source": [
        "# libarary import\r\n",
        "import os\r\n",
        "import numpy as np\r\n",
        "import pandas as pd\r\n",
        "import tensorflow as tf\r\n",
        "from tensorflow import keras\r\n",
        "import sklearn as skl\r\n",
        "\r\n",
        "# seed setting\r\n",
        "np.random.seed(42)\r\n",
        "tf.random.set_seed(42)\r\n",
        "\r\n",
        "BASE_DIR = \"/content/drive/MyDrive/\"\r\n",
        "DATA_DIR = '/content/drive/MyDrive/Colab Notebooks/daejeon_data'"
      ],
      "execution_count": null,
      "outputs": []
    },
    {
      "cell_type": "code",
      "metadata": {
        "colab": {
          "base_uri": "https://localhost:8080/"
        },
        "id": "fCgHkGZvzOTw",
        "outputId": "748add5e-312b-4f8b-8587-38e8b41b1c3e"
      },
      "source": [
        "from google.colab import drive\n",
        "drive.mount('/content/drive')"
      ],
      "execution_count": null,
      "outputs": [
        {
          "output_type": "stream",
          "text": [
            "Drive already mounted at /content/drive; to attempt to forcibly remount, call drive.mount(\"/content/drive\", force_remount=True).\n"
          ],
          "name": "stdout"
        }
      ]
    },
    {
      "cell_type": "markdown",
      "metadata": {
        "id": "DdNluuWm9YGy"
      },
      "source": [
        "## 데이터 형태\r\n",
        "csv 파일  \r\n",
        ",(콤마)로 분류된 시계열 데이터  \r\n",
        "+ current Header  \r\n",
        "  - 파일명, 에러 아이디, RPM, 정격전류,\r\n",
        "  - 사용전류, Sample Rate 값, R전류의 RMS (RRMS),\r\n",
        "  - R 전류의 MEAN (RMEAN), R 전류의 MAX (RMAX),\r\n",
        "  - S 전류의 RMS (SRMS), S 전류의 MEAN (SMEAN),\r\n",
        "  - S 전류의 MAX (SMAX), T 전류의 RMS (TRMS),\r\n",
        "  - T 전류의 MEAN (TMEAN), T 전류의 MAX (TMAX)\r\n",
        "+ kimm Header\r\n",
        "  - 파일명, Sample Rate 값, Label, Label_No\r\n",
        "+ vibration Header\r\n",
        "  - 파일명, Sample Rate, Sample Rate, Sample Rate\r\n",
        "\r\n",
        "## 데이터 구조\r\n",
        "\r\n",
        "op-csv : 모터 정상 가동 중 측정한 데이터  \r\n",
        "no-csv : 모터가 해당 고장 레이블인 상태에 측정한 데이터\r\n",
        "\r\n",
        "current(전류 데이터) - __11, 15, 18.5, 2.2, 3.7, 5.5, 7.5__ (단위: kw)  \r\n",
        "kimm(유선진동 데이터) - __11, 15, 18.5, 2.2, 3.7, 5.5, 7.5__ (단위: kw)  \r\n",
        "vibration(무선진동 데이터) - __11, 15, 18.5, 2.2, 3.7, 5.5, 7.5__ (단위: kw)  \r\n",
        "\r\n",
        "|레이블|\r\n",
        "|---|\r\n",
        "|정상|\r\n",
        "|회전체 불평형(unbalance)|\r\n",
        "|베어링 불량(bearing)|\r\n",
        "|벨트 느슨함(belt)|\r\n",
        "|축정렬 불량(misalignment)|\r\n",
        "<br>\r\n",
        "\r\n",
        "전류의 경우 \\[r,s,t전류 값] target(y)는 \\[레이블종류] 특성 \\[kw]  \r\n",
        "유선진동의 경우 \\[] target(y)는 \\[레이블종류] 특성 \\[kw]  \r\n",
        "무선진동의 경우 \\[] target(y)는 \\[레이블종류] 특성 \\[kw]  \r\n",
        "\r\n",
        "target을 원-핫-벡터로\r\n"
      ]
    },
    {
      "cell_type": "markdown",
      "metadata": {
        "id": "r-loxU42oKW7"
      },
      "source": [
        "# 1. 문제 분석\r\n",
        "\r\n",
        "지도 학습 문제, 회귀 문제,   \r\n",
        "다중 분류 ( 소프트맥스 회귀? ) (예측 결과는 레이블 하나에 해당하도록 나와야 함)  \r\n",
        "다층 퍼셉트론 이용(예정)\r\n",
        "시계열 데이터 -> RNN ?\r\n"
      ]
    },
    {
      "cell_type": "markdown",
      "metadata": {
        "id": "Y4H9tfmE7veZ"
      },
      "source": [
        "# 2. 데이터 정제 및 분석\r\n"
      ]
    },
    {
      "cell_type": "code",
      "metadata": {
        "id": "0aoWq04eDjYj"
      },
      "source": [
        "# !unzip -uq \"/content/drive/MyDrive/경진대회_data.zip\" -d \"압축 푼 파일 저장할 경로\""
      ],
      "execution_count": null,
      "outputs": []
    },
    {
      "cell_type": "markdown",
      "metadata": {
        "id": "tSzMZFb99LZO"
      },
      "source": [
        ",로 구분된 csv 파일 형태로 데이터 가져오기"
      ]
    },
    {
      "cell_type": "code",
      "metadata": {
        "colab": {
          "base_uri": "https://localhost:8080/",
          "height": 53
        },
        "id": "lSJOgXPasvZg",
        "outputId": "245347ca-97f3-4acd-95c9-6c498f4f4e8e"
      },
      "source": [
        "%cd '/content/drive/MyDrive'\r\n",
        "os.getcwd()"
      ],
      "execution_count": null,
      "outputs": [
        {
          "output_type": "stream",
          "text": [
            "/content/drive/MyDrive\n"
          ],
          "name": "stdout"
        },
        {
          "output_type": "execute_result",
          "data": {
            "application/vnd.google.colaboratory.intrinsic+json": {
              "type": "string"
            },
            "text/plain": [
              "'/content/drive/MyDrive'"
            ]
          },
          "metadata": {
            "tags": []
          },
          "execution_count": 26
        }
      ]
    },
    {
      "cell_type": "code",
      "metadata": {
        "id": "AD_lzjH94kSc"
      },
      "source": [
        "import pickle\r\n",
        "classSet = (\"bearing\", \"belt\", \"misalignment\", \"unbalance\")\r\n",
        "\r\n",
        "def DatadirLoad(dirname):\r\n",
        "    csv_op_dict = {classSet[0]:[], classSet[1]:[], classSet[2]:[],classSet[3]:[]}\r\n",
        "    csv_no_dict = {classSet[0]:[], classSet[1]:[], classSet[2]:[],classSet[3]:[]}\r\n",
        "\r\n",
        "    Save_op_Name, Save_no_Name = 'Data_op_dir.pickle','Data_no_dir.pickle'\r\n",
        "    Save_op_path = os.path.join(BASE_DIR,Save_op_Name)\r\n",
        "    Save_no_path = os.path.join(BASE_DIR,Save_no_Name)\r\n",
        "\r\n",
        "    if os.path.isdir(Save_op_path):\r\n",
        "        with open(Save_op_path, 'rb') as fr:\r\n",
        "            csv_op_dict = picle.load(fr)\r\n",
        "    if os.path.isdir(Save_no_path):\r\n",
        "        with open(Save_no_path, 'rb') as fr:\r\n",
        "            csv_no_dict = picle.load(fr)\r\n",
        "        return csv_op_dict,csv_no_dict\r\n",
        "\r\n",
        "    dirpath = os.path.join(DATA_DIR,dirname)\r\n",
        "    if os.path.isdir(dirpath):\r\n",
        "        for d in os.listdir(dirpath):\r\n",
        "            d_path = dirpath+'/'+d\r\n",
        "            if os.path.isdir(d_path):\r\n",
        "                Error_Class_Lable,kw_Name,*_ = d.split('_')\r\n",
        "                print(Error_Class_Lable,kw_Name)\r\n",
        "                data_dir_list = [ x for x in os.listdir(d_path) if len(x)<2]\r\n",
        "                data_dir_list.sort()\r\n",
        "                #print(data_dir_list)\r\n",
        "                if len(data_dir_list) > 0:\r\n",
        "                    for d2 in data_dir_list:\r\n",
        "                        d2_path = os.path.join(d_path,d2)\r\n",
        "\r\n",
        "                        # op-csv file # 정상 작동\r\n",
        "                        d2_op_path = os.path.join(d2_path,'4.op-csv')\r\n",
        "                        d2_op_data = [x for x in os.listdir(d2_op_path) if x.endswith('.csv')]\r\n",
        "                        op_csv_path = os.path.join(d2_op_path,d2_op_data[0])\r\n",
        "                        csv_op_dict[Error_Class_Lable].append(op_csv_path)\r\n",
        "                        with open(Save_op_path,'wb') as fw:\r\n",
        "                            pickle.dump(csv_op_dict,fw)\r\n",
        "                        # no-csv file # 고장 발생\r\n",
        "                        d2_no_path = os.path.join(d2_path,'5.no-csv')\r\n",
        "                        d2_no_data = [x for x in os.listdir(d2_no_path) if x.endswith('.csv')]\r\n",
        "                        no_csv_path = os.path.join(d2_no_path,d2_no_data[0])\r\n",
        "                        csv_no_dict[Error_Class_Lable].append(no_csv_path)\r\n",
        "                        with open(Save_no_path,'wb') as fw:\r\n",
        "                            pickle.dump(csv_no_dict,fw)\r\n",
        "\r\n",
        "    return csv_op_dict, csv_no_dict"
      ],
      "execution_count": null,
      "outputs": []
    },
    {
      "cell_type": "code",
      "metadata": {
        "id": "1bPQN0ppuMVn"
      },
      "source": [
        "class_name = {'bearing':0, 'belt':1, 'misalignment':2, 'normal':3, 'unbalance':4}"
      ],
      "execution_count": null,
      "outputs": []
    },
    {
      "cell_type": "code",
      "metadata": {
        "id": "z7ttHo0ItD4v"
      },
      "source": [
        "def read_csv_dir(path, max_row_size):\r\n",
        "    t_pd = None\r\n",
        "    update_row_size = max_row_size\r\n",
        "    y = None\r\n",
        "    if os.path.isfile(path):\r\n",
        "        data_Name = os.path.basename(path)\r\n",
        "        dir_name,Ekw,dir_num,opno  = os.path.dirname(path).split('/')[6:]\r\n",
        "        Error_Class_Lable,kw_Name,*_ = Ekw.split('_')      \r\n",
        "        opno = 0 if opno[0] == '4' else 1\r\n",
        "        # 정상 : False(0), 고장 : True(1)\r\n",
        "\r\n",
        "        if dir_name[0] == 'c': #current(전류)\r\n",
        "            t_pd = pd.read_csv(path, header=None,encoding='utf-8-sig',skiprows=range(15))\r\n",
        "            t_pd.drop(3, axis=1, inplace=True)\r\n",
        "            t_pd['Motor'] = float(kw_Name[:-2])\r\n",
        "            # t_pd['target'] = Error_Class_Lable if opno == 1 else 'normal'\r\n",
        "            t_pd['target'] = class_name[Error_Class_Lable] if opno == 1 else class_name['normal']\r\n",
        "            y = t_pd['target']\r\n",
        "            t_pd.drop(['target'], axis=1, inplace=True)\r\n",
        "\r\n",
        "        elif dir_name[0] == 'k': # kimm(유선진동)\r\n",
        "            t_pd = pd.read_csv(path, header=None,encoding='utf-8-sig',skiprows=range(4))\r\n",
        "            t_pd.drop(1, axis=1, inplace=True)\r\n",
        "            t_pd['Motor'] = float(kw_Name[:-2])\r\n",
        "            t_pd['target'] = class_name[Error_Class_Lable] if opno == 1 else class_name['normal']\r\n",
        "            y = t_pd['target']\r\n",
        "            t_pd.drop(['target'], axis=1, inplace=True)\r\n",
        "\r\n",
        "        elif dir_name[0] == 'v': #vibration(무선진동)\r\n",
        "            t_pd = pd.read_csv(path, header=None,encoding='utf-8-sig',skiprows=range(4))\r\n",
        "            t_pd.drop(1, axis=1, inplace=True)\r\n",
        "            t_pd['Motor'] = float(kw_Name[:-2])\r\n",
        "            t_pd['target'] = class_name[Error_Class_Lable] if opno == 1 else class_name['normal']\r\n",
        "            y = t_pd['target']\r\n",
        "            t_pd.drop(['target'], axis=1, inplace=True)\r\n",
        "            if (t_pd.values.shape[0]) > max_row_size:\r\n",
        "                update_row_size = t_pd.values.shape[0]\r\n",
        "            elif (t_pd.values.shape[0]) < max_row_size:\r\n",
        "                update_row_size = 6000\r\n",
        "                tmp = np.zeros((int(update_row_size - t_pd.values.shape[0]),int(t_pd.values.shape[1])))\r\n",
        "                y_tmp = np.zeros(y.values.shape)\r\n",
        "                new_t = np.vstack([t_pd.values,tmp])\r\n",
        "                new_y = np.append(y,y_tmp,axis=0)\r\n",
        "                return new_t.tolist(), update_row_size, new_y.tolist()\r\n",
        "\r\n",
        "        else: \r\n",
        "            print('error')\r\n",
        "            print('dir_category : {}, lable : {}, op: {}'.format(dir_name, Error_Class_Lable,opno))\r\n",
        "            return 0\r\n",
        "    return t_pd.values.tolist(), update_row_size, y.values.tolist()\r\n",
        "    "
      ],
      "execution_count": null,
      "outputs": []
    },
    {
      "cell_type": "code",
      "metadata": {
        "id": "nBk-UwMmo1v8"
      },
      "source": [
        "# dataset 생성\r\n",
        "def makeDataset(op_dict, no_dict, category_num, shape_op = 0):\r\n",
        "    \"\"\"\r\n",
        "    input: 정상data의 path list, 오류 data의 path list\r\n",
        "    output: numpy의 ndarray 타입 형태로 dataset 반환\r\n",
        "    category_num:\r\n",
        "    0은 current 데이터\r\n",
        "    1은 유선 진동 데이터 \r\n",
        "    2는 무선 진동 데이터 \r\n",
        "    shape_op :\r\n",
        "     0이면 (38200, 60 , 5(특성 수)) 형태, \r\n",
        "     1이면 (38200(data개수 * row/60한 값), 5(특성 수), 60)\r\n",
        "    \"\"\"\r\n",
        "    tmp = []\r\n",
        "    max_row_size = 0\r\n",
        "    y_tmp = []\r\n",
        "    Y = None\r\n",
        "\r\n",
        "    category_name = None\r\n",
        "    if category_num == 0:\r\n",
        "        category_name = 'current'\r\n",
        "    elif category_num == 1:\r\n",
        "        category_name = 'kimm'\r\n",
        "    else:category_name = 'vibration'\r\n",
        "\r\n",
        "    save_x_Name, save_y_Name = category_name+'_x.pickle',category_name+'_y.pickle'\r\n",
        "    save_x_path = os.path.join(BASE_DIR,save_x_Name)\r\n",
        "    save_y_path = os.path.join(BASE_DIR,save_y_Name)\r\n",
        "\r\n",
        "    # if os.path.isdir(load_x_path):\r\n",
        "    #     with open(load_x_path, 'rb') as fr:\r\n",
        "    #         X = picle.load(fr)\r\n",
        "    # if os.path.isdir(load_y_path):\r\n",
        "    #     with open(load_y_path, 'rb') as fr:\r\n",
        "    #         y = picle.load(fr)\r\n",
        "    #     return X,y \r\n",
        "\r\n",
        "    for k,v in op_dict.items():\r\n",
        "        for p in v:\r\n",
        "            data, max, y = read_csv_dir(p, max_row_size)\r\n",
        "            tmp.append(data)\r\n",
        "            y_tmp.append(y)\r\n",
        "            max_row_size = max\r\n",
        "    for k,v in no_dict.items():\r\n",
        "        for p in v:\r\n",
        "            data, max, y = read_csv_dir(p, max_row_size)\r\n",
        "            tmp.append(data)\r\n",
        "            y_tmp.append(y)\r\n",
        "            max_row_size = max\r\n",
        "    \r\n",
        "    if shape_op == 0:\r\n",
        "        dataset = np.stack(tmp)\r\n",
        "        feature_num = 4 if category_num == 0 else 2\r\n",
        "        Y = np.stack(y_tmp)\r\n",
        "        shape = (-1,60,feature_num) \r\n",
        "        y_shape = (-1,60)\r\n",
        "\r\n",
        "    else:\r\n",
        "        dataset = np.stack(tmp,axis=2)\r\n",
        "        feature_num = 4 if category_num == 0 else 2\r\n",
        "        dataset = dataset.reshape((-1,feature_num,60)).copy()\r\n",
        "        Y = np.stack(y_tmp)\r\n",
        "        Y = Y.reshape((-1,60)).copy()\r\n",
        "        shape = (-1,feature_num,60)\r\n",
        "        y_shape = (-1,60)\r\n",
        "    with open(save_x_path,'wb') as fw:\r\n",
        "        pickle.dump(dataset.reshape(shape),fw)\r\n",
        "    with open(save_y_path,'wb') as fw:\r\n",
        "        pickle.dump(Y.reshape(y_shape),fw)\r\n",
        "\r\n",
        "    return  dataset.reshape(shape), Y.reshape(y_shape)"
      ],
      "execution_count": null,
      "outputs": []
    },
    {
      "cell_type": "code",
      "metadata": {
        "id": "CTGa3eMledxC"
      },
      "source": [
        "def load_dataset(category_num=0):\r\n",
        "    \"\"\"\r\n",
        "    0: current dataset\r\n",
        "    1: kimm dataset\r\n",
        "    2: vibration dataset\r\n",
        "    \"\"\"\r\n",
        "    category_name = None\r\n",
        "    if category_num == 0:\r\n",
        "        category_name = 'current'\r\n",
        "    elif category_num == 1:\r\n",
        "        category_name = 'kimm'\r\n",
        "    else:category_name = 'vibration'\r\n",
        "\r\n",
        "    load_x_Name, load_y_Name = category_name+'_x.pickle',category_name+'_y.pickle'\r\n",
        "    load_x_path = os.path.join(BASE_DIR,load_x_Name) #ex. /content/drive/MyDrive/current_x.pickle\r\n",
        "    load_y_path = os.path.join(BASE_DIR,load_y_Name) \r\n",
        "\r\n",
        "    if os.path.isfile(load_x_path):\r\n",
        "        print('exist')\r\n",
        "        with open(load_x_path, 'rb') as fr:\r\n",
        "            X = pickle.load(fr)\r\n",
        "        if os.path.isfile(load_y_path):\r\n",
        "            print('exist')\r\n",
        "            with open(load_y_path, 'rb') as fr:\r\n",
        "                y = pickle.load(fr)\r\n",
        "            return X,y\r\n",
        "    else:\r\n",
        "        print('not exist')\r\n",
        "        if category_num == 0:\r\n",
        "            current_op_csv,current_no_csv = DatadirLoad(\"current(전류)\")\r\n",
        "            current_x , current_y = makeDataset(current_op_csv,current_no_csv,0,shape_op=0)\r\n",
        "            return current_x,current_y\r\n",
        "        elif category_num == 1:\r\n",
        "            kimm_op_csv, kimm_no_csv = DatadirLoad(\"kimm(유선진동)\")\r\n",
        "            kimm_x, kimm_y = makeDataset(kimm_op_csv,kimm_no_csv, 1)\r\n",
        "            return kimm_x,kimm_y\r\n",
        "        else:\r\n",
        "            vibration_op_csv, vibration_no_csv = DatadirLoad(\"vibration(무선진동)\")\r\n",
        "            vibration_x, vibration_y = makeDataset(vibration_op_csv, vibration_no_csv,2)\r\n",
        "            return vibration_x, vibration_y\r\n"
      ],
      "execution_count": null,
      "outputs": []
    },
    {
      "cell_type": "code",
      "metadata": {
        "id": "HJMmiTCkFdh8"
      },
      "source": [
        "# current_op_csv,current_no_csv = DatadirLoad(\"current(전류)\")\r\n",
        "# kimm_op_csv, kimm_no_csv = DatadirLoad(\"kimm(유선진동)\")\r\n",
        "# vibration_op_csv, vibration_no_csv = DatadirLoad(\"vibration(무선진동)\")"
      ],
      "execution_count": null,
      "outputs": []
    },
    {
      "cell_type": "code",
      "metadata": {
        "id": "JQ3yWM5Zeju8"
      },
      "source": [
        "current_x,current_y = load_dataset(0) # current\r\n",
        "kimm_x,kimm_y = load_dataset(1) # kimm\r\n",
        "vibration_x, vibration_y = load_dataset(2) # vibr"
      ],
      "execution_count": null,
      "outputs": []
    },
    {
      "cell_type": "code",
      "metadata": {
        "id": "058cMn3W639E"
      },
      "source": [
        "pred_name = ['bearing', 'belt', 'misalignment','normal', 'unbalance']"
      ],
      "execution_count": null,
      "outputs": []
    },
    {
      "cell_type": "code",
      "metadata": {
        "id": "Y1JZ_m39yRT8"
      },
      "source": [
        "from sklearn.model_selection import train_test_split"
      ],
      "execution_count": null,
      "outputs": []
    },
    {
      "cell_type": "markdown",
      "metadata": {
        "id": "WI78op36yyle"
      },
      "source": [
        "# 전류 데이터"
      ]
    },
    {
      "cell_type": "code",
      "metadata": {
        "id": "-S3t3_mrtEYd"
      },
      "source": [
        "X_train, X_test, y_train, y_test = train_test_split(current_x,current_y[:,0],train_size = 0.6, random_state=42)\r\n",
        "X_test, X_valid, y_test, y_valid = train_test_split(X_test, y_test, test_size = 0.5, random_state=42)"
      ],
      "execution_count": null,
      "outputs": []
    },
    {
      "cell_type": "code",
      "metadata": {
        "colab": {
          "base_uri": "https://localhost:8080/"
        },
        "id": "APMpDh4Apr4J",
        "outputId": "9ed6ef96-72ac-4684-a476-a636367ea116"
      },
      "source": [
        "X_train.shape, y_train.shape"
      ],
      "execution_count": null,
      "outputs": [
        {
          "output_type": "execute_result",
          "data": {
            "text/plain": [
              "((22920, 60, 4), (22920,))"
            ]
          },
          "metadata": {
            "tags": []
          },
          "execution_count": 17
        }
      ]
    },
    {
      "cell_type": "markdown",
      "metadata": {
        "id": "GWTozOVOHa2Z"
      },
      "source": [
        "## 일반적인 다층 퍼셉트론(MLP)"
      ]
    },
    {
      "cell_type": "code",
      "metadata": {
        "id": "-RlbRaw7B9N3"
      },
      "source": [
        "model = keras.models.Sequential()\r\n",
        "model.add(keras.layers.Flatten(input_shape=[60, 4]))\r\n",
        "model.add(keras.layers.Dense(300, activation=\"relu\"))\r\n",
        "model.add(keras.layers.Dense(100, activation=\"relu\"))\r\n",
        "model.add(keras.layers.Dense(5, activation=\"softmax\")) "
      ],
      "execution_count": null,
      "outputs": []
    },
    {
      "cell_type": "code",
      "metadata": {
        "id": "h9qqFM43B9k_"
      },
      "source": [
        "model.summary()"
      ],
      "execution_count": null,
      "outputs": []
    },
    {
      "cell_type": "code",
      "metadata": {
        "id": "bg-BJ0qFB_TL"
      },
      "source": [
        "model.compile(loss=\"sparse_categorical_crossentropy\",\r\n",
        "              optimizer=\"sgd\",\r\n",
        "              metrics=[\"accuracy\"])"
      ],
      "execution_count": null,
      "outputs": []
    },
    {
      "cell_type": "code",
      "metadata": {
        "colab": {
          "base_uri": "https://localhost:8080/"
        },
        "id": "iTi3Le0QqqI-",
        "outputId": "db29cb04-5928-4c07-d9ca-2bb37631726a"
      },
      "source": [
        "history = model.fit(X_train,y_train,epochs=30,validation_data=(X_valid,y_valid))"
      ],
      "execution_count": null,
      "outputs": [
        {
          "output_type": "stream",
          "text": [
            "Epoch 1/30\n",
            "717/717 [==============================] - 4s 3ms/step - loss: 1.0939 - accuracy: 0.6382 - val_loss: 0.7071 - val_accuracy: 0.6607\n",
            "Epoch 2/30\n",
            "717/717 [==============================] - 2s 2ms/step - loss: 0.7121 - accuracy: 0.6717 - val_loss: 0.7052 - val_accuracy: 0.6844\n",
            "Epoch 3/30\n",
            "717/717 [==============================] - 2s 2ms/step - loss: 0.7011 - accuracy: 0.6850 - val_loss: 0.7325 - val_accuracy: 0.7355\n",
            "Epoch 4/30\n",
            "717/717 [==============================] - 2s 2ms/step - loss: 0.6936 - accuracy: 0.6936 - val_loss: 0.6884 - val_accuracy: 0.6864\n",
            "Epoch 5/30\n",
            "717/717 [==============================] - 2s 2ms/step - loss: 0.6701 - accuracy: 0.7015 - val_loss: 0.6423 - val_accuracy: 0.7216\n",
            "Epoch 6/30\n",
            "717/717 [==============================] - 2s 2ms/step - loss: 0.6548 - accuracy: 0.7088 - val_loss: 0.6257 - val_accuracy: 0.6882\n",
            "Epoch 7/30\n",
            "717/717 [==============================] - 2s 2ms/step - loss: 0.6307 - accuracy: 0.7091 - val_loss: 0.6282 - val_accuracy: 0.6713\n",
            "Epoch 8/30\n",
            "717/717 [==============================] - 2s 2ms/step - loss: 0.6080 - accuracy: 0.7117 - val_loss: 0.5852 - val_accuracy: 0.6797\n",
            "Epoch 9/30\n",
            "717/717 [==============================] - 2s 2ms/step - loss: 0.5785 - accuracy: 0.7269 - val_loss: 0.5572 - val_accuracy: 0.7229\n",
            "Epoch 10/30\n",
            "717/717 [==============================] - 2s 2ms/step - loss: 0.5654 - accuracy: 0.7406 - val_loss: 0.5439 - val_accuracy: 0.7024\n",
            "Epoch 11/30\n",
            "717/717 [==============================] - 2s 2ms/step - loss: 0.5622 - accuracy: 0.7357 - val_loss: 0.5663 - val_accuracy: 0.7321\n",
            "Epoch 12/30\n",
            "717/717 [==============================] - 2s 2ms/step - loss: 0.5435 - accuracy: 0.7556 - val_loss: 0.5554 - val_accuracy: 0.7802\n",
            "Epoch 13/30\n",
            "717/717 [==============================] - 2s 2ms/step - loss: 0.5247 - accuracy: 0.7729 - val_loss: 0.5964 - val_accuracy: 0.6853\n",
            "Epoch 14/30\n",
            "717/717 [==============================] - 2s 2ms/step - loss: 0.5207 - accuracy: 0.7723 - val_loss: 0.5358 - val_accuracy: 0.7289\n",
            "Epoch 15/30\n",
            "717/717 [==============================] - 2s 2ms/step - loss: 0.5051 - accuracy: 0.7904 - val_loss: 0.7633 - val_accuracy: 0.7243\n",
            "Epoch 16/30\n",
            "717/717 [==============================] - 2s 2ms/step - loss: 0.5295 - accuracy: 0.7793 - val_loss: 0.4730 - val_accuracy: 0.8260\n",
            "Epoch 17/30\n",
            "717/717 [==============================] - 2s 2ms/step - loss: 0.4950 - accuracy: 0.7984 - val_loss: 0.4295 - val_accuracy: 0.8424\n",
            "Epoch 18/30\n",
            "717/717 [==============================] - 2s 2ms/step - loss: 0.4644 - accuracy: 0.8208 - val_loss: 0.7035 - val_accuracy: 0.6585\n",
            "Epoch 19/30\n",
            "717/717 [==============================] - 2s 2ms/step - loss: 0.6506 - accuracy: 0.6853 - val_loss: 0.6245 - val_accuracy: 0.6868\n",
            "Epoch 20/30\n",
            "717/717 [==============================] - 2s 2ms/step - loss: 0.5396 - accuracy: 0.7567 - val_loss: 0.4857 - val_accuracy: 0.7832\n",
            "Epoch 21/30\n",
            "717/717 [==============================] - 2s 2ms/step - loss: 0.4945 - accuracy: 0.7992 - val_loss: 0.4924 - val_accuracy: 0.7745\n",
            "Epoch 22/30\n",
            "717/717 [==============================] - 2s 2ms/step - loss: 0.5027 - accuracy: 0.7989 - val_loss: 0.5085 - val_accuracy: 0.7686\n",
            "Epoch 23/30\n",
            "717/717 [==============================] - 2s 2ms/step - loss: 0.5019 - accuracy: 0.7949 - val_loss: 0.4004 - val_accuracy: 0.8185\n",
            "Epoch 24/30\n",
            "717/717 [==============================] - 2s 2ms/step - loss: 0.4445 - accuracy: 0.8234 - val_loss: 0.3523 - val_accuracy: 0.8916\n",
            "Epoch 25/30\n",
            "717/717 [==============================] - 2s 2ms/step - loss: 0.7404 - accuracy: 0.6725 - val_loss: 0.6042 - val_accuracy: 0.7204\n",
            "Epoch 26/30\n",
            "717/717 [==============================] - 2s 2ms/step - loss: 0.5082 - accuracy: 0.7832 - val_loss: 0.4465 - val_accuracy: 0.8160\n",
            "Epoch 27/30\n",
            "717/717 [==============================] - 2s 2ms/step - loss: 0.4715 - accuracy: 0.8194 - val_loss: 0.4066 - val_accuracy: 0.8466\n",
            "Epoch 28/30\n",
            "717/717 [==============================] - 2s 2ms/step - loss: 0.4585 - accuracy: 0.8239 - val_loss: 0.4459 - val_accuracy: 0.8295\n",
            "Epoch 29/30\n",
            "717/717 [==============================] - 2s 2ms/step - loss: 0.4366 - accuracy: 0.8369 - val_loss: 0.8365 - val_accuracy: 0.6386\n",
            "Epoch 30/30\n",
            "717/717 [==============================] - 2s 2ms/step - loss: 0.5022 - accuracy: 0.7999 - val_loss: 0.3963 - val_accuracy: 0.8348\n"
          ],
          "name": "stdout"
        }
      ]
    },
    {
      "cell_type": "code",
      "metadata": {
        "colab": {
          "base_uri": "https://localhost:8080/"
        },
        "id": "wCDxYqTvuE5D",
        "outputId": "c2a3fc06-3130-441c-ad83-03f72804960b"
      },
      "source": [
        "X_new = X_train[:5]\r\n",
        "y_proba = model.predict(X_new)\r\n",
        "y_proba.round(2)"
      ],
      "execution_count": null,
      "outputs": [
        {
          "output_type": "execute_result",
          "data": {
            "text/plain": [
              "array([[0.  , 0.58, 0.07, 0.  , 0.35],\n",
              "       [0.  , 0.  , 1.  , 0.  , 0.  ],\n",
              "       [0.4 , 0.21, 0.28, 0.02, 0.09],\n",
              "       [0.  , 0.  , 0.  , 1.  , 0.  ],\n",
              "       [0.  , 0.  , 0.  , 1.  , 0.  ]], dtype=float32)"
            ]
          },
          "metadata": {
            "tags": []
          },
          "execution_count": 21
        }
      ]
    },
    {
      "cell_type": "code",
      "metadata": {
        "colab": {
          "base_uri": "https://localhost:8080/"
        },
        "id": "3zP-IsEcvkJG",
        "outputId": "db80b659-77b3-40e9-ee08-caae373f9c1f"
      },
      "source": [
        "y_pred = model.predict_classes(X_new)\r\n",
        "y_pred"
      ],
      "execution_count": null,
      "outputs": [
        {
          "output_type": "stream",
          "text": [
            "/usr/local/lib/python3.6/dist-packages/tensorflow/python/keras/engine/sequential.py:450: UserWarning: `model.predict_classes()` is deprecated and will be removed after 2021-01-01. Please use instead:* `np.argmax(model.predict(x), axis=-1)`,   if your model does multi-class classification   (e.g. if it uses a `softmax` last-layer activation).* `(model.predict(x) > 0.5).astype(\"int32\")`,   if your model does binary classification   (e.g. if it uses a `sigmoid` last-layer activation).\n",
            "  warnings.warn('`model.predict_classes()` is deprecated and '\n"
          ],
          "name": "stderr"
        },
        {
          "output_type": "execute_result",
          "data": {
            "text/plain": [
              "array([1, 2, 0, 3, 3])"
            ]
          },
          "metadata": {
            "tags": []
          },
          "execution_count": 24
        }
      ]
    },
    {
      "cell_type": "code",
      "metadata": {
        "colab": {
          "base_uri": "https://localhost:8080/"
        },
        "id": "lv1v1zg2KNk5",
        "outputId": "6be4e7c8-0008-41af-ba7e-8fd6ad8243f4"
      },
      "source": [
        "y_train[:5]"
      ],
      "execution_count": null,
      "outputs": [
        {
          "output_type": "execute_result",
          "data": {
            "text/plain": [
              "array([3, 1, 3, 0, 4])"
            ]
          },
          "metadata": {
            "tags": []
          },
          "execution_count": 37
        }
      ]
    },
    {
      "cell_type": "markdown",
      "metadata": {
        "id": "IBGggk9B3l0T"
      },
      "source": [
        "## CNN"
      ]
    },
    {
      "cell_type": "code",
      "metadata": {
        "id": "Cj3sxrXSVeO8"
      },
      "source": [
        "X_train, X_test, y_train, y_test = train_test_split(current_x,current_y[:,0],train_size = 0.6, random_state=42)\r\n",
        "X_test, X_valid, y_test, y_valid = train_test_split(X_test, y_test, test_size = 0.5, random_state=42)"
      ],
      "execution_count": null,
      "outputs": []
    },
    {
      "cell_type": "code",
      "metadata": {
        "id": "yEPbi2koVlYc"
      },
      "source": [
        "X_train = X_train[..., np.newaxis]\r\n",
        "X_valid = X_valid[..., np.newaxis]\r\n",
        "X_test = X_test[..., np.newaxis]"
      ],
      "execution_count": null,
      "outputs": []
    },
    {
      "cell_type": "code",
      "metadata": {
        "colab": {
          "base_uri": "https://localhost:8080/"
        },
        "id": "yMSlFRrRVsXy",
        "outputId": "7e7cfe1c-ee16-4cf7-e269-bcde4badd17d"
      },
      "source": [
        "X_train.shape"
      ],
      "execution_count": null,
      "outputs": [
        {
          "output_type": "execute_result",
          "data": {
            "text/plain": [
              "(22920, 60, 4, 1)"
            ]
          },
          "metadata": {
            "tags": []
          },
          "execution_count": 75
        }
      ]
    },
    {
      "cell_type": "code",
      "metadata": {
        "id": "wg0XIJ0MVP4X"
      },
      "source": [
        "X_train[0]"
      ],
      "execution_count": null,
      "outputs": []
    },
    {
      "cell_type": "code",
      "metadata": {
        "id": "LOT9ilP8UolI"
      },
      "source": [
        "# 각 특성 값의 범위를 0~1로 조정\r\n",
        "X_train[:,:,3:] = X_train[:,:,3:]/100\r\n",
        "X_valid[:,:,3:] = X_valid[:,:,3:]/100\r\n",
        "X_test[:,:,3:] = X_test[:,:,3:]/100"
      ],
      "execution_count": null,
      "outputs": []
    },
    {
      "cell_type": "code",
      "metadata": {
        "id": "gb1NQ7KKKxbA"
      },
      "source": [
        "from functools import partial\r\n",
        "\r\n",
        "cnn_model = keras.models.Sequential([\r\n",
        "    keras.layers.Conv2D(64,7,activation=\"relu\",padding=\"same\",input_shape=(60,4,1)),\r\n",
        "    keras.layers.MaxPool2D(1),\r\n",
        "    keras.layers.Conv2D(128,3,activation=\"relu\",padding=\"same\"),\r\n",
        "    keras.layers.Conv2D(128,3,activation=\"relu\",padding=\"same\"),\r\n",
        "    keras.layers.MaxPool2D(2),\r\n",
        "    keras.layers.Conv2D(256,3,activation=\"relu\",padding=\"same\"),\r\n",
        "    keras.layers.Conv2D(256,3,activation=\"relu\",padding=\"same\"),\r\n",
        "    keras.layers.MaxPool2D(2),\r\n",
        "    keras.layers.Flatten(),\r\n",
        "    keras.layers.Dense(128,activation=\"relu\"),\r\n",
        "    keras.layers.Dropout(0.5),\r\n",
        "    keras.layers.Dense(64,activation=\"relu\"),\r\n",
        "    keras.layers.Dropout(0.5),\r\n",
        "    keras.layers.Dense(units=5, activation='softmax')\r\n",
        "])"
      ],
      "execution_count": null,
      "outputs": []
    },
    {
      "cell_type": "code",
      "metadata": {
        "colab": {
          "base_uri": "https://localhost:8080/"
        },
        "id": "05D1MnOLQa_4",
        "outputId": "ce1f974e-65c9-4810-8719-7a84f11eb5e8"
      },
      "source": [
        "cnn_model.summary()"
      ],
      "execution_count": null,
      "outputs": [
        {
          "output_type": "stream",
          "text": [
            "Model: \"sequential_1\"\n",
            "_________________________________________________________________\n",
            "Layer (type)                 Output Shape              Param #   \n",
            "=================================================================\n",
            "conv2d_6 (Conv2D)            (None, 60, 4, 64)         3200      \n",
            "_________________________________________________________________\n",
            "max_pooling2d_4 (MaxPooling2 (None, 60, 4, 64)         0         \n",
            "_________________________________________________________________\n",
            "conv2d_7 (Conv2D)            (None, 60, 4, 128)        73856     \n",
            "_________________________________________________________________\n",
            "conv2d_8 (Conv2D)            (None, 60, 4, 128)        147584    \n",
            "_________________________________________________________________\n",
            "max_pooling2d_5 (MaxPooling2 (None, 30, 2, 128)        0         \n",
            "_________________________________________________________________\n",
            "conv2d_9 (Conv2D)            (None, 30, 2, 256)        295168    \n",
            "_________________________________________________________________\n",
            "conv2d_10 (Conv2D)           (None, 30, 2, 256)        590080    \n",
            "_________________________________________________________________\n",
            "max_pooling2d_6 (MaxPooling2 (None, 15, 1, 256)        0         \n",
            "_________________________________________________________________\n",
            "flatten_1 (Flatten)          (None, 3840)              0         \n",
            "_________________________________________________________________\n",
            "dense_3 (Dense)              (None, 128)               491648    \n",
            "_________________________________________________________________\n",
            "dropout_2 (Dropout)          (None, 128)               0         \n",
            "_________________________________________________________________\n",
            "dense_4 (Dense)              (None, 64)                8256      \n",
            "_________________________________________________________________\n",
            "dropout_3 (Dropout)          (None, 64)                0         \n",
            "_________________________________________________________________\n",
            "dense_5 (Dense)              (None, 5)                 325       \n",
            "=================================================================\n",
            "Total params: 1,610,117\n",
            "Trainable params: 1,610,117\n",
            "Non-trainable params: 0\n",
            "_________________________________________________________________\n"
          ],
          "name": "stdout"
        }
      ]
    },
    {
      "cell_type": "code",
      "metadata": {
        "id": "V1LkfdeLLDfJ"
      },
      "source": [
        "cnn_model.compile(loss=\"sparse_categorical_crossentropy\", optimizer=\"nadam\", metrics=[\"accuracy\"])"
      ],
      "execution_count": null,
      "outputs": []
    },
    {
      "cell_type": "code",
      "metadata": {
        "colab": {
          "base_uri": "https://localhost:8080/"
        },
        "id": "MDdn1rtBSi0r",
        "outputId": "f057ff67-d3f2-4908-e603-c0401270414e"
      },
      "source": [
        "history = cnn_model.fit(X_train, y_train, epochs=10, validation_data=(X_valid, y_valid))"
      ],
      "execution_count": null,
      "outputs": [
        {
          "output_type": "stream",
          "text": [
            "Epoch 1/10\n",
            "717/717 [==============================] - 15s 9ms/step - loss: 0.7528 - accuracy: 0.6626 - val_loss: 0.0140 - val_accuracy: 0.9971\n",
            "Epoch 2/10\n",
            "717/717 [==============================] - 6s 9ms/step - loss: 3.3331 - accuracy: 0.9797 - val_loss: 0.0103 - val_accuracy: 0.9971\n",
            "Epoch 3/10\n",
            "717/717 [==============================] - 6s 9ms/step - loss: 0.0288 - accuracy: 0.9921 - val_loss: 0.0086 - val_accuracy: 0.9971\n",
            "Epoch 4/10\n",
            "717/717 [==============================] - 6s 9ms/step - loss: 0.1789 - accuracy: 0.9927 - val_loss: 0.0116 - val_accuracy: 0.9971\n",
            "Epoch 5/10\n",
            "717/717 [==============================] - 6s 9ms/step - loss: 0.0637 - accuracy: 0.9943 - val_loss: 0.0086 - val_accuracy: 0.9971\n",
            "Epoch 6/10\n",
            "717/717 [==============================] - 6s 9ms/step - loss: 0.0378 - accuracy: 0.9919 - val_loss: 0.0094 - val_accuracy: 0.9971\n",
            "Epoch 7/10\n",
            "717/717 [==============================] - 6s 9ms/step - loss: 0.0107 - accuracy: 0.9969 - val_loss: 0.0086 - val_accuracy: 0.9971\n",
            "Epoch 8/10\n",
            "717/717 [==============================] - 6s 9ms/step - loss: 0.0297 - accuracy: 0.9914 - val_loss: 0.0248 - val_accuracy: 0.9971\n",
            "Epoch 9/10\n",
            "717/717 [==============================] - 6s 9ms/step - loss: 0.0422 - accuracy: 0.9937 - val_loss: 0.3466 - val_accuracy: 0.9295\n",
            "Epoch 10/10\n",
            "717/717 [==============================] - 6s 9ms/step - loss: 0.2158 - accuracy: 0.9838 - val_loss: 0.0566 - val_accuracy: 0.9810\n"
          ],
          "name": "stdout"
        }
      ]
    },
    {
      "cell_type": "markdown",
      "metadata": {
        "id": "L4IkWNy_TkG3"
      },
      "source": [
        "이전 모델보다 훈련, 검증 세트 모두 높은 정확도를 보임"
      ]
    },
    {
      "cell_type": "code",
      "metadata": {
        "id": "Jx1ytgBDL3jl"
      },
      "source": [
        "# score = model.evaluate(X_test, y_test)\r\n",
        "X_new = X_train[:10] # pretend we have new images\r\n",
        "y_pred = cnn_model.predict(X_new)"
      ],
      "execution_count": null,
      "outputs": []
    },
    {
      "cell_type": "code",
      "metadata": {
        "colab": {
          "base_uri": "https://localhost:8080/"
        },
        "id": "eiIN_jCneuIK",
        "outputId": "3c48f596-a572-4ecd-f771-34db0e113627"
      },
      "source": [
        "y_pred = cnn_model.predict_classes(X_new)\r\n",
        "y_pred"
      ],
      "execution_count": null,
      "outputs": [
        {
          "output_type": "stream",
          "text": [
            "/usr/local/lib/python3.6/dist-packages/tensorflow/python/keras/engine/sequential.py:450: UserWarning: `model.predict_classes()` is deprecated and will be removed after 2021-01-01. Please use instead:* `np.argmax(model.predict(x), axis=-1)`,   if your model does multi-class classification   (e.g. if it uses a `softmax` last-layer activation).* `(model.predict(x) > 0.5).astype(\"int32\")`,   if your model does binary classification   (e.g. if it uses a `sigmoid` last-layer activation).\n",
            "  warnings.warn('`model.predict_classes()` is deprecated and '\n"
          ],
          "name": "stderr"
        },
        {
          "output_type": "execute_result",
          "data": {
            "text/plain": [
              "array([4, 2, 0, 3, 3, 3, 3, 4, 1, 4])"
            ]
          },
          "metadata": {
            "tags": []
          },
          "execution_count": 56
        }
      ]
    },
    {
      "cell_type": "code",
      "metadata": {
        "colab": {
          "base_uri": "https://localhost:8080/"
        },
        "id": "L-0PQQ-Yez0P",
        "outputId": "0c74d174-b364-4cbf-a1a2-3834e0239ee4"
      },
      "source": [
        "y_train[:10]"
      ],
      "execution_count": null,
      "outputs": [
        {
          "output_type": "execute_result",
          "data": {
            "text/plain": [
              "array([4, 2, 0, 3, 3, 3, 3, 4, 1, 4])"
            ]
          },
          "metadata": {
            "tags": []
          },
          "execution_count": 57
        }
      ]
    },
    {
      "cell_type": "code",
      "metadata": {
        "id": "_ktWFKb0ds0t"
      },
      "source": [
        ""
      ],
      "execution_count": null,
      "outputs": []
    },
    {
      "cell_type": "markdown",
      "metadata": {
        "id": "qCIocme8ySOO"
      },
      "source": [
        "# 유선진동"
      ]
    },
    {
      "cell_type": "code",
      "metadata": {
        "id": "0IdDGM1V6y3L"
      },
      "source": [
        "pred_name = ['bearing', 'belt', 'misalignment','normal', 'unbalance']"
      ],
      "execution_count": null,
      "outputs": []
    },
    {
      "cell_type": "code",
      "metadata": {
        "id": "Zug4dtp9HOvv"
      },
      "source": [
        "from sklearn.model_selection import train_test_split"
      ],
      "execution_count": null,
      "outputs": []
    },
    {
      "cell_type": "code",
      "metadata": {
        "id": "72nquORbG_l7"
      },
      "source": [
        "X_train, X_test, y_train, y_test = train_test_split(kimm_x,kimm_y[:,0],train_size = 0.6, random_state=42)\r\n",
        "X_test, X_valid, y_test, y_valid = train_test_split(X_test, y_test, test_size = 0.5, random_state=42)"
      ],
      "execution_count": null,
      "outputs": []
    },
    {
      "cell_type": "markdown",
      "metadata": {
        "id": "vuAjM1YZ5iay"
      },
      "source": [
        "## 일반적인 다층 퍼셉트론(MLP)"
      ]
    },
    {
      "cell_type": "code",
      "metadata": {
        "id": "NEK-tojqGPek"
      },
      "source": [
        "model2 = keras.models.Sequential()\r\n",
        "model2.add(keras.layers.Flatten(input_shape=[60, 2]))\r\n",
        "model2.add(keras.layers.Dense(300, activation=\"relu\"))\r\n",
        "model2.add(keras.layers.Dense(100, activation=\"relu\"))\r\n",
        "model2.add(keras.layers.Dense(5, activation=\"softmax\")) "
      ],
      "execution_count": null,
      "outputs": []
    },
    {
      "cell_type": "code",
      "metadata": {
        "id": "JNVSaUUDGlHu"
      },
      "source": [
        "model2.compile(loss=\"sparse_categorical_crossentropy\",\r\n",
        "              optimizer=\"sgd\",\r\n",
        "              metrics=[\"accuracy\"])"
      ],
      "execution_count": null,
      "outputs": []
    },
    {
      "cell_type": "code",
      "metadata": {
        "colab": {
          "base_uri": "https://localhost:8080/"
        },
        "id": "oMZoyCweGp1K",
        "outputId": "542e8055-53d6-4d09-e30f-7b446088ee91"
      },
      "source": [
        "history2 = model2.fit(X_train,y_train,epochs=30,validation_data=(X_valid,y_valid))"
      ],
      "execution_count": null,
      "outputs": [
        {
          "output_type": "stream",
          "text": [
            "Epoch 1/30\n",
            "1440/1440 [==============================] - 3s 2ms/step - loss: 2.1606 - accuracy: 0.4907 - val_loss: 1.3745 - val_accuracy: 0.5014\n",
            "Epoch 2/30\n",
            "1440/1440 [==============================] - 3s 2ms/step - loss: 1.3761 - accuracy: 0.4982 - val_loss: 1.3709 - val_accuracy: 0.5014\n",
            "Epoch 3/30\n",
            "1440/1440 [==============================] - 3s 2ms/step - loss: 1.3733 - accuracy: 0.4999 - val_loss: 1.3721 - val_accuracy: 0.5014\n",
            "Epoch 4/30\n",
            "1440/1440 [==============================] - 3s 2ms/step - loss: 1.3722 - accuracy: 0.4998 - val_loss: 1.3707 - val_accuracy: 0.5014\n",
            "Epoch 5/30\n",
            "1440/1440 [==============================] - 3s 2ms/step - loss: 1.3702 - accuracy: 0.5013 - val_loss: 1.3697 - val_accuracy: 0.5014\n",
            "Epoch 6/30\n",
            "1440/1440 [==============================] - 3s 2ms/step - loss: 1.3708 - accuracy: 0.5009 - val_loss: 1.3711 - val_accuracy: 0.5014\n",
            "Epoch 7/30\n",
            "1440/1440 [==============================] - 3s 2ms/step - loss: 1.3680 - accuracy: 0.5015 - val_loss: 1.3692 - val_accuracy: 0.5014\n",
            "Epoch 8/30\n",
            "1440/1440 [==============================] - 3s 2ms/step - loss: 1.3706 - accuracy: 0.5006 - val_loss: 1.3698 - val_accuracy: 0.5014\n",
            "Epoch 9/30\n",
            "1440/1440 [==============================] - 3s 2ms/step - loss: 1.3716 - accuracy: 0.4987 - val_loss: 1.3716 - val_accuracy: 0.5014\n",
            "Epoch 10/30\n",
            "1440/1440 [==============================] - 3s 2ms/step - loss: 1.3715 - accuracy: 0.4989 - val_loss: 1.3691 - val_accuracy: 0.5014\n",
            "Epoch 11/30\n",
            "1440/1440 [==============================] - 3s 2ms/step - loss: 1.3721 - accuracy: 0.4982 - val_loss: 1.3679 - val_accuracy: 0.5014\n",
            "Epoch 12/30\n",
            "1440/1440 [==============================] - 3s 2ms/step - loss: 1.3631 - accuracy: 0.5029 - val_loss: 1.3675 - val_accuracy: 0.5014\n",
            "Epoch 13/30\n",
            "1440/1440 [==============================] - 3s 2ms/step - loss: 1.3618 - accuracy: 0.5039 - val_loss: 1.3652 - val_accuracy: 0.5014\n",
            "Epoch 14/30\n",
            "1440/1440 [==============================] - 3s 2ms/step - loss: 1.3657 - accuracy: 0.5021 - val_loss: 1.3651 - val_accuracy: 0.5014\n",
            "Epoch 15/30\n",
            "1440/1440 [==============================] - 3s 2ms/step - loss: 1.3591 - accuracy: 0.5045 - val_loss: 1.3656 - val_accuracy: 0.5014\n",
            "Epoch 16/30\n",
            "1440/1440 [==============================] - 3s 2ms/step - loss: 1.3661 - accuracy: 0.5003 - val_loss: 1.3638 - val_accuracy: 0.5014\n",
            "Epoch 17/30\n",
            "1440/1440 [==============================] - 3s 2ms/step - loss: 1.3611 - accuracy: 0.5030 - val_loss: 1.3634 - val_accuracy: 0.5014\n",
            "Epoch 18/30\n",
            "1440/1440 [==============================] - 3s 2ms/step - loss: 1.3628 - accuracy: 0.5021 - val_loss: 1.3635 - val_accuracy: 0.5014\n",
            "Epoch 19/30\n",
            "1440/1440 [==============================] - 3s 2ms/step - loss: 1.3593 - accuracy: 0.5028 - val_loss: 1.3633 - val_accuracy: 0.5014\n",
            "Epoch 20/30\n",
            "1440/1440 [==============================] - 3s 2ms/step - loss: 1.3635 - accuracy: 0.4997 - val_loss: 1.3625 - val_accuracy: 0.5014\n",
            "Epoch 21/30\n",
            "1440/1440 [==============================] - 3s 2ms/step - loss: 1.3608 - accuracy: 0.5009 - val_loss: 1.3636 - val_accuracy: 0.5014\n",
            "Epoch 22/30\n",
            "1440/1440 [==============================] - 3s 2ms/step - loss: 1.3656 - accuracy: 0.4982 - val_loss: 1.3593 - val_accuracy: 0.5014\n",
            "Epoch 23/30\n",
            "1440/1440 [==============================] - 3s 2ms/step - loss: 1.3668 - accuracy: 0.4963 - val_loss: 1.3635 - val_accuracy: 0.5014\n",
            "Epoch 24/30\n",
            "1440/1440 [==============================] - 3s 2ms/step - loss: 1.3638 - accuracy: 0.4983 - val_loss: 1.3602 - val_accuracy: 0.5014\n",
            "Epoch 25/30\n",
            "1440/1440 [==============================] - 3s 2ms/step - loss: 1.3623 - accuracy: 0.4990 - val_loss: 1.3591 - val_accuracy: 0.5014\n",
            "Epoch 26/30\n",
            "1440/1440 [==============================] - 3s 2ms/step - loss: 1.3596 - accuracy: 0.5017 - val_loss: 1.3641 - val_accuracy: 0.5014\n",
            "Epoch 27/30\n",
            "1440/1440 [==============================] - 3s 2ms/step - loss: 1.3660 - accuracy: 0.4959 - val_loss: 1.3650 - val_accuracy: 0.5014\n",
            "Epoch 28/30\n",
            "1440/1440 [==============================] - 3s 2ms/step - loss: 1.3587 - accuracy: 0.5007 - val_loss: 1.3578 - val_accuracy: 0.5014\n",
            "Epoch 29/30\n",
            "1440/1440 [==============================] - 3s 2ms/step - loss: 1.3648 - accuracy: 0.4960 - val_loss: 1.3554 - val_accuracy: 0.5014\n",
            "Epoch 30/30\n",
            "1440/1440 [==============================] - 3s 2ms/step - loss: 1.3632 - accuracy: 0.4964 - val_loss: 1.3568 - val_accuracy: 0.5014\n"
          ],
          "name": "stdout"
        }
      ]
    },
    {
      "cell_type": "markdown",
      "metadata": {
        "id": "CzVq0u2u6P2X"
      },
      "source": [
        "## CNN"
      ]
    },
    {
      "cell_type": "code",
      "metadata": {
        "id": "QZ7pf4jj3Vyt"
      },
      "source": [
        "X_train, X_test, y_train, y_test = train_test_split(kimm_x,kimm_y[:,0],train_size = 0.6, random_state=42)\r\n",
        "X_test, X_valid, y_test, y_valid = train_test_split(X_test, y_test, test_size = 0.5, random_state=42)"
      ],
      "execution_count": null,
      "outputs": []
    },
    {
      "cell_type": "code",
      "metadata": {
        "id": "gkJqLb0U2pdq"
      },
      "source": [
        "X_train = X_train[..., np.newaxis]\r\n",
        "X_valid = X_valid[..., np.newaxis]\r\n",
        "X_test = X_test[..., np.newaxis]"
      ],
      "execution_count": null,
      "outputs": []
    },
    {
      "cell_type": "code",
      "metadata": {
        "colab": {
          "base_uri": "https://localhost:8080/"
        },
        "id": "Q7YS1KLM3ZMr",
        "outputId": "783cfc83-496f-4312-ab7c-8f5e9173fb07"
      },
      "source": [
        "X_train.shape"
      ],
      "execution_count": null,
      "outputs": [
        {
          "output_type": "execute_result",
          "data": {
            "text/plain": [
              "(46080, 60, 2, 1)"
            ]
          },
          "metadata": {
            "tags": []
          },
          "execution_count": 21
        }
      ]
    },
    {
      "cell_type": "code",
      "metadata": {
        "id": "zRVXFI9Q3rBU"
      },
      "source": [
        "# 각 특성 값의 범위를 0~1로 조정\r\n",
        "X_train[:,:,1:] = X_train[:,:,1:]/100\r\n",
        "X_valid[:,:,1:] = X_valid[:,:,1:]/100\r\n",
        "X_test[:,:,1:] = X_test[:,:,1:]/100"
      ],
      "execution_count": null,
      "outputs": []
    },
    {
      "cell_type": "code",
      "metadata": {
        "id": "-11AMeTUTKUO"
      },
      "source": [
        "from functools import partial\r\n",
        "\r\n",
        "cnn_model2 = keras.models.Sequential([\r\n",
        "    keras.layers.Conv2D(64,7,activation=\"relu\",padding=\"same\",input_shape=(60,2,1)),\r\n",
        "    keras.layers.MaxPool2D(1),\r\n",
        "    keras.layers.Conv2D(128,3,activation=\"relu\",padding=\"same\"),\r\n",
        "    keras.layers.Conv2D(128,3,activation=\"relu\",padding=\"same\"),\r\n",
        "    keras.layers.MaxPool2D(1),\r\n",
        "    keras.layers.Conv2D(256,3,activation=\"relu\",padding=\"same\"),\r\n",
        "    keras.layers.Conv2D(256,3,activation=\"relu\",padding=\"same\"),\r\n",
        "    keras.layers.MaxPool2D(2),\r\n",
        "    keras.layers.Flatten(),\r\n",
        "    keras.layers.Dense(128,activation=\"relu\"),\r\n",
        "    keras.layers.Dropout(0.5),\r\n",
        "    keras.layers.Dense(64,activation=\"relu\"),\r\n",
        "    keras.layers.Dropout(0.5),\r\n",
        "    keras.layers.Dense(units=5, activation='softmax')\r\n",
        "])"
      ],
      "execution_count": null,
      "outputs": []
    },
    {
      "cell_type": "code",
      "metadata": {
        "id": "af8cNj9K38gH"
      },
      "source": [
        "cnn_model2.compile(loss=\"sparse_categorical_crossentropy\", optimizer=\"nadam\", metrics=[\"accuracy\"])"
      ],
      "execution_count": null,
      "outputs": []
    },
    {
      "cell_type": "code",
      "metadata": {
        "colab": {
          "base_uri": "https://localhost:8080/"
        },
        "id": "ka20q1uS4AHe",
        "outputId": "e7776468-b5d7-448a-d5cf-1bf3e779b06e"
      },
      "source": [
        "history = cnn_model2.fit(X_train, y_train, epochs=10, validation_data=(X_valid, y_valid))"
      ],
      "execution_count": null,
      "outputs": [
        {
          "output_type": "stream",
          "text": [
            "Epoch 1/10\n",
            "1440/1440 [==============================] - 23s 10ms/step - loss: 1.4028 - accuracy: 0.4969 - val_loss: 1.3660 - val_accuracy: 0.5014\n",
            "Epoch 2/10\n",
            "1440/1440 [==============================] - 15s 10ms/step - loss: 1.3725 - accuracy: 0.4983 - val_loss: 1.3935 - val_accuracy: 0.5014\n",
            "Epoch 3/10\n",
            "1440/1440 [==============================] - 15s 10ms/step - loss: 1.3710 - accuracy: 0.5003 - val_loss: 1.3687 - val_accuracy: 0.5014\n",
            "Epoch 4/10\n",
            "1440/1440 [==============================] - 15s 10ms/step - loss: 1.3672 - accuracy: 0.4998 - val_loss: 1.3724 - val_accuracy: 0.5014\n",
            "Epoch 5/10\n",
            "1440/1440 [==============================] - 15s 10ms/step - loss: 1.3581 - accuracy: 0.5014 - val_loss: 1.3605 - val_accuracy: 0.5014\n",
            "Epoch 6/10\n",
            "1440/1440 [==============================] - 15s 11ms/step - loss: 1.3581 - accuracy: 0.5009 - val_loss: 1.3572 - val_accuracy: 0.5014\n",
            "Epoch 7/10\n",
            "1440/1440 [==============================] - 15s 11ms/step - loss: 1.3518 - accuracy: 0.5016 - val_loss: 1.3506 - val_accuracy: 0.5014\n",
            "Epoch 8/10\n",
            "1440/1440 [==============================] - 15s 11ms/step - loss: 1.3667 - accuracy: 0.5005 - val_loss: 1.3440 - val_accuracy: 0.5014\n",
            "Epoch 9/10\n",
            "1440/1440 [==============================] - 15s 10ms/step - loss: 1.3467 - accuracy: 0.4986 - val_loss: 1.2616 - val_accuracy: 0.5014\n",
            "Epoch 10/10\n",
            "1440/1440 [==============================] - 15s 11ms/step - loss: 1.2736 - accuracy: 0.4999 - val_loss: 1.1014 - val_accuracy: 0.5346\n"
          ],
          "name": "stdout"
        }
      ]
    },
    {
      "cell_type": "markdown",
      "metadata": {
        "id": "XuaSi-PGJRd6"
      },
      "source": [
        "전류 데이터와 달리 유선 진동 데이터는 CNN 을 적용해도 훈련,검증 세트의 정확도가 50%를 웃도는 결과를 나타냄"
      ]
    },
    {
      "cell_type": "code",
      "metadata": {
        "colab": {
          "base_uri": "https://localhost:8080/"
        },
        "id": "_dUqfXDa4HDO",
        "outputId": "f12ee838-8c69-49ea-b4fe-cd6b1a06cf1c"
      },
      "source": [
        "X_new = X_train[:10]\r\n",
        "y_pred = cnn_model2.predict_classes(X_new)\r\n",
        "y_pred"
      ],
      "execution_count": null,
      "outputs": [
        {
          "output_type": "stream",
          "text": [
            "/usr/local/lib/python3.6/dist-packages/tensorflow/python/keras/engine/sequential.py:450: UserWarning: `model.predict_classes()` is deprecated and will be removed after 2021-01-01. Please use instead:* `np.argmax(model.predict(x), axis=-1)`,   if your model does multi-class classification   (e.g. if it uses a `softmax` last-layer activation).* `(model.predict(x) > 0.5).astype(\"int32\")`,   if your model does binary classification   (e.g. if it uses a `sigmoid` last-layer activation).\n",
            "  warnings.warn('`model.predict_classes()` is deprecated and '\n"
          ],
          "name": "stderr"
        },
        {
          "output_type": "execute_result",
          "data": {
            "text/plain": [
              "array([3, 3, 3, 3, 3, 3, 3, 3, 3, 3])"
            ]
          },
          "metadata": {
            "tags": []
          },
          "execution_count": 30
        }
      ]
    },
    {
      "cell_type": "code",
      "metadata": {
        "colab": {
          "base_uri": "https://localhost:8080/"
        },
        "id": "-RKEkGrg6eL2",
        "outputId": "a6b5131c-2e26-47a6-bdfd-3dd8c4dfe0bf"
      },
      "source": [
        "y_train[:10]"
      ],
      "execution_count": null,
      "outputs": [
        {
          "output_type": "execute_result",
          "data": {
            "text/plain": [
              "array([3, 1, 3, 0, 4, 3, 3, 3, 0, 3])"
            ]
          },
          "metadata": {
            "tags": []
          },
          "execution_count": 31
        }
      ]
    },
    {
      "cell_type": "markdown",
      "metadata": {
        "id": "VVKf7Jmn9lfF"
      },
      "source": [
        "## CNN + 배치정규화"
      ]
    },
    {
      "cell_type": "code",
      "metadata": {
        "id": "7gCvjUlF_jWR"
      },
      "source": [
        "cnn_model2_1 = keras.models.Sequential([\r\n",
        "    keras.layers.Conv2D(64,7,padding=\"same\",input_shape=(60,2,1),use_bias=False),\r\n",
        "    keras.layers.BatchNormalization(),\r\n",
        "    keras.layers.Activation(\"relu\"),\r\n",
        "    keras.layers.MaxPool2D(1),\r\n",
        "    keras.layers.Conv2D(128,3,padding=\"same\",use_bias=False),\r\n",
        "    keras.layers.BatchNormalization(),\r\n",
        "    keras.layers.Activation(\"relu\"),\r\n",
        "    keras.layers.Conv2D(128,3,padding=\"same\",use_bias=False),\r\n",
        "    keras.layers.BatchNormalization(),\r\n",
        "    keras.layers.Activation(\"relu\"),\r\n",
        "    keras.layers.MaxPool2D(1),\r\n",
        "    keras.layers.Conv2D(256,3,padding=\"same\",use_bias=False),\r\n",
        "    keras.layers.BatchNormalization(),\r\n",
        "    keras.layers.Activation(\"relu\"),\r\n",
        "    keras.layers.Conv2D(256,3,padding=\"same\",use_bias=False),\r\n",
        "    keras.layers.BatchNormalization(),\r\n",
        "    keras.layers.Activation(\"relu\"),\r\n",
        "    keras.layers.MaxPool2D(2),\r\n",
        "    keras.layers.Flatten(),\r\n",
        "    keras.layers.Dense(128,activation=\"relu\"),\r\n",
        "    keras.layers.Dropout(0.5),\r\n",
        "    keras.layers.Dense(64,activation=\"relu\"),\r\n",
        "    keras.layers.Dropout(0.5),\r\n",
        "    keras.layers.Dense(units=5, activation='softmax')\r\n",
        "])"
      ],
      "execution_count": null,
      "outputs": []
    },
    {
      "cell_type": "code",
      "metadata": {
        "id": "Gha2iY1zPE9a"
      },
      "source": [
        "cnn_model2_1.compile(loss=\"sparse_categorical_crossentropy\", optimizer=\"nadam\", metrics=[\"accuracy\"])"
      ],
      "execution_count": null,
      "outputs": []
    },
    {
      "cell_type": "code",
      "metadata": {
        "colab": {
          "base_uri": "https://localhost:8080/"
        },
        "id": "32EiRzRUPI2H",
        "outputId": "ebf9d2eb-c7bd-484f-f2e8-12d40e164d9c"
      },
      "source": [
        "cnn_model2_1.fit(X_train,y_train,epochs=10, validation_data=(X_valid, y_valid))"
      ],
      "execution_count": null,
      "outputs": [
        {
          "output_type": "stream",
          "text": [
            "Epoch 1/10\n",
            "1440/1440 [==============================] - 18s 11ms/step - loss: 1.5930 - accuracy: 0.4689 - val_loss: 1.3677 - val_accuracy: 0.5014\n",
            "Epoch 2/10\n",
            "1440/1440 [==============================] - 17s 12ms/step - loss: 1.3811 - accuracy: 0.4980 - val_loss: 1.3622 - val_accuracy: 0.5014\n",
            "Epoch 3/10\n",
            "1440/1440 [==============================] - 16s 11ms/step - loss: 1.3850 - accuracy: 0.5001 - val_loss: 1.3632 - val_accuracy: 0.5014\n",
            "Epoch 4/10\n",
            "1440/1440 [==============================] - 17s 11ms/step - loss: 1.3733 - accuracy: 0.4997 - val_loss: 1.3611 - val_accuracy: 0.5014\n",
            "Epoch 5/10\n",
            "1440/1440 [==============================] - 17s 11ms/step - loss: 1.3794 - accuracy: 0.5014 - val_loss: 1.3701 - val_accuracy: 0.5014\n",
            "Epoch 6/10\n",
            "1440/1440 [==============================] - 17s 12ms/step - loss: 1.3715 - accuracy: 0.5009 - val_loss: 1.3654 - val_accuracy: 0.5014\n",
            "Epoch 7/10\n",
            "1440/1440 [==============================] - 17s 12ms/step - loss: 1.3682 - accuracy: 0.5014 - val_loss: 1.3583 - val_accuracy: 0.5014\n",
            "Epoch 8/10\n",
            "1440/1440 [==============================] - 17s 12ms/step - loss: 1.3636 - accuracy: 0.5005 - val_loss: 1.3581 - val_accuracy: 0.5014\n",
            "Epoch 9/10\n",
            "1440/1440 [==============================] - 17s 12ms/step - loss: 1.3646 - accuracy: 0.4986 - val_loss: 1.3554 - val_accuracy: 0.5014\n",
            "Epoch 10/10\n",
            "1440/1440 [==============================] - 17s 12ms/step - loss: 1.3545 - accuracy: 0.4987 - val_loss: 1.3512 - val_accuracy: 0.5014\n"
          ],
          "name": "stdout"
        },
        {
          "output_type": "execute_result",
          "data": {
            "text/plain": [
              "<tensorflow.python.keras.callbacks.History at 0x7fa2f5fe98d0>"
            ]
          },
          "metadata": {
            "tags": []
          },
          "execution_count": 57
        }
      ]
    },
    {
      "cell_type": "markdown",
      "metadata": {
        "id": "yyR9l1rcP79X"
      },
      "source": [
        "기본 CNN에 배치정규화를 추가해도 이전보다 좋은 성능이 나오지 않음, 오히려 기존보다 미미하게 나쁜 결과를 나타냄"
      ]
    },
    {
      "cell_type": "markdown",
      "metadata": {
        "id": "5wlzAnw3_jyG"
      },
      "source": [
        "## ResNet-34 "
      ]
    },
    {
      "cell_type": "code",
      "metadata": {
        "id": "G0qB6PjV_9yA"
      },
      "source": [
        "X_train, X_test, y_train, y_test = train_test_split(kimm_x,kimm_y[:,0],train_size = 0.6, random_state=42)\r\n",
        "X_test, X_valid, y_test, y_valid = train_test_split(X_test, y_test, test_size = 0.5, random_state=42)"
      ],
      "execution_count": null,
      "outputs": []
    },
    {
      "cell_type": "code",
      "metadata": {
        "id": "CFlfM4BH_9yB"
      },
      "source": [
        "X_train = X_train[..., np.newaxis]\r\n",
        "X_valid = X_valid[..., np.newaxis]\r\n",
        "X_test = X_test[..., np.newaxis]"
      ],
      "execution_count": null,
      "outputs": []
    },
    {
      "cell_type": "code",
      "metadata": {
        "colab": {
          "base_uri": "https://localhost:8080/"
        },
        "id": "HJFqOtqv_9yC",
        "outputId": "5aaf6b57-1e66-4842-fc4c-327295094756"
      },
      "source": [
        "X_train.shape"
      ],
      "execution_count": null,
      "outputs": [
        {
          "output_type": "execute_result",
          "data": {
            "text/plain": [
              "(46080, 60, 2, 1)"
            ]
          },
          "metadata": {
            "tags": []
          },
          "execution_count": 44
        }
      ]
    },
    {
      "cell_type": "code",
      "metadata": {
        "id": "2Qy8TM_P_9yD"
      },
      "source": [
        "# 각 특성 값의 범위를 0~1로 조정\r\n",
        "X_train[:,:,1:] = X_train[:,:,1:]/100\r\n",
        "X_valid[:,:,1:] = X_valid[:,:,1:]/100\r\n",
        "X_test[:,:,1:] = X_test[:,:,1:]/100"
      ],
      "execution_count": null,
      "outputs": []
    },
    {
      "cell_type": "code",
      "metadata": {
        "id": "NW4DeTLhBAa7"
      },
      "source": [
        "# 잔차유닛\r\n",
        "class ResidualUnit(keras.layers.Layer):\r\n",
        "    def __init__(self, filters, strides=1, activation=\"relu\", **kwargs):\r\n",
        "        super().__init__(**kwargs)\r\n",
        "        self.activation = keras.activations.get(activation)\r\n",
        "        self.main_layers = [\r\n",
        "            keras.layers.Conv2D(filters,3,strides=strides, padding=\"same\", use_bias=False),\r\n",
        "            keras.layers.BatchNormalization(),\r\n",
        "            self.activation,\r\n",
        "            keras.layers.Conv2D(filters, 3,strides=1,padding=\"same\",use_bias=False),\r\n",
        "            keras.layers.BatchNormalization()]\r\n",
        "        self.skip_layers=[]\r\n",
        "        if strides > 1:\r\n",
        "            self.skip_layers = [\r\n",
        "                keras.layers.Conv2D(filters,1,strides=strides,padding=\"same\",use_bias=False),\r\n",
        "                keras.layers.BatchNormalization()]\r\n",
        "    def call(self,inputs):\r\n",
        "        Z = inputs\r\n",
        "        for layer in self.main_layers:\r\n",
        "            Z = layer(Z)\r\n",
        "        skip_Z = inputs\r\n",
        "        for layer in self.skip_layers:\r\n",
        "            skip_Z = layer(skip_Z)\r\n",
        "        return self.activation(Z+skip_Z)"
      ],
      "execution_count": null,
      "outputs": []
    },
    {
      "cell_type": "code",
      "metadata": {
        "id": "lMsn0v9W__AA"
      },
      "source": [
        "kimm_resnet_model = keras.models.Sequential()\r\n",
        "kimm_resnet_model.add(keras.layers.Conv2D(64,7,strides=2,input_shape=[60,2,1],padding=\"same\",use_bias=False))\r\n",
        "kimm_resnet_model.add(keras.layers.BatchNormalization())\r\n",
        "kimm_resnet_model.add(keras.layers.Activation(\"relu\"))\r\n",
        "kimm_resnet_model.add(keras.layers.MaxPool2D(pool_size=3, strides=2,padding=\"same\"))\r\n",
        "prev_filters = 64\r\n",
        "for filters in [64]*3+[128]*4+[256]*6+[512]*3:\r\n",
        "    strides = 1 if filters == prev_filters else 2\r\n",
        "    kimm_resnet_model.add(ResidualUnit(filters,strides=strides))\r\n",
        "    prev_filters=filters\r\n",
        "kimm_resnet_model.add(keras.layers.GlobalAvgPool2D())\r\n",
        "kimm_resnet_model.add(keras.layers.Flatten())\r\n",
        "kimm_resnet_model.add(keras.layers.Dense(5,activation=\"softmax\"))"
      ],
      "execution_count": null,
      "outputs": []
    },
    {
      "cell_type": "code",
      "metadata": {
        "id": "9Cui09uUE7eA"
      },
      "source": [
        "kimm_resnet_model.compile(loss=\"sparse_categorical_crossentropy\", optimizer=\"nadam\", metrics=[\"accuracy\"])"
      ],
      "execution_count": null,
      "outputs": []
    },
    {
      "cell_type": "code",
      "metadata": {
        "colab": {
          "base_uri": "https://localhost:8080/"
        },
        "id": "jIYPSJrDE7Q5",
        "outputId": "20c9a4b6-efcc-4826-93ce-6058fb96ed08"
      },
      "source": [
        "kimm_resnet_model.fit(X_train,y_train,epochs=10, validation_data=(X_valid, y_valid))"
      ],
      "execution_count": null,
      "outputs": [
        {
          "output_type": "stream",
          "text": [
            "Epoch 1/10\n",
            "1440/1440 [==============================] - 79s 50ms/step - loss: 1.3172 - accuracy: 0.5261 - val_loss: 1.5119 - val_accuracy: 0.5590\n",
            "Epoch 2/10\n",
            "1440/1440 [==============================] - 71s 49ms/step - loss: 0.8087 - accuracy: 0.6680 - val_loss: 1.1126 - val_accuracy: 0.6762\n",
            "Epoch 3/10\n",
            "1440/1440 [==============================] - 70s 49ms/step - loss: 0.6505 - accuracy: 0.7254 - val_loss: 1.8109 - val_accuracy: 0.6389\n",
            "Epoch 4/10\n",
            "1440/1440 [==============================] - 71s 49ms/step - loss: 0.5762 - accuracy: 0.7594 - val_loss: 1.7035 - val_accuracy: 0.5993\n",
            "Epoch 5/10\n",
            "1440/1440 [==============================] - 70s 49ms/step - loss: 0.5170 - accuracy: 0.7823 - val_loss: 2.1009 - val_accuracy: 0.5453\n",
            "Epoch 6/10\n",
            "1440/1440 [==============================] - 71s 49ms/step - loss: 0.4907 - accuracy: 0.7886 - val_loss: 1.7658 - val_accuracy: 0.6054\n",
            "Epoch 7/10\n",
            "1440/1440 [==============================] - 70s 49ms/step - loss: 0.4207 - accuracy: 0.8139 - val_loss: 1.9326 - val_accuracy: 0.6749\n",
            "Epoch 8/10\n",
            "1440/1440 [==============================] - 71s 49ms/step - loss: 0.3703 - accuracy: 0.8329 - val_loss: 2.0199 - val_accuracy: 0.6423\n",
            "Epoch 9/10\n",
            "1440/1440 [==============================] - 71s 49ms/step - loss: 0.3535 - accuracy: 0.8434 - val_loss: 2.1581 - val_accuracy: 0.5934\n",
            "Epoch 10/10\n",
            "1440/1440 [==============================] - 70s 49ms/step - loss: 0.3481 - accuracy: 0.8481 - val_loss: 1.2782 - val_accuracy: 0.6444\n"
          ],
          "name": "stdout"
        },
        {
          "output_type": "execute_result",
          "data": {
            "text/plain": [
              "<tensorflow.python.keras.callbacks.History at 0x7fa2fa21a400>"
            ]
          },
          "metadata": {
            "tags": []
          },
          "execution_count": 50
        }
      ]
    },
    {
      "cell_type": "markdown",
      "metadata": {
        "id": "A6x9-EPFJDHU"
      },
      "source": [
        "CNN 보다 훈련, 검증 세트 둘 다 정확도는 높아졌으나, __검증 세트의 정확도__가 __훈련세트의 정확도__보다 __낮게__ 나타남 "
      ]
    },
    {
      "cell_type": "code",
      "metadata": {
        "id": "AdhGZVbQd6QX"
      },
      "source": [
        ""
      ],
      "execution_count": null,
      "outputs": []
    },
    {
      "cell_type": "markdown",
      "metadata": {
        "id": "_ntjxIkIGmPJ"
      },
      "source": [
        "# 무선진동"
      ]
    },
    {
      "cell_type": "code",
      "metadata": {
        "id": "hy2BTc5Yzcey"
      },
      "source": [
        "vibration_x, vibration_y = makeDataset(vibration_op_csv, vibration_no_csv,1)\r\n",
        "vibration_x.shape, vibration_y.shape"
      ],
      "execution_count": null,
      "outputs": []
    },
    {
      "cell_type": "code",
      "metadata": {
        "id": "_kcTmZQhHQQk"
      },
      "source": [
        "from sklearn.model_selection import train_test_split"
      ],
      "execution_count": null,
      "outputs": []
    },
    {
      "cell_type": "code",
      "metadata": {
        "id": "oiXc2Xh-HK77"
      },
      "source": [
        "X_train, X_test, y_train, y_test = train_test_split(vibration_x,vibration_y[:,0],train_size = 0.6, random_state=42)\r\n",
        "X_test, X_valid, y_test, y_valid = train_test_split(X_test, y_test, test_size = 0.5, random_state=42)"
      ],
      "execution_count": null,
      "outputs": []
    },
    {
      "cell_type": "markdown",
      "metadata": {
        "id": "A9dehslk7B8A"
      },
      "source": [
        "## 일반적인 다층 퍼셉트론(MLP)"
      ]
    },
    {
      "cell_type": "code",
      "metadata": {
        "id": "55Bm9xDDGP5V"
      },
      "source": [
        "model3 = keras.models.Sequential()\r\n",
        "model3.add(keras.layers.Flatten(input_shape=[60, 2]))\r\n",
        "model3.add(keras.layers.Dense(300, activation=\"relu\"))\r\n",
        "model3.add(keras.layers.Dense(100, activation=\"relu\"))\r\n",
        "model3.add(keras.layers.Dense(5, activation=\"softmax\")) "
      ],
      "execution_count": null,
      "outputs": []
    },
    {
      "cell_type": "code",
      "metadata": {
        "id": "3AR5j_WCGsAE"
      },
      "source": [
        "model3.compile(loss=\"sparse_categorical_crossentropy\",\r\n",
        "              optimizer=\"sgd\",\r\n",
        "              metrics=[\"accuracy\"])"
      ],
      "execution_count": null,
      "outputs": []
    },
    {
      "cell_type": "code",
      "metadata": {
        "colab": {
          "base_uri": "https://localhost:8080/"
        },
        "id": "mphVlWVDG1gt",
        "outputId": "0860d527-8f80-4141-cdd2-cbeccf5f741f"
      },
      "source": [
        "history3 = model3.fit(X_train,y_train,epochs=30,validation_data=(X_valid,y_valid))"
      ],
      "execution_count": null,
      "outputs": [
        {
          "output_type": "stream",
          "text": [
            "Epoch 1/30\n",
            "720/720 [==============================] - 2s 2ms/step - loss: 2.2386 - accuracy: 0.4752 - val_loss: 1.4057 - val_accuracy: 0.4931\n",
            "Epoch 2/30\n",
            "720/720 [==============================] - 1s 2ms/step - loss: 1.3804 - accuracy: 0.4993 - val_loss: 1.3744 - val_accuracy: 0.4931\n",
            "Epoch 3/30\n",
            "720/720 [==============================] - 1s 2ms/step - loss: 1.3727 - accuracy: 0.4973 - val_loss: 1.3731 - val_accuracy: 0.4931\n",
            "Epoch 4/30\n",
            "720/720 [==============================] - 1s 2ms/step - loss: 1.3593 - accuracy: 0.5050 - val_loss: 1.3776 - val_accuracy: 0.4931\n",
            "Epoch 5/30\n",
            "720/720 [==============================] - 1s 2ms/step - loss: 1.3770 - accuracy: 0.4916 - val_loss: 1.3714 - val_accuracy: 0.4931\n",
            "Epoch 6/30\n",
            "720/720 [==============================] - 1s 2ms/step - loss: 1.3672 - accuracy: 0.4973 - val_loss: 1.3735 - val_accuracy: 0.4931\n",
            "Epoch 7/30\n",
            "720/720 [==============================] - 1s 2ms/step - loss: 1.3643 - accuracy: 0.5010 - val_loss: 1.3734 - val_accuracy: 0.4931\n",
            "Epoch 8/30\n",
            "720/720 [==============================] - 1s 2ms/step - loss: 1.3588 - accuracy: 0.5026 - val_loss: 1.3697 - val_accuracy: 0.4931\n",
            "Epoch 9/30\n",
            "720/720 [==============================] - 1s 2ms/step - loss: 1.3662 - accuracy: 0.4961 - val_loss: 1.3722 - val_accuracy: 0.4931\n",
            "Epoch 10/30\n",
            "720/720 [==============================] - 1s 2ms/step - loss: 1.3562 - accuracy: 0.5033 - val_loss: 1.3661 - val_accuracy: 0.4931\n",
            "Epoch 11/30\n",
            "720/720 [==============================] - 1s 2ms/step - loss: 1.3587 - accuracy: 0.5017 - val_loss: 1.3652 - val_accuracy: 0.4931\n",
            "Epoch 12/30\n",
            "720/720 [==============================] - 1s 2ms/step - loss: 1.3585 - accuracy: 0.5009 - val_loss: 1.3661 - val_accuracy: 0.4931\n",
            "Epoch 13/30\n",
            "720/720 [==============================] - 1s 2ms/step - loss: 1.3539 - accuracy: 0.5045 - val_loss: 1.3639 - val_accuracy: 0.4931\n",
            "Epoch 14/30\n",
            "720/720 [==============================] - 1s 2ms/step - loss: 1.3570 - accuracy: 0.5003 - val_loss: 1.3629 - val_accuracy: 0.4931\n",
            "Epoch 15/30\n",
            "720/720 [==============================] - 1s 2ms/step - loss: 1.3499 - accuracy: 0.5050 - val_loss: 1.3641 - val_accuracy: 0.5109\n",
            "Epoch 16/30\n",
            "720/720 [==============================] - 1s 2ms/step - loss: 1.3486 - accuracy: 0.5185 - val_loss: 1.3604 - val_accuracy: 0.5109\n",
            "Epoch 17/30\n",
            "720/720 [==============================] - 1s 2ms/step - loss: 1.3648 - accuracy: 0.5074 - val_loss: 1.3562 - val_accuracy: 0.5109\n",
            "Epoch 18/30\n",
            "720/720 [==============================] - 1s 2ms/step - loss: 1.3541 - accuracy: 0.5124 - val_loss: 1.3535 - val_accuracy: 0.5109\n",
            "Epoch 19/30\n",
            "720/720 [==============================] - 1s 2ms/step - loss: 1.3508 - accuracy: 0.5158 - val_loss: 1.3521 - val_accuracy: 0.5109\n",
            "Epoch 20/30\n",
            "720/720 [==============================] - 1s 2ms/step - loss: 1.3537 - accuracy: 0.5096 - val_loss: 1.3498 - val_accuracy: 0.5109\n",
            "Epoch 21/30\n",
            "720/720 [==============================] - 1s 2ms/step - loss: 1.3428 - accuracy: 0.5176 - val_loss: 1.3489 - val_accuracy: 0.5109\n",
            "Epoch 22/30\n",
            "720/720 [==============================] - 1s 2ms/step - loss: 1.3401 - accuracy: 0.5169 - val_loss: 1.3469 - val_accuracy: 0.5109\n",
            "Epoch 23/30\n",
            "720/720 [==============================] - 1s 2ms/step - loss: 1.3423 - accuracy: 0.5168 - val_loss: 1.3468 - val_accuracy: 0.5109\n",
            "Epoch 24/30\n",
            "720/720 [==============================] - 1s 2ms/step - loss: 1.3368 - accuracy: 0.5198 - val_loss: 1.3459 - val_accuracy: 0.5109\n",
            "Epoch 25/30\n",
            "720/720 [==============================] - 1s 2ms/step - loss: 1.3444 - accuracy: 0.5126 - val_loss: 1.3413 - val_accuracy: 0.5109\n",
            "Epoch 26/30\n",
            "720/720 [==============================] - 1s 2ms/step - loss: 1.3461 - accuracy: 0.5110 - val_loss: 1.3424 - val_accuracy: 0.5109\n",
            "Epoch 27/30\n",
            "720/720 [==============================] - 1s 2ms/step - loss: 1.3389 - accuracy: 0.5152 - val_loss: 1.3409 - val_accuracy: 0.5109\n",
            "Epoch 28/30\n",
            "720/720 [==============================] - 1s 2ms/step - loss: 1.3368 - accuracy: 0.5149 - val_loss: 1.3378 - val_accuracy: 0.5109\n",
            "Epoch 29/30\n",
            "720/720 [==============================] - 1s 2ms/step - loss: 1.3399 - accuracy: 0.5143 - val_loss: 1.3389 - val_accuracy: 0.5109\n",
            "Epoch 30/30\n",
            "720/720 [==============================] - 1s 2ms/step - loss: 1.3392 - accuracy: 0.5124 - val_loss: 1.3396 - val_accuracy: 0.5109\n"
          ],
          "name": "stdout"
        }
      ]
    },
    {
      "cell_type": "markdown",
      "metadata": {
        "id": "iG79WtQh7HjX"
      },
      "source": [
        "## CNN"
      ]
    },
    {
      "cell_type": "code",
      "metadata": {
        "id": "GPfTYfxSTIof"
      },
      "source": [
        "X_train = X_train[..., np.newaxis]\r\n",
        "X_valid = X_valid[..., np.newaxis]\r\n",
        "X_test = X_test[..., np.newaxis]"
      ],
      "execution_count": null,
      "outputs": []
    },
    {
      "cell_type": "code",
      "metadata": {
        "colab": {
          "base_uri": "https://localhost:8080/"
        },
        "id": "gW0j2Gzu7G8l",
        "outputId": "2ef8518c-8b14-44e8-9234-52f6b4addce2"
      },
      "source": [
        "X_train.shape"
      ],
      "execution_count": null,
      "outputs": [
        {
          "output_type": "execute_result",
          "data": {
            "text/plain": [
              "(23040, 60, 2, 1)"
            ]
          },
          "metadata": {
            "tags": []
          },
          "execution_count": 38
        }
      ]
    },
    {
      "cell_type": "code",
      "metadata": {
        "id": "VuzIKz-T2wVz"
      },
      "source": [
        "# 각 특성 값의 범위를 0~1로 조정\r\n",
        "X_train[:,:,1:] = X_train[:,:,1:]/100\r\n",
        "X_valid[:,:,1:] = X_valid[:,:,1:]/100\r\n",
        "X_test[:,:,1:] = X_test[:,:,1:]/100"
      ],
      "execution_count": null,
      "outputs": []
    },
    {
      "cell_type": "code",
      "metadata": {
        "id": "cv_tQr2l7UlV"
      },
      "source": [
        "from functools import partial\r\n",
        "\r\n",
        "cnn_model3 = keras.models.Sequential([\r\n",
        "    keras.layers.Conv2D(64,7,activation=\"relu\",padding=\"same\",input_shape=(60,2,1)),\r\n",
        "    keras.layers.MaxPool2D(1),\r\n",
        "    keras.layers.Conv2D(128,3,activation=\"relu\",padding=\"same\"),\r\n",
        "    keras.layers.Conv2D(128,3,activation=\"relu\",padding=\"same\"),\r\n",
        "    keras.layers.MaxPool2D(1),\r\n",
        "    keras.layers.Conv2D(256,3,activation=\"relu\",padding=\"same\"),\r\n",
        "    keras.layers.Conv2D(256,3,activation=\"relu\",padding=\"same\"),\r\n",
        "    keras.layers.MaxPool2D(2),\r\n",
        "    keras.layers.Flatten(),\r\n",
        "    keras.layers.Dense(128,activation=\"relu\"),\r\n",
        "    keras.layers.Dropout(0.5),\r\n",
        "    keras.layers.Dense(64,activation=\"relu\"),\r\n",
        "    keras.layers.Dropout(0.5),\r\n",
        "    keras.layers.Dense(units=5, activation='softmax')\r\n",
        "])"
      ],
      "execution_count": null,
      "outputs": []
    },
    {
      "cell_type": "code",
      "metadata": {
        "id": "_TTLDqGu7aA9"
      },
      "source": [
        "cnn_model3.compile(loss=\"sparse_categorical_crossentropy\", optimizer=\"nadam\", metrics=[\"accuracy\"])"
      ],
      "execution_count": null,
      "outputs": []
    },
    {
      "cell_type": "code",
      "metadata": {
        "colab": {
          "base_uri": "https://localhost:8080/"
        },
        "id": "b25AJqq37f7A",
        "outputId": "a6e4a451-e797-4c0a-c249-0a0da3a95f9f"
      },
      "source": [
        "history = cnn_model3.fit(X_train, y_train, epochs=10, validation_data=(X_valid, y_valid))"
      ],
      "execution_count": null,
      "outputs": [
        {
          "output_type": "stream",
          "text": [
            "Epoch 1/10\n",
            "720/720 [==============================] - 9s 11ms/step - loss: 0.8908 - accuracy: 0.5913 - val_loss: 0.7197 - val_accuracy: 0.6658\n",
            "Epoch 2/10\n",
            "720/720 [==============================] - 8s 11ms/step - loss: 0.7547 - accuracy: 0.6448 - val_loss: 0.6401 - val_accuracy: 0.6612\n",
            "Epoch 3/10\n",
            "720/720 [==============================] - 8s 11ms/step - loss: 0.6536 - accuracy: 0.6729 - val_loss: 0.7226 - val_accuracy: 0.6277\n",
            "Epoch 4/10\n",
            "720/720 [==============================] - 8s 11ms/step - loss: 0.6964 - accuracy: 0.6664 - val_loss: 0.6289 - val_accuracy: 0.6767\n",
            "Epoch 5/10\n",
            "720/720 [==============================] - 8s 11ms/step - loss: 0.6844 - accuracy: 0.6731 - val_loss: 0.6231 - val_accuracy: 0.6760\n",
            "Epoch 6/10\n",
            "720/720 [==============================] - 8s 11ms/step - loss: 0.6196 - accuracy: 0.6862 - val_loss: 0.6346 - val_accuracy: 0.6741\n",
            "Epoch 7/10\n",
            "720/720 [==============================] - 8s 11ms/step - loss: 0.6722 - accuracy: 0.6626 - val_loss: 0.6402 - val_accuracy: 0.6759\n",
            "Epoch 8/10\n",
            "720/720 [==============================] - 8s 11ms/step - loss: 0.6656 - accuracy: 0.6645 - val_loss: 0.6708 - val_accuracy: 0.6435\n",
            "Epoch 9/10\n",
            "720/720 [==============================] - 8s 11ms/step - loss: 0.6536 - accuracy: 0.6700 - val_loss: 0.6254 - val_accuracy: 0.6771\n",
            "Epoch 10/10\n",
            "720/720 [==============================] - 8s 11ms/step - loss: 0.6141 - accuracy: 0.6907 - val_loss: 0.6035 - val_accuracy: 0.6785\n"
          ],
          "name": "stdout"
        }
      ]
    },
    {
      "cell_type": "markdown",
      "metadata": {
        "id": "T8MkdXmPbzO4"
      },
      "source": [
        "## Resnet34"
      ]
    },
    {
      "cell_type": "code",
      "metadata": {
        "id": "aEAHxVN1bt0v"
      },
      "source": [
        "X_train, X_test, y_train, y_test = train_test_split(vibration_x,vibration_y[:,0],train_size = 0.6, random_state=42)\r\n",
        "X_test, X_valid, y_test, y_valid = train_test_split(X_test, y_test, test_size = 0.5, random_state=42)\r\n",
        "X_train = X_train[..., np.newaxis]\r\n",
        "X_valid = X_valid[..., np.newaxis]\r\n",
        "X_test = X_test[..., np.newaxis]\r\n",
        "X_train[:,:,1:] = X_train[:,:,1:]/100\r\n",
        "X_valid[:,:,1:] = X_valid[:,:,1:]/100\r\n",
        "X_test[:,:,1:] = X_test[:,:,1:]/100"
      ],
      "execution_count": null,
      "outputs": []
    },
    {
      "cell_type": "code",
      "metadata": {
        "id": "sa-Nc7vHZ_qu"
      },
      "source": [
        "i# 잔차유닛\r\n",
        "class ResidualUnit(keras.layers.Layer):\r\n",
        "    def __init__(self, filters, strides=1, activation=\"relu\", **kwargs):\r\n",
        "        super().__init__(**kwargs)\r\n",
        "        self.activation = keras.activations.get(activation)\r\n",
        "        self.main_layers = [\r\n",
        "            keras.layers.Conv2D(filters,3,strides=strides, padding=\"same\", use_bias=False),\r\n",
        "            keras.layers.BatchNormalization(),\r\n",
        "            self.activation,\r\n",
        "            keras.layers.Conv2D(filters, 3,strides=1,padding=\"same\",use_bias=False),\r\n",
        "            keras.layers.BatchNormalization()]\r\n",
        "        self.skip_layers=[]\r\n",
        "        if strides > 1:\r\n",
        "            self.skip_layers = [\r\n",
        "                keras.layers.Conv2D(filters,1,strides=strides,padding=\"same\",use_bias=False),\r\n",
        "                keras.layers.BatchNormalization()]\r\n",
        "    def call(self,inputs):\r\n",
        "        Z = inputs\r\n",
        "        for layer in self.main_layers:\r\n",
        "            Z = layer(Z)\r\n",
        "        skip_Z = inputs\r\n",
        "        for layer in self.skip_layers:\r\n",
        "            skip_Z = layer(skip_Z)\r\n",
        "        return self.activation(Z+skip_Z)"
      ],
      "execution_count": null,
      "outputs": []
    },
    {
      "cell_type": "code",
      "metadata": {
        "colab": {
          "base_uri": "https://localhost:8080/"
        },
        "id": "EHAB6aldZ97T",
        "outputId": "778265fa-589a-41c3-f8fe-188440be38b1"
      },
      "source": [
        "vibration_resnet_model = keras.models.Sequential()\r\n",
        "vibration_resnet_model.add(keras.layers.Conv2D(64,7,strides=2,input_shape=[60,2,1],padding=\"same\",use_bias=False))\r\n",
        "vibration_resnet_model.add(keras.layers.BatchNormalization())\r\n",
        "vibration_resnet_model.add(keras.layers.Activation(\"relu\"))\r\n",
        "vibration_resnet_model.add(keras.layers.MaxPool2D(pool_size=3, strides=2,padding=\"same\"))\r\n",
        "prev_filters = 64\r\n",
        "for filters in [64]*3+[128]*4+[256]*6+[512]*3:\r\n",
        "    strides = 1 if filters == prev_filters else 2\r\n",
        "    vibration_resnet_model.add(ResidualUnit(filters,strides=strides))\r\n",
        "    prev_filters=filters\r\n",
        "vibration_resnet_model.add(keras.layers.GlobalAvgPool2D())\r\n",
        "vibration_resnet_model.add(keras.layers.Flatten())\r\n",
        "vibration_resnet_model.add(keras.layers.Dense(5,activation=\"softmax\"))\r\n",
        "vibration_resnet_model.compile(loss=\"sparse_categorical_crossentropy\", optimizer=\"nadam\", metrics=[\"accuracy\"])\r\n",
        "vibration_resnet_model.fit(X_train,y_train,epochs=10, validation_data=(X_valid, y_valid))"
      ],
      "execution_count": null,
      "outputs": [
        {
          "output_type": "stream",
          "text": [
            "Epoch 1/10\n",
            "720/720 [==============================] - 42s 48ms/step - loss: 0.9188 - accuracy: 0.6118 - val_loss: 0.6542 - val_accuracy: 0.6827\n",
            "Epoch 2/10\n",
            "720/720 [==============================] - 34s 48ms/step - loss: 0.6833 - accuracy: 0.6611 - val_loss: 0.6438 - val_accuracy: 0.6842\n",
            "Epoch 3/10\n",
            "720/720 [==============================] - 35s 48ms/step - loss: 0.6477 - accuracy: 0.6728 - val_loss: 0.6062 - val_accuracy: 0.6914\n",
            "Epoch 4/10\n",
            "720/720 [==============================] - 35s 48ms/step - loss: 0.6372 - accuracy: 0.6807 - val_loss: 0.6239 - val_accuracy: 0.6852\n",
            "Epoch 5/10\n",
            "720/720 [==============================] - 35s 49ms/step - loss: 0.6384 - accuracy: 0.6780 - val_loss: 110.8870 - val_accuracy: 0.5863\n",
            "Epoch 6/10\n",
            "720/720 [==============================] - 35s 49ms/step - loss: 0.7073 - accuracy: 0.6556 - val_loss: 0.7104 - val_accuracy: 0.6279\n",
            "Epoch 7/10\n",
            "720/720 [==============================] - 35s 49ms/step - loss: 0.6300 - accuracy: 0.6801 - val_loss: 0.6071 - val_accuracy: 0.6868\n",
            "Epoch 8/10\n",
            "720/720 [==============================] - 35s 49ms/step - loss: 0.6429 - accuracy: 0.6833 - val_loss: 0.6258 - val_accuracy: 0.6845\n",
            "Epoch 9/10\n",
            "720/720 [==============================] - 35s 49ms/step - loss: 0.6296 - accuracy: 0.6882 - val_loss: 0.6125 - val_accuracy: 0.6848\n",
            "Epoch 10/10\n",
            "720/720 [==============================] - 35s 49ms/step - loss: 0.6046 - accuracy: 0.6939 - val_loss: 0.6169 - val_accuracy: 0.6625\n"
          ],
          "name": "stdout"
        },
        {
          "output_type": "execute_result",
          "data": {
            "text/plain": [
              "<tensorflow.python.keras.callbacks.History at 0x7fa502c98a90>"
            ]
          },
          "metadata": {
            "tags": []
          },
          "execution_count": 71
        }
      ]
    }
  ]
}