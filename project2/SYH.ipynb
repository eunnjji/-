{
  "nbformat": 4,
  "nbformat_minor": 0,
  "metadata": {
    "colab": {
      "name": "SYH.ipynb",
      "provenance": [],
      "collapsed_sections": [
        "Y4H9tfmE7veZ",
        "WI78op36yyle",
        "IBGggk9B3l0T",
        "WZU3xq1KY1CK",
        "qCIocme8ySOO",
        "5wlzAnw3_jyG",
        "_ntjxIkIGmPJ",
        "T8MkdXmPbzO4",
        "-hRcIAjvD8fU"
      ],
      "include_colab_link": true
    },
    "kernelspec": {
      "name": "python3",
      "display_name": "Python 3"
    },
    "accelerator": "GPU"
  },
  "cells": [
    {
      "cell_type": "markdown",
      "metadata": {
        "id": "view-in-github",
        "colab_type": "text"
      },
      "source": [
        "<a href=\"https://colab.research.google.com/github/eunnjji/MultiCampus-EmpAcademy/blob/main/project2/SYH.ipynb\" target=\"_parent\"><img src=\"https://colab.research.google.com/assets/colab-badge.svg\" alt=\"Open In Colab\"/></a>"
      ]
    },
    {
      "cell_type": "markdown",
      "metadata": {
        "id": "i60GioVp5UEe"
      },
      "source": [
        "## SYH\r\n",
        "\r\n",
        "- 팀명: SYH : super youth hero\r\n",
        "- 주제: 기계 시설물 분야 AI 학습용 데이터를 활용한 기계 시설물의 고장 여부 예측 모델 개발\r\n",
        "- 여수진, 성은지, 홍승표\r\n",
        "- [참고](https://www.aidatahackathon.com/)\r\n",
        "\r\n",
        "## 절차\r\n",
        "1. 데이터 정제\r\n",
        "1. 모델 생성\r\n",
        "1. 모델 예측"
      ]
    },
    {
      "cell_type": "code",
      "metadata": {
        "colab": {
          "base_uri": "https://localhost:8080/"
        },
        "id": "fCgHkGZvzOTw",
        "outputId": "f82922cd-a23c-466e-8999-8322d71dc8d9"
      },
      "source": [
        "from google.colab import drive\n",
        "drive.mount('/content/drive')"
      ],
      "execution_count": null,
      "outputs": [
        {
          "output_type": "stream",
          "text": [
            "Mounted at /content/drive\n"
          ],
          "name": "stdout"
        }
      ]
    },
    {
      "cell_type": "code",
      "metadata": {
        "id": "hpCfEe1VGESH"
      },
      "source": [
        "# libarary import\r\n",
        "import os\r\n",
        "import numpy as np\r\n",
        "import pandas as pd\r\n",
        "import tensorflow as tf\r\n",
        "from tensorflow import keras\r\n",
        "import sklearn as skl\r\n",
        "import pickle\r\n",
        "\r\n",
        "# seed setting\r\n",
        "np.random.seed(42)\r\n",
        "tf.random.set_seed(42)\r\n",
        "\r\n",
        "BASE_DIR = \"/content/drive/MyDrive/\"\r\n",
        "DATA_DIR = '/content/drive/MyDrive/project/daejeon_data'"
      ],
      "execution_count": null,
      "outputs": []
    },
    {
      "cell_type": "markdown",
      "metadata": {
        "id": "UENwuc-KKFwc"
      },
      "source": [
        "지도 학습 문제, 회귀 문제,   \r\n",
        "다중 분류 (소프트맥스 회귀)  \r\n",
        "CNN 계열 모델 활용 "
      ]
    },
    {
      "cell_type": "markdown",
      "metadata": {
        "id": "Y4H9tfmE7veZ"
      },
      "source": [
        "# 1. 데이터 정제 및 분석\r\n"
      ]
    },
    {
      "cell_type": "code",
      "metadata": {
        "colab": {
          "base_uri": "https://localhost:8080/",
          "height": 53
        },
        "id": "lSJOgXPasvZg",
        "outputId": "1a0b9350-47de-4532-b8eb-001486d84722"
      },
      "source": [
        "%cd '/content/drive/MyDrive'\r\n",
        "os.getcwd()"
      ],
      "execution_count": null,
      "outputs": [
        {
          "output_type": "stream",
          "text": [
            "/content/drive/MyDrive\n"
          ],
          "name": "stdout"
        },
        {
          "output_type": "execute_result",
          "data": {
            "application/vnd.google.colaboratory.intrinsic+json": {
              "type": "string"
            },
            "text/plain": [
              "'/content/drive/MyDrive'"
            ]
          },
          "metadata": {
            "tags": []
          },
          "execution_count": 3
        }
      ]
    },
    {
      "cell_type": "code",
      "metadata": {
        "id": "AD_lzjH94kSc"
      },
      "source": [
        "classSet = (\"bearing\", \"belt\", \"misalignment\", \"unbalance\")\r\n",
        "\r\n",
        "def DatadirLoad(dirname):\r\n",
        "    csv_op_dict = {classSet[0]:[], classSet[1]:[], classSet[2]:[],classSet[3]:[]}\r\n",
        "    csv_no_dict = {classSet[0]:[], classSet[1]:[], classSet[2]:[],classSet[3]:[]}\r\n",
        "\r\n",
        "    Save_op_Name, Save_no_Name = 'Data_op_dir.pickle','Data_no_dir.pickle'\r\n",
        "    Save_op_path = os.path.join(BASE_DIR,Save_op_Name)\r\n",
        "    Save_no_path = os.path.join(BASE_DIR,Save_no_Name)\r\n",
        "\r\n",
        "    if os.path.isdir(Save_op_path):\r\n",
        "        with open(Save_op_path, 'rb') as fr:\r\n",
        "            csv_op_dict = picle.load(fr)\r\n",
        "    if os.path.isdir(Save_no_path):\r\n",
        "        with open(Save_no_path, 'rb') as fr:\r\n",
        "            csv_no_dict = picle.load(fr)\r\n",
        "        return csv_op_dict,csv_no_dict\r\n",
        "\r\n",
        "    dirpath = os.path.join(DATA_DIR,dirname)\r\n",
        "    if os.path.isdir(dirpath):\r\n",
        "        for d in os.listdir(dirpath):\r\n",
        "            d_path = dirpath+'/'+d\r\n",
        "            if os.path.isdir(d_path):\r\n",
        "                Error_Class_Lable,kw_Name,*_ = d.split('_')\r\n",
        "                print(Error_Class_Lable,kw_Name)\r\n",
        "                data_dir_list = [ x for x in os.listdir(d_path) if len(x)<2]\r\n",
        "                data_dir_list.sort()\r\n",
        "                #print(data_dir_list)\r\n",
        "                if len(data_dir_list) > 0:\r\n",
        "                    for d2 in data_dir_list:\r\n",
        "                        d2_path = os.path.join(d_path,d2)\r\n",
        "\r\n",
        "                        # op-csv file # 정상 작동\r\n",
        "                        d2_op_path = os.path.join(d2_path,'4.op-csv')\r\n",
        "                        d2_op_data = [x for x in os.listdir(d2_op_path) if x.endswith('.csv')]\r\n",
        "                        op_csv_path = os.path.join(d2_op_path,d2_op_data[0])\r\n",
        "                        csv_op_dict[Error_Class_Lable].append(op_csv_path)\r\n",
        "                        with open(Save_op_path,'wb') as fw:\r\n",
        "                            pickle.dump(csv_op_dict,fw)\r\n",
        "                        # no-csv file # 고장 발생\r\n",
        "                        d2_no_path = os.path.join(d2_path,'5.no-csv')\r\n",
        "                        d2_no_data = [x for x in os.listdir(d2_no_path) if x.endswith('.csv')]\r\n",
        "                        no_csv_path = os.path.join(d2_no_path,d2_no_data[0])\r\n",
        "                        csv_no_dict[Error_Class_Lable].append(no_csv_path)\r\n",
        "                        with open(Save_no_path,'wb') as fw:\r\n",
        "                            pickle.dump(csv_no_dict,fw)\r\n",
        "\r\n",
        "    return csv_op_dict, csv_no_dict"
      ],
      "execution_count": null,
      "outputs": []
    },
    {
      "cell_type": "code",
      "metadata": {
        "id": "Ex5DO9dbshNq"
      },
      "source": [
        "class_name = {'bearing':0, 'belt':1, 'misalignment':2, 'normal':3, 'unbalance':4}"
      ],
      "execution_count": null,
      "outputs": []
    },
    {
      "cell_type": "code",
      "metadata": {
        "id": "irxhhnSfXZfz"
      },
      "source": [
        "def read_csv_dir(path, max_row_size):\r\n",
        "    t_pd = None\r\n",
        "    update_row_size = max_row_size\r\n",
        "    y = None\r\n",
        "    if os.path.isfile(path):\r\n",
        "        data_Name = os.path.basename(path)\r\n",
        "        dir_name,Ekw,dir_num,opno  = os.path.dirname(path).split('/')[6:]\r\n",
        "        Error_Class_Lable,kw_Name,*_ = Ekw.split('_')      \r\n",
        "        opno = 0 if opno[0] == '4' else 1\r\n",
        "        # 정상 : False(0), 고장 : True(1)\r\n",
        "\r\n",
        "        if dir_name[0] == 'c': #current(전류)\r\n",
        "            t_pd = pd.read_csv(path, header=None,encoding='utf-8-sig',skiprows=range(15))\r\n",
        "            t_pd.drop(3, axis=1, inplace=True)\r\n",
        "            t_pd['Motor'] = float(kw_Name[:-2])\r\n",
        "            t_pd['target'] = class_name[Error_Class_Lable] if opno == 1 else class_name['normal']\r\n",
        "            y = t_pd['target']\r\n",
        "            t_pd.drop(['target'], axis=1, inplace=True)\r\n",
        "\r\n",
        "        elif dir_name[0] == 'k': # kimm(유선진동)\r\n",
        "            t_pd = pd.read_csv(path, header=None,encoding='utf-8-sig',skiprows=range(4))\r\n",
        "            t_pd.drop(1, axis=1, inplace=True)\r\n",
        "            t_pd['Motor'] = float(kw_Name[:-2])\r\n",
        "            t_pd['target'] = class_name[Error_Class_Lable] if opno == 1 else class_name['normal']\r\n",
        "            y = t_pd['target']\r\n",
        "            t_pd.drop(['target'], axis=1, inplace=True)\r\n",
        "\r\n",
        "        elif dir_name[0] == 'v': #vibration(무선진동)\r\n",
        "            t_pd = pd.read_csv(path, header=None,encoding='utf-8-sig',skiprows=range(4))\r\n",
        "            t_pd.drop(1, axis=1, inplace=True)\r\n",
        "            t_pd['Motor'] = float(kw_Name[:-2])\r\n",
        "            t_pd['target'] = class_name[Error_Class_Lable] if opno == 1 else class_name['normal']\r\n",
        "            y = t_pd['target']\r\n",
        "            t_pd.drop(['target'], axis=1, inplace=True)\r\n",
        "            if (t_pd.values.shape[0]) > max_row_size:\r\n",
        "                update_row_size = t_pd.values.shape[0]\r\n",
        "            elif (t_pd.values.shape[0]) < max_row_size:\r\n",
        "                update_row_size = 6000\r\n",
        "                tmp = np.zeros((int(update_row_size - t_pd.values.shape[0]),int(t_pd.values.shape[1])))\r\n",
        "                #y_tmp = np.zeros(y.values.shape) # 이렇게 될 경우 normal 데이터에 bearing 데이터가 함께 존재하게 됨\r\n",
        "                y_tmp = y.values\r\n",
        "                new_t = np.vstack([t_pd.values,tmp])\r\n",
        "                new_y = np.append(y,y_tmp,axis=0)\r\n",
        "                return new_t.tolist(), update_row_size, new_y.tolist()\r\n",
        "\r\n",
        "        else: \r\n",
        "            print('error')\r\n",
        "            print('dir_category : {}, lable : {}, op: {}'.format(dir_name, Error_Class_Lable,opno))\r\n",
        "            return 0\r\n",
        "    return t_pd.values.tolist(), update_row_size, y.values.tolist()\r\n",
        "    "
      ],
      "execution_count": null,
      "outputs": []
    },
    {
      "cell_type": "code",
      "metadata": {
        "id": "NagiK1aZjiyK"
      },
      "source": [
        "# dataset 생성\r\n",
        "def makeDataset(op_dict, no_dict, category_num, shape_op = 0):\r\n",
        "    \"\"\"\r\n",
        "    input: 정상data의 path list, 오류 data의 path list\r\n",
        "    output: numpy의 ndarray 타입 형태로 dataset 반환\r\n",
        "    category_num:\r\n",
        "    0은 current 데이터\r\n",
        "    1은 유선 진동 데이터 \r\n",
        "    2는 무선 진동 데이터 \r\n",
        "    shape_op :\r\n",
        "     0이면 (38200, 60 , 5(특성 수)) 형태, \r\n",
        "     1이면 (38200(data개수 * row/60한 값), 5(특성 수), 60)\r\n",
        "    \"\"\"\r\n",
        "    tmp = []\r\n",
        "    max_row_size = 0\r\n",
        "    y_tmp = []\r\n",
        "    Y = None\r\n",
        "\r\n",
        "    category_name = None\r\n",
        "    if category_num == 0:\r\n",
        "        category_name = 'current'\r\n",
        "    elif category_num == 1:\r\n",
        "        category_name = 'kimm'\r\n",
        "    else:category_name = 'vibration'\r\n",
        "\r\n",
        "    save_x_Name, save_y_Name = category_name+'_x.pickle',category_name+'_y.pickle'\r\n",
        "    save_x_path = os.path.join(BASE_DIR,save_x_Name)\r\n",
        "    save_y_path = os.path.join(BASE_DIR,save_y_Name)\r\n",
        "\r\n",
        "\r\n",
        "\r\n",
        "    for k,v in op_dict.items():\r\n",
        "        for p in v:\r\n",
        "            data, max, y = read_csv_dir(p, max_row_size)\r\n",
        "            tmp.append(data)\r\n",
        "            y_tmp.append(y)\r\n",
        "            max_row_size = max\r\n",
        "    for k,v in no_dict.items():\r\n",
        "        for p in v:\r\n",
        "            data, max, y = read_csv_dir(p, max_row_size)\r\n",
        "            tmp.append(data)\r\n",
        "            y_tmp.append(y)\r\n",
        "            max_row_size = max\r\n",
        "    \r\n",
        "    if shape_op == 0:\r\n",
        "        dataset = np.stack(tmp)\r\n",
        "        feature_num = 4 if category_num == 0 else 2\r\n",
        "        Y = np.stack(y_tmp)\r\n",
        "        shape = (-1,60,feature_num) \r\n",
        "        y_shape = (-1,60)\r\n",
        "\r\n",
        "    else:\r\n",
        "        dataset = np.stack(tmp,axis=2)\r\n",
        "        feature_num = 4 if category_num == 0 else 2\r\n",
        "        dataset = dataset.reshape((-1,feature_num,60)).copy()\r\n",
        "        Y = np.stack(y_tmp)\r\n",
        "        Y = Y.reshape((-1,60)).copy()\r\n",
        "        shape = (-1,feature_num,60)\r\n",
        "        y_shape = (-1,60)\r\n",
        "    with open(save_x_path,'wb') as fw:\r\n",
        "        pickle.dump(dataset.reshape(shape),fw)\r\n",
        "    with open(save_y_path,'wb') as fw:\r\n",
        "        pickle.dump(Y.reshape(y_shape),fw)\r\n",
        "\r\n",
        "    return  dataset.reshape(shape), Y.reshape(y_shape)"
      ],
      "execution_count": null,
      "outputs": []
    },
    {
      "cell_type": "code",
      "metadata": {
        "id": "ZGIW4p_B7l5X"
      },
      "source": [
        "def load_dataset(category_num=0):\r\n",
        "    \"\"\"\r\n",
        "    0: current dataset\r\n",
        "    1: kimm dataset\r\n",
        "    2: vibration dataset\r\n",
        "    \"\"\"\r\n",
        "    category_name = None\r\n",
        "    if category_num == 0:\r\n",
        "        category_name = 'current'\r\n",
        "    elif category_num == 1:\r\n",
        "        category_name = 'kimm'\r\n",
        "    else:category_name = 'vibration'\r\n",
        "\r\n",
        "    load_x_Name, load_y_Name = category_name+'_x.pickle',category_name+'_y.pickle'\r\n",
        "    load_x_path = os.path.join(BASE_DIR,load_x_Name) #ex. /content/drive/MyDrive/current_x.pickle\r\n",
        "    load_y_path = os.path.join(BASE_DIR,load_y_Name) \r\n",
        "\r\n",
        "    if os.path.isfile(load_x_path):\r\n",
        "        print('exist')\r\n",
        "        with open(load_x_path, 'rb') as fr:\r\n",
        "            X = pickle.load(fr)\r\n",
        "        if os.path.isfile(load_y_path):\r\n",
        "            print('exist')\r\n",
        "            with open(load_y_path, 'rb') as fr:\r\n",
        "                y = pickle.load(fr)\r\n",
        "            return X,y\r\n",
        "    else:\r\n",
        "        print('not exist')\r\n",
        "        if category_num == 0:\r\n",
        "            current_op_csv,current_no_csv = DatadirLoad(\"current(전류)\")\r\n",
        "            current_x , current_y = makeDataset(current_op_csv,current_no_csv,0,shape_op=0)\r\n",
        "            return current_x,current_y\r\n",
        "        elif category_num == 1:\r\n",
        "            kimm_op_csv, kimm_no_csv = DatadirLoad(\"kimm(유선진동)\")\r\n",
        "            kimm_x, kimm_y = makeDataset(kimm_op_csv,kimm_no_csv, 1)\r\n",
        "            return kimm_x,kimm_y\r\n",
        "        else:\r\n",
        "            vibration_op_csv, vibration_no_csv = DatadirLoad(\"vibration(무선진동)\")\r\n",
        "            vibration_x, vibration_y = makeDataset(vibration_op_csv, vibration_no_csv,2)\r\n",
        "            return vibration_x, vibration_y\r\n"
      ],
      "execution_count": null,
      "outputs": []
    },
    {
      "cell_type": "code",
      "metadata": {
        "id": "058cMn3W639E"
      },
      "source": [
        "pred_name = ['bearing', 'belt', 'misalignment','normal', 'unbalance']"
      ],
      "execution_count": null,
      "outputs": []
    },
    {
      "cell_type": "code",
      "metadata": {
        "colab": {
          "base_uri": "https://localhost:8080/"
        },
        "id": "ppvpvmf4DXzT",
        "outputId": "483b7037-47da-4425-e161-ccd5ec1925d0"
      },
      "source": [
        "current_x,current_y = load_dataset(0) # current"
      ],
      "execution_count": null,
      "outputs": [
        {
          "output_type": "stream",
          "text": [
            "exist\n",
            "exist\n"
          ],
          "name": "stdout"
        }
      ]
    },
    {
      "cell_type": "code",
      "metadata": {
        "colab": {
          "base_uri": "https://localhost:8080/"
        },
        "id": "dlEK2VS8Dk_x",
        "outputId": "97fa0182-64f6-4807-d868-8c986d61fe8e"
      },
      "source": [
        "current_x.shape,current_y.shape"
      ],
      "execution_count": null,
      "outputs": [
        {
          "output_type": "execute_result",
          "data": {
            "text/plain": [
              "((38200, 60, 4), (38200, 60))"
            ]
          },
          "metadata": {
            "tags": []
          },
          "execution_count": 11
        }
      ]
    },
    {
      "cell_type": "code",
      "metadata": {
        "colab": {
          "base_uri": "https://localhost:8080/"
        },
        "id": "W5VU8W3XDYuT",
        "outputId": "6a80d89c-8be9-431c-90a3-6ea50fcfff8c"
      },
      "source": [
        "kimm_x,kimm_y = load_dataset(1) # kimm"
      ],
      "execution_count": null,
      "outputs": [
        {
          "output_type": "stream",
          "text": [
            "exist\n",
            "exist\n"
          ],
          "name": "stdout"
        }
      ]
    },
    {
      "cell_type": "code",
      "metadata": {
        "colab": {
          "base_uri": "https://localhost:8080/"
        },
        "id": "nFiUzfmfDypv",
        "outputId": "239ab347-d483-4879-d7d5-bbdb09a68e67"
      },
      "source": [
        "kimm_x.shape, kimm_y.shape"
      ],
      "execution_count": null,
      "outputs": [
        {
          "output_type": "execute_result",
          "data": {
            "text/plain": [
              "((76800, 60, 2), (76800, 60))"
            ]
          },
          "metadata": {
            "tags": []
          },
          "execution_count": 13
        }
      ]
    },
    {
      "cell_type": "code",
      "metadata": {
        "colab": {
          "base_uri": "https://localhost:8080/"
        },
        "id": "8x3xqCoBAROp",
        "outputId": "9fdf167f-f3d8-4d0f-f78b-fbd2327b356c"
      },
      "source": [
        "vibration_x, vibration_y = load_dataset(2) # vibr"
      ],
      "execution_count": null,
      "outputs": [
        {
          "output_type": "stream",
          "text": [
            "exist\n",
            "exist\n"
          ],
          "name": "stdout"
        }
      ]
    },
    {
      "cell_type": "code",
      "metadata": {
        "colab": {
          "base_uri": "https://localhost:8080/"
        },
        "id": "tFaifqOdD6QL",
        "outputId": "7fbc0bd0-f591-4a0f-efee-b01a2b9f3f5a"
      },
      "source": [
        "vibration_x.shape, vibration_y.shape"
      ],
      "execution_count": null,
      "outputs": [
        {
          "output_type": "execute_result",
          "data": {
            "text/plain": [
              "((38400, 60, 2), (38400, 60))"
            ]
          },
          "metadata": {
            "tags": []
          },
          "execution_count": 15
        }
      ]
    },
    {
      "cell_type": "markdown",
      "metadata": {
        "id": "Gl4Ep5oELKpw"
      },
      "source": [
        "# 2. 모델 생성"
      ]
    },
    {
      "cell_type": "markdown",
      "metadata": {
        "id": "WI78op36yyle"
      },
      "source": [
        "## 전류 데이터"
      ]
    },
    {
      "cell_type": "code",
      "metadata": {
        "id": "Y1JZ_m39yRT8"
      },
      "source": [
        "from sklearn.model_selection import train_test_split"
      ],
      "execution_count": null,
      "outputs": []
    },
    {
      "cell_type": "code",
      "metadata": {
        "id": "-S3t3_mrtEYd"
      },
      "source": [
        "X_train, X_test, y_train, y_test = train_test_split(current_x,current_y[:,0],train_size = 0.6, random_state=42)\r\n",
        "X_test, X_valid, y_test, y_valid = train_test_split(X_test, y_test, test_size = 0.5, random_state=42)"
      ],
      "execution_count": null,
      "outputs": []
    },
    {
      "cell_type": "code",
      "metadata": {
        "colab": {
          "base_uri": "https://localhost:8080/"
        },
        "id": "APMpDh4Apr4J",
        "outputId": "63604474-1688-4c4a-c323-99f51dc5fac1"
      },
      "source": [
        "X_train.shape, y_train.shape"
      ],
      "execution_count": null,
      "outputs": [
        {
          "output_type": "execute_result",
          "data": {
            "text/plain": [
              "((22920, 60, 4), (22920,))"
            ]
          },
          "metadata": {
            "tags": []
          },
          "execution_count": 18
        }
      ]
    },
    {
      "cell_type": "markdown",
      "metadata": {
        "id": "IBGggk9B3l0T"
      },
      "source": [
        "### CNN"
      ]
    },
    {
      "cell_type": "code",
      "metadata": {
        "id": "Cj3sxrXSVeO8"
      },
      "source": [
        "X_train, X_test, y_train, y_test = train_test_split(current_x,current_y[:,0],train_size = 0.6, random_state=42)\r\n",
        "X_test, X_valid, y_test, y_valid = train_test_split(X_test, y_test, test_size = 0.5, random_state=42)"
      ],
      "execution_count": null,
      "outputs": []
    },
    {
      "cell_type": "code",
      "metadata": {
        "id": "yEPbi2koVlYc"
      },
      "source": [
        "X_train = X_train[..., np.newaxis]\r\n",
        "X_valid = X_valid[..., np.newaxis]\r\n",
        "X_test = X_test[..., np.newaxis]"
      ],
      "execution_count": null,
      "outputs": []
    },
    {
      "cell_type": "code",
      "metadata": {
        "colab": {
          "base_uri": "https://localhost:8080/"
        },
        "id": "yMSlFRrRVsXy",
        "outputId": "85cf7fa5-f51e-4609-f405-80821c4cc54a"
      },
      "source": [
        "X_train.shape"
      ],
      "execution_count": null,
      "outputs": [
        {
          "output_type": "execute_result",
          "data": {
            "text/plain": [
              "(22920, 60, 4, 1)"
            ]
          },
          "metadata": {
            "tags": []
          },
          "execution_count": 21
        }
      ]
    },
    {
      "cell_type": "code",
      "metadata": {
        "id": "LOT9ilP8UolI"
      },
      "source": [
        "# 각 특성 값의 범위를 0~1로 조정\r\n",
        "X_train[:,:,3:] = X_train[:,:,3:]/100\r\n",
        "X_valid[:,:,3:] = X_valid[:,:,3:]/100\r\n",
        "X_test[:,:,3:] = X_test[:,:,3:]/100"
      ],
      "execution_count": null,
      "outputs": []
    },
    {
      "cell_type": "code",
      "metadata": {
        "id": "gb1NQ7KKKxbA"
      },
      "source": [
        "from functools import partial\r\n",
        "\r\n",
        "cnn_model = keras.models.Sequential([\r\n",
        "    keras.layers.Conv2D(64,7,activation=\"relu\",padding=\"same\",input_shape=(60,4,1)),\r\n",
        "    keras.layers.MaxPool2D(1),\r\n",
        "    keras.layers.Conv2D(128,3,activation=\"relu\",padding=\"same\"),\r\n",
        "    keras.layers.Conv2D(128,3,activation=\"relu\",padding=\"same\"),\r\n",
        "    keras.layers.MaxPool2D(2),\r\n",
        "    keras.layers.Conv2D(256,3,activation=\"relu\",padding=\"same\"),\r\n",
        "    keras.layers.Conv2D(256,3,activation=\"relu\",padding=\"same\"),\r\n",
        "    keras.layers.MaxPool2D(2),\r\n",
        "    keras.layers.Flatten(),\r\n",
        "    keras.layers.Dense(128,activation=\"relu\"),\r\n",
        "    keras.layers.Dropout(0.5),\r\n",
        "    keras.layers.Dense(64,activation=\"relu\"),\r\n",
        "    keras.layers.Dropout(0.5),\r\n",
        "    keras.layers.Dense(units=5, activation='softmax')\r\n",
        "])"
      ],
      "execution_count": null,
      "outputs": []
    },
    {
      "cell_type": "code",
      "metadata": {
        "colab": {
          "base_uri": "https://localhost:8080/"
        },
        "id": "05D1MnOLQa_4",
        "outputId": "37dafe21-67f3-4209-90f7-2bc21e0be609"
      },
      "source": [
        "cnn_model.summary()"
      ],
      "execution_count": null,
      "outputs": [
        {
          "output_type": "stream",
          "text": [
            "Model: \"sequential\"\n",
            "_________________________________________________________________\n",
            "Layer (type)                 Output Shape              Param #   \n",
            "=================================================================\n",
            "conv2d (Conv2D)              (None, 60, 4, 64)         3200      \n",
            "_________________________________________________________________\n",
            "max_pooling2d (MaxPooling2D) (None, 60, 4, 64)         0         \n",
            "_________________________________________________________________\n",
            "conv2d_1 (Conv2D)            (None, 60, 4, 128)        73856     \n",
            "_________________________________________________________________\n",
            "conv2d_2 (Conv2D)            (None, 60, 4, 128)        147584    \n",
            "_________________________________________________________________\n",
            "max_pooling2d_1 (MaxPooling2 (None, 30, 2, 128)        0         \n",
            "_________________________________________________________________\n",
            "conv2d_3 (Conv2D)            (None, 30, 2, 256)        295168    \n",
            "_________________________________________________________________\n",
            "conv2d_4 (Conv2D)            (None, 30, 2, 256)        590080    \n",
            "_________________________________________________________________\n",
            "max_pooling2d_2 (MaxPooling2 (None, 15, 1, 256)        0         \n",
            "_________________________________________________________________\n",
            "flatten (Flatten)            (None, 3840)              0         \n",
            "_________________________________________________________________\n",
            "dense (Dense)                (None, 128)               491648    \n",
            "_________________________________________________________________\n",
            "dropout (Dropout)            (None, 128)               0         \n",
            "_________________________________________________________________\n",
            "dense_1 (Dense)              (None, 64)                8256      \n",
            "_________________________________________________________________\n",
            "dropout_1 (Dropout)          (None, 64)                0         \n",
            "_________________________________________________________________\n",
            "dense_2 (Dense)              (None, 5)                 325       \n",
            "=================================================================\n",
            "Total params: 1,610,117\n",
            "Trainable params: 1,610,117\n",
            "Non-trainable params: 0\n",
            "_________________________________________________________________\n"
          ],
          "name": "stdout"
        }
      ]
    },
    {
      "cell_type": "code",
      "metadata": {
        "id": "V1LkfdeLLDfJ"
      },
      "source": [
        "cnn_model.compile(loss=\"sparse_categorical_crossentropy\", optimizer=\"nadam\", metrics=[\"accuracy\"])"
      ],
      "execution_count": null,
      "outputs": []
    },
    {
      "cell_type": "code",
      "metadata": {
        "colab": {
          "base_uri": "https://localhost:8080/"
        },
        "id": "MDdn1rtBSi0r",
        "outputId": "f8ea5128-dd3f-4d03-dfb2-96d732c20308"
      },
      "source": [
        "history = cnn_model.fit(X_train, y_train, epochs=10, validation_data=(X_valid, y_valid))"
      ],
      "execution_count": null,
      "outputs": [
        {
          "output_type": "stream",
          "text": [
            "Epoch 1/10\n",
            "717/717 [==============================] - 15s 9ms/step - loss: 0.7194 - accuracy: 0.6643 - val_loss: 0.0312 - val_accuracy: 0.9937\n",
            "Epoch 2/10\n",
            "717/717 [==============================] - 6s 9ms/step - loss: 0.1295 - accuracy: 0.9712 - val_loss: 0.0131 - val_accuracy: 0.9973\n",
            "Epoch 3/10\n",
            "717/717 [==============================] - 6s 9ms/step - loss: 0.2290 - accuracy: 0.9852 - val_loss: 0.0138 - val_accuracy: 0.9970\n",
            "Epoch 4/10\n",
            "717/717 [==============================] - 6s 9ms/step - loss: 0.0580 - accuracy: 0.9886 - val_loss: 0.0122 - val_accuracy: 0.9973\n",
            "Epoch 5/10\n",
            "717/717 [==============================] - 6s 9ms/step - loss: 0.0229 - accuracy: 0.9939 - val_loss: 0.0084 - val_accuracy: 0.9973\n",
            "Epoch 6/10\n",
            "717/717 [==============================] - 6s 9ms/step - loss: 0.0606 - accuracy: 0.9878 - val_loss: 0.0086 - val_accuracy: 0.9973\n",
            "Epoch 7/10\n",
            "717/717 [==============================] - 6s 9ms/step - loss: 0.8832 - accuracy: 0.9899 - val_loss: 0.0086 - val_accuracy: 0.9973\n",
            "Epoch 8/10\n",
            "717/717 [==============================] - 6s 9ms/step - loss: 0.0628 - accuracy: 0.9928 - val_loss: 0.0091 - val_accuracy: 0.9973\n",
            "Epoch 9/10\n",
            "717/717 [==============================] - 6s 9ms/step - loss: 0.0171 - accuracy: 0.9957 - val_loss: 0.0078 - val_accuracy: 0.9973\n",
            "Epoch 10/10\n",
            "717/717 [==============================] - 6s 9ms/step - loss: 0.0136 - accuracy: 0.9967 - val_loss: 0.0227 - val_accuracy: 0.9928\n"
          ],
          "name": "stdout"
        }
      ]
    },
    {
      "cell_type": "markdown",
      "metadata": {
        "id": "WZU3xq1KY1CK"
      },
      "source": [
        "### ResNet 34"
      ]
    },
    {
      "cell_type": "code",
      "metadata": {
        "id": "hJ9xwwZ6aUJu"
      },
      "source": [
        "X_train, X_test, y_train, y_test = train_test_split(current_x,current_y[:,0],train_size = 0.6, random_state=42)\r\n",
        "X_test, X_valid, y_test, y_valid = train_test_split(X_test, y_test, test_size = 0.5, random_state=42)"
      ],
      "execution_count": null,
      "outputs": []
    },
    {
      "cell_type": "code",
      "metadata": {
        "id": "nDXHYtnjbIBD"
      },
      "source": [
        "X_train = X_train[..., np.newaxis]\r\n",
        "X_valid = X_valid[..., np.newaxis]\r\n",
        "X_test = X_test[..., np.newaxis]"
      ],
      "execution_count": null,
      "outputs": []
    },
    {
      "cell_type": "code",
      "metadata": {
        "id": "vgTo_FeNbGxM"
      },
      "source": [
        "X_train[:,:,3:] = X_train[:,:,3:]/100\r\n",
        "X_valid[:,:,3:] = X_valid[:,:,3:]/100\r\n",
        "X_test[:,:,3:] = X_test[:,:,3:]/100"
      ],
      "execution_count": null,
      "outputs": []
    },
    {
      "cell_type": "code",
      "metadata": {
        "colab": {
          "base_uri": "https://localhost:8080/"
        },
        "id": "5BSDps8TgSNK",
        "outputId": "7c34ca81-8087-407a-bbd5-ab92997f512c"
      },
      "source": [
        "X_train.shape"
      ],
      "execution_count": null,
      "outputs": [
        {
          "output_type": "execute_result",
          "data": {
            "text/plain": [
              "(22920, 60, 4, 1)"
            ]
          },
          "metadata": {
            "tags": []
          },
          "execution_count": 30
        }
      ]
    },
    {
      "cell_type": "code",
      "metadata": {
        "id": "tjyBli50ZZOM"
      },
      "source": [
        "# 잔차유닛\r\n",
        "class ResidualUnit(keras.layers.Layer):\r\n",
        "    def __init__(self, filters, strides=1, activation=\"relu\", **kwargs):\r\n",
        "        super().__init__(**kwargs)\r\n",
        "        self.activation = keras.activations.get(activation)\r\n",
        "        self.main_layers = [\r\n",
        "            keras.layers.Conv2D(filters,3,strides=strides, padding=\"same\", use_bias=False),\r\n",
        "            keras.layers.BatchNormalization(),\r\n",
        "            self.activation,\r\n",
        "            keras.layers.Conv2D(filters, 3,strides=1,padding=\"same\",use_bias=False),\r\n",
        "            keras.layers.BatchNormalization()]\r\n",
        "        self.skip_layers=[]\r\n",
        "        if strides > 1:\r\n",
        "            self.skip_layers = [\r\n",
        "                keras.layers.Conv2D(filters,1,strides=strides,padding=\"same\",use_bias=False),\r\n",
        "                keras.layers.BatchNormalization()]\r\n",
        "    def call(self,inputs):\r\n",
        "        Z = inputs\r\n",
        "        for layer in self.main_layers:\r\n",
        "            Z = layer(Z)\r\n",
        "        skip_Z = inputs\r\n",
        "        for layer in self.skip_layers:\r\n",
        "            skip_Z = layer(skip_Z)\r\n",
        "        return self.activation(Z+skip_Z)"
      ],
      "execution_count": null,
      "outputs": []
    },
    {
      "cell_type": "code",
      "metadata": {
        "id": "ZPSekO-gY_Xt"
      },
      "source": [
        "current_resnet_model = keras.models.Sequential()\r\n",
        "current_resnet_model.add(keras.layers.Conv2D(64,7,strides=1,input_shape=[60,4,1],padding=\"same\",use_bias=False)) # current의 경우 strides를 1로 해야 함\r\n",
        "current_resnet_model.add(keras.layers.BatchNormalization())\r\n",
        "current_resnet_model.add(keras.layers.Activation(\"relu\"))\r\n",
        "current_resnet_model.add(keras.layers.MaxPool2D(pool_size=3, strides=2,padding=\"same\"))\r\n",
        "prev_filters = 64\r\n",
        "for filters in [64]*3+[128]*4+[256]*6+[512]*3:\r\n",
        "    strides = 1 if filters == prev_filters else 2\r\n",
        "    current_resnet_model.add(ResidualUnit(filters,strides=strides))\r\n",
        "    prev_filters=filters\r\n",
        "current_resnet_model.add(keras.layers.GlobalAvgPool2D())\r\n",
        "current_resnet_model.add(keras.layers.Flatten())\r\n",
        "current_resnet_model.add(keras.layers.Dense(5,activation=\"softmax\"))"
      ],
      "execution_count": null,
      "outputs": []
    },
    {
      "cell_type": "code",
      "metadata": {
        "id": "vpU9BL4wZV9Y"
      },
      "source": [
        "current_resnet_model.compile(loss=\"sparse_categorical_crossentropy\", optimizer=\"nadam\", metrics=[\"accuracy\"])"
      ],
      "execution_count": null,
      "outputs": []
    },
    {
      "cell_type": "code",
      "metadata": {
        "colab": {
          "base_uri": "https://localhost:8080/"
        },
        "id": "IbrVnIFwZsFA",
        "outputId": "8feaac3d-8eb6-4567-96f0-b1d6e41941b8"
      },
      "source": [
        "current_resnet_model.fit(X_train,y_train,epochs=10, validation_data=(X_valid, y_valid))"
      ],
      "execution_count": null,
      "outputs": [
        {
          "output_type": "stream",
          "text": [
            "Epoch 1/10\n",
            "717/717 [==============================] - 47s 56ms/step - loss: 0.8921 - accuracy: 0.6209 - val_loss: 98.0629 - val_accuracy: 0.4674\n",
            "Epoch 2/10\n",
            "717/717 [==============================] - 39s 54ms/step - loss: 0.5593 - accuracy: 0.7496 - val_loss: 5.4263 - val_accuracy: 0.5024\n",
            "Epoch 3/10\n",
            "717/717 [==============================] - 39s 55ms/step - loss: 0.3987 - accuracy: 0.8021 - val_loss: 27.6360 - val_accuracy: 0.5020\n",
            "Epoch 4/10\n",
            "717/717 [==============================] - 39s 55ms/step - loss: 0.3319 - accuracy: 0.8578 - val_loss: 18.5321 - val_accuracy: 0.5312\n",
            "Epoch 5/10\n",
            "717/717 [==============================] - 39s 55ms/step - loss: 0.2940 - accuracy: 0.8833 - val_loss: 58.3590 - val_accuracy: 0.5018\n",
            "Epoch 6/10\n",
            "717/717 [==============================] - 39s 55ms/step - loss: 0.2555 - accuracy: 0.9006 - val_loss: 119.1620 - val_accuracy: 0.6071\n",
            "Epoch 7/10\n",
            "717/717 [==============================] - 39s 55ms/step - loss: 0.1942 - accuracy: 0.9309 - val_loss: 28.3440 - val_accuracy: 0.6247\n",
            "Epoch 8/10\n",
            "717/717 [==============================] - 39s 55ms/step - loss: 0.3242 - accuracy: 0.8717 - val_loss: 1.0663 - val_accuracy: 0.6369\n",
            "Epoch 9/10\n",
            "717/717 [==============================] - 39s 55ms/step - loss: 0.3799 - accuracy: 0.8439 - val_loss: 6.2404 - val_accuracy: 0.6072\n",
            "Epoch 10/10\n",
            "717/717 [==============================] - 39s 55ms/step - loss: 0.2066 - accuracy: 0.9229 - val_loss: 5.5069 - val_accuracy: 0.6076\n"
          ],
          "name": "stdout"
        },
        {
          "output_type": "execute_result",
          "data": {
            "text/plain": [
              "<tensorflow.python.keras.callbacks.History at 0x7fad05e35748>"
            ]
          },
          "metadata": {
            "tags": []
          },
          "execution_count": 34
        }
      ]
    },
    {
      "cell_type": "markdown",
      "metadata": {
        "id": "qCIocme8ySOO"
      },
      "source": [
        "## 유선진동"
      ]
    },
    {
      "cell_type": "code",
      "metadata": {
        "id": "0IdDGM1V6y3L"
      },
      "source": [
        "pred_name = ['bearing', 'belt', 'misalignment','normal', 'unbalance']"
      ],
      "execution_count": null,
      "outputs": []
    },
    {
      "cell_type": "code",
      "metadata": {
        "id": "Zug4dtp9HOvv"
      },
      "source": [
        "from sklearn.model_selection import train_test_split"
      ],
      "execution_count": null,
      "outputs": []
    },
    {
      "cell_type": "code",
      "metadata": {
        "id": "72nquORbG_l7"
      },
      "source": [
        "X_train, X_test, y_train, y_test = train_test_split(kimm_x,kimm_y[:,0],train_size = 0.6, random_state=42)\r\n",
        "X_test, X_valid, y_test, y_valid = train_test_split(X_test, y_test, test_size = 0.5, random_state=42)"
      ],
      "execution_count": null,
      "outputs": []
    },
    {
      "cell_type": "markdown",
      "metadata": {
        "id": "5wlzAnw3_jyG"
      },
      "source": [
        "### ResNet-34 "
      ]
    },
    {
      "cell_type": "code",
      "metadata": {
        "id": "G0qB6PjV_9yA"
      },
      "source": [
        "X_train, X_test, y_train, y_test = train_test_split(kimm_x,kimm_y[:,0],train_size = 0.6, random_state=42)\r\n",
        "X_test, X_valid, y_test, y_valid = train_test_split(X_test, y_test, test_size = 0.5, random_state=42)"
      ],
      "execution_count": null,
      "outputs": []
    },
    {
      "cell_type": "code",
      "metadata": {
        "id": "CFlfM4BH_9yB"
      },
      "source": [
        "X_train = X_train[..., np.newaxis]\r\n",
        "X_valid = X_valid[..., np.newaxis]\r\n",
        "X_test = X_test[..., np.newaxis]"
      ],
      "execution_count": null,
      "outputs": []
    },
    {
      "cell_type": "code",
      "metadata": {
        "colab": {
          "base_uri": "https://localhost:8080/"
        },
        "id": "HJFqOtqv_9yC",
        "outputId": "4b6d8b7d-205f-4026-969b-ece92ae27df3"
      },
      "source": [
        "X_train.shape"
      ],
      "execution_count": null,
      "outputs": [
        {
          "output_type": "execute_result",
          "data": {
            "text/plain": [
              "(46080, 60, 2, 1)"
            ]
          },
          "metadata": {
            "tags": []
          },
          "execution_count": 40
        }
      ]
    },
    {
      "cell_type": "code",
      "metadata": {
        "id": "2Qy8TM_P_9yD"
      },
      "source": [
        "# 각 특성 값의 범위를 0~1로 조정\r\n",
        "X_train[:,:,1:] = X_train[:,:,1:]/100\r\n",
        "X_valid[:,:,1:] = X_valid[:,:,1:]/100\r\n",
        "X_test[:,:,1:] = X_test[:,:,1:]/100"
      ],
      "execution_count": null,
      "outputs": []
    },
    {
      "cell_type": "code",
      "metadata": {
        "id": "NW4DeTLhBAa7"
      },
      "source": [
        "# 잔차유닛\r\n",
        "class ResidualUnit(keras.layers.Layer):\r\n",
        "    def __init__(self, filters, strides=1, activation=\"relu\", **kwargs):\r\n",
        "        super().__init__(**kwargs)\r\n",
        "        self.activation = keras.activations.get(activation)\r\n",
        "        self.main_layers = [\r\n",
        "            keras.layers.Conv2D(filters,3,strides=strides, padding=\"same\", use_bias=False),\r\n",
        "            keras.layers.BatchNormalization(),\r\n",
        "            self.activation,\r\n",
        "            keras.layers.Conv2D(filters, 3,strides=1,padding=\"same\",use_bias=False),\r\n",
        "            keras.layers.BatchNormalization()]\r\n",
        "        self.skip_layers=[]\r\n",
        "        if strides > 1:\r\n",
        "            self.skip_layers = [\r\n",
        "                keras.layers.Conv2D(filters,1,strides=strides,padding=\"same\",use_bias=False),\r\n",
        "                keras.layers.BatchNormalization()]\r\n",
        "    def call(self,inputs):\r\n",
        "        Z = inputs\r\n",
        "        for layer in self.main_layers:\r\n",
        "            Z = layer(Z)\r\n",
        "        skip_Z = inputs\r\n",
        "        for layer in self.skip_layers:\r\n",
        "            skip_Z = layer(skip_Z)\r\n",
        "        return self.activation(Z+skip_Z)"
      ],
      "execution_count": null,
      "outputs": []
    },
    {
      "cell_type": "code",
      "metadata": {
        "id": "lMsn0v9W__AA"
      },
      "source": [
        "kimm_resnet_model = keras.models.Sequential()\r\n",
        "kimm_resnet_model.add(keras.layers.Conv2D(64,7,strides=2,input_shape=[60,2,1],padding=\"same\",use_bias=False))\r\n",
        "kimm_resnet_model.add(keras.layers.BatchNormalization())\r\n",
        "kimm_resnet_model.add(keras.layers.Activation(\"relu\"))\r\n",
        "kimm_resnet_model.add(keras.layers.MaxPool2D(pool_size=3, strides=2,padding=\"same\"))\r\n",
        "prev_filters = 64\r\n",
        "for filters in [64]*3+[128]*4+[256]*6+[512]*3:\r\n",
        "    strides = 1 if filters == prev_filters else 2\r\n",
        "    kimm_resnet_model.add(ResidualUnit(filters,strides=strides))\r\n",
        "    prev_filters=filters\r\n",
        "kimm_resnet_model.add(keras.layers.GlobalAvgPool2D())\r\n",
        "kimm_resnet_model.add(keras.layers.Flatten())\r\n",
        "kimm_resnet_model.add(keras.layers.Dense(5,activation=\"softmax\"))"
      ],
      "execution_count": null,
      "outputs": []
    },
    {
      "cell_type": "code",
      "metadata": {
        "id": "9Cui09uUE7eA"
      },
      "source": [
        "kimm_resnet_model.compile(loss=\"sparse_categorical_crossentropy\", optimizer=\"nadam\", metrics=[\"accuracy\"])"
      ],
      "execution_count": null,
      "outputs": []
    },
    {
      "cell_type": "code",
      "metadata": {
        "colab": {
          "base_uri": "https://localhost:8080/"
        },
        "id": "jIYPSJrDE7Q5",
        "outputId": "9827f43d-a670-484d-f372-e73efef7cf1d"
      },
      "source": [
        "kimm_resnet_model.fit(X_train,y_train,epochs=10, validation_data=(X_valid, y_valid))"
      ],
      "execution_count": null,
      "outputs": [
        {
          "output_type": "stream",
          "text": [
            "Epoch 1/10\n",
            "1440/1440 [==============================] - 77s 49ms/step - loss: 1.2793 - accuracy: 0.5314 - val_loss: 0.9604 - val_accuracy: 0.6442\n",
            "Epoch 2/10\n",
            "1440/1440 [==============================] - 69s 48ms/step - loss: 0.8746 - accuracy: 0.6466 - val_loss: 0.9472 - val_accuracy: 0.6981\n",
            "Epoch 3/10\n",
            "1440/1440 [==============================] - 69s 48ms/step - loss: 0.6787 - accuracy: 0.7134 - val_loss: 2.1146 - val_accuracy: 0.5268\n",
            "Epoch 4/10\n",
            "1440/1440 [==============================] - 69s 48ms/step - loss: 0.5793 - accuracy: 0.7541 - val_loss: 1.4651 - val_accuracy: 0.6014\n",
            "Epoch 5/10\n",
            "1440/1440 [==============================] - 69s 48ms/step - loss: 0.5085 - accuracy: 0.7799 - val_loss: 1.6573 - val_accuracy: 0.6134\n",
            "Epoch 6/10\n",
            "1440/1440 [==============================] - 69s 48ms/step - loss: 0.4448 - accuracy: 0.8014 - val_loss: 1.6234 - val_accuracy: 0.6847\n",
            "Epoch 7/10\n",
            "1440/1440 [==============================] - 69s 48ms/step - loss: 0.4057 - accuracy: 0.8203 - val_loss: 1.6951 - val_accuracy: 0.6684\n",
            "Epoch 8/10\n",
            "1440/1440 [==============================] - 69s 48ms/step - loss: 0.3838 - accuracy: 0.8294 - val_loss: 1.9674 - val_accuracy: 0.5958\n",
            "Epoch 9/10\n",
            "1440/1440 [==============================] - 69s 48ms/step - loss: 0.3599 - accuracy: 0.8395 - val_loss: 1.8105 - val_accuracy: 0.6193\n",
            "Epoch 10/10\n",
            "1440/1440 [==============================] - 70s 48ms/step - loss: 0.3338 - accuracy: 0.8506 - val_loss: 2.4980 - val_accuracy: 0.5300\n"
          ],
          "name": "stdout"
        },
        {
          "output_type": "execute_result",
          "data": {
            "text/plain": [
              "<tensorflow.python.keras.callbacks.History at 0x7fad041da828>"
            ]
          },
          "metadata": {
            "tags": []
          },
          "execution_count": 45
        }
      ]
    },
    {
      "cell_type": "markdown",
      "metadata": {
        "id": "_ntjxIkIGmPJ"
      },
      "source": [
        "## 무선진동"
      ]
    },
    {
      "cell_type": "code",
      "metadata": {
        "id": "hy2BTc5Yzcey",
        "colab": {
          "base_uri": "https://localhost:8080/"
        },
        "outputId": "c150284b-78a3-49f9-d3b4-3a2ecb3ae0eb"
      },
      "source": [
        "vibration_x.shape, vibration_y.shape"
      ],
      "execution_count": null,
      "outputs": [
        {
          "output_type": "execute_result",
          "data": {
            "text/plain": [
              "((38400, 60, 2), (38400, 60))"
            ]
          },
          "metadata": {
            "tags": []
          },
          "execution_count": 46
        }
      ]
    },
    {
      "cell_type": "code",
      "metadata": {
        "id": "_kcTmZQhHQQk"
      },
      "source": [
        "from sklearn.model_selection import train_test_split"
      ],
      "execution_count": null,
      "outputs": []
    },
    {
      "cell_type": "code",
      "metadata": {
        "id": "oiXc2Xh-HK77"
      },
      "source": [
        "X_train, X_test, y_train, y_test = train_test_split(vibration_x,vibration_y[:,0],train_size = 0.6, random_state=42)\r\n",
        "X_test, X_valid, y_test, y_valid = train_test_split(X_test, y_test, test_size = 0.5, random_state=42)"
      ],
      "execution_count": null,
      "outputs": []
    },
    {
      "cell_type": "markdown",
      "metadata": {
        "id": "T8MkdXmPbzO4"
      },
      "source": [
        "### Resnet34"
      ]
    },
    {
      "cell_type": "code",
      "metadata": {
        "id": "aEAHxVN1bt0v"
      },
      "source": [
        "X_train, X_test, y_train, y_test = train_test_split(vibration_x,vibration_y[:,0],train_size = 0.6, random_state=42)\r\n",
        "X_test, X_valid, y_test, y_valid = train_test_split(X_test, y_test, test_size = 0.5, random_state=42)\r\n",
        "X_train = X_train[..., np.newaxis]\r\n",
        "X_valid = X_valid[..., np.newaxis]\r\n",
        "X_test = X_test[..., np.newaxis]\r\n",
        "X_train[:,:,1:] = X_train[:,:,1:]/100\r\n",
        "X_valid[:,:,1:] = X_valid[:,:,1:]/100\r\n",
        "X_test[:,:,1:] = X_test[:,:,1:]/100"
      ],
      "execution_count": null,
      "outputs": []
    },
    {
      "cell_type": "code",
      "metadata": {
        "id": "sa-Nc7vHZ_qu"
      },
      "source": [
        "# 잔차유닛\r\n",
        "class ResidualUnit(keras.layers.Layer):\r\n",
        "    def __init__(self, filters, strides=1, activation=\"relu\", **kwargs):\r\n",
        "        super().__init__(**kwargs)\r\n",
        "        self.activation = keras.activations.get(activation)\r\n",
        "        self.main_layers = [\r\n",
        "            keras.layers.Conv2D(filters,3,strides=strides, padding=\"same\", use_bias=False),\r\n",
        "            keras.layers.BatchNormalization(),\r\n",
        "            self.activation,\r\n",
        "            keras.layers.Conv2D(filters, 3,strides=1,padding=\"same\",use_bias=False),\r\n",
        "            keras.layers.BatchNormalization()]\r\n",
        "        self.skip_layers=[]\r\n",
        "        if strides > 1:\r\n",
        "            self.skip_layers = [\r\n",
        "                keras.layers.Conv2D(filters,1,strides=strides,padding=\"same\",use_bias=False),\r\n",
        "                keras.layers.BatchNormalization()]\r\n",
        "    def call(self,inputs):\r\n",
        "        Z = inputs\r\n",
        "        for layer in self.main_layers:\r\n",
        "            Z = layer(Z)\r\n",
        "        skip_Z = inputs\r\n",
        "        for layer in self.skip_layers:\r\n",
        "            skip_Z = layer(skip_Z)\r\n",
        "        return self.activation(Z+skip_Z)"
      ],
      "execution_count": null,
      "outputs": []
    },
    {
      "cell_type": "code",
      "metadata": {
        "colab": {
          "base_uri": "https://localhost:8080/"
        },
        "id": "EHAB6aldZ97T",
        "outputId": "ae8e3230-bdf9-4b1f-f2ba-5b043e634266"
      },
      "source": [
        "vibration_resnet_model = keras.models.Sequential()\r\n",
        "vibration_resnet_model.add(keras.layers.Conv2D(64,7,strides=2,input_shape=[60,2,1],padding=\"same\",use_bias=False))\r\n",
        "vibration_resnet_model.add(keras.layers.BatchNormalization())\r\n",
        "vibration_resnet_model.add(keras.layers.Activation(\"relu\"))\r\n",
        "vibration_resnet_model.add(keras.layers.MaxPool2D(pool_size=3, strides=2,padding=\"same\"))\r\n",
        "prev_filters = 64\r\n",
        "for filters in [64]*3+[128]*4+[256]*6+[512]*3:\r\n",
        "    strides = 1 if filters == prev_filters else 2\r\n",
        "    vibration_resnet_model.add(ResidualUnit(filters,strides=strides))\r\n",
        "    prev_filters=filters\r\n",
        "vibration_resnet_model.add(keras.layers.GlobalAvgPool2D())\r\n",
        "vibration_resnet_model.add(keras.layers.Flatten())\r\n",
        "vibration_resnet_model.add(keras.layers.Dense(5,activation=\"softmax\"))\r\n",
        "vibration_resnet_model.compile(loss=\"sparse_categorical_crossentropy\", optimizer=\"nadam\", metrics=[\"accuracy\"])\r\n",
        "vibration_resnet_model.fit(X_train,y_train,epochs=10, validation_data=(X_valid, y_valid))"
      ],
      "execution_count": null,
      "outputs": [
        {
          "output_type": "stream",
          "text": [
            "Epoch 1/10\n",
            "720/720 [==============================] - 42s 49ms/step - loss: 0.8889 - accuracy: 0.6196 - val_loss: 0.8078 - val_accuracy: 0.5900\n",
            "Epoch 2/10\n",
            "720/720 [==============================] - 35s 48ms/step - loss: 0.6824 - accuracy: 0.6649 - val_loss: 0.7198 - val_accuracy: 0.6460\n",
            "Epoch 3/10\n",
            "720/720 [==============================] - 35s 48ms/step - loss: 0.6857 - accuracy: 0.6516 - val_loss: 0.6065 - val_accuracy: 0.6904\n",
            "Epoch 4/10\n",
            "720/720 [==============================] - 35s 48ms/step - loss: 0.6373 - accuracy: 0.6797 - val_loss: 0.7065 - val_accuracy: 0.6105\n",
            "Epoch 5/10\n",
            "720/720 [==============================] - 35s 48ms/step - loss: 0.6557 - accuracy: 0.6713 - val_loss: 0.6224 - val_accuracy: 0.6909\n",
            "Epoch 6/10\n",
            "720/720 [==============================] - 35s 48ms/step - loss: 0.6286 - accuracy: 0.6893 - val_loss: 0.5593 - val_accuracy: 0.7191\n",
            "Epoch 7/10\n",
            "720/720 [==============================] - 35s 48ms/step - loss: 0.5957 - accuracy: 0.7023 - val_loss: 0.5423 - val_accuracy: 0.7176\n",
            "Epoch 8/10\n",
            "720/720 [==============================] - 35s 48ms/step - loss: 0.5994 - accuracy: 0.7034 - val_loss: 1.4700 - val_accuracy: 0.6465\n",
            "Epoch 9/10\n",
            "720/720 [==============================] - 35s 48ms/step - loss: 0.6076 - accuracy: 0.6945 - val_loss: 0.5513 - val_accuracy: 0.7160\n",
            "Epoch 10/10\n",
            "720/720 [==============================] - 35s 48ms/step - loss: 0.5730 - accuracy: 0.7088 - val_loss: 0.5953 - val_accuracy: 0.6984\n"
          ],
          "name": "stdout"
        },
        {
          "output_type": "execute_result",
          "data": {
            "text/plain": [
              "<tensorflow.python.keras.callbacks.History at 0x7fabf44d4518>"
            ]
          },
          "metadata": {
            "tags": []
          },
          "execution_count": 51
        }
      ]
    },
    {
      "cell_type": "markdown",
      "metadata": {
        "id": "-hRcIAjvD8fU"
      },
      "source": [
        "# 3. 모델 예측"
      ]
    },
    {
      "cell_type": "code",
      "metadata": {
        "id": "dHR15QpnECX6"
      },
      "source": [
        "TEST_PATH = '/content/drive/MyDrive/Colab Notebooks/testSet'"
      ],
      "execution_count": null,
      "outputs": []
    },
    {
      "cell_type": "code",
      "metadata": {
        "id": "nZnNw7K3GiT4"
      },
      "source": [
        "import csv"
      ],
      "execution_count": null,
      "outputs": []
    },
    {
      "cell_type": "code",
      "metadata": {
        "id": "HcOYpO3kEZU1"
      },
      "source": [
        "def read_test_dir(path):\r\n",
        "    if os.path.isdir(path):\r\n",
        "        dir_list = os.listdir(path)\r\n",
        "    dir_list = sorted(dir_list)\r\n",
        "    \r\n",
        "    result_f = os.path.join(path,dir_list[-1])\r\n",
        "\r\n",
        "    tmp_dir_list = []\r\n",
        "    with open(result_f,'r') as rf:\r\n",
        "        tt = csv.reader(rf)\r\n",
        "        for i in tt:\r\n",
        "            tmp_dir_list.append(i)\r\n",
        "    \r\n",
        "    # print(len(tmp_dir_list))\r\n",
        "\r\n",
        "    tmp_dir_list = tmp_dir_list[1:]\r\n",
        "    test_dir_list = []\r\n",
        "    category = []\r\n",
        "    kw = []\r\n",
        "    for t in tmp_dir_list:\r\n",
        "        num = t[0]\r\n",
        "        if len(num)<2:\r\n",
        "            num = '00'+num\r\n",
        "        elif len(num)<3:\r\n",
        "            num = '0'+num\r\n",
        "        f_name = num+'.csv'\r\n",
        "        p = os.path.join(path,f_name)\r\n",
        "        test_dir_list.append(p)\r\n",
        "        category.append(t[1])\r\n",
        "        kw.append(t[2])\r\n",
        "\r\n",
        "    return test_dir_list, category, kw"
      ],
      "execution_count": null,
      "outputs": []
    },
    {
      "cell_type": "code",
      "metadata": {
        "id": "76MlTlaPOgJL"
      },
      "source": [
        "def test_predict():\r\n",
        "    t,c,k = read_test_dir(TEST_PATH)\r\n",
        "    y = {}\r\n",
        "    X = None\r\n",
        "    for i in range(len(t)):\r\n",
        "        f_name = os.path.basename(t[i])\r\n",
        "        if f_name == '142.csv':\r\n",
        "            print('{} pass : Current라고 되어있으나 3 col이 아닌 1col data, 주최측은 Current가 맞다고 답변'.format(f_name))\r\n",
        "            pass\r\n",
        "        elif c[i] == 'Current':\r\n",
        "            X = pd.read_csv(t[i])\r\n",
        "            X.drop('Seq',axis=1,inplace=True)\r\n",
        "            X['Motor'] = float(k[i])/100\r\n",
        "            \r\n",
        "            r1 = cnn_model.predict_classes(X.values[np.newaxis,...,np.newaxis])\r\n",
        "            r2 = current_resnet_model.predict_classes(X.values[np.newaxis,...,np.newaxis])\r\n",
        "            print('{}, {}\\n cnn : {}\\n resnet : {}'.format(f_name,c[i],r1,r2))\r\n",
        "            y[f_name] = [r1,r2]\r\n",
        "        elif c[i] == 'Kimm':\r\n",
        "            X = pd.read_csv(t[i])\r\n",
        "            X.drop('Seq',axis=1,inplace=True)\r\n",
        "            X['Motor'] = float(k[i])/100\r\n",
        "\r\n",
        "            r1 = kimm_resnet_model.predict_classes(X.values[np.newaxis,...,np.newaxis])\r\n",
        "            print('{}, {}\\n resnet : {}'.format(f_name,c[i],r1))\r\n",
        "            y[f_name] = [r1]\r\n",
        "        else: # Vibration\r\n",
        "            X = pd.read_csv(t[i])\r\n",
        "            X.drop('Seq',axis=1,inplace=True)\r\n",
        "            X['Motor'] = float(k[i])/100\r\n",
        "\r\n",
        "            r1 = vibration_resnet_model.predict_classes(X.values[np.newaxis,...,np.newaxis])\r\n",
        "            print('{}, {}\\n resnet : {}'.format(f_name,c[i],r1))\r\n",
        "            y[f_name] = [r1]\r\n",
        "    return y"
      ],
      "execution_count": null,
      "outputs": []
    },
    {
      "cell_type": "code",
      "metadata": {
        "colab": {
          "base_uri": "https://localhost:8080/"
        },
        "id": "-jO4dTW-RS21",
        "outputId": "61ab794d-3ceb-4ac0-85a5-055b32439fa5"
      },
      "source": [
        "test_y_dict = test_predict()"
      ],
      "execution_count": null,
      "outputs": [
        {
          "output_type": "stream",
          "text": [
            "/usr/local/lib/python3.6/dist-packages/tensorflow/python/keras/engine/sequential.py:450: UserWarning: `model.predict_classes()` is deprecated and will be removed after 2021-01-01. Please use instead:* `np.argmax(model.predict(x), axis=-1)`,   if your model does multi-class classification   (e.g. if it uses a `softmax` last-layer activation).* `(model.predict(x) > 0.5).astype(\"int32\")`,   if your model does binary classification   (e.g. if it uses a `sigmoid` last-layer activation).\n",
            "  warnings.warn('`model.predict_classes()` is deprecated and '\n"
          ],
          "name": "stderr"
        },
        {
          "output_type": "stream",
          "text": [
            "001.csv, Kimm\n",
            " resnet : [3]\n",
            "002.csv, Kimm\n",
            " resnet : [3]\n",
            "003.csv, Vibration\n",
            " resnet : [4]\n",
            "004.csv, Current\n",
            " cnn : [1]\n",
            " resnet : [0]\n",
            "005.csv, Vibration\n",
            " resnet : [1]\n",
            "006.csv, Current\n",
            " cnn : [3]\n",
            " resnet : [3]\n",
            "007.csv, Kimm\n",
            " resnet : [3]\n",
            "008.csv, Vibration\n",
            " resnet : [1]\n",
            "009.csv, Kimm\n",
            " resnet : [3]\n",
            "010.csv, Vibration\n",
            " resnet : [4]\n",
            "011.csv, Kimm\n",
            " resnet : [1]\n",
            "012.csv, Vibration\n",
            " resnet : [1]\n",
            "013.csv, Current\n",
            " cnn : [3]\n",
            " resnet : [3]\n",
            "014.csv, Vibration\n",
            " resnet : [2]\n",
            "015.csv, Vibration\n",
            " resnet : [4]\n",
            "016.csv, Kimm\n",
            " resnet : [4]\n",
            "017.csv, Current\n",
            " cnn : [2]\n",
            " resnet : [0]\n",
            "018.csv, Kimm\n",
            " resnet : [4]\n",
            "019.csv, Vibration\n",
            " resnet : [1]\n",
            "020.csv, Kimm\n",
            " resnet : [3]\n",
            "021.csv, Vibration\n",
            " resnet : [1]\n",
            "022.csv, Current\n",
            " cnn : [0]\n",
            " resnet : [0]\n",
            "023.csv, Kimm\n",
            " resnet : [3]\n",
            "024.csv, Kimm\n",
            " resnet : [0]\n",
            "025.csv, Vibration\n",
            " resnet : [1]\n",
            "026.csv, Kimm\n",
            " resnet : [0]\n",
            "027.csv, Vibration\n",
            " resnet : [1]\n",
            "028.csv, Vibration\n",
            " resnet : [4]\n",
            "029.csv, Kimm\n",
            " resnet : [1]\n",
            "030.csv, Vibration\n",
            " resnet : [4]\n",
            "031.csv, Current\n",
            " cnn : [3]\n",
            " resnet : [3]\n",
            "032.csv, Vibration\n",
            " resnet : [4]\n",
            "033.csv, Vibration\n",
            " resnet : [1]\n",
            "034.csv, Current\n",
            " cnn : [4]\n",
            " resnet : [0]\n",
            "035.csv, Current\n",
            " cnn : [2]\n",
            " resnet : [0]\n",
            "036.csv, Vibration\n",
            " resnet : [3]\n",
            "037.csv, Current\n",
            " cnn : [1]\n",
            " resnet : [0]\n",
            "038.csv, Vibration\n",
            " resnet : [1]\n",
            "039.csv, Vibration\n",
            " resnet : [3]\n",
            "040.csv, Current\n",
            " cnn : [2]\n",
            " resnet : [0]\n",
            "041.csv, Kimm\n",
            " resnet : [3]\n",
            "042.csv, Current\n",
            " cnn : [1]\n",
            " resnet : [0]\n",
            "043.csv, Kimm\n",
            " resnet : [1]\n",
            "044.csv, Kimm\n",
            " resnet : [3]\n",
            "045.csv, Vibration\n",
            " resnet : [1]\n",
            "046.csv, Vibration\n",
            " resnet : [3]\n",
            "047.csv, Current\n",
            " cnn : [3]\n",
            " resnet : [3]\n",
            "048.csv, Vibration\n",
            " resnet : [4]\n",
            "049.csv, Kimm\n",
            " resnet : [1]\n",
            "050.csv, Current\n",
            " cnn : [2]\n",
            " resnet : [0]\n",
            "051.csv, Vibration\n",
            " resnet : [1]\n",
            "052.csv, Vibration\n",
            " resnet : [2]\n",
            "053.csv, Kimm\n",
            " resnet : [3]\n",
            "054.csv, Kimm\n",
            " resnet : [3]\n",
            "055.csv, Current\n",
            " cnn : [2]\n",
            " resnet : [0]\n",
            "056.csv, Vibration\n",
            " resnet : [1]\n",
            "057.csv, Kimm\n",
            " resnet : [3]\n",
            "058.csv, Vibration\n",
            " resnet : [2]\n",
            "059.csv, Vibration\n",
            " resnet : [1]\n",
            "060.csv, Current\n",
            " cnn : [4]\n",
            " resnet : [0]\n",
            "061.csv, Current\n",
            " cnn : [1]\n",
            " resnet : [0]\n",
            "062.csv, Kimm\n",
            " resnet : [4]\n",
            "063.csv, Vibration\n",
            " resnet : [4]\n",
            "064.csv, Vibration\n",
            " resnet : [4]\n",
            "065.csv, Current\n",
            " cnn : [2]\n",
            " resnet : [0]\n",
            "066.csv, Vibration\n",
            " resnet : [3]\n",
            "067.csv, Current\n",
            " cnn : [4]\n",
            " resnet : [0]\n",
            "068.csv, Current\n",
            " cnn : [4]\n",
            " resnet : [0]\n",
            "069.csv, Kimm\n",
            " resnet : [3]\n",
            "070.csv, Vibration\n",
            " resnet : [4]\n",
            "071.csv, Vibration\n",
            " resnet : [4]\n",
            "072.csv, Kimm\n",
            " resnet : [0]\n",
            "073.csv, Vibration\n",
            " resnet : [4]\n",
            "074.csv, Kimm\n",
            " resnet : [3]\n",
            "075.csv, Current\n",
            " cnn : [4]\n",
            " resnet : [0]\n",
            "076.csv, Current\n",
            " cnn : [2]\n",
            " resnet : [0]\n",
            "077.csv, Kimm\n",
            " resnet : [3]\n",
            "078.csv, Current\n",
            " cnn : [1]\n",
            " resnet : [0]\n",
            "079.csv, Kimm\n",
            " resnet : [4]\n",
            "080.csv, Current\n",
            " cnn : [1]\n",
            " resnet : [0]\n",
            "081.csv, Current\n",
            " cnn : [1]\n",
            " resnet : [0]\n",
            "082.csv, Vibration\n",
            " resnet : [4]\n",
            "083.csv, Vibration\n",
            " resnet : [4]\n",
            "084.csv, Kimm\n",
            " resnet : [3]\n",
            "085.csv, Kimm\n",
            " resnet : [0]\n",
            "086.csv, Kimm\n",
            " resnet : [1]\n",
            "087.csv, Current\n",
            " cnn : [1]\n",
            " resnet : [0]\n",
            "088.csv, Vibration\n",
            " resnet : [2]\n",
            "089.csv, Current\n",
            " cnn : [4]\n",
            " resnet : [0]\n",
            "090.csv, Vibration\n",
            " resnet : [2]\n",
            "091.csv, Vibration\n",
            " resnet : [4]\n",
            "092.csv, Vibration\n",
            " resnet : [2]\n",
            "093.csv, Current\n",
            " cnn : [0]\n",
            " resnet : [0]\n",
            "094.csv, Vibration\n",
            " resnet : [2]\n",
            "095.csv, Current\n",
            " cnn : [2]\n",
            " resnet : [0]\n",
            "096.csv, Vibration\n",
            " resnet : [1]\n",
            "097.csv, Current\n",
            " cnn : [3]\n",
            " resnet : [3]\n",
            "098.csv, Current\n",
            " cnn : [4]\n",
            " resnet : [0]\n",
            "099.csv, Kimm\n",
            " resnet : [3]\n",
            "100.csv, Kimm\n",
            " resnet : [3]\n",
            "100.csv, Kimm\n",
            " resnet : [3]\n",
            "101.csv, Current\n",
            " cnn : [3]\n",
            " resnet : [3]\n",
            "WARNING:tensorflow:Model was constructed with shape (None, 60, 2, 1) for input KerasTensor(type_spec=TensorSpec(shape=(None, 60, 2, 1), dtype=tf.float32, name='conv2d_77_input'), name='conv2d_77_input', description=\"created by layer 'conv2d_77_input'\"), but it was called on an input with incompatible shape (None, 60, 4, 1).\n",
            "102.csv, Vibration\n",
            " resnet : [4]\n",
            "103.csv, Current\n",
            " cnn : [3]\n",
            " resnet : [3]\n",
            "104.csv, Vibration\n",
            " resnet : [3]\n",
            "105.csv, Current\n",
            " cnn : [3]\n",
            " resnet : [3]\n",
            "106.csv, Kimm\n",
            " resnet : [3]\n",
            "107.csv, Current\n",
            " cnn : [3]\n",
            " resnet : [3]\n",
            "108.csv, Vibration\n",
            " resnet : [3]\n",
            "WARNING:tensorflow:Model was constructed with shape (None, 60, 2, 1) for input KerasTensor(type_spec=TensorSpec(shape=(None, 60, 2, 1), dtype=tf.float32, name='conv2d_41_input'), name='conv2d_41_input', description=\"created by layer 'conv2d_41_input'\"), but it was called on an input with incompatible shape (None, 60, 3, 1).\n",
            "109.csv, Kimm\n",
            " resnet : [3]\n",
            "110.csv, Vibration\n",
            " resnet : [2]\n",
            "111.csv, Current\n",
            " cnn : [3]\n",
            " resnet : [3]\n",
            "112.csv, Current\n",
            " cnn : [3]\n",
            " resnet : [3]\n",
            "113.csv, Vibration\n",
            " resnet : [1]\n",
            "114.csv, Vibration\n",
            " resnet : [3]\n",
            "115.csv, Current\n",
            " cnn : [3]\n",
            " resnet : [3]\n",
            "116.csv, Current\n",
            " cnn : [3]\n",
            " resnet : [3]\n",
            "117.csv, Vibration\n",
            " resnet : [2]\n",
            "118.csv, Current\n",
            " cnn : [3]\n",
            " resnet : [3]\n",
            "119.csv, Vibration\n",
            " resnet : [1]\n",
            "120.csv, Kimm\n",
            " resnet : [1]\n",
            "121.csv, Current\n",
            " cnn : [3]\n",
            " resnet : [3]\n",
            "122.csv, Kimm\n",
            " resnet : [1]\n",
            "123.csv, Kimm\n",
            " resnet : [1]\n",
            "124.csv, Current\n",
            " cnn : [3]\n",
            " resnet : [3]\n",
            "125.csv, Kimm\n",
            " resnet : [3]\n",
            "126.csv, Current\n",
            " cnn : [3]\n",
            " resnet : [3]\n",
            "127.csv, Vibration\n",
            " resnet : [3]\n",
            "128.csv, Kimm\n",
            " resnet : [3]\n",
            "129.csv, Vibration\n",
            " resnet : [2]\n",
            "130.csv, Kimm\n",
            " resnet : [1]\n",
            "131.csv, Vibration\n",
            " resnet : [4]\n",
            "132.csv, Kimm\n",
            " resnet : [3]\n",
            "133.csv, Kimm\n",
            " resnet : [3]\n",
            "134.csv, Kimm\n",
            " resnet : [0]\n",
            "135.csv, Vibration\n",
            " resnet : [2]\n",
            "136.csv, Current\n",
            " cnn : [3]\n",
            " resnet : [3]\n",
            "137.csv, Vibration\n",
            " resnet : [0]\n",
            "138.csv, Current\n",
            " cnn : [3]\n",
            " resnet : [3]\n",
            "139.csv, Current\n",
            " cnn : [3]\n",
            " resnet : [3]\n",
            "140.csv, Vibration\n",
            " resnet : [1]\n",
            "141.csv, Kimm\n",
            " resnet : [3]\n",
            "142.csv pass : Current라고 되어있으나 3 col이 아닌 1col data, 주최측은 Current가 맞다고 답변\n",
            "143.csv, Vibration\n",
            " resnet : [3]\n",
            "144.csv, Kimm\n",
            " resnet : [0]\n",
            "145.csv, Current\n",
            " cnn : [3]\n",
            " resnet : [3]\n",
            "146.csv, Current\n",
            " cnn : [3]\n",
            " resnet : [3]\n",
            "147.csv, Current\n",
            " cnn : [3]\n",
            " resnet : [3]\n",
            "148.csv, Vibration\n",
            " resnet : [3]\n",
            "149.csv, Kimm\n",
            " resnet : [1]\n",
            "150.csv, Current\n",
            " cnn : [3]\n",
            " resnet : [3]\n"
          ],
          "name": "stdout"
        }
      ]
    }
  ]
}