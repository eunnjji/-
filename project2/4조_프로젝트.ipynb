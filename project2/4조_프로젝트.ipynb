{
  "nbformat": 4,
  "nbformat_minor": 0,
  "metadata": {
    "colab": {
      "name": "4조_프로젝트.ipynb",
      "provenance": [],
      "collapsed_sections": [
        "WI78op36yyle",
        "GWTozOVOHa2Z",
        "IBGggk9B3l0T",
        "WZU3xq1KY1CK",
        "qCIocme8ySOO",
        "vuAjM1YZ5iay",
        "CzVq0u2u6P2X",
        "VVKf7Jmn9lfF",
        "5wlzAnw3_jyG",
        "_ntjxIkIGmPJ",
        "A9dehslk7B8A",
        "iG79WtQh7HjX",
        "T8MkdXmPbzO4",
        "-hRcIAjvD8fU"
      ],
      "include_colab_link": true
    },
    "kernelspec": {
      "name": "python3",
      "display_name": "Python 3"
    },
    "accelerator": "GPU"
  },
  "cells": [
    {
      "cell_type": "markdown",
      "metadata": {
        "id": "view-in-github",
        "colab_type": "text"
      },
      "source": [
        "<a href=\"https://colab.research.google.com/github/eunnjji/MultiCampus-EmpAcademy/blob/main/project2/4%EC%A1%B0_%ED%94%84%EB%A1%9C%EC%A0%9D%ED%8A%B8.ipynb\" target=\"_parent\"><img src=\"https://colab.research.google.com/assets/colab-badge.svg\" alt=\"Open In Colab\"/></a>"
      ]
    },
    {
      "cell_type": "markdown",
      "metadata": {
        "id": "i60GioVp5UEe"
      },
      "source": [
        "# 4조\r\n",
        "\r\n",
        "- 팀명: SYH : super youth hero\r\n",
        "- 주제: 기계 시설물 분야 AI 학습용 데이터를 활용한 기계 시설물의 고장 여부 예측 모델 개발\r\n",
        "- 여수진,성은지,홍승표,문지수 \r\n",
        "- [참고](https://www.aidatahackathon.com/)\r\n",
        "\r\n",
        "## 절차\r\n",
        "1. 문제 분석\r\n",
        "1. 데이터 정제\r\n",
        "1. 모델 생성 및 평가\r\n",
        " "
      ]
    },
    {
      "cell_type": "code",
      "metadata": {
        "colab": {
          "base_uri": "https://localhost:8080/"
        },
        "id": "fCgHkGZvzOTw",
        "outputId": "5004e74d-d0a1-44f9-b79f-593067814601"
      },
      "source": [
        "from google.colab import drive\n",
        "drive.mount('/content/drive')"
      ],
      "execution_count": null,
      "outputs": [
        {
          "output_type": "stream",
          "text": [
            "Drive already mounted at /content/drive; to attempt to forcibly remount, call drive.mount(\"/content/drive\", force_remount=True).\n"
          ],
          "name": "stdout"
        }
      ]
    },
    {
      "cell_type": "code",
      "metadata": {
        "id": "hpCfEe1VGESH"
      },
      "source": [
        "# libarary import\r\n",
        "import os\r\n",
        "import numpy as np\r\n",
        "import pandas as pd\r\n",
        "import tensorflow as tf\r\n",
        "from tensorflow import keras\r\n",
        "import sklearn as skl\r\n",
        "import pickle\r\n",
        "\r\n",
        "# seed setting\r\n",
        "np.random.seed(42)\r\n",
        "tf.random.set_seed(42)\r\n",
        "\r\n",
        "BASE_DIR = \"/content/drive/MyDrive/\"\r\n",
        "DATA_DIR = '/content/drive/MyDrive/project/daejeon_data'"
      ],
      "execution_count": null,
      "outputs": []
    },
    {
      "cell_type": "markdown",
      "metadata": {
        "id": "DdNluuWm9YGy"
      },
      "source": [
        "## 데이터 형태\r\n",
        "csv 파일  \r\n",
        ",(콤마)로 분류된 시계열 데이터  \r\n",
        "+ current  \r\n",
        "  - 파일명, 에러 아이디, RPM, 정격전류,\r\n",
        "  - 사용전류, Sample Rate 값, R전류의 RMS (RRMS),\r\n",
        "  - R 전류의 MEAN (RMEAN), R 전류의 MAX (RMAX),\r\n",
        "  - S 전류의 RMS (SRMS), S 전류의 MEAN (SMEAN),\r\n",
        "  - S 전류의 MAX (SMAX), T 전류의 RMS (TRMS),\r\n",
        "  - T 전류의 MEAN (TMEAN), T 전류의 MAX (TMAX)\r\n",
        "+ kimm\r\n",
        "  - 파일명, Sample Rate 값, Label, Label_No\r\n",
        "+ vibration\r\n",
        "  - 파일명, Sample Rate, Sample Rate, Sample Rate\r\n",
        "\r\n",
        "## 데이터 구조\r\n",
        "\r\n",
        "op-csv : 모터 정상 가동 중 측정한 데이터  \r\n",
        "no-csv : 모터가 해당 고장 레이블인 상태에 측정한 데이터\r\n",
        "\r\n",
        "current(전류 데이터) - __11, 15, 18.5, 2.2, 3.7, 5.5, 7.5__ (단위: kw)  \r\n",
        "kimm(유선진동 데이터) - __11, 15, 18.5, 2.2, 3.7, 5.5, 7.5__ (단위: kw)  \r\n",
        "vibration(무선진동 데이터) - __11, 15, 18.5, 2.2, 3.7, 5.5, 7.5__ (단위: kw)  \r\n",
        "\r\n",
        "|레이블|\r\n",
        "|---|\r\n",
        "|정상|\r\n",
        "|회전체 불평형(unbalance)|\r\n",
        "|베어링 불량(bearing)|\r\n",
        "|벨트 느슨함(belt)|\r\n",
        "|축정렬 불량(misalignment)|\r\n",
        "<br>\r\n",
        "\r\n",
        "전류의 경우 \\[r,s,t value, kW] target(y)는 \\[레이블종류] 특성 \\[kw]  \r\n",
        "유선진동의 경우 \\[Sample rate value, kW] target(y)는 \\[레이블종류] 특성 \\[kw]  \r\n",
        "무선진동의 경우 \\[Sample rate value, kW] target(y)는 \\[레이블종류] 특성 \\[kw]  \r\n"
      ]
    },
    {
      "cell_type": "markdown",
      "metadata": {
        "id": "r-loxU42oKW7"
      },
      "source": [
        "# 1. 문제 분석\r\n",
        "\r\n",
        "지도 학습 문제, 회귀 문제,   \r\n",
        "다중 분류 (소프트맥스 회귀)  \r\n",
        "CNN 계열 모델 활용 \r\n"
      ]
    },
    {
      "cell_type": "markdown",
      "metadata": {
        "id": "Y4H9tfmE7veZ"
      },
      "source": [
        "# 2. 데이터 정제 및 분석\r\n"
      ]
    },
    {
      "cell_type": "markdown",
      "metadata": {
        "id": "tSzMZFb99LZO"
      },
      "source": [
        ",로 구분된 csv 파일 형태로 데이터 가져오기"
      ]
    },
    {
      "cell_type": "code",
      "metadata": {
        "colab": {
          "base_uri": "https://localhost:8080/",
          "height": 53
        },
        "id": "lSJOgXPasvZg",
        "outputId": "6eb4abae-4835-4600-fc93-d2f671316ba9"
      },
      "source": [
        "%cd '/content/drive/MyDrive'\r\n",
        "os.getcwd()"
      ],
      "execution_count": null,
      "outputs": [
        {
          "output_type": "stream",
          "text": [
            "/content/drive/MyDrive\n"
          ],
          "name": "stdout"
        },
        {
          "output_type": "execute_result",
          "data": {
            "application/vnd.google.colaboratory.intrinsic+json": {
              "type": "string"
            },
            "text/plain": [
              "'/content/drive/MyDrive'"
            ]
          },
          "metadata": {
            "tags": []
          },
          "execution_count": 4
        }
      ]
    },
    {
      "cell_type": "code",
      "metadata": {
        "id": "AD_lzjH94kSc"
      },
      "source": [
        "classSet = (\"bearing\", \"belt\", \"misalignment\", \"unbalance\")\r\n",
        "\r\n",
        "def DatadirLoad(dirname):\r\n",
        "    csv_op_dict = {classSet[0]:[], classSet[1]:[], classSet[2]:[],classSet[3]:[]}\r\n",
        "    csv_no_dict = {classSet[0]:[], classSet[1]:[], classSet[2]:[],classSet[3]:[]}\r\n",
        "\r\n",
        "    Save_op_Name, Save_no_Name = 'Data_op_dir.pickle','Data_no_dir.pickle'\r\n",
        "    Save_op_path = os.path.join(BASE_DIR,Save_op_Name)\r\n",
        "    Save_no_path = os.path.join(BASE_DIR,Save_no_Name)\r\n",
        "\r\n",
        "    if os.path.isdir(Save_op_path):\r\n",
        "        with open(Save_op_path, 'rb') as fr:\r\n",
        "            csv_op_dict = picle.load(fr)\r\n",
        "    if os.path.isdir(Save_no_path):\r\n",
        "        with open(Save_no_path, 'rb') as fr:\r\n",
        "            csv_no_dict = picle.load(fr)\r\n",
        "        return csv_op_dict,csv_no_dict\r\n",
        "\r\n",
        "    dirpath = os.path.join(DATA_DIR,dirname)\r\n",
        "    if os.path.isdir(dirpath):\r\n",
        "        for d in os.listdir(dirpath):\r\n",
        "            d_path = dirpath+'/'+d\r\n",
        "            if os.path.isdir(d_path):\r\n",
        "                Error_Class_Lable,kw_Name,*_ = d.split('_')\r\n",
        "                print(Error_Class_Lable,kw_Name)\r\n",
        "                data_dir_list = [ x for x in os.listdir(d_path) if len(x)<2]\r\n",
        "                data_dir_list.sort()\r\n",
        "                #print(data_dir_list)\r\n",
        "                if len(data_dir_list) > 0:\r\n",
        "                    for d2 in data_dir_list:\r\n",
        "                        d2_path = os.path.join(d_path,d2)\r\n",
        "\r\n",
        "                        # op-csv file # 정상 작동\r\n",
        "                        d2_op_path = os.path.join(d2_path,'4.op-csv')\r\n",
        "                        d2_op_data = [x for x in os.listdir(d2_op_path) if x.endswith('.csv')]\r\n",
        "                        op_csv_path = os.path.join(d2_op_path,d2_op_data[0])\r\n",
        "                        csv_op_dict[Error_Class_Lable].append(op_csv_path)\r\n",
        "                        with open(Save_op_path,'wb') as fw:\r\n",
        "                            pickle.dump(csv_op_dict,fw)\r\n",
        "                        # no-csv file # 고장 발생\r\n",
        "                        d2_no_path = os.path.join(d2_path,'5.no-csv')\r\n",
        "                        d2_no_data = [x for x in os.listdir(d2_no_path) if x.endswith('.csv')]\r\n",
        "                        no_csv_path = os.path.join(d2_no_path,d2_no_data[0])\r\n",
        "                        csv_no_dict[Error_Class_Lable].append(no_csv_path)\r\n",
        "                        with open(Save_no_path,'wb') as fw:\r\n",
        "                            pickle.dump(csv_no_dict,fw)\r\n",
        "\r\n",
        "    return csv_op_dict, csv_no_dict"
      ],
      "execution_count": null,
      "outputs": []
    },
    {
      "cell_type": "markdown",
      "metadata": {
        "id": "pyBLP89yEiPn"
      },
      "source": [
        "범주형 데이터 -> 숫자형 데이터 변환하기 위한 사전 단계"
      ]
    },
    {
      "cell_type": "code",
      "metadata": {
        "id": "Ex5DO9dbshNq"
      },
      "source": [
        "class_name = {'bearing':0, 'belt':1, 'misalignment':2, 'normal':3, 'unbalance':4}"
      ],
      "execution_count": null,
      "outputs": []
    },
    {
      "cell_type": "code",
      "metadata": {
        "id": "irxhhnSfXZfz"
      },
      "source": [
        "def read_csv_dir(path, max_row_size):\r\n",
        "    t_pd = None\r\n",
        "    update_row_size = max_row_size\r\n",
        "    y = None\r\n",
        "    if os.path.isfile(path):\r\n",
        "        data_Name = os.path.basename(path)\r\n",
        "        dir_name,Ekw,dir_num,opno  = os.path.dirname(path).split('/')[6:]\r\n",
        "        Error_Class_Lable,kw_Name,*_ = Ekw.split('_')      \r\n",
        "        opno = 0 if opno[0] == '4' else 1\r\n",
        "        # 정상 : False(0), 고장 : True(1)\r\n",
        "\r\n",
        "        if dir_name[0] == 'c': #current(전류)\r\n",
        "            t_pd = pd.read_csv(path, header=None,encoding='utf-8-sig',skiprows=range(15))\r\n",
        "            t_pd.drop(3, axis=1, inplace=True)\r\n",
        "            t_pd['Motor'] = float(kw_Name[:-2])\r\n",
        "            t_pd['target'] = class_name[Error_Class_Lable] if opno == 1 else class_name['normal']\r\n",
        "            y = t_pd['target']\r\n",
        "            t_pd.drop(['target'], axis=1, inplace=True)\r\n",
        "\r\n",
        "        elif dir_name[0] == 'k': # kimm(유선진동)\r\n",
        "            t_pd = pd.read_csv(path, header=None,encoding='utf-8-sig',skiprows=range(4))\r\n",
        "            t_pd.drop(1, axis=1, inplace=True)\r\n",
        "            t_pd['Motor'] = float(kw_Name[:-2])\r\n",
        "            t_pd['target'] = class_name[Error_Class_Lable] if opno == 1 else class_name['normal']\r\n",
        "            y = t_pd['target']\r\n",
        "            t_pd.drop(['target'], axis=1, inplace=True)\r\n",
        "\r\n",
        "        elif dir_name[0] == 'v': #vibration(무선진동)\r\n",
        "            t_pd = pd.read_csv(path, header=None,encoding='utf-8-sig',skiprows=range(4))\r\n",
        "            t_pd.drop(1, axis=1, inplace=True)\r\n",
        "            t_pd['Motor'] = float(kw_Name[:-2])\r\n",
        "            t_pd['target'] = class_name[Error_Class_Lable] if opno == 1 else class_name['normal']\r\n",
        "            y = t_pd['target']\r\n",
        "            t_pd.drop(['target'], axis=1, inplace=True)\r\n",
        "            if (t_pd.values.shape[0]) > max_row_size:\r\n",
        "                update_row_size = t_pd.values.shape[0]\r\n",
        "            elif (t_pd.values.shape[0]) < max_row_size:\r\n",
        "                update_row_size = 6000\r\n",
        "                tmp = np.zeros((int(update_row_size - t_pd.values.shape[0]),int(t_pd.values.shape[1])))\r\n",
        "                #y_tmp = np.zeros(y.values.shape) # 이렇게 될 경우 normal 데이터에 bearing 데이터가 함께 존재하게 됨\r\n",
        "                y_tmp = y.values\r\n",
        "                new_t = np.vstack([t_pd.values,tmp])\r\n",
        "                new_y = np.append(y,y_tmp,axis=0)\r\n",
        "                return new_t.tolist(), update_row_size, new_y.tolist()\r\n",
        "\r\n",
        "        else: \r\n",
        "            print('error')\r\n",
        "            print('dir_category : {}, lable : {}, op: {}'.format(dir_name, Error_Class_Lable,opno))\r\n",
        "            return 0\r\n",
        "    return t_pd.values.tolist(), update_row_size, y.values.tolist()\r\n",
        "    "
      ],
      "execution_count": null,
      "outputs": []
    },
    {
      "cell_type": "markdown",
      "metadata": {
        "id": "m8KUWTKVEr1C"
      },
      "source": [
        "DataSet 생성"
      ]
    },
    {
      "cell_type": "code",
      "metadata": {
        "id": "NagiK1aZjiyK"
      },
      "source": [
        "# dataset 생성\r\n",
        "def makeDataset(op_dict, no_dict, category_num, shape_op = 0):\r\n",
        "    \"\"\"\r\n",
        "    input: 정상data의 path list, 오류 data의 path list\r\n",
        "    output: numpy의 ndarray 타입 형태로 dataset 반환\r\n",
        "    category_num:\r\n",
        "    0은 current 데이터\r\n",
        "    1은 유선 진동 데이터 \r\n",
        "    2는 무선 진동 데이터 \r\n",
        "    shape_op :\r\n",
        "     0이면 (38200, 60 , 5(특성 수)) 형태, \r\n",
        "     1이면 (38200(data개수 * row/60한 값), 5(특성 수), 60)\r\n",
        "    \"\"\"\r\n",
        "    tmp = []\r\n",
        "    max_row_size = 0\r\n",
        "    y_tmp = []\r\n",
        "    Y = None\r\n",
        "\r\n",
        "    category_name = None\r\n",
        "    if category_num == 0:\r\n",
        "        category_name = 'current'\r\n",
        "    elif category_num == 1:\r\n",
        "        category_name = 'kimm'\r\n",
        "    else:category_name = 'vibration'\r\n",
        "\r\n",
        "    save_x_Name, save_y_Name = category_name+'_x.pickle',category_name+'_y.pickle'\r\n",
        "    save_x_path = os.path.join(BASE_DIR,save_x_Name)\r\n",
        "    save_y_path = os.path.join(BASE_DIR,save_y_Name)\r\n",
        "\r\n",
        "\r\n",
        "\r\n",
        "    for k,v in op_dict.items():\r\n",
        "        for p in v:\r\n",
        "            data, max, y = read_csv_dir(p, max_row_size)\r\n",
        "            tmp.append(data)\r\n",
        "            y_tmp.append(y)\r\n",
        "            max_row_size = max\r\n",
        "    for k,v in no_dict.items():\r\n",
        "        for p in v:\r\n",
        "            data, max, y = read_csv_dir(p, max_row_size)\r\n",
        "            tmp.append(data)\r\n",
        "            y_tmp.append(y)\r\n",
        "            max_row_size = max\r\n",
        "    \r\n",
        "    if shape_op == 0:\r\n",
        "        dataset = np.stack(tmp)\r\n",
        "        feature_num = 4 if category_num == 0 else 2\r\n",
        "        Y = np.stack(y_tmp)\r\n",
        "        shape = (-1,60,feature_num) \r\n",
        "        y_shape = (-1,60)\r\n",
        "\r\n",
        "    else:\r\n",
        "        dataset = np.stack(tmp,axis=2)\r\n",
        "        feature_num = 4 if category_num == 0 else 2\r\n",
        "        dataset = dataset.reshape((-1,feature_num,60)).copy()\r\n",
        "        Y = np.stack(y_tmp)\r\n",
        "        Y = Y.reshape((-1,60)).copy()\r\n",
        "        shape = (-1,feature_num,60)\r\n",
        "        y_shape = (-1,60)\r\n",
        "    with open(save_x_path,'wb') as fw:\r\n",
        "        pickle.dump(dataset.reshape(shape),fw)\r\n",
        "    with open(save_y_path,'wb') as fw:\r\n",
        "        pickle.dump(Y.reshape(y_shape),fw)\r\n",
        "\r\n",
        "    return  dataset.reshape(shape), Y.reshape(y_shape)"
      ],
      "execution_count": null,
      "outputs": []
    },
    {
      "cell_type": "markdown",
      "metadata": {
        "id": "W4VEioUdEvZ-"
      },
      "source": [
        "생성된 DataSet 저장 및 불러오기"
      ]
    },
    {
      "cell_type": "code",
      "metadata": {
        "id": "ZGIW4p_B7l5X"
      },
      "source": [
        "def load_dataset(category_num=0):\r\n",
        "    \"\"\"\r\n",
        "    0: current dataset\r\n",
        "    1: kimm dataset\r\n",
        "    2: vibration dataset\r\n",
        "    \"\"\"\r\n",
        "    category_name = None\r\n",
        "    if category_num == 0:\r\n",
        "        category_name = 'current'\r\n",
        "    elif category_num == 1:\r\n",
        "        category_name = 'kimm'\r\n",
        "    else:category_name = 'vibration'\r\n",
        "\r\n",
        "    load_x_Name, load_y_Name = category_name+'_x.pickle',category_name+'_y.pickle'\r\n",
        "    load_x_path = os.path.join(BASE_DIR,load_x_Name) #ex. /content/drive/MyDrive/current_x.pickle\r\n",
        "    load_y_path = os.path.join(BASE_DIR,load_y_Name) \r\n",
        "\r\n",
        "    if os.path.isfile(load_x_path):\r\n",
        "        print('exist')\r\n",
        "        with open(load_x_path, 'rb') as fr:\r\n",
        "            X = pickle.load(fr)\r\n",
        "        if os.path.isfile(load_y_path):\r\n",
        "            print('exist')\r\n",
        "            with open(load_y_path, 'rb') as fr:\r\n",
        "                y = pickle.load(fr)\r\n",
        "            return X,y\r\n",
        "    else:\r\n",
        "        print('not exist')\r\n",
        "        if category_num == 0:\r\n",
        "            current_op_csv,current_no_csv = DatadirLoad(\"current(전류)\")\r\n",
        "            current_x , current_y = makeDataset(current_op_csv,current_no_csv,0,shape_op=0)\r\n",
        "            return current_x,current_y\r\n",
        "        elif category_num == 1:\r\n",
        "            kimm_op_csv, kimm_no_csv = DatadirLoad(\"kimm(유선진동)\")\r\n",
        "            kimm_x, kimm_y = makeDataset(kimm_op_csv,kimm_no_csv, 1)\r\n",
        "            return kimm_x,kimm_y\r\n",
        "        else:\r\n",
        "            vibration_op_csv, vibration_no_csv = DatadirLoad(\"vibration(무선진동)\")\r\n",
        "            vibration_x, vibration_y = makeDataset(vibration_op_csv, vibration_no_csv,2)\r\n",
        "            return vibration_x, vibration_y\r\n"
      ],
      "execution_count": null,
      "outputs": []
    },
    {
      "cell_type": "code",
      "metadata": {
        "id": "058cMn3W639E"
      },
      "source": [
        "pred_name = ['bearing', 'belt', 'misalignment','normal', 'unbalance']"
      ],
      "execution_count": null,
      "outputs": []
    },
    {
      "cell_type": "markdown",
      "metadata": {
        "id": "e_nf_DJOE1GX"
      },
      "source": [
        "전류 데이터 가져오기"
      ]
    },
    {
      "cell_type": "code",
      "metadata": {
        "colab": {
          "base_uri": "https://localhost:8080/"
        },
        "id": "ppvpvmf4DXzT",
        "outputId": "c8ba6c18-3418-4dc6-e87b-073361494bb0"
      },
      "source": [
        "current_x,current_y = load_dataset(0) # current"
      ],
      "execution_count": null,
      "outputs": [
        {
          "output_type": "stream",
          "text": [
            "exist\n",
            "exist\n"
          ],
          "name": "stdout"
        }
      ]
    },
    {
      "cell_type": "code",
      "metadata": {
        "colab": {
          "base_uri": "https://localhost:8080/"
        },
        "id": "dlEK2VS8Dk_x",
        "outputId": "c1347cf4-d3a4-4885-c81e-5053268fdec9"
      },
      "source": [
        "current_x.shape,current_y.shape"
      ],
      "execution_count": null,
      "outputs": [
        {
          "output_type": "execute_result",
          "data": {
            "text/plain": [
              "((38200, 60, 4), (38200, 60))"
            ]
          },
          "metadata": {
            "tags": []
          },
          "execution_count": 11
        }
      ]
    },
    {
      "cell_type": "markdown",
      "metadata": {
        "id": "UbJaIpBWE4_o"
      },
      "source": [
        "유선진동 데이터 가져오기"
      ]
    },
    {
      "cell_type": "code",
      "metadata": {
        "colab": {
          "base_uri": "https://localhost:8080/"
        },
        "id": "W5VU8W3XDYuT",
        "outputId": "32c8efe5-eb86-4086-8f30-7ef977b06b42"
      },
      "source": [
        "kimm_x,kimm_y = load_dataset(1) # kimm"
      ],
      "execution_count": null,
      "outputs": [
        {
          "output_type": "stream",
          "text": [
            "exist\n",
            "exist\n"
          ],
          "name": "stdout"
        }
      ]
    },
    {
      "cell_type": "code",
      "metadata": {
        "colab": {
          "base_uri": "https://localhost:8080/"
        },
        "id": "nFiUzfmfDypv",
        "outputId": "f67f78a7-8c40-4673-a287-c6a99bfb2de8"
      },
      "source": [
        "kimm_x.shape, kimm_y.shape"
      ],
      "execution_count": null,
      "outputs": [
        {
          "output_type": "execute_result",
          "data": {
            "text/plain": [
              "((76800, 60, 2), (76800, 60))"
            ]
          },
          "metadata": {
            "tags": []
          },
          "execution_count": 12
        }
      ]
    },
    {
      "cell_type": "markdown",
      "metadata": {
        "id": "MBTgIf_lE7Jk"
      },
      "source": [
        "무선진동 데이터 가져오기"
      ]
    },
    {
      "cell_type": "code",
      "metadata": {
        "colab": {
          "base_uri": "https://localhost:8080/"
        },
        "id": "8x3xqCoBAROp",
        "outputId": "084aeed3-152f-499b-8b8a-9383be81aa9b"
      },
      "source": [
        "vibration_x, vibration_y = load_dataset(2) # vibr"
      ],
      "execution_count": null,
      "outputs": [
        {
          "output_type": "stream",
          "text": [
            "exist\n",
            "exist\n"
          ],
          "name": "stdout"
        }
      ]
    },
    {
      "cell_type": "code",
      "metadata": {
        "colab": {
          "base_uri": "https://localhost:8080/"
        },
        "id": "tFaifqOdD6QL",
        "outputId": "53a25ebc-e66d-4f24-a674-f25823e674d1"
      },
      "source": [
        "vibration_x.shape, vibration_y.shape"
      ],
      "execution_count": null,
      "outputs": [
        {
          "output_type": "execute_result",
          "data": {
            "text/plain": [
              "((38400, 60, 2), (38400, 60))"
            ]
          },
          "metadata": {
            "tags": []
          },
          "execution_count": 35
        }
      ]
    },
    {
      "cell_type": "markdown",
      "metadata": {
        "id": "fHnFf6vAJSLF"
      },
      "source": [
        "# 3. 모델 생성 및 평가"
      ]
    },
    {
      "cell_type": "markdown",
      "metadata": {
        "id": "WI78op36yyle"
      },
      "source": [
        "## 전류 데이터"
      ]
    },
    {
      "cell_type": "code",
      "metadata": {
        "id": "Y1JZ_m39yRT8"
      },
      "source": [
        "from sklearn.model_selection import train_test_split"
      ],
      "execution_count": null,
      "outputs": []
    },
    {
      "cell_type": "code",
      "metadata": {
        "id": "-S3t3_mrtEYd"
      },
      "source": [
        "X_train, X_test, y_train, y_test = train_test_split(current_x,current_y[:,0],train_size = 0.6, random_state=42)\r\n",
        "X_test, X_valid, y_test, y_valid = train_test_split(X_test, y_test, test_size = 0.5, random_state=42)"
      ],
      "execution_count": null,
      "outputs": []
    },
    {
      "cell_type": "code",
      "metadata": {
        "colab": {
          "base_uri": "https://localhost:8080/"
        },
        "id": "APMpDh4Apr4J",
        "outputId": "e46344a7-3801-438a-e3fd-f16127feb4bb"
      },
      "source": [
        "X_train.shape, y_train.shape"
      ],
      "execution_count": null,
      "outputs": [
        {
          "output_type": "execute_result",
          "data": {
            "text/plain": [
              "((22920, 60, 4), (22920,))"
            ]
          },
          "metadata": {
            "tags": []
          },
          "execution_count": 27
        }
      ]
    },
    {
      "cell_type": "markdown",
      "metadata": {
        "id": "GWTozOVOHa2Z"
      },
      "source": [
        "### 일반적인 다층 퍼셉트론(MLP)"
      ]
    },
    {
      "cell_type": "code",
      "metadata": {
        "id": "-RlbRaw7B9N3"
      },
      "source": [
        "model = keras.models.Sequential()\r\n",
        "model.add(keras.layers.Flatten(input_shape=[60, 4]))\r\n",
        "model.add(keras.layers.Dense(300, activation=\"relu\"))\r\n",
        "model.add(keras.layers.Dense(100, activation=\"relu\"))\r\n",
        "model.add(keras.layers.Dense(5, activation=\"softmax\")) "
      ],
      "execution_count": null,
      "outputs": []
    },
    {
      "cell_type": "code",
      "metadata": {
        "id": "h9qqFM43B9k_",
        "colab": {
          "base_uri": "https://localhost:8080/"
        },
        "outputId": "84ca7cd7-5784-4118-8fc0-e518fca516e9"
      },
      "source": [
        "model.summary()"
      ],
      "execution_count": null,
      "outputs": [
        {
          "output_type": "stream",
          "text": [
            "Model: \"sequential_1\"\n",
            "_________________________________________________________________\n",
            "Layer (type)                 Output Shape              Param #   \n",
            "=================================================================\n",
            "flatten_1 (Flatten)          (None, 240)               0         \n",
            "_________________________________________________________________\n",
            "dense_1 (Dense)              (None, 300)               72300     \n",
            "_________________________________________________________________\n",
            "dense_2 (Dense)              (None, 100)               30100     \n",
            "_________________________________________________________________\n",
            "dense_3 (Dense)              (None, 5)                 505       \n",
            "=================================================================\n",
            "Total params: 102,905\n",
            "Trainable params: 102,905\n",
            "Non-trainable params: 0\n",
            "_________________________________________________________________\n"
          ],
          "name": "stdout"
        }
      ]
    },
    {
      "cell_type": "code",
      "metadata": {
        "id": "bg-BJ0qFB_TL"
      },
      "source": [
        "model.compile(loss=\"sparse_categorical_crossentropy\",\r\n",
        "              optimizer=\"sgd\",\r\n",
        "              metrics=[\"accuracy\"])"
      ],
      "execution_count": null,
      "outputs": []
    },
    {
      "cell_type": "code",
      "metadata": {
        "colab": {
          "base_uri": "https://localhost:8080/"
        },
        "id": "iTi3Le0QqqI-",
        "outputId": "746df7ab-713b-4a25-9d98-17520c0fb7a0"
      },
      "source": [
        "history = model.fit(X_train,y_train,epochs=30,validation_data=(X_valid,y_valid))"
      ],
      "execution_count": null,
      "outputs": [
        {
          "output_type": "stream",
          "text": [
            "Epoch 1/30\n",
            "717/717 [==============================] - 2s 3ms/step - loss: 1.4015 - accuracy: 0.6331 - val_loss: 0.7161 - val_accuracy: 0.6686\n",
            "Epoch 2/30\n",
            "717/717 [==============================] - 2s 2ms/step - loss: 0.7137 - accuracy: 0.6597 - val_loss: 0.7014 - val_accuracy: 0.6449\n",
            "Epoch 3/30\n",
            "717/717 [==============================] - 2s 2ms/step - loss: 0.7089 - accuracy: 0.6605 - val_loss: 0.6881 - val_accuracy: 0.6873\n",
            "Epoch 4/30\n",
            "717/717 [==============================] - 2s 2ms/step - loss: 0.7068 - accuracy: 0.6636 - val_loss: 0.6811 - val_accuracy: 0.6565\n",
            "Epoch 5/30\n",
            "717/717 [==============================] - 2s 2ms/step - loss: 0.6844 - accuracy: 0.6797 - val_loss: 0.7577 - val_accuracy: 0.6571\n",
            "Epoch 6/30\n",
            "717/717 [==============================] - 2s 2ms/step - loss: 0.6844 - accuracy: 0.6923 - val_loss: 0.8460 - val_accuracy: 0.6391\n",
            "Epoch 7/30\n",
            "717/717 [==============================] - 2s 2ms/step - loss: 0.6587 - accuracy: 0.7167 - val_loss: 0.7386 - val_accuracy: 0.6700\n",
            "Epoch 8/30\n",
            "717/717 [==============================] - 2s 2ms/step - loss: 0.6597 - accuracy: 0.6980 - val_loss: 0.6254 - val_accuracy: 0.7135\n",
            "Epoch 9/30\n",
            "717/717 [==============================] - 2s 2ms/step - loss: 0.6378 - accuracy: 0.6974 - val_loss: 0.6529 - val_accuracy: 0.7016\n",
            "Epoch 10/30\n",
            "717/717 [==============================] - 2s 2ms/step - loss: 0.6130 - accuracy: 0.7143 - val_loss: 0.6220 - val_accuracy: 0.7025\n",
            "Epoch 11/30\n",
            "717/717 [==============================] - 2s 2ms/step - loss: 0.6084 - accuracy: 0.7139 - val_loss: 0.5894 - val_accuracy: 0.7234\n",
            "Epoch 12/30\n",
            "717/717 [==============================] - 2s 2ms/step - loss: 0.5747 - accuracy: 0.7217 - val_loss: 0.5779 - val_accuracy: 0.7017\n",
            "Epoch 13/30\n",
            "717/717 [==============================] - 2s 2ms/step - loss: 0.5629 - accuracy: 0.7404 - val_loss: 0.8370 - val_accuracy: 0.5891\n",
            "Epoch 14/30\n",
            "717/717 [==============================] - 2s 2ms/step - loss: 0.5912 - accuracy: 0.7134 - val_loss: 0.6330 - val_accuracy: 0.7027\n",
            "Epoch 15/30\n",
            "717/717 [==============================] - 2s 2ms/step - loss: 0.5476 - accuracy: 0.7521 - val_loss: 0.5400 - val_accuracy: 0.7656\n",
            "Epoch 16/30\n",
            "717/717 [==============================] - 2s 2ms/step - loss: 0.5249 - accuracy: 0.7749 - val_loss: 0.4962 - val_accuracy: 0.7800\n",
            "Epoch 17/30\n",
            "717/717 [==============================] - 2s 2ms/step - loss: 0.5173 - accuracy: 0.7784 - val_loss: 0.4842 - val_accuracy: 0.7948\n",
            "Epoch 18/30\n",
            "717/717 [==============================] - 2s 2ms/step - loss: 0.4934 - accuracy: 0.7955 - val_loss: 0.5140 - val_accuracy: 0.7298\n",
            "Epoch 19/30\n",
            "717/717 [==============================] - 2s 2ms/step - loss: 0.5057 - accuracy: 0.7871 - val_loss: 0.6749 - val_accuracy: 0.6931\n",
            "Epoch 20/30\n",
            "717/717 [==============================] - 2s 2ms/step - loss: 0.5143 - accuracy: 0.7861 - val_loss: 0.4616 - val_accuracy: 0.7952\n",
            "Epoch 21/30\n",
            "717/717 [==============================] - 2s 2ms/step - loss: 0.5151 - accuracy: 0.7784 - val_loss: 0.6603 - val_accuracy: 0.7355\n",
            "Epoch 22/30\n",
            "717/717 [==============================] - 2s 2ms/step - loss: 0.4898 - accuracy: 0.7903 - val_loss: 0.7229 - val_accuracy: 0.6723\n",
            "Epoch 23/30\n",
            "717/717 [==============================] - 2s 2ms/step - loss: 0.4889 - accuracy: 0.7998 - val_loss: 0.4668 - val_accuracy: 0.8465\n",
            "Epoch 24/30\n",
            "717/717 [==============================] - 2s 2ms/step - loss: 0.5205 - accuracy: 0.7678 - val_loss: 0.5315 - val_accuracy: 0.7569\n",
            "Epoch 25/30\n",
            "717/717 [==============================] - 2s 2ms/step - loss: 0.4595 - accuracy: 0.8030 - val_loss: 0.8062 - val_accuracy: 0.6546\n",
            "Epoch 26/30\n",
            "717/717 [==============================] - 2s 2ms/step - loss: 0.5802 - accuracy: 0.7331 - val_loss: 0.4597 - val_accuracy: 0.7990\n",
            "Epoch 27/30\n",
            "717/717 [==============================] - 2s 2ms/step - loss: 0.4680 - accuracy: 0.8146 - val_loss: 0.5147 - val_accuracy: 0.7285\n",
            "Epoch 28/30\n",
            "717/717 [==============================] - 2s 2ms/step - loss: 0.4589 - accuracy: 0.8132 - val_loss: 0.5159 - val_accuracy: 0.7326\n",
            "Epoch 29/30\n",
            "717/717 [==============================] - 2s 2ms/step - loss: 0.4677 - accuracy: 0.8173 - val_loss: 0.4197 - val_accuracy: 0.8622\n",
            "Epoch 30/30\n",
            "717/717 [==============================] - 2s 2ms/step - loss: 0.5497 - accuracy: 0.7796 - val_loss: 0.6664 - val_accuracy: 0.7355\n"
          ],
          "name": "stdout"
        }
      ]
    },
    {
      "cell_type": "markdown",
      "metadata": {
        "id": "lYQuD4LBjWBu"
      },
      "source": [
        "처음 수행시켰을 때 정확도가 10-30을 웃돌았으나  \r\n",
        "epoch 반복 수행으로 정확도가 79~90을 웃도는 결과가 나옴\r\n",
        "> 30 에폭: 2s 2ms/step - loss: 0.5022 - accuracy: 0.7999 - val_loss: 0.3963 - val_accuracy: 0.8348  \r\n",
        "> 30 에폭: 2s 2ms/step - loss: 0.4621 - accuracy: 0.8252 - val_loss: 0.4011 - val_accuracy: 0.8349 (21.02.01)"
      ]
    },
    {
      "cell_type": "code",
      "metadata": {
        "id": "wCDxYqTvuE5D",
        "colab": {
          "base_uri": "https://localhost:8080/"
        },
        "outputId": "48da16d9-4337-462f-d4f7-0eac30d1a7e8"
      },
      "source": [
        "X_new = X_train[:5]\r\n",
        "y_proba = model.predict(X_new)\r\n",
        "y_proba.round(2)"
      ],
      "execution_count": null,
      "outputs": [
        {
          "output_type": "execute_result",
          "data": {
            "text/plain": [
              "array([[0.23, 0.21, 0.35, 0.04, 0.18],\n",
              "       [0.2 , 0.21, 0.41, 0.06, 0.12],\n",
              "       [0.28, 0.17, 0.36, 0.07, 0.12],\n",
              "       [0.  , 0.  , 0.  , 1.  , 0.  ],\n",
              "       [0.  , 0.  , 0.  , 1.  , 0.  ]], dtype=float32)"
            ]
          },
          "metadata": {
            "tags": []
          },
          "execution_count": 32
        }
      ]
    },
    {
      "cell_type": "code",
      "metadata": {
        "id": "3zP-IsEcvkJG",
        "colab": {
          "base_uri": "https://localhost:8080/"
        },
        "outputId": "c6d04d7e-adf4-4adc-c607-b2562f11676b"
      },
      "source": [
        "y_pred = model.predict_classes(X_new)\r\n",
        "y_pred"
      ],
      "execution_count": null,
      "outputs": [
        {
          "output_type": "stream",
          "text": [
            "/usr/local/lib/python3.6/dist-packages/tensorflow/python/keras/engine/sequential.py:450: UserWarning: `model.predict_classes()` is deprecated and will be removed after 2021-01-01. Please use instead:* `np.argmax(model.predict(x), axis=-1)`,   if your model does multi-class classification   (e.g. if it uses a `softmax` last-layer activation).* `(model.predict(x) > 0.5).astype(\"int32\")`,   if your model does binary classification   (e.g. if it uses a `sigmoid` last-layer activation).\n",
            "  warnings.warn('`model.predict_classes()` is deprecated and '\n"
          ],
          "name": "stderr"
        },
        {
          "output_type": "execute_result",
          "data": {
            "text/plain": [
              "array([2, 2, 2, 3, 3])"
            ]
          },
          "metadata": {
            "tags": []
          },
          "execution_count": 33
        }
      ]
    },
    {
      "cell_type": "code",
      "metadata": {
        "id": "lv1v1zg2KNk5",
        "colab": {
          "base_uri": "https://localhost:8080/"
        },
        "outputId": "f61317c6-1a65-4d31-bccb-54322082e05a"
      },
      "source": [
        "y_train[:5]"
      ],
      "execution_count": null,
      "outputs": [
        {
          "output_type": "execute_result",
          "data": {
            "text/plain": [
              "array([4, 2, 0, 3, 3])"
            ]
          },
          "metadata": {
            "tags": []
          },
          "execution_count": 34
        }
      ]
    },
    {
      "cell_type": "markdown",
      "metadata": {
        "id": "IBGggk9B3l0T"
      },
      "source": [
        "### CNN"
      ]
    },
    {
      "cell_type": "code",
      "metadata": {
        "id": "Cj3sxrXSVeO8"
      },
      "source": [
        "X_train, X_test, y_train, y_test = train_test_split(current_x,current_y[:,0],train_size = 0.6, random_state=42)\r\n",
        "X_test, X_valid, y_test, y_valid = train_test_split(X_test, y_test, test_size = 0.5, random_state=42)"
      ],
      "execution_count": null,
      "outputs": []
    },
    {
      "cell_type": "code",
      "metadata": {
        "id": "yEPbi2koVlYc"
      },
      "source": [
        "X_train = X_train[..., np.newaxis]\r\n",
        "X_valid = X_valid[..., np.newaxis]\r\n",
        "X_test = X_test[..., np.newaxis]"
      ],
      "execution_count": null,
      "outputs": []
    },
    {
      "cell_type": "code",
      "metadata": {
        "colab": {
          "base_uri": "https://localhost:8080/"
        },
        "id": "yMSlFRrRVsXy",
        "outputId": "7170dd73-5fae-4b5f-f079-85bb10a9a329"
      },
      "source": [
        "X_train.shape"
      ],
      "execution_count": null,
      "outputs": [
        {
          "output_type": "execute_result",
          "data": {
            "text/plain": [
              "(22920, 60, 4, 1)"
            ]
          },
          "metadata": {
            "tags": []
          },
          "execution_count": 75
        }
      ]
    },
    {
      "cell_type": "code",
      "metadata": {
        "id": "LOT9ilP8UolI"
      },
      "source": [
        "# 각 특성 값의 범위를 0~1로 조정\r\n",
        "X_train[:,:,3:] = X_train[:,:,3:]/100\r\n",
        "X_valid[:,:,3:] = X_valid[:,:,3:]/100\r\n",
        "X_test[:,:,3:] = X_test[:,:,3:]/100"
      ],
      "execution_count": null,
      "outputs": []
    },
    {
      "cell_type": "code",
      "metadata": {
        "id": "gb1NQ7KKKxbA"
      },
      "source": [
        "from functools import partial\r\n",
        "\r\n",
        "cnn_model = keras.models.Sequential([\r\n",
        "    keras.layers.Conv2D(64,7,activation=\"relu\",padding=\"same\",input_shape=(60,4,1)),\r\n",
        "    keras.layers.MaxPool2D(1),\r\n",
        "    keras.layers.Conv2D(128,3,activation=\"relu\",padding=\"same\"),\r\n",
        "    keras.layers.Conv2D(128,3,activation=\"relu\",padding=\"same\"),\r\n",
        "    keras.layers.MaxPool2D(2),\r\n",
        "    keras.layers.Conv2D(256,3,activation=\"relu\",padding=\"same\"),\r\n",
        "    keras.layers.Conv2D(256,3,activation=\"relu\",padding=\"same\"),\r\n",
        "    keras.layers.MaxPool2D(2),\r\n",
        "    keras.layers.Flatten(),\r\n",
        "    keras.layers.Dense(128,activation=\"relu\"),\r\n",
        "    keras.layers.Dropout(0.5),\r\n",
        "    keras.layers.Dense(64,activation=\"relu\"),\r\n",
        "    keras.layers.Dropout(0.5),\r\n",
        "    keras.layers.Dense(units=5, activation='softmax')\r\n",
        "])"
      ],
      "execution_count": null,
      "outputs": []
    },
    {
      "cell_type": "code",
      "metadata": {
        "colab": {
          "base_uri": "https://localhost:8080/"
        },
        "id": "05D1MnOLQa_4",
        "outputId": "516bb1ca-5fe7-47ce-bcdd-36099de508e7"
      },
      "source": [
        "cnn_model.summary()"
      ],
      "execution_count": null,
      "outputs": [
        {
          "output_type": "stream",
          "text": [
            "Model: \"sequential_6\"\n",
            "_________________________________________________________________\n",
            "Layer (type)                 Output Shape              Param #   \n",
            "=================================================================\n",
            "conv2d_144 (Conv2D)          (None, 60, 4, 64)         3200      \n",
            "_________________________________________________________________\n",
            "max_pooling2d_4 (MaxPooling2 (None, 60, 4, 64)         0         \n",
            "_________________________________________________________________\n",
            "conv2d_145 (Conv2D)          (None, 60, 4, 128)        73856     \n",
            "_________________________________________________________________\n",
            "conv2d_146 (Conv2D)          (None, 60, 4, 128)        147584    \n",
            "_________________________________________________________________\n",
            "max_pooling2d_5 (MaxPooling2 (None, 30, 2, 128)        0         \n",
            "_________________________________________________________________\n",
            "conv2d_147 (Conv2D)          (None, 30, 2, 256)        295168    \n",
            "_________________________________________________________________\n",
            "conv2d_148 (Conv2D)          (None, 30, 2, 256)        590080    \n",
            "_________________________________________________________________\n",
            "max_pooling2d_6 (MaxPooling2 (None, 15, 1, 256)        0         \n",
            "_________________________________________________________________\n",
            "flatten_6 (Flatten)          (None, 3840)              0         \n",
            "_________________________________________________________________\n",
            "dense_10 (Dense)             (None, 128)               491648    \n",
            "_________________________________________________________________\n",
            "dropout (Dropout)            (None, 128)               0         \n",
            "_________________________________________________________________\n",
            "dense_11 (Dense)             (None, 64)                8256      \n",
            "_________________________________________________________________\n",
            "dropout_1 (Dropout)          (None, 64)                0         \n",
            "_________________________________________________________________\n",
            "dense_12 (Dense)             (None, 5)                 325       \n",
            "=================================================================\n",
            "Total params: 1,610,117\n",
            "Trainable params: 1,610,117\n",
            "Non-trainable params: 0\n",
            "_________________________________________________________________\n"
          ],
          "name": "stdout"
        }
      ]
    },
    {
      "cell_type": "code",
      "metadata": {
        "id": "V1LkfdeLLDfJ"
      },
      "source": [
        "cnn_model.compile(loss=\"sparse_categorical_crossentropy\", optimizer=\"nadam\", metrics=[\"accuracy\"])"
      ],
      "execution_count": null,
      "outputs": []
    },
    {
      "cell_type": "code",
      "metadata": {
        "colab": {
          "base_uri": "https://localhost:8080/"
        },
        "id": "MDdn1rtBSi0r",
        "outputId": "192c53d7-61ab-4450-c388-ceebab2247ad"
      },
      "source": [
        "history = cnn_model.fit(X_train, y_train, epochs=10, validation_data=(X_valid, y_valid))"
      ],
      "execution_count": null,
      "outputs": [
        {
          "output_type": "stream",
          "text": [
            "Epoch 1/10\n",
            "717/717 [==============================] - 9s 10ms/step - loss: 0.6555 - accuracy: 0.6999 - val_loss: 0.0144 - val_accuracy: 0.9973\n",
            "Epoch 2/10\n",
            "717/717 [==============================] - 7s 9ms/step - loss: 0.0697 - accuracy: 0.9857 - val_loss: 0.0090 - val_accuracy: 0.9970\n",
            "Epoch 3/10\n",
            "717/717 [==============================] - 7s 9ms/step - loss: 0.0329 - accuracy: 0.9932 - val_loss: 0.0348 - val_accuracy: 0.9863\n",
            "Epoch 4/10\n",
            "717/717 [==============================] - 7s 9ms/step - loss: 0.0644 - accuracy: 0.9894 - val_loss: 0.0095 - val_accuracy: 0.9973\n",
            "Epoch 5/10\n",
            "717/717 [==============================] - 7s 9ms/step - loss: 0.0371 - accuracy: 0.9918 - val_loss: 0.0107 - val_accuracy: 0.9973\n",
            "Epoch 6/10\n",
            "717/717 [==============================] - 7s 9ms/step - loss: 0.2544 - accuracy: 0.9936 - val_loss: 0.0091 - val_accuracy: 0.9973\n",
            "Epoch 7/10\n",
            "717/717 [==============================] - 7s 9ms/step - loss: 0.0251 - accuracy: 0.9928 - val_loss: 0.0077 - val_accuracy: 0.9973\n",
            "Epoch 8/10\n",
            "717/717 [==============================] - 7s 9ms/step - loss: 0.0349 - accuracy: 0.9938 - val_loss: 0.0083 - val_accuracy: 0.9973\n",
            "Epoch 9/10\n",
            "717/717 [==============================] - 7s 9ms/step - loss: 0.0159 - accuracy: 0.9963 - val_loss: 0.0080 - val_accuracy: 0.9973\n",
            "Epoch 10/10\n",
            "717/717 [==============================] - 7s 9ms/step - loss: 1.7088 - accuracy: 0.9902 - val_loss: 0.0108 - val_accuracy: 0.9973\n"
          ],
          "name": "stdout"
        }
      ]
    },
    {
      "cell_type": "markdown",
      "metadata": {
        "id": "L4IkWNy_TkG3"
      },
      "source": [
        "이전 모델보다 훈련, 검증 세트 모두 높은 정확도를 보임\r\n",
        "> 10 에폭 : 6s 9ms/step - loss: 0.2158 - accuracy: 0.9838 - val_loss: 0.0566 - val_accuracy: 0.9810  \r\n",
        "> 10 에폭 : 6s 9ms/step - loss: 0.0123 - accuracy: 0.9961 - val_loss: 0.0084 - val_accuracy: 0.9971 (21.02.01)"
      ]
    },
    {
      "cell_type": "code",
      "metadata": {
        "id": "Jx1ytgBDL3jl",
        "colab": {
          "base_uri": "https://localhost:8080/"
        },
        "outputId": "60c5f655-ee3d-44ed-c355-1e95d05e9caf"
      },
      "source": [
        "# score = model.evaluate(X_test, y_test)\r\n",
        "X_new = X_train[:10] # pretend we have new images\r\n",
        "y_pred = cnn_model.predict(X_new)"
      ],
      "execution_count": null,
      "outputs": [
        {
          "output_type": "stream",
          "text": [
            "WARNING:tensorflow:5 out of the last 8 calls to <function Model.make_predict_function.<locals>.predict_function at 0x7f503d51c7b8> triggered tf.function retracing. Tracing is expensive and the excessive number of tracings could be due to (1) creating @tf.function repeatedly in a loop, (2) passing tensors with different shapes, (3) passing Python objects instead of tensors. For (1), please define your @tf.function outside of the loop. For (2), @tf.function has experimental_relax_shapes=True option that relaxes argument shapes that can avoid unnecessary retracing. For (3), please refer to https://www.tensorflow.org/guide/function#controlling_retracing and https://www.tensorflow.org/api_docs/python/tf/function for  more details.\n"
          ],
          "name": "stdout"
        }
      ]
    },
    {
      "cell_type": "code",
      "metadata": {
        "colab": {
          "base_uri": "https://localhost:8080/"
        },
        "id": "eiIN_jCneuIK",
        "outputId": "ed6fb41b-ff0a-4696-b02d-684c42396c88"
      },
      "source": [
        "y_pred = cnn_model.predict_classes(X_new)\r\n",
        "y_pred"
      ],
      "execution_count": null,
      "outputs": [
        {
          "output_type": "stream",
          "text": [
            "/usr/local/lib/python3.6/dist-packages/tensorflow/python/keras/engine/sequential.py:450: UserWarning: `model.predict_classes()` is deprecated and will be removed after 2021-01-01. Please use instead:* `np.argmax(model.predict(x), axis=-1)`,   if your model does multi-class classification   (e.g. if it uses a `softmax` last-layer activation).* `(model.predict(x) > 0.5).astype(\"int32\")`,   if your model does binary classification   (e.g. if it uses a `sigmoid` last-layer activation).\n",
            "  warnings.warn('`model.predict_classes()` is deprecated and '\n"
          ],
          "name": "stderr"
        },
        {
          "output_type": "execute_result",
          "data": {
            "text/plain": [
              "array([4, 2, 0, 3, 3, 3, 3, 4, 1, 4])"
            ]
          },
          "metadata": {
            "tags": []
          },
          "execution_count": 82
        }
      ]
    },
    {
      "cell_type": "code",
      "metadata": {
        "colab": {
          "base_uri": "https://localhost:8080/"
        },
        "id": "L-0PQQ-Yez0P",
        "outputId": "b556cdc1-bb13-48ac-8866-b9f39293b04d"
      },
      "source": [
        "y_train[:10]"
      ],
      "execution_count": null,
      "outputs": [
        {
          "output_type": "execute_result",
          "data": {
            "text/plain": [
              "array([4, 2, 0, 3, 3, 3, 3, 4, 1, 4])"
            ]
          },
          "metadata": {
            "tags": []
          },
          "execution_count": 83
        }
      ]
    },
    {
      "cell_type": "markdown",
      "metadata": {
        "id": "WZU3xq1KY1CK"
      },
      "source": [
        "### ResNet 34"
      ]
    },
    {
      "cell_type": "markdown",
      "metadata": {
        "id": "Iw6V5zHjZANC"
      },
      "source": [
        "그냥 CNN도 잘 되지만 kimm 데이터에서 CNN을 적용했을 때보다 \r\n",
        "\r\n",
        "ResNet 34를 적용했을 때 더 높은 정확도를 보였기 때문에 전류데이터에도 적용함."
      ]
    },
    {
      "cell_type": "code",
      "metadata": {
        "id": "hJ9xwwZ6aUJu"
      },
      "source": [
        "X_train, X_test, y_train, y_test = train_test_split(current_x,current_y[:,0],train_size = 0.6, random_state=42)\r\n",
        "X_test, X_valid, y_test, y_valid = train_test_split(X_test, y_test, test_size = 0.5, random_state=42)"
      ],
      "execution_count": null,
      "outputs": []
    },
    {
      "cell_type": "code",
      "metadata": {
        "id": "8vDJ8_hNFbCf"
      },
      "source": [
        ""
      ],
      "execution_count": null,
      "outputs": []
    },
    {
      "cell_type": "code",
      "metadata": {
        "id": "nDXHYtnjbIBD"
      },
      "source": [
        "X_train = X_train[..., np.newaxis]\r\n",
        "X_valid = X_valid[..., np.newaxis]\r\n",
        "X_test = X_test[..., np.newaxis]"
      ],
      "execution_count": null,
      "outputs": []
    },
    {
      "cell_type": "code",
      "metadata": {
        "id": "vgTo_FeNbGxM"
      },
      "source": [
        "X_train[:,:,3:] = X_train[:,:,3:]/100\r\n",
        "X_valid[:,:,3:] = X_valid[:,:,3:]/100\r\n",
        "X_test[:,:,3:] = X_test[:,:,3:]/100"
      ],
      "execution_count": null,
      "outputs": []
    },
    {
      "cell_type": "code",
      "metadata": {
        "colab": {
          "base_uri": "https://localhost:8080/"
        },
        "id": "5BSDps8TgSNK",
        "outputId": "dc6168e0-147b-4487-8ab4-2938c106e60c"
      },
      "source": [
        "X_train.shape"
      ],
      "execution_count": null,
      "outputs": [
        {
          "output_type": "execute_result",
          "data": {
            "text/plain": [
              "(22920, 60, 4, 1)"
            ]
          },
          "metadata": {
            "tags": []
          },
          "execution_count": 52
        }
      ]
    },
    {
      "cell_type": "code",
      "metadata": {
        "id": "tjyBli50ZZOM"
      },
      "source": [
        "# 잔차유닛\r\n",
        "class ResidualUnit(keras.layers.Layer):\r\n",
        "    def __init__(self, filters, strides=1, activation=\"relu\", **kwargs):\r\n",
        "        super().__init__(**kwargs)\r\n",
        "        self.activation = keras.activations.get(activation)\r\n",
        "        self.main_layers = [\r\n",
        "            keras.layers.Conv2D(filters,3,strides=strides, padding=\"same\", use_bias=False),\r\n",
        "            keras.layers.BatchNormalization(),\r\n",
        "            self.activation,\r\n",
        "            keras.layers.Conv2D(filters, 3,strides=1,padding=\"same\",use_bias=False),\r\n",
        "            keras.layers.BatchNormalization()]\r\n",
        "        self.skip_layers=[]\r\n",
        "        if strides > 1:\r\n",
        "            self.skip_layers = [\r\n",
        "                keras.layers.Conv2D(filters,1,strides=strides,padding=\"same\",use_bias=False),\r\n",
        "                keras.layers.BatchNormalization()]\r\n",
        "    def call(self,inputs):\r\n",
        "        Z = inputs\r\n",
        "        for layer in self.main_layers:\r\n",
        "            Z = layer(Z)\r\n",
        "        skip_Z = inputs\r\n",
        "        for layer in self.skip_layers:\r\n",
        "            skip_Z = layer(skip_Z)\r\n",
        "        return self.activation(Z+skip_Z)"
      ],
      "execution_count": null,
      "outputs": []
    },
    {
      "cell_type": "code",
      "metadata": {
        "id": "ZPSekO-gY_Xt"
      },
      "source": [
        "current_resnet_model = keras.models.Sequential()\r\n",
        "current_resnet_model.add(keras.layers.Conv2D(64,7,strides=1,input_shape=[60,4,1],padding=\"same\",use_bias=False)) # current의 경우 strides를 1로 해야 함\r\n",
        "current_resnet_model.add(keras.layers.BatchNormalization())\r\n",
        "current_resnet_model.add(keras.layers.Activation(\"relu\"))\r\n",
        "current_resnet_model.add(keras.layers.MaxPool2D(pool_size=3, strides=2,padding=\"same\"))\r\n",
        "prev_filters = 64\r\n",
        "for filters in [64]*3+[128]*4+[256]*6+[512]*3:\r\n",
        "    strides = 1 if filters == prev_filters else 2\r\n",
        "    current_resnet_model.add(ResidualUnit(filters,strides=strides))\r\n",
        "    prev_filters=filters\r\n",
        "current_resnet_model.add(keras.layers.GlobalAvgPool2D())\r\n",
        "current_resnet_model.add(keras.layers.Flatten())\r\n",
        "current_resnet_model.add(keras.layers.Dense(5,activation=\"softmax\"))"
      ],
      "execution_count": null,
      "outputs": []
    },
    {
      "cell_type": "code",
      "metadata": {
        "id": "vpU9BL4wZV9Y"
      },
      "source": [
        "current_resnet_model.compile(loss=\"sparse_categorical_crossentropy\", optimizer=\"nadam\", metrics=[\"accuracy\"])"
      ],
      "execution_count": null,
      "outputs": []
    },
    {
      "cell_type": "code",
      "metadata": {
        "colab": {
          "base_uri": "https://localhost:8080/"
        },
        "id": "IbrVnIFwZsFA",
        "outputId": "87bdb32c-f60d-4365-e1c7-4463054da9a3"
      },
      "source": [
        "current_resnet_model.fit(X_train,y_train,epochs=10, validation_data=(X_valid, y_valid))"
      ],
      "execution_count": null,
      "outputs": [
        {
          "output_type": "stream",
          "text": [
            "Epoch 1/10\n",
            "717/717 [==============================] - 48s 57ms/step - loss: 0.8097 - accuracy: 0.6336 - val_loss: 1.9073 - val_accuracy: 0.6234\n",
            "Epoch 2/10\n",
            "717/717 [==============================] - 40s 56ms/step - loss: 0.5706 - accuracy: 0.7264 - val_loss: 16.8571 - val_accuracy: 0.5012\n",
            "Epoch 3/10\n",
            "717/717 [==============================] - 40s 55ms/step - loss: 0.2939 - accuracy: 0.8810 - val_loss: 6.8687 - val_accuracy: 0.6403\n",
            "Epoch 4/10\n",
            "717/717 [==============================] - 40s 56ms/step - loss: 0.2336 - accuracy: 0.9157 - val_loss: 5.5375 - val_accuracy: 0.5024\n",
            "Epoch 5/10\n",
            "717/717 [==============================] - 40s 56ms/step - loss: 0.1865 - accuracy: 0.9333 - val_loss: 188.2429 - val_accuracy: 0.5898\n",
            "Epoch 6/10\n",
            "717/717 [==============================] - 40s 56ms/step - loss: 0.1651 - accuracy: 0.9447 - val_loss: 27.1953 - val_accuracy: 0.5021\n",
            "Epoch 7/10\n",
            "717/717 [==============================] - 40s 56ms/step - loss: 0.1783 - accuracy: 0.9409 - val_loss: 3.2406 - val_accuracy: 0.5024\n",
            "Epoch 8/10\n",
            "717/717 [==============================] - 40s 56ms/step - loss: 0.1407 - accuracy: 0.9537 - val_loss: 134.3691 - val_accuracy: 0.5022\n",
            "Epoch 9/10\n",
            "717/717 [==============================] - 40s 56ms/step - loss: 0.1399 - accuracy: 0.9543 - val_loss: 2.7321 - val_accuracy: 0.5024\n",
            "Epoch 10/10\n",
            "717/717 [==============================] - 40s 56ms/step - loss: 0.1043 - accuracy: 0.9699 - val_loss: 2.8402 - val_accuracy: 0.5024\n"
          ],
          "name": "stdout"
        },
        {
          "output_type": "execute_result",
          "data": {
            "text/plain": [
              "<tensorflow.python.keras.callbacks.History at 0x7f50447096d8>"
            ]
          },
          "metadata": {
            "tags": []
          },
          "execution_count": 56
        }
      ]
    },
    {
      "cell_type": "markdown",
      "metadata": {
        "id": "437eAz5wiMBP"
      },
      "source": [
        "그냥 CNN을 사용했을 때 보다 훈련, 검증 set의 정확도가 낮게 나왔고 훈련 세트보다 검증세트의 정확도가 더 낮게 나왔다\r\n",
        "> 10 에폭 : 40s 56ms/step - loss: 0.1237 - accuracy: 0.9569 - val_loss: 173.4912 - val_accuracy: 0.5017  \r\n",
        "> 10 에폭 : 40s 55ms/step - loss: 0.1524 - accuracy: 0.9485 - val_loss: 25.6186 - val_accuracy: 0.6407 (21.02.01)"
      ]
    },
    {
      "cell_type": "markdown",
      "metadata": {
        "id": "qCIocme8ySOO"
      },
      "source": [
        "## 유선진동 데이터"
      ]
    },
    {
      "cell_type": "code",
      "metadata": {
        "id": "0IdDGM1V6y3L"
      },
      "source": [
        "pred_name = ['bearing', 'belt', 'misalignment','normal', 'unbalance']"
      ],
      "execution_count": null,
      "outputs": []
    },
    {
      "cell_type": "code",
      "metadata": {
        "id": "Zug4dtp9HOvv"
      },
      "source": [
        "from sklearn.model_selection import train_test_split"
      ],
      "execution_count": null,
      "outputs": []
    },
    {
      "cell_type": "code",
      "metadata": {
        "id": "72nquORbG_l7"
      },
      "source": [
        "X_train, X_test, y_train, y_test = train_test_split(kimm_x,kimm_y[:,0],train_size = 0.6, random_state=42)\r\n",
        "X_test, X_valid, y_test, y_valid = train_test_split(X_test, y_test, test_size = 0.5, random_state=42)"
      ],
      "execution_count": null,
      "outputs": []
    },
    {
      "cell_type": "markdown",
      "metadata": {
        "id": "vuAjM1YZ5iay"
      },
      "source": [
        "### 일반적인 다층 퍼셉트론(MLP)"
      ]
    },
    {
      "cell_type": "code",
      "metadata": {
        "id": "NEK-tojqGPek"
      },
      "source": [
        "model2 = keras.models.Sequential()\r\n",
        "model2.add(keras.layers.Flatten(input_shape=[60, 2]))\r\n",
        "model2.add(keras.layers.Dense(300, activation=\"relu\"))\r\n",
        "model2.add(keras.layers.Dense(100, activation=\"relu\"))\r\n",
        "model2.add(keras.layers.Dense(5, activation=\"softmax\")) "
      ],
      "execution_count": null,
      "outputs": []
    },
    {
      "cell_type": "code",
      "metadata": {
        "id": "JNVSaUUDGlHu"
      },
      "source": [
        "model2.compile(loss=\"sparse_categorical_crossentropy\",\r\n",
        "              optimizer=\"sgd\",\r\n",
        "              metrics=[\"accuracy\"])"
      ],
      "execution_count": null,
      "outputs": []
    },
    {
      "cell_type": "code",
      "metadata": {
        "colab": {
          "base_uri": "https://localhost:8080/"
        },
        "id": "oMZoyCweGp1K",
        "outputId": "542e8055-53d6-4d09-e30f-7b446088ee91"
      },
      "source": [
        "history2 = model2.fit(X_train,y_train,epochs=30,validation_data=(X_valid,y_valid))"
      ],
      "execution_count": null,
      "outputs": [
        {
          "output_type": "stream",
          "text": [
            "Epoch 1/30\n",
            "1440/1440 [==============================] - 3s 2ms/step - loss: 2.1606 - accuracy: 0.4907 - val_loss: 1.3745 - val_accuracy: 0.5014\n",
            "Epoch 2/30\n",
            "1440/1440 [==============================] - 3s 2ms/step - loss: 1.3761 - accuracy: 0.4982 - val_loss: 1.3709 - val_accuracy: 0.5014\n",
            "Epoch 3/30\n",
            "1440/1440 [==============================] - 3s 2ms/step - loss: 1.3733 - accuracy: 0.4999 - val_loss: 1.3721 - val_accuracy: 0.5014\n",
            "Epoch 4/30\n",
            "1440/1440 [==============================] - 3s 2ms/step - loss: 1.3722 - accuracy: 0.4998 - val_loss: 1.3707 - val_accuracy: 0.5014\n",
            "Epoch 5/30\n",
            "1440/1440 [==============================] - 3s 2ms/step - loss: 1.3702 - accuracy: 0.5013 - val_loss: 1.3697 - val_accuracy: 0.5014\n",
            "Epoch 6/30\n",
            "1440/1440 [==============================] - 3s 2ms/step - loss: 1.3708 - accuracy: 0.5009 - val_loss: 1.3711 - val_accuracy: 0.5014\n",
            "Epoch 7/30\n",
            "1440/1440 [==============================] - 3s 2ms/step - loss: 1.3680 - accuracy: 0.5015 - val_loss: 1.3692 - val_accuracy: 0.5014\n",
            "Epoch 8/30\n",
            "1440/1440 [==============================] - 3s 2ms/step - loss: 1.3706 - accuracy: 0.5006 - val_loss: 1.3698 - val_accuracy: 0.5014\n",
            "Epoch 9/30\n",
            "1440/1440 [==============================] - 3s 2ms/step - loss: 1.3716 - accuracy: 0.4987 - val_loss: 1.3716 - val_accuracy: 0.5014\n",
            "Epoch 10/30\n",
            "1440/1440 [==============================] - 3s 2ms/step - loss: 1.3715 - accuracy: 0.4989 - val_loss: 1.3691 - val_accuracy: 0.5014\n",
            "Epoch 11/30\n",
            "1440/1440 [==============================] - 3s 2ms/step - loss: 1.3721 - accuracy: 0.4982 - val_loss: 1.3679 - val_accuracy: 0.5014\n",
            "Epoch 12/30\n",
            "1440/1440 [==============================] - 3s 2ms/step - loss: 1.3631 - accuracy: 0.5029 - val_loss: 1.3675 - val_accuracy: 0.5014\n",
            "Epoch 13/30\n",
            "1440/1440 [==============================] - 3s 2ms/step - loss: 1.3618 - accuracy: 0.5039 - val_loss: 1.3652 - val_accuracy: 0.5014\n",
            "Epoch 14/30\n",
            "1440/1440 [==============================] - 3s 2ms/step - loss: 1.3657 - accuracy: 0.5021 - val_loss: 1.3651 - val_accuracy: 0.5014\n",
            "Epoch 15/30\n",
            "1440/1440 [==============================] - 3s 2ms/step - loss: 1.3591 - accuracy: 0.5045 - val_loss: 1.3656 - val_accuracy: 0.5014\n",
            "Epoch 16/30\n",
            "1440/1440 [==============================] - 3s 2ms/step - loss: 1.3661 - accuracy: 0.5003 - val_loss: 1.3638 - val_accuracy: 0.5014\n",
            "Epoch 17/30\n",
            "1440/1440 [==============================] - 3s 2ms/step - loss: 1.3611 - accuracy: 0.5030 - val_loss: 1.3634 - val_accuracy: 0.5014\n",
            "Epoch 18/30\n",
            "1440/1440 [==============================] - 3s 2ms/step - loss: 1.3628 - accuracy: 0.5021 - val_loss: 1.3635 - val_accuracy: 0.5014\n",
            "Epoch 19/30\n",
            "1440/1440 [==============================] - 3s 2ms/step - loss: 1.3593 - accuracy: 0.5028 - val_loss: 1.3633 - val_accuracy: 0.5014\n",
            "Epoch 20/30\n",
            "1440/1440 [==============================] - 3s 2ms/step - loss: 1.3635 - accuracy: 0.4997 - val_loss: 1.3625 - val_accuracy: 0.5014\n",
            "Epoch 21/30\n",
            "1440/1440 [==============================] - 3s 2ms/step - loss: 1.3608 - accuracy: 0.5009 - val_loss: 1.3636 - val_accuracy: 0.5014\n",
            "Epoch 22/30\n",
            "1440/1440 [==============================] - 3s 2ms/step - loss: 1.3656 - accuracy: 0.4982 - val_loss: 1.3593 - val_accuracy: 0.5014\n",
            "Epoch 23/30\n",
            "1440/1440 [==============================] - 3s 2ms/step - loss: 1.3668 - accuracy: 0.4963 - val_loss: 1.3635 - val_accuracy: 0.5014\n",
            "Epoch 24/30\n",
            "1440/1440 [==============================] - 3s 2ms/step - loss: 1.3638 - accuracy: 0.4983 - val_loss: 1.3602 - val_accuracy: 0.5014\n",
            "Epoch 25/30\n",
            "1440/1440 [==============================] - 3s 2ms/step - loss: 1.3623 - accuracy: 0.4990 - val_loss: 1.3591 - val_accuracy: 0.5014\n",
            "Epoch 26/30\n",
            "1440/1440 [==============================] - 3s 2ms/step - loss: 1.3596 - accuracy: 0.5017 - val_loss: 1.3641 - val_accuracy: 0.5014\n",
            "Epoch 27/30\n",
            "1440/1440 [==============================] - 3s 2ms/step - loss: 1.3660 - accuracy: 0.4959 - val_loss: 1.3650 - val_accuracy: 0.5014\n",
            "Epoch 28/30\n",
            "1440/1440 [==============================] - 3s 2ms/step - loss: 1.3587 - accuracy: 0.5007 - val_loss: 1.3578 - val_accuracy: 0.5014\n",
            "Epoch 29/30\n",
            "1440/1440 [==============================] - 3s 2ms/step - loss: 1.3648 - accuracy: 0.4960 - val_loss: 1.3554 - val_accuracy: 0.5014\n",
            "Epoch 30/30\n",
            "1440/1440 [==============================] - 3s 2ms/step - loss: 1.3632 - accuracy: 0.4964 - val_loss: 1.3568 - val_accuracy: 0.5014\n"
          ],
          "name": "stdout"
        }
      ]
    },
    {
      "cell_type": "markdown",
      "metadata": {
        "id": "bdreTCH1kpsW"
      },
      "source": [
        "정확도가 50%를 웃도는 결과를 나타냄\r\n",
        "> 30 에폭 : 3s 2ms/step - loss: 1.3632 - accuracy: 0.4964 - val_loss: 1.3568 - val_accuracy: 0.5014"
      ]
    },
    {
      "cell_type": "markdown",
      "metadata": {
        "id": "CzVq0u2u6P2X"
      },
      "source": [
        "### CNN"
      ]
    },
    {
      "cell_type": "code",
      "metadata": {
        "id": "QZ7pf4jj3Vyt"
      },
      "source": [
        "X_train, X_test, y_train, y_test = train_test_split(kimm_x,kimm_y[:,0],train_size = 0.6, random_state=42)\r\n",
        "X_test, X_valid, y_test, y_valid = train_test_split(X_test, y_test, test_size = 0.5, random_state=42)"
      ],
      "execution_count": null,
      "outputs": []
    },
    {
      "cell_type": "code",
      "metadata": {
        "id": "gkJqLb0U2pdq"
      },
      "source": [
        "X_train = X_train[..., np.newaxis]\r\n",
        "X_valid = X_valid[..., np.newaxis]\r\n",
        "X_test = X_test[..., np.newaxis]"
      ],
      "execution_count": null,
      "outputs": []
    },
    {
      "cell_type": "code",
      "metadata": {
        "colab": {
          "base_uri": "https://localhost:8080/"
        },
        "id": "Q7YS1KLM3ZMr",
        "outputId": "783cfc83-496f-4312-ab7c-8f5e9173fb07"
      },
      "source": [
        "X_train.shape"
      ],
      "execution_count": null,
      "outputs": [
        {
          "output_type": "execute_result",
          "data": {
            "text/plain": [
              "(46080, 60, 2, 1)"
            ]
          },
          "metadata": {
            "tags": []
          },
          "execution_count": 21
        }
      ]
    },
    {
      "cell_type": "code",
      "metadata": {
        "id": "zRVXFI9Q3rBU"
      },
      "source": [
        "# 각 특성 값의 범위를 0~1로 조정\r\n",
        "X_train[:,:,1:] = X_train[:,:,1:]/100\r\n",
        "X_valid[:,:,1:] = X_valid[:,:,1:]/100\r\n",
        "X_test[:,:,1:] = X_test[:,:,1:]/100"
      ],
      "execution_count": null,
      "outputs": []
    },
    {
      "cell_type": "code",
      "metadata": {
        "id": "-11AMeTUTKUO"
      },
      "source": [
        "from functools import partial\r\n",
        "\r\n",
        "cnn_model2 = keras.models.Sequential([\r\n",
        "    keras.layers.Conv2D(64,7,activation=\"relu\",padding=\"same\",input_shape=(60,2,1)),\r\n",
        "    keras.layers.MaxPool2D(1),\r\n",
        "    keras.layers.Conv2D(128,3,activation=\"relu\",padding=\"same\"),\r\n",
        "    keras.layers.Conv2D(128,3,activation=\"relu\",padding=\"same\"),\r\n",
        "    keras.layers.MaxPool2D(1),\r\n",
        "    keras.layers.Conv2D(256,3,activation=\"relu\",padding=\"same\"),\r\n",
        "    keras.layers.Conv2D(256,3,activation=\"relu\",padding=\"same\"),\r\n",
        "    keras.layers.MaxPool2D(2),\r\n",
        "    keras.layers.Flatten(),\r\n",
        "    keras.layers.Dense(128,activation=\"relu\"),\r\n",
        "    keras.layers.Dropout(0.5),\r\n",
        "    keras.layers.Dense(64,activation=\"relu\"),\r\n",
        "    keras.layers.Dropout(0.5),\r\n",
        "    keras.layers.Dense(units=5, activation='softmax')\r\n",
        "])"
      ],
      "execution_count": null,
      "outputs": []
    },
    {
      "cell_type": "code",
      "metadata": {
        "id": "af8cNj9K38gH"
      },
      "source": [
        "cnn_model2.compile(loss=\"sparse_categorical_crossentropy\", optimizer=\"nadam\", metrics=[\"accuracy\"])"
      ],
      "execution_count": null,
      "outputs": []
    },
    {
      "cell_type": "code",
      "metadata": {
        "colab": {
          "base_uri": "https://localhost:8080/"
        },
        "id": "ka20q1uS4AHe",
        "outputId": "e7776468-b5d7-448a-d5cf-1bf3e779b06e"
      },
      "source": [
        "history = cnn_model2.fit(X_train, y_train, epochs=10, validation_data=(X_valid, y_valid))"
      ],
      "execution_count": null,
      "outputs": [
        {
          "output_type": "stream",
          "text": [
            "Epoch 1/10\n",
            "1440/1440 [==============================] - 23s 10ms/step - loss: 1.4028 - accuracy: 0.4969 - val_loss: 1.3660 - val_accuracy: 0.5014\n",
            "Epoch 2/10\n",
            "1440/1440 [==============================] - 15s 10ms/step - loss: 1.3725 - accuracy: 0.4983 - val_loss: 1.3935 - val_accuracy: 0.5014\n",
            "Epoch 3/10\n",
            "1440/1440 [==============================] - 15s 10ms/step - loss: 1.3710 - accuracy: 0.5003 - val_loss: 1.3687 - val_accuracy: 0.5014\n",
            "Epoch 4/10\n",
            "1440/1440 [==============================] - 15s 10ms/step - loss: 1.3672 - accuracy: 0.4998 - val_loss: 1.3724 - val_accuracy: 0.5014\n",
            "Epoch 5/10\n",
            "1440/1440 [==============================] - 15s 10ms/step - loss: 1.3581 - accuracy: 0.5014 - val_loss: 1.3605 - val_accuracy: 0.5014\n",
            "Epoch 6/10\n",
            "1440/1440 [==============================] - 15s 11ms/step - loss: 1.3581 - accuracy: 0.5009 - val_loss: 1.3572 - val_accuracy: 0.5014\n",
            "Epoch 7/10\n",
            "1440/1440 [==============================] - 15s 11ms/step - loss: 1.3518 - accuracy: 0.5016 - val_loss: 1.3506 - val_accuracy: 0.5014\n",
            "Epoch 8/10\n",
            "1440/1440 [==============================] - 15s 11ms/step - loss: 1.3667 - accuracy: 0.5005 - val_loss: 1.3440 - val_accuracy: 0.5014\n",
            "Epoch 9/10\n",
            "1440/1440 [==============================] - 15s 10ms/step - loss: 1.3467 - accuracy: 0.4986 - val_loss: 1.2616 - val_accuracy: 0.5014\n",
            "Epoch 10/10\n",
            "1440/1440 [==============================] - 15s 11ms/step - loss: 1.2736 - accuracy: 0.4999 - val_loss: 1.1014 - val_accuracy: 0.5346\n"
          ],
          "name": "stdout"
        }
      ]
    },
    {
      "cell_type": "markdown",
      "metadata": {
        "id": "XuaSi-PGJRd6"
      },
      "source": [
        "전류 데이터와 달리 유선 진동 데이터는 CNN 을 적용해도 훈련,검증 세트의 정확도가 50%를 웃도는 결과를 나타냄\r\n",
        "> 10 에폭 : 15s 11ms/step - loss: 1.2736 - accuracy: 0.4999 - val_loss: 1.1014 - val_accuracy: 0.5346"
      ]
    },
    {
      "cell_type": "code",
      "metadata": {
        "colab": {
          "base_uri": "https://localhost:8080/"
        },
        "id": "_dUqfXDa4HDO",
        "outputId": "f12ee838-8c69-49ea-b4fe-cd6b1a06cf1c"
      },
      "source": [
        "X_new = X_train[:10]\r\n",
        "y_pred = cnn_model2.predict_classes(X_new)\r\n",
        "y_pred"
      ],
      "execution_count": null,
      "outputs": [
        {
          "output_type": "stream",
          "text": [
            "/usr/local/lib/python3.6/dist-packages/tensorflow/python/keras/engine/sequential.py:450: UserWarning: `model.predict_classes()` is deprecated and will be removed after 2021-01-01. Please use instead:* `np.argmax(model.predict(x), axis=-1)`,   if your model does multi-class classification   (e.g. if it uses a `softmax` last-layer activation).* `(model.predict(x) > 0.5).astype(\"int32\")`,   if your model does binary classification   (e.g. if it uses a `sigmoid` last-layer activation).\n",
            "  warnings.warn('`model.predict_classes()` is deprecated and '\n"
          ],
          "name": "stderr"
        },
        {
          "output_type": "execute_result",
          "data": {
            "text/plain": [
              "array([3, 3, 3, 3, 3, 3, 3, 3, 3, 3])"
            ]
          },
          "metadata": {
            "tags": []
          },
          "execution_count": 30
        }
      ]
    },
    {
      "cell_type": "code",
      "metadata": {
        "colab": {
          "base_uri": "https://localhost:8080/"
        },
        "id": "-RKEkGrg6eL2",
        "outputId": "a6b5131c-2e26-47a6-bdfd-3dd8c4dfe0bf"
      },
      "source": [
        "y_train[:10]"
      ],
      "execution_count": null,
      "outputs": [
        {
          "output_type": "execute_result",
          "data": {
            "text/plain": [
              "array([3, 1, 3, 0, 4, 3, 3, 3, 0, 3])"
            ]
          },
          "metadata": {
            "tags": []
          },
          "execution_count": 31
        }
      ]
    },
    {
      "cell_type": "markdown",
      "metadata": {
        "id": "VVKf7Jmn9lfF"
      },
      "source": [
        "### CNN + 배치정규화"
      ]
    },
    {
      "cell_type": "code",
      "metadata": {
        "id": "7gCvjUlF_jWR"
      },
      "source": [
        "cnn_model2_1 = keras.models.Sequential([\r\n",
        "    keras.layers.Conv2D(64,7,padding=\"same\",input_shape=(60,2,1),use_bias=False),\r\n",
        "    keras.layers.BatchNormalization(),\r\n",
        "    keras.layers.Activation(\"relu\"),\r\n",
        "    keras.layers.MaxPool2D(1),\r\n",
        "    keras.layers.Conv2D(128,3,padding=\"same\",use_bias=False),\r\n",
        "    keras.layers.BatchNormalization(),\r\n",
        "    keras.layers.Activation(\"relu\"),\r\n",
        "    keras.layers.Conv2D(128,3,padding=\"same\",use_bias=False),\r\n",
        "    keras.layers.BatchNormalization(),\r\n",
        "    keras.layers.Activation(\"relu\"),\r\n",
        "    keras.layers.MaxPool2D(1),\r\n",
        "    keras.layers.Conv2D(256,3,padding=\"same\",use_bias=False),\r\n",
        "    keras.layers.BatchNormalization(),\r\n",
        "    keras.layers.Activation(\"relu\"),\r\n",
        "    keras.layers.Conv2D(256,3,padding=\"same\",use_bias=False),\r\n",
        "    keras.layers.BatchNormalization(),\r\n",
        "    keras.layers.Activation(\"relu\"),\r\n",
        "    keras.layers.MaxPool2D(2),\r\n",
        "    keras.layers.Flatten(),\r\n",
        "    keras.layers.Dense(128,activation=\"relu\"),\r\n",
        "    keras.layers.Dropout(0.5),\r\n",
        "    keras.layers.Dense(64,activation=\"relu\"),\r\n",
        "    keras.layers.Dropout(0.5),\r\n",
        "    keras.layers.Dense(units=5, activation='softmax')\r\n",
        "])"
      ],
      "execution_count": null,
      "outputs": []
    },
    {
      "cell_type": "code",
      "metadata": {
        "id": "Gha2iY1zPE9a"
      },
      "source": [
        "cnn_model2_1.compile(loss=\"sparse_categorical_crossentropy\", optimizer=\"nadam\", metrics=[\"accuracy\"])"
      ],
      "execution_count": null,
      "outputs": []
    },
    {
      "cell_type": "code",
      "metadata": {
        "colab": {
          "base_uri": "https://localhost:8080/"
        },
        "id": "32EiRzRUPI2H",
        "outputId": "ebf9d2eb-c7bd-484f-f2e8-12d40e164d9c"
      },
      "source": [
        "cnn_model2_1.fit(X_train,y_train,epochs=10, validation_data=(X_valid, y_valid))"
      ],
      "execution_count": null,
      "outputs": [
        {
          "output_type": "stream",
          "text": [
            "Epoch 1/10\n",
            "1440/1440 [==============================] - 18s 11ms/step - loss: 1.5930 - accuracy: 0.4689 - val_loss: 1.3677 - val_accuracy: 0.5014\n",
            "Epoch 2/10\n",
            "1440/1440 [==============================] - 17s 12ms/step - loss: 1.3811 - accuracy: 0.4980 - val_loss: 1.3622 - val_accuracy: 0.5014\n",
            "Epoch 3/10\n",
            "1440/1440 [==============================] - 16s 11ms/step - loss: 1.3850 - accuracy: 0.5001 - val_loss: 1.3632 - val_accuracy: 0.5014\n",
            "Epoch 4/10\n",
            "1440/1440 [==============================] - 17s 11ms/step - loss: 1.3733 - accuracy: 0.4997 - val_loss: 1.3611 - val_accuracy: 0.5014\n",
            "Epoch 5/10\n",
            "1440/1440 [==============================] - 17s 11ms/step - loss: 1.3794 - accuracy: 0.5014 - val_loss: 1.3701 - val_accuracy: 0.5014\n",
            "Epoch 6/10\n",
            "1440/1440 [==============================] - 17s 12ms/step - loss: 1.3715 - accuracy: 0.5009 - val_loss: 1.3654 - val_accuracy: 0.5014\n",
            "Epoch 7/10\n",
            "1440/1440 [==============================] - 17s 12ms/step - loss: 1.3682 - accuracy: 0.5014 - val_loss: 1.3583 - val_accuracy: 0.5014\n",
            "Epoch 8/10\n",
            "1440/1440 [==============================] - 17s 12ms/step - loss: 1.3636 - accuracy: 0.5005 - val_loss: 1.3581 - val_accuracy: 0.5014\n",
            "Epoch 9/10\n",
            "1440/1440 [==============================] - 17s 12ms/step - loss: 1.3646 - accuracy: 0.4986 - val_loss: 1.3554 - val_accuracy: 0.5014\n",
            "Epoch 10/10\n",
            "1440/1440 [==============================] - 17s 12ms/step - loss: 1.3545 - accuracy: 0.4987 - val_loss: 1.3512 - val_accuracy: 0.5014\n"
          ],
          "name": "stdout"
        },
        {
          "output_type": "execute_result",
          "data": {
            "text/plain": [
              "<tensorflow.python.keras.callbacks.History at 0x7fa2f5fe98d0>"
            ]
          },
          "metadata": {
            "tags": []
          },
          "execution_count": 57
        }
      ]
    },
    {
      "cell_type": "markdown",
      "metadata": {
        "id": "yyR9l1rcP79X"
      },
      "source": [
        "기본 CNN에 배치정규화를 추가해도 이전보다 좋은 성능이 나오지 않음, 오히려 기존보다 미미하게 나쁜 결과를 나타냄\r\n",
        "> 10 에폭 : 17s 12ms/step - loss: 1.3545 - accuracy: 0.4987 - val_loss: 1.3512 - val_accuracy: 0.5014"
      ]
    },
    {
      "cell_type": "markdown",
      "metadata": {
        "id": "5wlzAnw3_jyG"
      },
      "source": [
        "### ResNet-34 "
      ]
    },
    {
      "cell_type": "code",
      "metadata": {
        "id": "G0qB6PjV_9yA"
      },
      "source": [
        "X_train, X_test, y_train, y_test = train_test_split(kimm_x,kimm_y[:,0],train_size = 0.6, random_state=42)\r\n",
        "X_test, X_valid, y_test, y_valid = train_test_split(X_test, y_test, test_size = 0.5, random_state=42)"
      ],
      "execution_count": null,
      "outputs": []
    },
    {
      "cell_type": "code",
      "metadata": {
        "id": "CFlfM4BH_9yB"
      },
      "source": [
        "X_train = X_train[..., np.newaxis]\r\n",
        "X_valid = X_valid[..., np.newaxis]\r\n",
        "X_test = X_test[..., np.newaxis]"
      ],
      "execution_count": null,
      "outputs": []
    },
    {
      "cell_type": "code",
      "metadata": {
        "colab": {
          "base_uri": "https://localhost:8080/"
        },
        "id": "HJFqOtqv_9yC",
        "outputId": "bc63f3c4-13a9-4874-945d-f162597b7a3e"
      },
      "source": [
        "X_train.shape"
      ],
      "execution_count": null,
      "outputs": [
        {
          "output_type": "execute_result",
          "data": {
            "text/plain": [
              "(46080, 60, 2, 1)"
            ]
          },
          "metadata": {
            "tags": []
          },
          "execution_count": 59
        }
      ]
    },
    {
      "cell_type": "code",
      "metadata": {
        "id": "2Qy8TM_P_9yD"
      },
      "source": [
        "# 각 특성 값의 범위를 0~1로 조정\r\n",
        "X_train[:,:,1:] = X_train[:,:,1:]/100\r\n",
        "X_valid[:,:,1:] = X_valid[:,:,1:]/100\r\n",
        "X_test[:,:,1:] = X_test[:,:,1:]/100"
      ],
      "execution_count": null,
      "outputs": []
    },
    {
      "cell_type": "code",
      "metadata": {
        "id": "NW4DeTLhBAa7"
      },
      "source": [
        "# 잔차유닛\r\n",
        "class ResidualUnit(keras.layers.Layer):\r\n",
        "    def __init__(self, filters, strides=1, activation=\"relu\", **kwargs):\r\n",
        "        super().__init__(**kwargs)\r\n",
        "        self.activation = keras.activations.get(activation)\r\n",
        "        self.main_layers = [\r\n",
        "            keras.layers.Conv2D(filters,3,strides=strides, padding=\"same\", use_bias=False),\r\n",
        "            keras.layers.BatchNormalization(),\r\n",
        "            self.activation,\r\n",
        "            keras.layers.Conv2D(filters, 3,strides=1,padding=\"same\",use_bias=False),\r\n",
        "            keras.layers.BatchNormalization()]\r\n",
        "        self.skip_layers=[]\r\n",
        "        if strides > 1:\r\n",
        "            self.skip_layers = [\r\n",
        "                keras.layers.Conv2D(filters,1,strides=strides,padding=\"same\",use_bias=False),\r\n",
        "                keras.layers.BatchNormalization()]\r\n",
        "    def call(self,inputs):\r\n",
        "        Z = inputs\r\n",
        "        for layer in self.main_layers:\r\n",
        "            Z = layer(Z)\r\n",
        "        skip_Z = inputs\r\n",
        "        for layer in self.skip_layers:\r\n",
        "            skip_Z = layer(skip_Z)\r\n",
        "        return self.activation(Z+skip_Z)"
      ],
      "execution_count": null,
      "outputs": []
    },
    {
      "cell_type": "code",
      "metadata": {
        "id": "lMsn0v9W__AA"
      },
      "source": [
        "kimm_resnet_model = keras.models.Sequential()\r\n",
        "kimm_resnet_model.add(keras.layers.Conv2D(64,7,strides=2,input_shape=[60,2,1],padding=\"same\",use_bias=False))\r\n",
        "kimm_resnet_model.add(keras.layers.BatchNormalization())\r\n",
        "kimm_resnet_model.add(keras.layers.Activation(\"relu\"))\r\n",
        "kimm_resnet_model.add(keras.layers.MaxPool2D(pool_size=3, strides=2,padding=\"same\"))\r\n",
        "prev_filters = 64\r\n",
        "for filters in [64]*3+[128]*4+[256]*6+[512]*3:\r\n",
        "    strides = 1 if filters == prev_filters else 2\r\n",
        "    kimm_resnet_model.add(ResidualUnit(filters,strides=strides))\r\n",
        "    prev_filters=filters\r\n",
        "kimm_resnet_model.add(keras.layers.GlobalAvgPool2D())\r\n",
        "kimm_resnet_model.add(keras.layers.Flatten())\r\n",
        "kimm_resnet_model.add(keras.layers.Dense(5,activation=\"softmax\"))"
      ],
      "execution_count": null,
      "outputs": []
    },
    {
      "cell_type": "code",
      "metadata": {
        "id": "9Cui09uUE7eA"
      },
      "source": [
        "kimm_resnet_model.compile(loss=\"sparse_categorical_crossentropy\", optimizer=\"nadam\", metrics=[\"accuracy\"])"
      ],
      "execution_count": null,
      "outputs": []
    },
    {
      "cell_type": "code",
      "metadata": {
        "colab": {
          "base_uri": "https://localhost:8080/"
        },
        "id": "jIYPSJrDE7Q5",
        "outputId": "16e81acc-d795-477a-cb6e-cd59c5b5873f"
      },
      "source": [
        "kimm_resnet_model.fit(X_train,y_train,epochs=10, validation_data=(X_valid, y_valid))"
      ],
      "execution_count": null,
      "outputs": [
        {
          "output_type": "stream",
          "text": [
            "Epoch 1/10\n",
            "1440/1440 [==============================] - 78s 49ms/step - loss: 1.3476 - accuracy: 0.5199 - val_loss: 2.2187 - val_accuracy: 0.5486\n",
            "Epoch 2/10\n",
            "1440/1440 [==============================] - 70s 49ms/step - loss: 0.8356 - accuracy: 0.6544 - val_loss: 1.7420 - val_accuracy: 0.4881\n",
            "Epoch 3/10\n",
            "1440/1440 [==============================] - 70s 49ms/step - loss: 0.6888 - accuracy: 0.7121 - val_loss: 2.2917 - val_accuracy: 0.4761\n",
            "Epoch 4/10\n",
            "1440/1440 [==============================] - 70s 49ms/step - loss: 0.7407 - accuracy: 0.7009 - val_loss: 2.5210 - val_accuracy: 0.4584\n",
            "Epoch 5/10\n",
            "1440/1440 [==============================] - 70s 49ms/step - loss: 0.7434 - accuracy: 0.7005 - val_loss: 1.3602 - val_accuracy: 0.6928\n",
            "Epoch 6/10\n",
            "1440/1440 [==============================] - 70s 49ms/step - loss: 0.5244 - accuracy: 0.7724 - val_loss: 1.4629 - val_accuracy: 0.6686\n",
            "Epoch 7/10\n",
            "1440/1440 [==============================] - 70s 49ms/step - loss: 0.4968 - accuracy: 0.7820 - val_loss: 1.7292 - val_accuracy: 0.6204\n",
            "Epoch 8/10\n",
            "1440/1440 [==============================] - 70s 49ms/step - loss: 0.4868 - accuracy: 0.7906 - val_loss: 1.7716 - val_accuracy: 0.6636\n",
            "Epoch 9/10\n",
            "1440/1440 [==============================] - 70s 49ms/step - loss: 0.4133 - accuracy: 0.8161 - val_loss: 2.0273 - val_accuracy: 0.6058\n",
            "Epoch 10/10\n",
            "1440/1440 [==============================] - 70s 48ms/step - loss: 0.4079 - accuracy: 0.8175 - val_loss: 1.7692 - val_accuracy: 0.6755\n"
          ],
          "name": "stdout"
        },
        {
          "output_type": "execute_result",
          "data": {
            "text/plain": [
              "<tensorflow.python.keras.callbacks.History at 0x7f5041bfdeb8>"
            ]
          },
          "metadata": {
            "tags": []
          },
          "execution_count": 64
        }
      ]
    },
    {
      "cell_type": "markdown",
      "metadata": {
        "id": "A6x9-EPFJDHU"
      },
      "source": [
        "CNN 보다 훈련, 검증 세트 둘 다 정확도는 높아졌으나, __검증 세트의 정확도__가 __훈련세트의 정확도__보다 __낮게__ 나타남\r\n",
        "> 10 에폭 : 70s 49ms/step - loss: 0.3481 - accuracy: 0.8481 - val_loss: 1.2782 - val_accuracy: 0.6444  \r\n",
        "> 10 에폭 : 70s 48ms/step - loss: 0.3564 - accuracy: 0.8385 - val_loss: 1.5503 - val_accuracy: 0.7348 ( 21.02.01)"
      ]
    },
    {
      "cell_type": "markdown",
      "metadata": {
        "id": "_ntjxIkIGmPJ"
      },
      "source": [
        "## 무선진동 데이터"
      ]
    },
    {
      "cell_type": "markdown",
      "metadata": {
        "id": "rZVOUbRt20O4"
      },
      "source": [
        "무선진동 데이터는 행이 두 가지의 종류(3000 row, 6000 row)로 존재해서\r\n",
        "\r\n",
        "3000 row인 데이터는 나머지 빈 데이터 3000 row를 0으로 채움."
      ]
    },
    {
      "cell_type": "code",
      "metadata": {
        "id": "hy2BTc5Yzcey",
        "colab": {
          "base_uri": "https://localhost:8080/"
        },
        "outputId": "5fa077b0-b02f-4022-e2a5-e76987147d0f"
      },
      "source": [
        "vibration_x.shape, vibration_y.shape"
      ],
      "execution_count": null,
      "outputs": [
        {
          "output_type": "execute_result",
          "data": {
            "text/plain": [
              "((38400, 60, 2), (38400, 60))"
            ]
          },
          "metadata": {
            "tags": []
          },
          "execution_count": 36
        }
      ]
    },
    {
      "cell_type": "code",
      "metadata": {
        "id": "_kcTmZQhHQQk"
      },
      "source": [
        "from sklearn.model_selection import train_test_split"
      ],
      "execution_count": null,
      "outputs": []
    },
    {
      "cell_type": "code",
      "metadata": {
        "id": "oiXc2Xh-HK77"
      },
      "source": [
        "X_train, X_test, y_train, y_test = train_test_split(vibration_x,vibration_y[:,0],train_size = 0.6, random_state=42)\r\n",
        "X_test, X_valid, y_test, y_valid = train_test_split(X_test, y_test, test_size = 0.5, random_state=42)"
      ],
      "execution_count": null,
      "outputs": []
    },
    {
      "cell_type": "markdown",
      "metadata": {
        "id": "A9dehslk7B8A"
      },
      "source": [
        "### 일반적인 다층 퍼셉트론(MLP)"
      ]
    },
    {
      "cell_type": "code",
      "metadata": {
        "id": "55Bm9xDDGP5V"
      },
      "source": [
        "model3 = keras.models.Sequential()\r\n",
        "model3.add(keras.layers.Flatten(input_shape=[60, 2]))\r\n",
        "model3.add(keras.layers.Dense(300, activation=\"relu\"))\r\n",
        "model3.add(keras.layers.Dense(100, activation=\"relu\"))\r\n",
        "model3.add(keras.layers.Dense(5, activation=\"softmax\")) "
      ],
      "execution_count": null,
      "outputs": []
    },
    {
      "cell_type": "code",
      "metadata": {
        "id": "3AR5j_WCGsAE"
      },
      "source": [
        "model3.compile(loss=\"sparse_categorical_crossentropy\",\r\n",
        "              optimizer=\"sgd\",\r\n",
        "              metrics=[\"accuracy\"])"
      ],
      "execution_count": null,
      "outputs": []
    },
    {
      "cell_type": "code",
      "metadata": {
        "id": "mphVlWVDG1gt",
        "colab": {
          "base_uri": "https://localhost:8080/"
        },
        "outputId": "e2605b12-fe66-4b6f-c27f-9368902334fd"
      },
      "source": [
        "history3 = model3.fit(X_train,y_train,epochs=30,validation_data=(X_valid,y_valid))"
      ],
      "execution_count": null,
      "outputs": [
        {
          "output_type": "stream",
          "text": [
            "Epoch 1/30\n",
            "720/720 [==============================] - 2s 2ms/step - loss: 2.0473 - accuracy: 0.4786 - val_loss: 1.3984 - val_accuracy: 0.4931\n",
            "Epoch 2/30\n",
            "720/720 [==============================] - 1s 2ms/step - loss: 1.3846 - accuracy: 0.4993 - val_loss: 1.3825 - val_accuracy: 0.4931\n",
            "Epoch 3/30\n",
            "720/720 [==============================] - 2s 2ms/step - loss: 1.3791 - accuracy: 0.4973 - val_loss: 1.3860 - val_accuracy: 0.4931\n",
            "Epoch 4/30\n",
            "720/720 [==============================] - 1s 2ms/step - loss: 1.3666 - accuracy: 0.5050 - val_loss: 1.3820 - val_accuracy: 0.4931\n",
            "Epoch 5/30\n",
            "720/720 [==============================] - 2s 2ms/step - loss: 1.3848 - accuracy: 0.4916 - val_loss: 1.3808 - val_accuracy: 0.4931\n",
            "Epoch 6/30\n",
            "720/720 [==============================] - 1s 2ms/step - loss: 1.3762 - accuracy: 0.4973 - val_loss: 1.3817 - val_accuracy: 0.4931\n",
            "Epoch 7/30\n",
            "720/720 [==============================] - 1s 2ms/step - loss: 1.3717 - accuracy: 0.5009 - val_loss: 1.3795 - val_accuracy: 0.4931\n",
            "Epoch 8/30\n",
            "720/720 [==============================] - 1s 2ms/step - loss: 1.3699 - accuracy: 0.5027 - val_loss: 1.3795 - val_accuracy: 0.4931\n",
            "Epoch 9/30\n",
            "720/720 [==============================] - 1s 2ms/step - loss: 1.3780 - accuracy: 0.4961 - val_loss: 1.3886 - val_accuracy: 0.4931\n",
            "Epoch 10/30\n",
            "720/720 [==============================] - 1s 2ms/step - loss: 1.3698 - accuracy: 0.5033 - val_loss: 1.3775 - val_accuracy: 0.4931\n",
            "Epoch 11/30\n",
            "720/720 [==============================] - 2s 2ms/step - loss: 1.3703 - accuracy: 0.5017 - val_loss: 1.3819 - val_accuracy: 0.4931\n",
            "Epoch 12/30\n",
            "720/720 [==============================] - 2s 2ms/step - loss: 1.3710 - accuracy: 0.5009 - val_loss: 1.3878 - val_accuracy: 0.4931\n",
            "Epoch 13/30\n",
            "720/720 [==============================] - 2s 2ms/step - loss: 1.3661 - accuracy: 0.5045 - val_loss: 1.3797 - val_accuracy: 0.4931\n",
            "Epoch 14/30\n",
            "720/720 [==============================] - 1s 2ms/step - loss: 1.3690 - accuracy: 0.5003 - val_loss: 1.3773 - val_accuracy: 0.4931\n",
            "Epoch 15/30\n",
            "720/720 [==============================] - 2s 2ms/step - loss: 1.3647 - accuracy: 0.5050 - val_loss: 1.3778 - val_accuracy: 0.4931\n",
            "Epoch 16/30\n",
            "720/720 [==============================] - 2s 2ms/step - loss: 1.3646 - accuracy: 0.5027 - val_loss: 1.3823 - val_accuracy: 0.4931\n",
            "Epoch 17/30\n",
            "720/720 [==============================] - 2s 2ms/step - loss: 1.3799 - accuracy: 0.4927 - val_loss: 1.3759 - val_accuracy: 0.4931\n",
            "Epoch 18/30\n",
            "720/720 [==============================] - 1s 2ms/step - loss: 1.3699 - accuracy: 0.4985 - val_loss: 1.3751 - val_accuracy: 0.4931\n",
            "Epoch 19/30\n",
            "720/720 [==============================] - 2s 2ms/step - loss: 1.3670 - accuracy: 0.5013 - val_loss: 1.3742 - val_accuracy: 0.4931\n",
            "Epoch 20/30\n",
            "720/720 [==============================] - 1s 2ms/step - loss: 1.3742 - accuracy: 0.4953 - val_loss: 1.3733 - val_accuracy: 0.4931\n",
            "Epoch 21/30\n",
            "720/720 [==============================] - 1s 2ms/step - loss: 1.3635 - accuracy: 0.5016 - val_loss: 1.3719 - val_accuracy: 0.4931\n",
            "Epoch 22/30\n",
            "720/720 [==============================] - 1s 2ms/step - loss: 1.3642 - accuracy: 0.5000 - val_loss: 1.3717 - val_accuracy: 0.4931\n",
            "Epoch 23/30\n",
            "720/720 [==============================] - 2s 2ms/step - loss: 1.3629 - accuracy: 0.5009 - val_loss: 1.3713 - val_accuracy: 0.4931\n",
            "Epoch 24/30\n",
            "720/720 [==============================] - 2s 2ms/step - loss: 1.3557 - accuracy: 0.5059 - val_loss: 1.3679 - val_accuracy: 0.4931\n",
            "Epoch 25/30\n",
            "720/720 [==============================] - 2s 2ms/step - loss: 1.3631 - accuracy: 0.4979 - val_loss: 1.3698 - val_accuracy: 0.4931\n",
            "Epoch 26/30\n",
            "720/720 [==============================] - 1s 2ms/step - loss: 1.3635 - accuracy: 0.4962 - val_loss: 1.3648 - val_accuracy: 0.4931\n",
            "Epoch 27/30\n",
            "720/720 [==============================] - 2s 2ms/step - loss: 1.3579 - accuracy: 0.5009 - val_loss: 1.3645 - val_accuracy: 0.4931\n",
            "Epoch 28/30\n",
            "720/720 [==============================] - 1s 2ms/step - loss: 1.3573 - accuracy: 0.5008 - val_loss: 1.3615 - val_accuracy: 0.4996\n",
            "Epoch 29/30\n",
            "720/720 [==============================] - 1s 2ms/step - loss: 1.3498 - accuracy: 0.5084 - val_loss: 1.3610 - val_accuracy: 0.4996\n",
            "Epoch 30/30\n",
            "720/720 [==============================] - 2s 2ms/step - loss: 1.3499 - accuracy: 0.5069 - val_loss: 1.3578 - val_accuracy: 0.4996\n"
          ],
          "name": "stdout"
        }
      ]
    },
    {
      "cell_type": "markdown",
      "metadata": {
        "id": "zmOPGNrwGeDv"
      },
      "source": [
        "정확도가 50%를 웃돔.\r\n",
        "\r\n",
        "30 에폭. 2s 2ms/step - loss: 1.3499 - accuracy: 0.5069 - val_loss: 1.3578 - val_accuracy: 0.4996"
      ]
    },
    {
      "cell_type": "markdown",
      "metadata": {
        "id": "iG79WtQh7HjX"
      },
      "source": [
        "### CNN"
      ]
    },
    {
      "cell_type": "code",
      "metadata": {
        "id": "q3HuTQpw5uYY"
      },
      "source": [
        "X_train, X_test, y_train, y_test = train_test_split(vibration_x,vibration_y[:,0],train_size = 0.6, random_state=42)\r\n",
        "X_test, X_valid, y_test, y_valid = train_test_split(X_test, y_test, test_size = 0.5, random_state=42)"
      ],
      "execution_count": null,
      "outputs": []
    },
    {
      "cell_type": "code",
      "metadata": {
        "id": "GPfTYfxSTIof"
      },
      "source": [
        "X_train = X_train[..., np.newaxis]\r\n",
        "X_valid = X_valid[..., np.newaxis]\r\n",
        "X_test = X_test[..., np.newaxis]"
      ],
      "execution_count": null,
      "outputs": []
    },
    {
      "cell_type": "code",
      "metadata": {
        "colab": {
          "base_uri": "https://localhost:8080/"
        },
        "id": "gW0j2Gzu7G8l",
        "outputId": "83726cd1-237e-4e1e-b8e7-089294a29ff3"
      },
      "source": [
        "X_train.shape"
      ],
      "execution_count": null,
      "outputs": [
        {
          "output_type": "execute_result",
          "data": {
            "text/plain": [
              "(23040, 60, 2, 1)"
            ]
          },
          "metadata": {
            "tags": []
          },
          "execution_count": 39
        }
      ]
    },
    {
      "cell_type": "code",
      "metadata": {
        "id": "VuzIKz-T2wVz"
      },
      "source": [
        "# 각 특성 값의 범위를 0~1로 조정\r\n",
        "X_train[:,:,1:] = X_train[:,:,1:]/100\r\n",
        "X_valid[:,:,1:] = X_valid[:,:,1:]/100\r\n",
        "X_test[:,:,1:] = X_test[:,:,1:]/100"
      ],
      "execution_count": null,
      "outputs": []
    },
    {
      "cell_type": "code",
      "metadata": {
        "id": "cv_tQr2l7UlV"
      },
      "source": [
        "from functools import partial\r\n",
        "\r\n",
        "cnn_model3 = keras.models.Sequential([\r\n",
        "    keras.layers.Conv2D(64,7,activation=\"relu\",padding=\"same\",input_shape=(60,2,1)),\r\n",
        "    keras.layers.MaxPool2D(1),\r\n",
        "    keras.layers.Conv2D(128,3,activation=\"relu\",padding=\"same\"),\r\n",
        "    keras.layers.Conv2D(128,3,activation=\"relu\",padding=\"same\"),\r\n",
        "    keras.layers.MaxPool2D(1),\r\n",
        "    keras.layers.Conv2D(256,3,activation=\"relu\",padding=\"same\"),\r\n",
        "    keras.layers.Conv2D(256,3,activation=\"relu\",padding=\"same\"),\r\n",
        "    keras.layers.MaxPool2D(2),\r\n",
        "    keras.layers.Flatten(),\r\n",
        "    keras.layers.Dense(128,activation=\"relu\"),\r\n",
        "    keras.layers.Dropout(0.5),\r\n",
        "    keras.layers.Dense(64,activation=\"relu\"),\r\n",
        "    keras.layers.Dropout(0.5),\r\n",
        "    keras.layers.Dense(units=5, activation='softmax')\r\n",
        "])"
      ],
      "execution_count": null,
      "outputs": []
    },
    {
      "cell_type": "code",
      "metadata": {
        "id": "_TTLDqGu7aA9"
      },
      "source": [
        "cnn_model3.compile(loss=\"sparse_categorical_crossentropy\", optimizer=\"nadam\", metrics=[\"accuracy\"])"
      ],
      "execution_count": null,
      "outputs": []
    },
    {
      "cell_type": "code",
      "metadata": {
        "colab": {
          "base_uri": "https://localhost:8080/"
        },
        "id": "b25AJqq37f7A",
        "outputId": "959a75da-a99d-45d5-be81-2761a31bb2d1"
      },
      "source": [
        "history = cnn_model3.fit(X_train, y_train, epochs=10, validation_data=(X_valid, y_valid))"
      ],
      "execution_count": null,
      "outputs": [
        {
          "output_type": "stream",
          "text": [
            "Epoch 1/10\n",
            "720/720 [==============================] - 9s 11ms/step - loss: 0.9097 - accuracy: 0.5870 - val_loss: 0.7296 - val_accuracy: 0.6355\n",
            "Epoch 2/10\n",
            "720/720 [==============================] - 7s 10ms/step - loss: 0.8177 - accuracy: 0.6315 - val_loss: 0.7059 - val_accuracy: 0.6354\n",
            "Epoch 3/10\n",
            "720/720 [==============================] - 7s 10ms/step - loss: 0.7080 - accuracy: 0.6330 - val_loss: 0.7099 - val_accuracy: 0.6397\n",
            "Epoch 4/10\n",
            "720/720 [==============================] - 8s 10ms/step - loss: 0.6955 - accuracy: 0.6418 - val_loss: 0.7011 - val_accuracy: 0.6354\n",
            "Epoch 5/10\n",
            "720/720 [==============================] - 7s 10ms/step - loss: 0.7259 - accuracy: 0.6292 - val_loss: 0.7667 - val_accuracy: 0.6237\n",
            "Epoch 6/10\n",
            "720/720 [==============================] - 8s 10ms/step - loss: 0.7267 - accuracy: 0.6364 - val_loss: 0.6976 - val_accuracy: 0.6546\n",
            "Epoch 7/10\n",
            "720/720 [==============================] - 8s 10ms/step - loss: 0.7135 - accuracy: 0.6473 - val_loss: 0.6820 - val_accuracy: 0.6355\n",
            "Epoch 8/10\n",
            "720/720 [==============================] - 8s 11ms/step - loss: 0.6695 - accuracy: 0.6482 - val_loss: 0.6762 - val_accuracy: 0.6548\n",
            "Epoch 9/10\n",
            "720/720 [==============================] - 8s 11ms/step - loss: 0.6859 - accuracy: 0.6493 - val_loss: 0.7023 - val_accuracy: 0.6357\n",
            "Epoch 10/10\n",
            "720/720 [==============================] - 8s 11ms/step - loss: 0.8233 - accuracy: 0.6377 - val_loss: 0.6749 - val_accuracy: 0.6566\n"
          ],
          "name": "stdout"
        }
      ]
    },
    {
      "cell_type": "markdown",
      "metadata": {
        "id": "t8UKIuEilAs8"
      },
      "source": [
        "이전보다 좋아졌지만 그럼에도 정확도가 70%를 넘지 못하는 결과를 보임\r\n",
        "> 10 에폭 : 8s 11ms/step - loss: 0.6141 - accuracy: 0.6907 - val_loss: 0.6035 - val_accuracy: 0.6785  \r\n",
        "\r\n",
        "데이터를 수정해서 데이터 패턴을 판단하기 어려워져 정확도가 낮아진 것 같으나 더 좋은 방향임\r\n",
        "> 8s 11ms/step - loss: 0.8233 - accuracy: 0.6377 - val_loss: 0.6749 - val_accuracy: 0.6566 ( 21.02.01)"
      ]
    },
    {
      "cell_type": "markdown",
      "metadata": {
        "id": "T8MkdXmPbzO4"
      },
      "source": [
        "### Resnet34"
      ]
    },
    {
      "cell_type": "code",
      "metadata": {
        "id": "aEAHxVN1bt0v"
      },
      "source": [
        "X_train, X_test, y_train, y_test = train_test_split(vibration_x,vibration_y[:,0],train_size = 0.6, random_state=42)\r\n",
        "X_test, X_valid, y_test, y_valid = train_test_split(X_test, y_test, test_size = 0.5, random_state=42)\r\n",
        "X_train = X_train[..., np.newaxis]\r\n",
        "X_valid = X_valid[..., np.newaxis]\r\n",
        "X_test = X_test[..., np.newaxis]\r\n",
        "X_train[:,:,1:] = X_train[:,:,1:]/100\r\n",
        "X_valid[:,:,1:] = X_valid[:,:,1:]/100\r\n",
        "X_test[:,:,1:] = X_test[:,:,1:]/100"
      ],
      "execution_count": null,
      "outputs": []
    },
    {
      "cell_type": "code",
      "metadata": {
        "id": "sa-Nc7vHZ_qu"
      },
      "source": [
        "# 잔차유닛\r\n",
        "class ResidualUnit(keras.layers.Layer):\r\n",
        "    def __init__(self, filters, strides=1, activation=\"relu\", **kwargs):\r\n",
        "        super().__init__(**kwargs)\r\n",
        "        self.activation = keras.activations.get(activation)\r\n",
        "        self.main_layers = [\r\n",
        "            keras.layers.Conv2D(filters,3,strides=strides, padding=\"same\", use_bias=False),\r\n",
        "            keras.layers.BatchNormalization(),\r\n",
        "            self.activation,\r\n",
        "            keras.layers.Conv2D(filters, 3,strides=1,padding=\"same\",use_bias=False),\r\n",
        "            keras.layers.BatchNormalization()]\r\n",
        "        self.skip_layers=[]\r\n",
        "        if strides > 1:\r\n",
        "            self.skip_layers = [\r\n",
        "                keras.layers.Conv2D(filters,1,strides=strides,padding=\"same\",use_bias=False),\r\n",
        "                keras.layers.BatchNormalization()]\r\n",
        "    def call(self,inputs):\r\n",
        "        Z = inputs\r\n",
        "        for layer in self.main_layers:\r\n",
        "            Z = layer(Z)\r\n",
        "        skip_Z = inputs\r\n",
        "        for layer in self.skip_layers:\r\n",
        "            skip_Z = layer(skip_Z)\r\n",
        "        return self.activation(Z+skip_Z)"
      ],
      "execution_count": null,
      "outputs": []
    },
    {
      "cell_type": "code",
      "metadata": {
        "colab": {
          "base_uri": "https://localhost:8080/"
        },
        "id": "EHAB6aldZ97T",
        "outputId": "0e04fe4c-ffbc-4ae4-8741-6e110e05df23"
      },
      "source": [
        "vibration_resnet_model = keras.models.Sequential()\r\n",
        "vibration_resnet_model.add(keras.layers.Conv2D(64,7,strides=2,input_shape=[60,2,1],padding=\"same\",use_bias=False))\r\n",
        "vibration_resnet_model.add(keras.layers.BatchNormalization())\r\n",
        "vibration_resnet_model.add(keras.layers.Activation(\"relu\"))\r\n",
        "vibration_resnet_model.add(keras.layers.MaxPool2D(pool_size=3, strides=2,padding=\"same\"))\r\n",
        "prev_filters = 64\r\n",
        "for filters in [64]*3+[128]*4+[256]*6+[512]*3:\r\n",
        "    strides = 1 if filters == prev_filters else 2\r\n",
        "    vibration_resnet_model.add(ResidualUnit(filters,strides=strides))\r\n",
        "    prev_filters=filters\r\n",
        "vibration_resnet_model.add(keras.layers.GlobalAvgPool2D())\r\n",
        "vibration_resnet_model.add(keras.layers.Flatten())\r\n",
        "vibration_resnet_model.add(keras.layers.Dense(5,activation=\"softmax\"))\r\n",
        "vibration_resnet_model.compile(loss=\"sparse_categorical_crossentropy\", optimizer=\"nadam\", metrics=[\"accuracy\"])\r\n",
        "vibration_resnet_model.fit(X_train,y_train,epochs=10, validation_data=(X_valid, y_valid))"
      ],
      "execution_count": null,
      "outputs": [
        {
          "output_type": "stream",
          "text": [
            "Epoch 1/10\n",
            "720/720 [==============================] - 42s 49ms/step - loss: 0.8951 - accuracy: 0.6152 - val_loss: 0.6757 - val_accuracy: 0.6582\n",
            "Epoch 2/10\n",
            "720/720 [==============================] - 35s 49ms/step - loss: 0.6789 - accuracy: 0.6663 - val_loss: 0.6402 - val_accuracy: 0.6961\n",
            "Epoch 3/10\n",
            "720/720 [==============================] - 35s 49ms/step - loss: 0.6526 - accuracy: 0.6672 - val_loss: 0.7519 - val_accuracy: 0.6849\n",
            "Epoch 4/10\n",
            "720/720 [==============================] - 35s 49ms/step - loss: 0.6701 - accuracy: 0.6668 - val_loss: 0.6186 - val_accuracy: 0.6887\n",
            "Epoch 5/10\n",
            "720/720 [==============================] - 35s 49ms/step - loss: 0.6639 - accuracy: 0.6704 - val_loss: 0.5882 - val_accuracy: 0.6966\n",
            "Epoch 6/10\n",
            "720/720 [==============================] - 35s 49ms/step - loss: 0.6221 - accuracy: 0.6907 - val_loss: 0.5793 - val_accuracy: 0.7206\n",
            "Epoch 7/10\n",
            "720/720 [==============================] - 35s 49ms/step - loss: 0.5858 - accuracy: 0.7067 - val_loss: 0.5748 - val_accuracy: 0.7176\n",
            "Epoch 8/10\n",
            "720/720 [==============================] - 35s 49ms/step - loss: 0.6017 - accuracy: 0.7028 - val_loss: 0.6164 - val_accuracy: 0.6956\n",
            "Epoch 9/10\n",
            "720/720 [==============================] - 35s 49ms/step - loss: 0.5862 - accuracy: 0.7016 - val_loss: 0.5519 - val_accuracy: 0.7167\n",
            "Epoch 10/10\n",
            "720/720 [==============================] - 35s 49ms/step - loss: 0.5548 - accuracy: 0.7133 - val_loss: 0.5541 - val_accuracy: 0.7074\n"
          ],
          "name": "stdout"
        },
        {
          "output_type": "execute_result",
          "data": {
            "text/plain": [
              "<tensorflow.python.keras.callbacks.History at 0x7f503f8da978>"
            ]
          },
          "metadata": {
            "tags": []
          },
          "execution_count": 67
        }
      ]
    },
    {
      "cell_type": "markdown",
      "metadata": {
        "id": "gOruUU4BlLgp"
      },
      "source": [
        "이전과 유사하지만 미미하게 성능이 좋아졌다.\r\n",
        "> 10 에폭 : 35s 49ms/step - loss: 0.6046 - accuracy: 0.6939 - val_loss: 0.6169 - val_accuracy: 0.6625\r\n",
        "\r\n",
        "데이터 수정 이후 정확도가 70%를 넘어 이전보다 성능이 좋아진 결과를 나타냄\r\n",
        "> 10 에폭 : 35s 49ms/step - loss: 0.5614 - accuracy: 0.7174 - val_loss: 0.5437 - val_accuracy: 0.7150"
      ]
    },
    {
      "cell_type": "markdown",
      "metadata": {
        "id": "-hRcIAjvD8fU"
      },
      "source": [
        "# 테스트 세트"
      ]
    },
    {
      "cell_type": "code",
      "metadata": {
        "id": "dHR15QpnECX6"
      },
      "source": [
        "TEST_PATH = '/content/drive/MyDrive/Colab Notebooks/testSet'"
      ],
      "execution_count": null,
      "outputs": []
    },
    {
      "cell_type": "code",
      "metadata": {
        "id": "nZnNw7K3GiT4"
      },
      "source": [
        "import csv"
      ],
      "execution_count": null,
      "outputs": []
    },
    {
      "cell_type": "code",
      "metadata": {
        "id": "HcOYpO3kEZU1"
      },
      "source": [
        "def read_test_dir(path):\r\n",
        "    if os.path.isdir(path):\r\n",
        "        dir_list = os.listdir(path)\r\n",
        "    dir_list = sorted(dir_list)\r\n",
        "    \r\n",
        "    result_f = os.path.join(path,dir_list[-1])\r\n",
        "\r\n",
        "    tmp_dir_list = []\r\n",
        "    with open(result_f,'r') as rf:\r\n",
        "        tt = csv.reader(rf)\r\n",
        "        for i in tt:\r\n",
        "            tmp_dir_list.append(i)\r\n",
        "    \r\n",
        "    # print(len(tmp_dir_list))\r\n",
        "\r\n",
        "    tmp_dir_list = tmp_dir_list[1:]\r\n",
        "    test_dir_list = []\r\n",
        "    category = []\r\n",
        "    kw = []\r\n",
        "    for t in tmp_dir_list:\r\n",
        "        num = t[0]\r\n",
        "        if len(num)<2:\r\n",
        "            num = '00'+num\r\n",
        "        elif len(num)<3:\r\n",
        "            num = '0'+num\r\n",
        "        f_name = num+'.csv'\r\n",
        "        p = os.path.join(path,f_name)\r\n",
        "        test_dir_list.append(p)\r\n",
        "        category.append(t[1])\r\n",
        "        kw.append(t[2])\r\n",
        "\r\n",
        "    return test_dir_list, category, kw"
      ],
      "execution_count": null,
      "outputs": []
    },
    {
      "cell_type": "code",
      "metadata": {
        "id": "76MlTlaPOgJL"
      },
      "source": [
        "def test_predict():\r\n",
        "    t,c,k = read_test_dir(TEST_PATH)\r\n",
        "    y = {}\r\n",
        "    X = None\r\n",
        "    for i in range(len(t)):\r\n",
        "        f_name = os.path.basename(t[i])\r\n",
        "        if f_name == '142.csv':\r\n",
        "            print('{} pass : Current라고 되어있으나 3 col이 아닌 1col data, 주최측은 Current가 맞다고 답변'.format(f_name))\r\n",
        "            pass\r\n",
        "        elif c[i] == 'Current':\r\n",
        "            X = pd.read_csv(t[i])\r\n",
        "            X.drop('Seq',axis=1,inplace=True)\r\n",
        "            X['Motor'] = float(k[i])/100\r\n",
        "            \r\n",
        "            r1 = cnn_model.predict_classes(X.values[np.newaxis,...,np.newaxis])\r\n",
        "            r2 = current_resnet_model.predict_classes(X.values[np.newaxis,...,np.newaxis])\r\n",
        "            print('{}, {}\\n cnn : {}\\n resnet : {}'.format(f_name,c[i],r1,r2))\r\n",
        "            y[f_name] = [r1,r2]\r\n",
        "        elif c[i] == 'Kimm':\r\n",
        "            X = pd.read_csv(t[i])\r\n",
        "            X.drop('Seq',axis=1,inplace=True)\r\n",
        "            X['Motor'] = float(k[i])/100\r\n",
        "\r\n",
        "            r1 = kimm_resnet_model.predict_classes(X.values[np.newaxis,...,np.newaxis])\r\n",
        "            print('{}, {}\\n resnet : {}'.format(f_name,c[i],r1))\r\n",
        "            y[f_name] = [r1]\r\n",
        "        else: # Vibration\r\n",
        "            X = pd.read_csv(t[i])\r\n",
        "            X.drop('Seq',axis=1,inplace=True)\r\n",
        "            X['Motor'] = float(k[i])/100\r\n",
        "\r\n",
        "            r1 = vibration_resnet_model.predict_classes(X.values[np.newaxis,...,np.newaxis])\r\n",
        "            print('{}, {}\\n resnet : {}'.format(f_name,c[i],r1))\r\n",
        "            y[f_name] = [r1]\r\n",
        "    return y"
      ],
      "execution_count": null,
      "outputs": []
    },
    {
      "cell_type": "code",
      "metadata": {
        "colab": {
          "base_uri": "https://localhost:8080/"
        },
        "id": "-jO4dTW-RS21",
        "outputId": "0d778d11-9694-41e0-8f6d-f090fd6617c9"
      },
      "source": [
        "test_y_dict = test_predict()"
      ],
      "execution_count": null,
      "outputs": [
        {
          "output_type": "stream",
          "text": [
            "/usr/local/lib/python3.6/dist-packages/tensorflow/python/keras/engine/sequential.py:450: UserWarning: `model.predict_classes()` is deprecated and will be removed after 2021-01-01. Please use instead:* `np.argmax(model.predict(x), axis=-1)`,   if your model does multi-class classification   (e.g. if it uses a `softmax` last-layer activation).* `(model.predict(x) > 0.5).astype(\"int32\")`,   if your model does binary classification   (e.g. if it uses a `sigmoid` last-layer activation).\n",
            "  warnings.warn('`model.predict_classes()` is deprecated and '\n"
          ],
          "name": "stderr"
        },
        {
          "output_type": "stream",
          "text": [
            "001.csv, Kimm\n",
            " resnet : [3]\n",
            "002.csv, Kimm\n",
            " resnet : [3]\n",
            "003.csv, Vibration\n",
            " resnet : [4]\n",
            "WARNING:tensorflow:5 out of the last 12 calls to <function Model.make_predict_function.<locals>.predict_function at 0x7f5040999d08> triggered tf.function retracing. Tracing is expensive and the excessive number of tracings could be due to (1) creating @tf.function repeatedly in a loop, (2) passing tensors with different shapes, (3) passing Python objects instead of tensors. For (1), please define your @tf.function outside of the loop. For (2), @tf.function has experimental_relax_shapes=True option that relaxes argument shapes that can avoid unnecessary retracing. For (3), please refer to https://www.tensorflow.org/guide/function#controlling_retracing and https://www.tensorflow.org/api_docs/python/tf/function for  more details.\n",
            "004.csv, Current\n",
            " cnn : [1]\n",
            " resnet : [3]\n",
            "005.csv, Vibration\n",
            " resnet : [4]\n",
            "006.csv, Current\n",
            " cnn : [3]\n",
            " resnet : [3]\n",
            "007.csv, Kimm\n",
            " resnet : [3]\n",
            "008.csv, Vibration\n",
            " resnet : [1]\n",
            "009.csv, Kimm\n",
            " resnet : [3]\n",
            "010.csv, Vibration\n",
            " resnet : [4]\n",
            "011.csv, Kimm\n",
            " resnet : [3]\n",
            "012.csv, Vibration\n",
            " resnet : [1]\n",
            "013.csv, Current\n",
            " cnn : [3]\n",
            " resnet : [3]\n",
            "014.csv, Vibration\n",
            " resnet : [2]\n",
            "015.csv, Vibration\n",
            " resnet : [4]\n",
            "016.csv, Kimm\n",
            " resnet : [4]\n",
            "017.csv, Current\n",
            " cnn : [2]\n",
            " resnet : [3]\n",
            "018.csv, Kimm\n",
            " resnet : [3]\n",
            "019.csv, Vibration\n",
            " resnet : [1]\n",
            "020.csv, Kimm\n",
            " resnet : [3]\n",
            "021.csv, Vibration\n",
            " resnet : [1]\n",
            "022.csv, Current\n",
            " cnn : [0]\n",
            " resnet : [3]\n",
            "023.csv, Kimm\n",
            " resnet : [3]\n",
            "024.csv, Kimm\n",
            " resnet : [0]\n",
            "025.csv, Vibration\n",
            " resnet : [4]\n",
            "026.csv, Kimm\n",
            " resnet : [0]\n",
            "027.csv, Vibration\n",
            " resnet : [1]\n",
            "028.csv, Vibration\n",
            " resnet : [2]\n",
            "029.csv, Kimm\n",
            " resnet : [3]\n",
            "030.csv, Vibration\n",
            " resnet : [4]\n",
            "031.csv, Current\n",
            " cnn : [3]\n",
            " resnet : [3]\n",
            "032.csv, Vibration\n",
            " resnet : [4]\n",
            "033.csv, Vibration\n",
            " resnet : [4]\n",
            "034.csv, Current\n",
            " cnn : [4]\n",
            " resnet : [3]\n",
            "035.csv, Current\n",
            " cnn : [2]\n",
            " resnet : [3]\n",
            "036.csv, Vibration\n",
            " resnet : [3]\n",
            "037.csv, Current\n",
            " cnn : [1]\n",
            " resnet : [3]\n",
            "038.csv, Vibration\n",
            " resnet : [4]\n",
            "039.csv, Vibration\n",
            " resnet : [3]\n",
            "040.csv, Current\n",
            " cnn : [2]\n",
            " resnet : [3]\n",
            "041.csv, Kimm\n",
            " resnet : [3]\n",
            "042.csv, Current\n",
            " cnn : [1]\n",
            " resnet : [3]\n",
            "043.csv, Kimm\n",
            " resnet : [1]\n",
            "044.csv, Kimm\n",
            " resnet : [3]\n",
            "045.csv, Vibration\n",
            " resnet : [1]\n",
            "046.csv, Vibration\n",
            " resnet : [3]\n",
            "047.csv, Current\n",
            " cnn : [3]\n",
            " resnet : [3]\n",
            "048.csv, Vibration\n",
            " resnet : [4]\n",
            "049.csv, Kimm\n",
            " resnet : [3]\n",
            "050.csv, Current\n",
            " cnn : [2]\n",
            " resnet : [3]\n",
            "051.csv, Vibration\n",
            " resnet : [4]\n",
            "052.csv, Vibration\n",
            " resnet : [1]\n",
            "053.csv, Kimm\n",
            " resnet : [3]\n",
            "054.csv, Kimm\n",
            " resnet : [3]\n",
            "055.csv, Current\n",
            " cnn : [2]\n",
            " resnet : [3]\n",
            "056.csv, Vibration\n",
            " resnet : [4]\n",
            "057.csv, Kimm\n",
            " resnet : [3]\n",
            "058.csv, Vibration\n",
            " resnet : [0]\n",
            "059.csv, Vibration\n",
            " resnet : [1]\n",
            "060.csv, Current\n",
            " cnn : [4]\n",
            " resnet : [3]\n",
            "061.csv, Current\n",
            " cnn : [1]\n",
            " resnet : [3]\n",
            "062.csv, Kimm\n",
            " resnet : [1]\n",
            "063.csv, Vibration\n",
            " resnet : [4]\n",
            "064.csv, Vibration\n",
            " resnet : [4]\n",
            "065.csv, Current\n",
            " cnn : [2]\n",
            " resnet : [3]\n",
            "066.csv, Vibration\n",
            " resnet : [3]\n",
            "067.csv, Current\n",
            " cnn : [4]\n",
            " resnet : [3]\n",
            "068.csv, Current\n",
            " cnn : [4]\n",
            " resnet : [3]\n",
            "069.csv, Kimm\n",
            " resnet : [3]\n",
            "070.csv, Vibration\n",
            " resnet : [4]\n",
            "071.csv, Vibration\n",
            " resnet : [4]\n",
            "072.csv, Kimm\n",
            " resnet : [0]\n",
            "073.csv, Vibration\n",
            " resnet : [4]\n",
            "074.csv, Kimm\n",
            " resnet : [3]\n",
            "075.csv, Current\n",
            " cnn : [4]\n",
            " resnet : [3]\n",
            "076.csv, Current\n",
            " cnn : [2]\n",
            " resnet : [3]\n",
            "077.csv, Kimm\n",
            " resnet : [3]\n",
            "078.csv, Current\n",
            " cnn : [1]\n",
            " resnet : [3]\n",
            "079.csv, Kimm\n",
            " resnet : [4]\n",
            "080.csv, Current\n",
            " cnn : [1]\n",
            " resnet : [3]\n",
            "081.csv, Current\n",
            " cnn : [1]\n",
            " resnet : [3]\n",
            "082.csv, Vibration\n",
            " resnet : [4]\n",
            "083.csv, Vibration\n",
            " resnet : [4]\n",
            "084.csv, Kimm\n",
            " resnet : [3]\n",
            "085.csv, Kimm\n",
            " resnet : [0]\n",
            "086.csv, Kimm\n",
            " resnet : [3]\n",
            "087.csv, Current\n",
            " cnn : [1]\n",
            " resnet : [3]\n",
            "088.csv, Vibration\n",
            " resnet : [1]\n",
            "089.csv, Current\n",
            " cnn : [4]\n",
            " resnet : [3]\n",
            "090.csv, Vibration\n",
            " resnet : [1]\n",
            "091.csv, Vibration\n",
            " resnet : [4]\n",
            "092.csv, Vibration\n",
            " resnet : [1]\n",
            "093.csv, Current\n",
            " cnn : [0]\n",
            " resnet : [3]\n",
            "094.csv, Vibration\n",
            " resnet : [1]\n",
            "095.csv, Current\n",
            " cnn : [2]\n",
            " resnet : [3]\n",
            "096.csv, Vibration\n",
            " resnet : [4]\n",
            "097.csv, Current\n",
            " cnn : [3]\n",
            " resnet : [3]\n",
            "098.csv, Current\n",
            " cnn : [4]\n",
            " resnet : [3]\n",
            "099.csv, Kimm\n",
            " resnet : [3]\n",
            "100.csv, Kimm\n",
            " resnet : [3]\n",
            "100.csv, Kimm\n",
            " resnet : [3]\n",
            "101.csv, Current\n",
            " cnn : [3]\n",
            " resnet : [3]\n",
            "WARNING:tensorflow:Model was constructed with shape (None, 60, 2, 1) for input KerasTensor(type_spec=TensorSpec(shape=(None, 60, 2, 1), dtype=tf.float32, name='conv2d_108_input'), name='conv2d_108_input', description=\"created by layer 'conv2d_108_input'\"), but it was called on an input with incompatible shape (None, 60, 4, 1).\n",
            "102.csv, Vibration\n",
            " resnet : [4]\n",
            "103.csv, Current\n",
            " cnn : [3]\n",
            " resnet : [3]\n",
            "104.csv, Vibration\n",
            " resnet : [2]\n",
            "105.csv, Current\n",
            " cnn : [3]\n",
            " resnet : [3]\n",
            "106.csv, Kimm\n",
            " resnet : [3]\n",
            "107.csv, Current\n",
            " cnn : [3]\n",
            " resnet : [3]\n",
            "108.csv, Vibration\n",
            " resnet : [3]\n",
            "WARNING:tensorflow:Model was constructed with shape (None, 60, 2, 1) for input KerasTensor(type_spec=TensorSpec(shape=(None, 60, 2, 1), dtype=tf.float32, name='conv2d_72_input'), name='conv2d_72_input', description=\"created by layer 'conv2d_72_input'\"), but it was called on an input with incompatible shape (None, 60, 3, 1).\n",
            "109.csv, Kimm\n",
            " resnet : [3]\n",
            "110.csv, Vibration\n",
            " resnet : [0]\n",
            "111.csv, Current\n",
            " cnn : [3]\n",
            " resnet : [3]\n",
            "112.csv, Current\n",
            " cnn : [3]\n",
            " resnet : [3]\n",
            "113.csv, Vibration\n",
            " resnet : [1]\n",
            "114.csv, Vibration\n",
            " resnet : [3]\n",
            "115.csv, Current\n",
            " cnn : [3]\n",
            " resnet : [3]\n",
            "116.csv, Current\n",
            " cnn : [3]\n",
            " resnet : [3]\n",
            "117.csv, Vibration\n",
            " resnet : [2]\n",
            "118.csv, Current\n",
            " cnn : [3]\n",
            " resnet : [3]\n",
            "119.csv, Vibration\n",
            " resnet : [3]\n",
            "120.csv, Kimm\n",
            " resnet : [3]\n",
            "121.csv, Current\n",
            " cnn : [3]\n",
            " resnet : [3]\n",
            "122.csv, Kimm\n",
            " resnet : [1]\n",
            "123.csv, Kimm\n",
            " resnet : [3]\n",
            "124.csv, Current\n",
            " cnn : [3]\n",
            " resnet : [3]\n",
            "125.csv, Kimm\n",
            " resnet : [3]\n",
            "126.csv, Current\n",
            " cnn : [3]\n",
            " resnet : [3]\n",
            "127.csv, Vibration\n",
            " resnet : [3]\n",
            "128.csv, Kimm\n",
            " resnet : [3]\n",
            "129.csv, Vibration\n",
            " resnet : [2]\n",
            "130.csv, Kimm\n",
            " resnet : [3]\n",
            "131.csv, Vibration\n",
            " resnet : [3]\n",
            "132.csv, Kimm\n",
            " resnet : [3]\n",
            "133.csv, Kimm\n",
            " resnet : [3]\n",
            "134.csv, Kimm\n",
            " resnet : [3]\n",
            "135.csv, Vibration\n",
            " resnet : [3]\n",
            "136.csv, Current\n",
            " cnn : [3]\n",
            " resnet : [3]\n",
            "137.csv, Vibration\n",
            " resnet : [3]\n",
            "138.csv, Current\n",
            " cnn : [3]\n",
            " resnet : [3]\n",
            "139.csv, Current\n",
            " cnn : [3]\n",
            " resnet : [3]\n",
            "140.csv, Vibration\n",
            " resnet : [4]\n",
            "141.csv, Kimm\n",
            " resnet : [3]\n",
            "142.csv pass : Current라고 되어있으나 3 col이 아닌 1col data, 주최측은 Current가 맞다고 답변\n",
            "143.csv, Vibration\n",
            " resnet : [3]\n",
            "144.csv, Kimm\n",
            " resnet : [3]\n",
            "145.csv, Current\n",
            " cnn : [3]\n",
            " resnet : [3]\n",
            "146.csv, Current\n",
            " cnn : [3]\n",
            " resnet : [3]\n",
            "147.csv, Current\n",
            " cnn : [3]\n",
            " resnet : [1]\n",
            "148.csv, Vibration\n",
            " resnet : [3]\n",
            "149.csv, Kimm\n",
            " resnet : [3]\n",
            "150.csv, Current\n",
            " cnn : [3]\n",
            " resnet : [3]\n"
          ],
          "name": "stdout"
        }
      ]
    }
  ]
}